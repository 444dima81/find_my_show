{
 "cells": [
  {
   "cell_type": "markdown",
   "id": "9eade4b2",
   "metadata": {},
   "source": [
    "### Импорт библиотек"
   ]
  },
  {
   "cell_type": "code",
   "execution_count": 52,
   "id": "ff22a1ee",
   "metadata": {},
   "outputs": [],
   "source": [
    "import requests\n",
    "from bs4 import BeautifulSoup\n",
    "\n",
    "from selenium import webdriver\n",
    "from selenium.webdriver.chrome.service import Service\n",
    "from selenium.webdriver.chrome.options import Options\n",
    "\n",
    "import json\n",
    "import tqdm\n",
    "import time\n",
    "\n",
    "import pandas as pd"
   ]
  },
  {
   "cell_type": "markdown",
   "id": "b6f61458",
   "metadata": {},
   "source": [
    "### Тесты загрузки"
   ]
  },
  {
   "cell_type": "code",
   "execution_count": null,
   "id": "8ca75fe2",
   "metadata": {},
   "outputs": [
    {
     "name": "stdout",
     "output_type": "stream",
     "text": [
      "<html xmlns=\"http://www.w3.org/1999/xhtml\" xml:lang=\"ru\" lang=\"ru\" prefix=\"og: http://ogp.me/ns# video: http://ogp.me/ns/video# ya: http://webmaster.yandex.ru/vocabularies/\"><head>\n",
      "    <title>Сериалы смотреть онлайн бесплатно в хорошем качестве на киного</title>\n",
      "<meta name=\"charset\" content=\"utf-8\">\n",
      "<meta name=\"title\" content=\"Сериалы смотреть онлайн бесплатно в хорошем качестве на киного\">\n",
      "<meta name=\"description\" content=\"Сериалы – самая большая кино-база мира кино. Смотреть Сериалы онлайн бесплатно на КиноГо\">\n",
      "<meta name=\"keywords\" content=\"Сериалы, смотреть, онлайн, бесплатно, киного\">\n",
      "<meta name=\"generator\" content=\"DataLife Engine (https://dle-news.ru)\">\n",
      "<link rel=\"canonical\" href=\"https://kinogo.org/serials/\">\n",
      "<link rel=\"search\" type=\"application/opensearchdescription+xml\" title=\"KinoGo.org\" href=\"https://kinogo.org/index.php?do=opensearch\">\n",
      "<link rel=\"preconnect\" href=\"https://kinogo.org/\" fetchpriority=\"high\">\n",
      "<meta property=\"twitter:card\" content=\"summary\">\n",
      "<meta property=\"twitter:title\" content=\"Сериалы смотреть онлайн бесплатно в хорошем качестве на киного\">\n",
      "<meta property=\"twitter:description\" content=\"Сериалы – самая большая кино-база мира кино. Смотреть Сериалы онлайн бесплатно на КиноГо\">\n",
      "<meta property=\"og:type\" content=\"article\">\n",
      "<meta property=\"og:site_name\" content=\"KinoGo.org\">\n",
      "<meta property=\"og:title\" content=\"Сериалы смотреть онлайн бесплатно в хорошем качестве на киного\">\n",
      "<meta property=\"og:description\" content=\"Сериалы – самая большая кино-база мира кино. Смотреть Сериалы онлайн бесплатно на КиноГо\">\n",
      "\t<meta name=\"viewport\" content=\"width=device-width, initial-scale=1.0\">\n",
      "\t<meta name=\"referrer\" content=\"always\">\n",
      "    <meta name=\"robots\" content=\"noarchive\">\n",
      "\t<meta http-equiv=\"x-dns-prefetch-control\" content=\"on\">\n",
      "\t<link rel=\"shortcut icon\" type=\"image/x-icon\" href=\"/favicon.ico\">\n",
      "    <link type=\"image/png\" sizes=\"16x16\" rel=\"icon\" href=\"/favicon-16x16.png\">\n",
      "    <link type=\"image/png\" sizes=\"32x32\" rel=\"icon\" href=\"/favicon-32x32.png\">    \n",
      "    <link rel=\"icon\" sizes=\"32x32\" href=\"/favicon-32x32.ico\">\n",
      "    <link rel=\"icon\" sizes=\"48x48\" href=\"/favicon-48x48.ico\">    \n",
      "    <link type=\"image/svg+xml\" rel=\"icon\" sizes=\"any\" href=\"/favicon.svg\">\n",
      "    <link rel=\"apple-touch-icon\" sizes=\"180x180\" href=\"/apple-touch-icon.png\">\n",
      "    <link rel=\"apple-touch-icon\" sizes=\"180x180\" href=\"/templates/kinogoF/apple/apple-touch-icon-180x180.png\">\n",
      "    <link type=\"image/png\" rel=\"icon\" sizes=\"192x192\" href=\"/android-chrome-192x192.png\">\n",
      "    <link type=\"image/png\" sizes=\"192x192\" rel=\"icon\" href=\"/templates/kinogoF/apple/android-icon-192x192.png\">   \n",
      "    <link rel=\"mask-icon\" href=\"/safari-pinned-tab.svg\" color=\"#616161\">\n",
      "    <link rel=\"manifest\" href=\"/site.webmanifest\">\n",
      "\t<meta name=\"apple-mobile-web-app-title\" content=\"KinoGo.org\">\n",
      "\t<meta name=\"application-name\" content=\"KinoGo.org!\">\n",
      "    <meta name=\"msapplication-TileColor\" content=\"#2b5797\">\n",
      "    <meta name=\"yandex-verification\" content=\"ef25b1897930ed5d\">\n",
      "\t<meta name=\"msapplication-tile-image\" content=\"/mstile-150x150.png\">\n",
      "    <meta name=\"msapplication-tile-image\" content=\"/mstile-144x144.png\">\n",
      "    <meta name=\"theme-color\" content=\"#404040\">\n",
      "\t<link href=\"/templates/kinogoF/assets/css/main.5d19e2b182.css?v=1750850935\" rel=\"stylesheet\" type=\"text/css\">\n",
      "\t\n",
      "    \n",
      "<script src=\"/engine/classes/js/jquery.js?v=pshu7\" type=\"text/javascript\"></script><!--<script src=\"/engine/classes/js/jquery.js?v=pshu7\" type=\"text/javascript\"></script>-->\n",
      "<!--<script src=\"/engine/classes/js/dle_js.js?v=pshu7\" defer=\"\" type=\"b31b71a611f53a06c03df584-text/javascript\"></script>-->\n",
      "<!--<script src=\"/engine/classes/js/lazyload.js?v=pshu7\" defer=\"\" type=\"b31b71a611f53a06c03df584-text/javascript\"></script>-->\n",
      "<script type=\"application/ld+json\">{\"@context\":\"https://schema.org\",\"@graph\":[{\"@type\":\"BreadcrumbList\",\"@context\":\"https://schema.org/\",\"itemListElement\":[{\"@type\":\"ListItem\",\"position\":1,\"item\":{\"@id\":\"https://kinogo.org/\",\"name\":\"Киного - KinoGo.org\"}},{\"@type\":\"ListItem\",\"position\":2,\"item\":{\"@id\":\"https://kinogo.org/serials/\",\"name\":\"Сериалы\"}}]}]}</script>\n",
      "    <style>\n",
      "        body.userLogged {\n",
      "        \tmargin: 14em auto 0;\n",
      "        }\n",
      "        .ad-branding {\n",
      "            height: 240px;\n",
      "            position: relative;\n",
      "            z-index: 1;\n",
      "        }\n",
      "    </style>\n",
      "<link rel=\"dns-prefetch\" href=\"https://cdn77.s2517.com\">\n",
      "<link rel=\"dns-prefetch\" href=\"https://cdn77.srv224.com\">\n",
      "<link rel=\"dns-prefetch\" href=\"https://v206.cinemap.cc\">\n",
      "<link rel=\"dns-prefetch\" href=\"https://video.cinemap.cc\">\n",
      "<link rel=\"dns-prefetch\" href=\"https://counter.yadro.ru\">\n",
      "<link rel=\"preload\" as=\"script\" href=\"https://cdn77.srv224.com/ee314b03.js\"><link rel=\"preload\" as=\"script\" href=\"https://cdn77.s2517.com/bd0e74b4.js\"><link rel=\"preload\" as=\"script\" href=\"/templates/kinogoF/assets/js/app.d6d5809333.js?v=1748979101\"><link rel=\"preload\" as=\"script\" href=\"/engine/classes/js/lazyload.js?v=pshu7\"><link rel=\"preload\" as=\"script\" href=\"/engine/classes/js/dle_js.js?v=pshu7\"><link rel=\"preload\" as=\"script\" href=\"/engine/classes/js/jquery.js?v=pshu7\"></head>\n",
      "\n",
      "<body class=\"guest\">\n",
      "    <!--noindex-->\n",
      "    <div class=\"ad-branding\">\n",
      "            <ins class=\"0dd30d14\" data-key=\"a692c9fee8d81155194622ab20a84fc0\"></ins>\n",
      "<!--<script type=\"text/javascript\">\n",
      "  const element = document.querySelector('[data-key=\"a692c9fee8d81155194622ab20a84fc0\"]');\n",
      "  if (element) {\n",
      "    element.setAttribute(\"data-cp-timezone\", Intl.DateTimeFormat().resolvedOptions().timeZone);\n",
      "  }\n",
      "</script>-->\n",
      "\t\t<ins class=\"0dd30d14\" data-key=\"793ec77964e5bcd6434dc8cf18c815b4\"></ins>\n",
      "        <ins class=\"7236739a\" data-key=\"4c7694b832ccd21f13d7bc991f832e5b\"></ins>\n",
      "    </div>\n",
      "    <!--/noindex-->\n",
      "\t<div id=\"content\">\n",
      "\t\t<div class=\"container\">\n",
      "\t\t\t<div class=\"contentWrap d-flex fd-row-reverse\">\n",
      "\t\t\t\t<main id=\"main\">\n",
      "\t\t\t\t\t\n",
      "\t\t\t\t\t\t\n",
      "\n",
      "<div class=\"speedbar\"><a href=\"https://kinogo.org/\">Киного - KinoGo.org</a> » Сериалы</div>\n",
      "\t\t\t\t\t\n",
      "\t\t\t\t\t\n",
      "\n",
      "\t\t\t\t\t\n",
      "\t\t\t\t\t\n",
      "\t\t\t\t\t\t<div class=\"xsort xsort--cat__serials border-bottom\">\n",
      "\tСортировка:\n",
      "\n",
      "\t<div class=\"js-xs-group xsort__group\">\n",
      "\t\t<button class=\"js-xs-showsort xsort__button\">Последнее обновление</button>\n",
      "\t\t<div class=\"xsort__options\">\n",
      "\t\t\t\n",
      "\t\t\t<button class=\"js-xs-sort \" type=\"button\" data-value=\"top\">Сейчас в топе</button>\n",
      "\t\t\t\n",
      "\t\t\t<button class=\"js-xs-sort  is-active is-default\" type=\"button\" data-value=\"date\">Последнее обновление</button>\n",
      "\t\t\t\n",
      "\t\t\t<button class=\"js-xs-sort \" type=\"button\" data-value=\"rating\">Лучшее</button>\n",
      "\t\t\t\n",
      "\t\t\t<button class=\"js-xs-sort \" type=\"button\" data-value=\"news_read\">Популярное</button>\n",
      "\t\t\t\n",
      "\t\t\t<button class=\"js-xs-sort \" type=\"button\" data-value=\"comm_num\">Обсуждаемое</button>\n",
      "\t\t\t\n",
      "\t\t\t<button class=\"js-xs-sort \" type=\"button\" data-value=\"year\">по году</button>\n",
      "\t\t\t\n",
      "\t\t\t<button class=\"js-xs-sort \" type=\"button\" data-value=\"imdb\">по рейтингу IMDb</button>\n",
      "\t\t\t\n",
      "\t\t\t<button class=\"js-xs-sort \" type=\"button\" data-value=\"kp\">по Кинопоиск`у</button>\n",
      "\t\t\t\n",
      "\t\t</div>\n",
      "\t</div>\n",
      "\n",
      "\t<button class=\"js-xf-reset xsort__resetall\">Сбросить фильтр</button>\n",
      "\n",
      "\t<div class=\"xsort__info\">Показано: <b id=\"xsort__count\">18364</b></div>\n",
      "</div><!-- .xsort -->\n",
      "\n",
      "\n",
      "\n",
      "<div class=\"xfilter border-bottom\">\n",
      "\t<div class=\"js-xf-groups xfilter__groups\">\n",
      "\t\t<button class=\"js-xf-filter-toggle xsort__button\" data-field=\"year\" title=\"Год выпуска\">Год</button>\n",
      "\t\t<button class=\"js-xf-filter-toggle xsort__button\" data-field=\"genre\" title=\"Жанр\">Жанр</button>\n",
      "\t\t<button class=\"js-xf-filter-toggle xsort__button\" data-field=\"country\" title=\"Страна\">Страна</button>\n",
      "\t\t<button class=\"js-xf-filter-toggle xsort__button\" data-field=\"quality\" title=\"Качество\">Качество</button>\n",
      "\t\t<button class=\"js-xf-filter-toggle xsort__button\" data-field=\"translator\" title=\"Перевод\">Перевод</button>\n",
      "\t\t<button class=\"js-xf-filter-toggle xsort__button\" data-field=\"status\" title=\"Статус сериала\">Статус</button>\n",
      "\t\t\n",
      "\t</div><!-- .xfilter__groups -->\n",
      "\n",
      "\t<div class=\"js-xf-selected xsort__selected\">\n",
      "\t\t\n",
      "\t</div><!-- .xsort__selected -->\n",
      "\t\n",
      "\t<div class=\"xsort__helper\">Выберите тип сортировки: ФИЛЬМ, СЕРИАЛ, аниме и тд. (чтобы внизу в списке, например были только сериалы)</div>\n",
      "</div><!-- .xfilter -->\n",
      "\n",
      "\n",
      "<script type=\"text/template\" id=\"js-xf-filter-template\">\n",
      "<div class=\"js-xf-filter xfilter-popup\">\n",
      "\t<div class=\"xfilter-popup__heading\">\n",
      "\t\t<div class=\"xfilter-popup__title\">%title%</div>\n",
      "\t\t<input type=\"text\" class=\"js-xf-search xfilter-popup__search focus\" placeholder=\"поиск...\">\n",
      "\t\t<button class=\"js-xf-close xfilter-popup__close\" title=\"Закрыть\"></button>\n",
      "\t</div><!-- .xfilter-popup__heading -->\n",
      "\t<div class=\"js-xf-options xfilter-popup__content xsort__scrollable\" data-field=\"%field%\"></div>\n",
      "\t<div class=\"xfilter-popup__actions\">\n",
      "\t\t<button class=\"js-xf-close xfilter-button xfilter-button--teal\">Применить</button>\n",
      "\t\t<button class=\"js-xf-close-null xfilter-button\">Отмена</button>\n",
      "\t\t<button type=\"button\" class=\"js-xf-combined xfilter-button xfilter-button--toggle\" data-tooltip=\"<p>Метод поиска, пример:</p><b>вкл</b> — фантастическая комедия<br><b>выкл</b> — или фантастика или комедия\">Сочетание значений</button>\n",
      "\t\t<button class=\"js-xf-clear xfilter-button xfilter-button--warn\">Очистить (<span class=\"js-xf-clear-count\"></span>)</button>\n",
      "\t</div><!-- .xfilter-popup__actions -->\n",
      "</div>\n",
      "</script>\n",
      "\n",
      "<!--<script type=\"text/javascript\">window.__XSORT__ = {\"sort_default\":\"date\",\"sort\":\"date\",\"filter\":{\"year\":{\"label\":\"Год\",\"title\":\"Год выпуска\",\"values\":[{\"id\":119,\"value\":\"2025\"},{\"id\":124,\"value\":\"2024\"},{\"id\":1,\"value\":\"2023\"},{\"id\":2,\"value\":\"2022\"},{\"id\":3,\"value\":\"2021\"},{\"id\":4,\"value\":\"2020\"},{\"id\":5,\"value\":\"2019\"},{\"id\":6,\"value\":\"2018\"},{\"id\":7,\"value\":\"2017\"},{\"id\":8,\"value\":\"2016\"},{\"id\":9,\"value\":\"2015\"},{\"id\":10,\"value\":\"2014\"},{\"id\":11,\"value\":\"2013\"},{\"id\":12,\"value\":\"2012\"},{\"id\":13,\"value\":\"2011\"},{\"id\":14,\"value\":\"2010\"},{\"id\":15,\"value\":\"2009\"},{\"id\":16,\"value\":\"2008\"},{\"id\":17,\"value\":\"2007\"},{\"id\":18,\"value\":\"2006\"},{\"id\":19,\"value\":\"2005\"},{\"id\":20,\"value\":\"2004\"},{\"id\":21,\"value\":\"2003\"},{\"id\":22,\"value\":\"2002\"},{\"id\":23,\"value\":\"2001\"},{\"id\":24,\"value\":\"2000\"},{\"id\":25,\"value\":\"1999\"},{\"id\":26,\"value\":\"1998\"},{\"id\":27,\"value\":\"1997\"},{\"id\":28,\"value\":\"1996\"},{\"id\":29,\"value\":\"1995\"},{\"id\":30,\"value\":\"1994\"},{\"id\":31,\"value\":\"1993\"},{\"id\":32,\"value\":\"1992\"},{\"id\":33,\"value\":\"1991\"},{\"id\":34,\"value\":\"1990\"},{\"id\":35,\"value\":\"1989\"},{\"id\":36,\"value\":\"1988\"},{\"id\":37,\"value\":\"1987\"},{\"id\":38,\"value\":\"1986\"},{\"id\":39,\"value\":\"1985\"},{\"id\":40,\"value\":\"1984\"},{\"id\":41,\"value\":\"1983\"},{\"id\":42,\"value\":\"1982\"},{\"id\":43,\"value\":\"1981\"},{\"id\":44,\"value\":\"1980\"},{\"id\":45,\"value\":\"1979\"},{\"id\":46,\"value\":\"1978\"},{\"id\":47,\"value\":\"1977\"},{\"id\":48,\"value\":\"1976\"},{\"id\":49,\"value\":\"1975\"},{\"id\":50,\"value\":\"1974\"},{\"id\":51,\"value\":\"1973\"},{\"id\":52,\"value\":\"1972\"},{\"id\":53,\"value\":\"1971\"},{\"id\":54,\"value\":\"1970\"},{\"id\":55,\"value\":\"1969\"},{\"id\":56,\"value\":\"1968\"},{\"id\":57,\"value\":\"1967\"},{\"id\":58,\"value\":\"1966\"},{\"id\":59,\"value\":\"1965\"},{\"id\":60,\"value\":\"1964\"},{\"id\":61,\"value\":\"1963\"},{\"id\":62,\"value\":\"1962\"},{\"id\":63,\"value\":\"1961\"}],\"current\":[],\"combined\":false,\"combine_select\":false},\"genre\":{\"label\":\"Жанр\",\"title\":\"Жанр\",\"values\":[{\"id\":1,\"value\":\"арт-хаус\"},{\"id\":2,\"value\":\"биография\"},{\"id\":3,\"value\":\"боевик\"},{\"id\":4,\"value\":\"вестерн\"},{\"id\":5,\"value\":\"военный\"},{\"id\":6,\"value\":\"детектив\"},{\"id\":7,\"value\":\"детский\"},{\"id\":8,\"value\":\"для взрослых\"},{\"id\":9,\"value\":\"документальный\"},{\"id\":10,\"value\":\"драма\"},{\"id\":11,\"value\":\"игра\"},{\"id\":12,\"value\":\"история\"},{\"id\":13,\"value\":\"комедия\"},{\"id\":14,\"value\":\"криминал\"},{\"id\":15,\"value\":\"мелодрама\"},{\"id\":16,\"value\":\"мистика\"},{\"id\":17,\"value\":\"музыка\"},{\"id\":18,\"value\":\"мюзикл\"},{\"id\":19,\"value\":\"приключения\"},{\"id\":20,\"value\":\"семейный\"},{\"id\":21,\"value\":\"спорт\"},{\"id\":22,\"value\":\"триллер\"},{\"id\":23,\"value\":\"ужасы\"},{\"id\":24,\"value\":\"фантастика\"},{\"id\":25,\"value\":\"фильм-нуар\"},{\"id\":26,\"value\":\"фэнтези\"},{\"id\":27,\"value\":\"эротика\"}],\"current\":[],\"combined\":true,\"combine_select\":true},\"country\":{\"label\":\"Страна\",\"title\":\"Страна\",\"values\":[{\"id\":1,\"value\":\"Австралия\"},{\"id\":2,\"value\":\"Австрия\"},{\"id\":3,\"value\":\"Азербайджан\"},{\"id\":10,\"value\":\"Аргентина\"},{\"id\":11,\"value\":\"Армения\"},{\"id\":13,\"value\":\"Афганистан\"},{\"id\":15,\"value\":\"Бангладеш\"},{\"id\":18,\"value\":\"Беларусь\"},{\"id\":19,\"value\":\"Бельгия\"},{\"id\":24,\"value\":\"Босния и Герцеговина\"},{\"id\":26,\"value\":\"Бразилия\"},{\"id\":32,\"value\":\"Великобритания\"},{\"id\":33,\"value\":\"Венгрия\"},{\"id\":35,\"value\":\"Вьетнам\"},{\"id\":38,\"value\":\"Гана\"},{\"id\":42,\"value\":\"Германия\"},{\"id\":43,\"value\":\"Германия (ГДР)\"},{\"id\":44,\"value\":\"Германия (ФРГ)\"},{\"id\":47,\"value\":\"Гонконг\"},{\"id\":50,\"value\":\"Грузия\"},{\"id\":51,\"value\":\"Дания\"},{\"id\":57,\"value\":\"Израиль\"},{\"id\":58,\"value\":\"Индия\"},{\"id\":59,\"value\":\"Индонезия\"},{\"id\":62,\"value\":\"Иран\"},{\"id\":65,\"value\":\"Испания\"},{\"id\":66,\"value\":\"Италия\"},{\"id\":69,\"value\":\"Казахстан\"},{\"id\":73,\"value\":\"Канада\"},{\"id\":77,\"value\":\"Киргизия\"},{\"id\":78,\"value\":\"Китай\"},{\"id\":189,\"value\":\"Корея\"},{\"id\":81,\"value\":\"Корея Северная\"},{\"id\":82,\"value\":\"Корея Южная\"},{\"id\":87,\"value\":\"Кыргызстан\"},{\"id\":89,\"value\":\"Латвия\"},{\"id\":93,\"value\":\"Литва\"},{\"id\":102,\"value\":\"Малайзия\"},{\"id\":108,\"value\":\"Мексика\"},{\"id\":111,\"value\":\"Монако\"},{\"id\":112,\"value\":\"Монголия\"},{\"id\":115,\"value\":\"Непал\"},{\"id\":117,\"value\":\"Нидерланды\"},{\"id\":119,\"value\":\"Новая Зеландия\"},{\"id\":120,\"value\":\"Норвегия\"},{\"id\":121,\"value\":\"ОАЭ\"},{\"id\":122,\"value\":\"Оман\"},{\"id\":124,\"value\":\"Пакистан\"},{\"id\":125,\"value\":\"Палестина\"},{\"id\":129,\"value\":\"Польша\"},{\"id\":130,\"value\":\"Португалия\"},{\"id\":133,\"value\":\"Российская империя\"},{\"id\":134,\"value\":\"Россия\"},{\"id\":136,\"value\":\"Румыния\"},{\"id\":140,\"value\":\"Саудовская Аравия\"},{\"id\":145,\"value\":\"Сингапур\"},{\"id\":147,\"value\":\"Словакия\"},{\"id\":148,\"value\":\"Словения\"},{\"id\":137,\"value\":\"СССР\"},{\"id\":138,\"value\":\"США\"},{\"id\":151,\"value\":\"Таджикистан\"},{\"id\":152,\"value\":\"Таиланд\"},{\"id\":153,\"value\":\"Тайвань\"},{\"id\":156,\"value\":\"Туркменистан\"},{\"id\":157,\"value\":\"Турция\"},{\"id\":159,\"value\":\"Узбекистан\"},{\"id\":160,\"value\":\"Украина\"},{\"id\":163,\"value\":\"Филиппины\"},{\"id\":164,\"value\":\"Финляндия\"},{\"id\":165,\"value\":\"Франция\"},{\"id\":167,\"value\":\"Хорватия\"},{\"id\":170,\"value\":\"Чехия\"},{\"id\":173,\"value\":\"Швейцария\"},{\"id\":174,\"value\":\"Швеция\"},{\"id\":180,\"value\":\"ЮАР\"},{\"id\":184,\"value\":\"Япония\"}],\"current\":[],\"combined\":false,\"combine_select\":false},\"quality\":{\"label\":\"Качество\",\"title\":\"Качество\",\"values\":[{\"id\":1,\"value\":\"4K\"},{\"id\":7,\"value\":\"1080p\"},{\"id\":10,\"value\":\"720p\"},{\"id\":9,\"value\":\"480p\"},{\"id\":8,\"value\":\"360p\"}],\"current\":[],\"combined\":false,\"combine_select\":false},\"translator\":{\"label\":\"Перевод\",\"title\":\"Перевод\",\"values\":[{\"id\":52,\"value\":\"Лицензия\"},{\"id\":46,\"value\":\"Дублированный\"},{\"id\":53,\"value\":\"Многоголосый закадровый\"},{\"id\":45,\"value\":\"Двухголосый закадровый\"},{\"id\":54,\"value\":\"Не требуется\"},{\"id\":1,\"value\":\"@MUZOBOZ@\"},{\"id\":4,\"value\":\"AniDUB\"},{\"id\":6,\"value\":\"AniLibria.TV\"},{\"id\":11,\"value\":\"BaibaKo\"},{\"id\":13,\"value\":\"ColdFilm\"},{\"id\":14,\"value\":\"Diva Universal\"},{\"id\":17,\"value\":\"HDrezka Studio\"},{\"id\":24,\"value\":\"LostFilm\"},{\"id\":29,\"value\":\"Original English\"},{\"id\":38,\"value\":\"TVShows\"},{\"id\":39,\"value\":\"Ultradox\"},{\"id\":44,\"value\":\"Гоблин\"},{\"id\":49,\"value\":\"Колобок\"},{\"id\":55,\"value\":\"НТВ+\"},{\"id\":56,\"value\":\"Одноголосый закадровый\"},{\"id\":57,\"value\":\"Оригинальная дорожка\"},{\"id\":60,\"value\":\"Синема УС\"},{\"id\":61,\"value\":\"Субтитры\"},{\"id\":62,\"value\":\"Український\"}],\"current\":[],\"combined\":false,\"combine_select\":false},\"status\":{\"label\":\"Статус\",\"title\":\"Статус сериала\",\"values\":[{\"id\":1,\"value\":\"Завершён\"},{\"id\":3,\"value\":\"Снимается\"},{\"id\":2,\"value\":\"Приостановлен\"},{\"id\":4,\"value\":\"Неопределённый\"}],\"current\":[],\"combined\":false,\"combine_select\":false}},\"page_id\":\"cat__serials\",\"devmode\":false};</script>-->\n",
      "\t\t\t\t\t\n",
      "\n",
      "\t\t\t\t\t\n",
      "\t\t\t\t\t<div id=\"dle-content\">\n",
      "\t\t\t\t\t\t<article id=\"post-126379\" class=\"shortStory\">\n",
      "\t<div class=\"shortstoryHeader d-flex ai-center\">\n",
      "\t\t<div class=\"hTitle\">\n",
      "\t\t\t<h2><a href=\"https://kinogo.org/126379-podnogotnaja.html\" title=\"Подноготная (2025)\" data-tip=\"no\">Подноготная (1 сезон)</a></h2>\n",
      "\t\t</div>\n",
      "        <div class=\"hRating\">\n",
      "\t\t\t<div class=\"rating\">\n",
      "\t\t<ul class=\"unit-rating\">\n",
      "\t\t<li class=\"current-rating\" style=\"width:80%;\">80</li>\n",
      "\t\t</ul>\n",
      "</div> <span class=\"ratingStats\">3.6/5 (<span data-vote-num-id=\"126379\">5</span> гол.)</span>\n",
      "\t\t</div>\n",
      "\t\t<div class=\"hFavs\">\n",
      "\t\t\t\n",
      "\t\t\t<div class=\"addFav\" title=\"Необходимо зарегистрироваться для добавления в избранное\"><svg class=\"icon\" width=\"25\" height=\"40\"><use xlink:href=\"/templates/kinogoF/images/sprites.svg#plusFav\"></use></svg></div>\n",
      "\t\t</div>\n",
      "\t</div>\n",
      "\t<div class=\"shortstoryBody\">\n",
      "\t\t<div class=\"sPoster\">\n",
      "\t\t\t<a href=\"https://kinogo.org/126379-podnogotnaja.html\" title=\"Подноготная (2025)\">\n",
      "\t\t\t\t<img class=\"lazy\" fetchpriority=\"high\" data-src=\"/uploads/mini/short/ca3/fd8c8f3d2af64342bc1c16a46cac5.webp\" src=\"data:image/gif;base64,R0lGODlhAQABAIAAAAAAAP///yH5BAEAAAAALAAAAAABAAEAAAIBRAA7\" width=\"200\" height=\"300\" alt=\"Подноготная (2025)\" title=\"Подноготная (2025)\">\n",
      "\t\t\t</a>\n",
      "\t\t\t<div class=\"lenta\"><div class=\"edge-left\"></div><div class=\"cont\" title=\" \">1 сезон 1-3 серия</div></div>\n",
      "\t\t</div>\n",
      "\t\t<!--noindex-->\n",
      "\t\t<div class=\"sInfo\">\n",
      "\t\t\t<span><b>Год выпуска:</b><a href=\"https://kinogo.org/xfsearch/year/2025/\">2025</a></span>\n",
      "\t\t\t<span style=\"max-width: 70%;\"><b>Страна:</b><a href=\"https://kinogo.org/xfsearch/country/%D1%81%D1%88%D0%B0/\">США</a></span>\n",
      "            <span><b>Тип:</b><a href=\"https://kinogo.org/serials/\">Сериалы</a></span>\n",
      "\t\t\t<span><b>Жанр:</b><a href=\"https://kinogo.org/xfsearch/genre/%D0%B1%D0%B8%D0%BE%D0%B3%D1%80%D0%B0%D1%84%D0%B8%D1%8F/\">биография</a>, <a href=\"https://kinogo.org/xfsearch/genre/%D0%B4%D1%80%D0%B0%D0%BC%D0%B0/\">драма</a>, <a href=\"https://kinogo.org/xfsearch/genre/%D0%B8%D1%81%D1%82%D0%BE%D1%80%D0%B8%D1%8F/\">история</a></span>\n",
      "\t\t\t<span><b>Продолжительность:</b>55 мин</span>\n",
      "            <span><b>Качество:</b><a href=\"https://kinogo.org/xfsearch/resolution/720p/\">HD 720p</a></span>\n",
      "\t\t\t<div class=\"fullRatings d-flex ai-center\">\n",
      "\t\t\t\t<span class=\"fQuality\"><b>IMDB:</b>Неизвестно</span>\n",
      "\t\t\t\t<span class=\"fullKP\"><b>КиноПоиск:</b>Неизвестно</span>\n",
      "\t\t\t</div>\n",
      "\t\t\t<p class=\"excerpt\">\n",
      "\t\t\t\tЛи Рейбон, владелец магазина книг в Талсе, совмещает свою основную деятельность с работой журналиста, фокусируясь на исследовании коррупции в регионе. Его интерес возрастает после неожиданной смерти одного из представителей влиятельного клана. Ли полагает, что обстоятельства этой смерти могут быть криминальными. Решив...\n",
      "\n",
      "\t\t\t</p>\n",
      "\t\t</div>\n",
      "\t\t<!--/noindex-->\n",
      "\t</div>\n",
      "\t<div class=\"shortstoryFooter d-flex ai-center\">\n",
      "\t\t<a href=\"https://kinogo.org/126379-podnogotnaja.html\" title=\"смотреть Подноготная онлайн\" data-tip=\"no\">Смотреть онлайн</a>\n",
      "\t\t\n",
      "\t\t\n",
      "\t\t<div class=\"fTime d-flex ai-center\"><svg class=\"icon\" width=\"15\" height=\"15\"><use xlink:href=\"/templates/kinogoF/images/sprites.svg#time\"></use></svg> <time datetime=\"2025-10-01T15:16\">Сегодня, 15:16</time></div>\n",
      "\t</div>\n",
      "</article><article id=\"post-103600\" class=\"shortStory\">\n",
      "\t<div class=\"shortstoryHeader d-flex ai-center\">\n",
      "\t\t<div class=\"hTitle\">\n",
      "\t\t\t<h2><a href=\"https://kinogo.org/103600-pokolenie-vi.html\" title=\"Поколение «Ви» (2023)\" data-tip=\"no\">Поколение «Ви» (1-2 сезон)</a></h2>\n",
      "\t\t</div>\n",
      "        <div class=\"hRating\">\n",
      "\t\t\t<div class=\"rating\">\n",
      "\t\t<ul class=\"unit-rating\">\n",
      "\t\t<li class=\"current-rating\" style=\"width:80%;\">80</li>\n",
      "\t\t</ul>\n",
      "</div> <span class=\"ratingStats\">3.6/5 (<span data-vote-num-id=\"103600\">22</span> гол.)</span>\n",
      "\t\t</div>\n",
      "\t\t<div class=\"hFavs\">\n",
      "\t\t\t\n",
      "\t\t\t<div class=\"addFav\" title=\"Необходимо зарегистрироваться для добавления в избранное\"><svg class=\"icon\" width=\"25\" height=\"40\"><use xlink:href=\"/templates/kinogoF/images/sprites.svg#plusFav\"></use></svg></div>\n",
      "\t\t</div>\n",
      "\t</div>\n",
      "\t<div class=\"shortstoryBody\">\n",
      "\t\t<div class=\"sPoster\">\n",
      "\t\t\t<a href=\"https://kinogo.org/103600-pokolenie-vi.html\" title=\"Поколение «Ви» (2023)\">\n",
      "\t\t\t\t<img class=\"lazy\" fetchpriority=\"high\" data-src=\"/uploads/mini/short/e5b/af8401186e22b90bf0fe7d6489d4b.webp\" src=\"data:image/gif;base64,R0lGODlhAQABAIAAAAAAAP///yH5BAEAAAAALAAAAAABAAEAAAIBRAA7\" width=\"200\" height=\"300\" alt=\"Поколение «Ви» (2023)\" title=\"Поколение «Ви» (2023)\">\n",
      "\t\t\t</a>\n",
      "\t\t\t<div class=\"lenta\"><div class=\"edge-left\"></div><div class=\"cont\" title=\" \">1-2 сезон 1-5 серия</div></div>\n",
      "\t\t</div>\n",
      "\t\t<!--noindex-->\n",
      "\t\t<div class=\"sInfo\">\n",
      "\t\t\t<span><b>Год выпуска:</b><a href=\"https://kinogo.org/xfsearch/year/2023/\">2023</a></span>\n",
      "\t\t\t<span style=\"max-width: 70%;\"><b>Страна:</b><a href=\"https://kinogo.org/xfsearch/country/%D0%B2%D0%B5%D0%BB%D0%B8%D0%BA%D0%BE%D0%B1%D1%80%D0%B8%D1%82%D0%B0%D0%BD%D0%B8%D1%8F/\">Великобритания</a> / <a href=\"https://kinogo.org/xfsearch/country/%D0%BA%D0%B0%D0%BD%D0%B0%D0%B4%D0%B0/\">Канада</a> / <a href=\"https://kinogo.org/xfsearch/country/%D1%81%D1%88%D0%B0/\">США</a></span>\n",
      "            <span><b>Тип:</b><a href=\"https://kinogo.org/serials/\">Сериалы</a></span>\n",
      "\t\t\t<span><b>Жанр:</b><a href=\"https://kinogo.org/xfsearch/genre/%D0%B1%D0%BE%D0%B5%D0%B2%D0%B8%D0%BA/\">боевик</a>, <a href=\"https://kinogo.org/xfsearch/genre/%D0%B4%D1%80%D0%B0%D0%BC%D0%B0/\">драма</a>, <a href=\"https://kinogo.org/xfsearch/genre/%D0%BA%D0%BE%D0%BC%D0%B5%D0%B4%D0%B8%D1%8F/\">комедия</a>, <a href=\"https://kinogo.org/xfsearch/genre/%D0%BF%D1%80%D0%B8%D0%BA%D0%BB%D1%8E%D1%87%D0%B5%D0%BD%D0%B8%D1%8F/\">приключения</a>, <a href=\"https://kinogo.org/xfsearch/genre/%D1%84%D0%B0%D0%BD%D1%82%D0%B0%D1%81%D1%82%D0%B8%D0%BA%D0%B0/\">фантастика</a></span>\n",
      "\t\t\t<span><b>Продолжительность:</b>48 мин</span>\n",
      "            <span><b>Качество:</b><a href=\"https://kinogo.org/xfsearch/resolution/720p/\">WEB-DL 720p</a></span>\n",
      "\t\t\t<div class=\"fullRatings d-flex ai-center\">\n",
      "\t\t\t\t<span class=\"fQuality\"><b>IMDB:</b>7.6</span>\n",
      "\t\t\t\t<span class=\"fullKP\"><b>КиноПоиск:</b>7.3</span>\n",
      "\t\t\t</div>\n",
      "\t\t\t<p class=\"excerpt\">\n",
      "\t\t\t\t\"Поколение «Ви»\" – захватывающий сериал 2023 года, представляющий собой спин-офф известного шоу \"Пацаны\". Это история о молодежи в мире, где супергерои – новые знаменитости, пользующиеся всеми привилегиями своего статуса. Действие разворачивается в колледже, курируемом корпорацией Vought International, где...\n",
      "\n",
      "\t\t\t</p>\n",
      "\t\t</div>\n",
      "\t\t<!--/noindex-->\n",
      "\t</div>\n",
      "\t<div class=\"shortstoryFooter d-flex ai-center\">\n",
      "\t\t<a href=\"https://kinogo.org/103600-pokolenie-vi.html\" title=\"смотреть Поколение «Ви» онлайн\" data-tip=\"no\">Смотреть онлайн</a>\n",
      "\t\t\n",
      "\t\t\n",
      "\t\t<div class=\"fTime d-flex ai-center\"><svg class=\"icon\" width=\"15\" height=\"15\"><use xlink:href=\"/templates/kinogoF/images/sprites.svg#time\"></use></svg> <time datetime=\"2025-10-01T15:16\">Сегодня, 15:16</time></div>\n",
      "\t</div>\n",
      "</article><article id=\"post-126325\" class=\"shortStory\">\n",
      "\t<div class=\"shortstoryHeader d-flex ai-center\">\n",
      "\t\t<div class=\"hTitle\">\n",
      "\t\t\t<h2><a href=\"https://kinogo.org/126325-planetjane.html\" title=\"Планетяне (2025)\" data-tip=\"no\">Планетяне (1 сезон)</a></h2>\n",
      "\t\t</div>\n",
      "        <div class=\"hRating\">\n",
      "\t\t\t<div class=\"rating\">\n",
      "\t\t<ul class=\"unit-rating\">\n",
      "\t\t<li class=\"current-rating\" style=\"width:60%;\">60</li>\n",
      "\t\t</ul>\n",
      "</div> <span class=\"ratingStats\">3.4/5 (<span data-vote-num-id=\"126325\">12</span> гол.)</span>\n",
      "\t\t</div>\n",
      "\t\t<div class=\"hFavs\">\n",
      "\t\t\t\n",
      "\t\t\t<div class=\"addFav\" title=\"Необходимо зарегистрироваться для добавления в избранное\"><svg class=\"icon\" width=\"25\" height=\"40\"><use xlink:href=\"/templates/kinogoF/images/sprites.svg#plusFav\"></use></svg></div>\n",
      "\t\t</div>\n",
      "\t</div>\n",
      "\t<div class=\"shortstoryBody\">\n",
      "\t\t<div class=\"sPoster\">\n",
      "\t\t\t<a href=\"https://kinogo.org/126325-planetjane.html\" title=\"Планетяне (2025)\">\n",
      "\t\t\t\t<img class=\"lazy\" fetchpriority=\"high\" data-src=\"/uploads/mini/short/732/1e42b0a05e294831167520b414305.webp\" src=\"data:image/gif;base64,R0lGODlhAQABAIAAAAAAAP///yH5BAEAAAAALAAAAAABAAEAAAIBRAA7\" width=\"200\" height=\"300\" alt=\"Планетяне (2025)\" title=\"Планетяне (2025)\">\n",
      "\t\t\t</a>\n",
      "\t\t\t<div class=\"lenta\"><div class=\"edge-left\"></div><div class=\"cont\" title=\" \">1 сезон 1-13 серия</div></div>\n",
      "\t\t</div>\n",
      "\t\t<!--noindex-->\n",
      "\t\t<div class=\"sInfo\">\n",
      "\t\t\t<span><b>Год выпуска:</b><a href=\"https://kinogo.org/xfsearch/year/2025/\">2025</a></span>\n",
      "\t\t\t<span style=\"max-width: 70%;\"><b>Страна:</b><a href=\"https://kinogo.org/xfsearch/country/%D1%80%D0%BE%D1%81%D1%81%D0%B8%D1%8F/\">Россия</a></span>\n",
      "            <span><b>Тип:</b><a href=\"https://kinogo.org/serials/\">Сериалы</a></span>\n",
      "\t\t\t<span><b>Жанр:</b><a href=\"https://kinogo.org/xfsearch/genre/%D0%BA%D0%BE%D0%BC%D0%B5%D0%B4%D0%B8%D1%8F/\">комедия</a>, <a href=\"https://kinogo.org/xfsearch/genre/%D1%84%D0%B0%D0%BD%D1%82%D0%B0%D1%81%D1%82%D0%B8%D0%BA%D0%B0/\">фантастика</a></span>\n",
      "\t\t\t<span><b>Продолжительность:</b>23 мин</span>\n",
      "            <span><b>Качество:</b><a href=\"https://kinogo.org/xfsearch/resolution/720p/\">WEB-DL 720p</a></span>\n",
      "\t\t\t<div class=\"fullRatings d-flex ai-center\">\n",
      "\t\t\t\t<span class=\"fQuality\"><b>IMDB:</b>Неизвестно</span>\n",
      "\t\t\t\t<span class=\"fullKP\"><b>КиноПоиск:</b>7.6</span>\n",
      "\t\t\t</div>\n",
      "\t\t\t<p class=\"excerpt\">\n",
      "\t\t\t\tДвое представителей пришельцев прибыли на Землю с заданием отыскать потерянного наследника их Императора и ассистировать ему в выполнении важной тайной операции. Приняв облик людей, они живут как Антон и Марина, под видом обычной земной пары. В попытках не выдавать своего истинного происхождения, они стараются вести себя как...\n",
      "\n",
      "\t\t\t</p>\n",
      "\t\t</div>\n",
      "\t\t<!--/noindex-->\n",
      "\t</div>\n",
      "\t<div class=\"shortstoryFooter d-flex ai-center\">\n",
      "\t\t<a href=\"https://kinogo.org/126325-planetjane.html\" title=\"смотреть Планетяне онлайн\" data-tip=\"no\">Смотреть онлайн</a>\n",
      "\t\t\n",
      "\t\t\n",
      "\t\t<div class=\"fTime d-flex ai-center\"><svg class=\"icon\" width=\"15\" height=\"15\"><use xlink:href=\"/templates/kinogoF/images/sprites.svg#time\"></use></svg> <time datetime=\"2025-10-01T14:16\">Сегодня, 14:16</time></div>\n",
      "\t</div>\n",
      "</article><article id=\"post-117228\" class=\"shortStory\">\n",
      "\t<div class=\"shortstoryHeader d-flex ai-center\">\n",
      "\t\t<div class=\"hTitle\">\n",
      "\t\t\t<h2><a href=\"https://kinogo.org/117228-volshebniki-za-predelami-vjejverli-pljejs.html\" title=\"Волшебники за пределами Вэйверли Плэйс (2024)\" data-tip=\"no\">Волшебники за пределами Вэйверли Плэйс (1-2 сезон)</a></h2>\n",
      "\t\t</div>\n",
      "        <div class=\"hRating\">\n",
      "\t\t\t<div class=\"rating\">\n",
      "\t\t<ul class=\"unit-rating\">\n",
      "\t\t<li class=\"current-rating\" style=\"width:80%;\">80</li>\n",
      "\t\t</ul>\n",
      "</div> <span class=\"ratingStats\">3.7/5 (<span data-vote-num-id=\"117228\">10</span> гол.)</span>\n",
      "\t\t</div>\n",
      "\t\t<div class=\"hFavs\">\n",
      "\t\t\t\n",
      "\t\t\t<div class=\"addFav\" title=\"Необходимо зарегистрироваться для добавления в избранное\"><svg class=\"icon\" width=\"25\" height=\"40\"><use xlink:href=\"/templates/kinogoF/images/sprites.svg#plusFav\"></use></svg></div>\n",
      "\t\t</div>\n",
      "\t</div>\n",
      "\t<div class=\"shortstoryBody\">\n",
      "\t\t<div class=\"sPoster\">\n",
      "\t\t\t<a href=\"https://kinogo.org/117228-volshebniki-za-predelami-vjejverli-pljejs.html\" title=\"Волшебники за пределами Вэйверли Плэйс (2024)\">\n",
      "\t\t\t\t<img class=\"lazy\" fetchpriority=\"high\" data-src=\"/uploads/mini/short/088/b1ed8d37d7e8dd9fb946911577897.webp\" src=\"data:image/gif;base64,R0lGODlhAQABAIAAAAAAAP///yH5BAEAAAAALAAAAAABAAEAAAIBRAA7\" width=\"200\" height=\"300\" alt=\"Волшебники за пределами Вэйверли Плэйс (2024)\" title=\"Волшебники за пределами Вэйверли Плэйс (2024)\">\n",
      "\t\t\t</a>\n",
      "\t\t\t<div class=\"lenta\"><div class=\"edge-left\"></div><div class=\"cont\" title=\" \">1-2 сезон 1-4 серия</div></div>\n",
      "\t\t</div>\n",
      "\t\t<!--noindex-->\n",
      "\t\t<div class=\"sInfo\">\n",
      "\t\t\t<span><b>Год выпуска:</b><a href=\"https://kinogo.org/xfsearch/year/2024/\">2024</a></span>\n",
      "\t\t\t<span style=\"max-width: 70%;\"><b>Страна:</b><a href=\"https://kinogo.org/xfsearch/country/%D1%81%D1%88%D0%B0/\">США</a></span>\n",
      "            <span><b>Тип:</b><a href=\"https://kinogo.org/serials/\">Сериалы</a></span>\n",
      "\t\t\t<span><b>Жанр:</b><a href=\"https://kinogo.org/xfsearch/genre/%D0%B4%D1%80%D0%B0%D0%BC%D0%B0/\">драма</a>, <a href=\"https://kinogo.org/xfsearch/genre/%D0%BA%D0%BE%D0%BC%D0%B5%D0%B4%D0%B8%D1%8F/\">комедия</a>, <a href=\"https://kinogo.org/xfsearch/genre/%D1%81%D0%B5%D0%BC%D0%B5%D0%B9%D0%BD%D1%8B%D0%B9/\">семейный</a>, <a href=\"https://kinogo.org/xfsearch/genre/%D1%84%D1%8D%D0%BD%D1%82%D0%B5%D0%B7%D0%B8/\">фэнтези</a></span>\n",
      "\t\t\t<span><b>Продолжительность:</b>24 мин</span>\n",
      "            <span><b>Качество:</b><a href=\"https://kinogo.org/xfsearch/resolution/720p/\">WEB-DL 720p</a></span>\n",
      "\t\t\t<div class=\"fullRatings d-flex ai-center\">\n",
      "\t\t\t\t<span class=\"fQuality\"><b>IMDB:</b>6.5</span>\n",
      "\t\t\t\t<span class=\"fullKP\"><b>КиноПоиск:</b>7.0</span>\n",
      "\t\t\t</div>\n",
      "\t\t\t<p class=\"excerpt\">\n",
      "\t\t\t\tПоследней частью популярной франшизы стал сериал 2024 года, посвященный необычной магической семье. Герои оригинального \"Волшебников из Вэйверли Плэйс\" выросли, и теперь они вынуждены вновь сплотиться, чтобы противостоять могущественным силам тьмы. Сюжетная линия красочно и глубоко раскрывает перипетии жизни каждого...\n",
      "\n",
      "\t\t\t</p>\n",
      "\t\t</div>\n",
      "\t\t<!--/noindex-->\n",
      "\t</div>\n",
      "\t<div class=\"shortstoryFooter d-flex ai-center\">\n",
      "\t\t<a href=\"https://kinogo.org/117228-volshebniki-za-predelami-vjejverli-pljejs.html\" title=\"смотреть Волшебники за пределами Вэйверли Плэйс онлайн\" data-tip=\"no\">Смотреть онлайн</a>\n",
      "\t\t\n",
      "\t\t\n",
      "\t\t<div class=\"fTime d-flex ai-center\"><svg class=\"icon\" width=\"15\" height=\"15\"><use xlink:href=\"/templates/kinogoF/images/sprites.svg#time\"></use></svg> <time datetime=\"2025-10-01T13:46\">Сегодня, 13:46</time></div>\n",
      "\t</div>\n",
      "</article><article id=\"post-111196\" class=\"shortStory\">\n",
      "\t<div class=\"shortstoryHeader d-flex ai-center\">\n",
      "\t\t<div class=\"hTitle\">\n",
      "\t\t\t<h2><a href=\"https://kinogo.org/111196-mehmed-sultan-zavoevatelej.html\" title=\"Мехмед: Султан завоевателей (2024)\" data-tip=\"no\">Мехмед: Султан завоевателей (1-3 сезон)</a></h2>\n",
      "\t\t</div>\n",
      "        <div class=\"hRating\">\n",
      "\t\t\t<div class=\"rating\">\n",
      "\t\t<ul class=\"unit-rating\">\n",
      "\t\t<li class=\"current-rating\" style=\"width:80%;\">80</li>\n",
      "\t\t</ul>\n",
      "</div> <span class=\"ratingStats\">3.5/5 (<span data-vote-num-id=\"111196\">43</span> гол.)</span>\n",
      "\t\t</div>\n",
      "\t\t<div class=\"hFavs\">\n",
      "\t\t\t\n",
      "\t\t\t<div class=\"addFav\" title=\"Необходимо зарегистрироваться для добавления в избранное\"><svg class=\"icon\" width=\"25\" height=\"40\"><use xlink:href=\"/templates/kinogoF/images/sprites.svg#plusFav\"></use></svg></div>\n",
      "\t\t</div>\n",
      "\t</div>\n",
      "\t<div class=\"shortstoryBody\">\n",
      "\t\t<div class=\"sPoster\">\n",
      "\t\t\t<a href=\"https://kinogo.org/111196-mehmed-sultan-zavoevatelej.html\" title=\"Мехмед: Султан завоевателей (2024)\">\n",
      "\t\t\t\t<img class=\"lazy\" fetchpriority=\"high\" data-src=\"/uploads/mini/short/7e1/d0da09991154ead165d53c9c88c20.webp\" src=\"data:image/gif;base64,R0lGODlhAQABAIAAAAAAAP///yH5BAEAAAAALAAAAAABAAEAAAIBRAA7\" width=\"200\" height=\"300\" alt=\"Мехмед: Султан завоевателей (2024)\" title=\"Мехмед: Султан завоевателей (2024)\">\n",
      "\t\t\t</a>\n",
      "\t\t\t<div class=\"lenta\"><div class=\"edge-left\"></div><div class=\"cont\" title=\" \">1-3 сезон 1-3 серия</div></div>\n",
      "\t\t</div>\n",
      "\t\t<!--noindex-->\n",
      "\t\t<div class=\"sInfo\">\n",
      "\t\t\t<span><b>Год выпуска:</b><a href=\"https://kinogo.org/xfsearch/year/2024/\">2024</a></span>\n",
      "\t\t\t<span style=\"max-width: 70%;\"><b>Страна:</b><a href=\"https://kinogo.org/xfsearch/country/%D1%82%D1%83%D1%80%D1%86%D0%B8%D1%8F/\">Турция</a></span>\n",
      "            <span><b>Тип:</b><a href=\"https://kinogo.org/serials/\">Сериалы</a></span>\n",
      "\t\t\t<span><b>Жанр:</b><a href=\"https://kinogo.org/xfsearch/genre/%D0%B2%D0%BE%D0%B5%D0%BD%D0%BD%D1%8B%D0%B9/\">военный</a>, <a href=\"https://kinogo.org/xfsearch/genre/%D0%B4%D1%80%D0%B0%D0%BC%D0%B0/\">драма</a>, <a href=\"https://kinogo.org/xfsearch/genre/%D0%B8%D1%81%D1%82%D0%BE%D1%80%D0%B8%D1%8F/\">история</a></span>\n",
      "\t\t\t<span><b>Продолжительность:</b>2 ч 24 мин</span>\n",
      "            <span><b>Качество:</b><a href=\"https://kinogo.org/xfsearch/resolution/720p/\">WEBRip 720p</a></span>\n",
      "\t\t\t<div class=\"fullRatings d-flex ai-center\">\n",
      "\t\t\t\t<span class=\"fQuality\"><b>IMDB:</b>7.9</span>\n",
      "\t\t\t\t<span class=\"fullKP\"><b>КиноПоиск:</b>Неизвестно</span>\n",
      "\t\t\t</div>\n",
      "\t\t\t<p class=\"excerpt\">\n",
      "\t\t\t\t\"Мехмед: Султан завоевателей\" - это историческая драма 2024 года, основанная на жизни знаменитого османского султана Мехмеда II. Фильм затрагивает его ранние годы и восхождение к власти, сложности правления и борьбу за сохранение империи в условиях постоянных конфликтов. Но главенствующей становится тема о блестящем...\n",
      "\n",
      "\t\t\t</p>\n",
      "\t\t</div>\n",
      "\t\t<!--/noindex-->\n",
      "\t</div>\n",
      "\t<div class=\"shortstoryFooter d-flex ai-center\">\n",
      "\t\t<a href=\"https://kinogo.org/111196-mehmed-sultan-zavoevatelej.html\" title=\"смотреть Мехмед: Султан завоевателей онлайн\" data-tip=\"no\">Смотреть онлайн</a>\n",
      "\t\t\n",
      "\t\t\n",
      "\t\t<div class=\"fTime d-flex ai-center\"><svg class=\"icon\" width=\"15\" height=\"15\"><use xlink:href=\"/templates/kinogoF/images/sprites.svg#time\"></use></svg> <time datetime=\"2025-10-01T13:46\">Сегодня, 13:46</time></div>\n",
      "\t</div>\n",
      "</article><article id=\"post-126387\" class=\"shortStory\">\n",
      "\t<div class=\"shortstoryHeader d-flex ai-center\">\n",
      "\t\t<div class=\"hTitle\">\n",
      "\t\t\t<h2><a href=\"https://kinogo.org/126387-berlinskaja-zhara.html\" title=\"Берлинская жара (2025)\" data-tip=\"no\">Берлинская жара (1 сезон)</a></h2>\n",
      "\t\t</div>\n",
      "        <div class=\"hRating\">\n",
      "\t\t\t<div class=\"rating\">\n",
      "\t\t<ul class=\"unit-rating\">\n",
      "\t\t<li class=\"current-rating\" style=\"width:80%;\">80</li>\n",
      "\t\t</ul>\n",
      "</div> <span class=\"ratingStats\">4.4/5 (<span data-vote-num-id=\"126387\">5</span> гол.)</span>\n",
      "\t\t</div>\n",
      "\t\t<div class=\"hFavs\">\n",
      "\t\t\t\n",
      "\t\t\t<div class=\"addFav\" title=\"Необходимо зарегистрироваться для добавления в избранное\"><svg class=\"icon\" width=\"25\" height=\"40\"><use xlink:href=\"/templates/kinogoF/images/sprites.svg#plusFav\"></use></svg></div>\n",
      "\t\t</div>\n",
      "\t</div>\n",
      "\t<div class=\"shortstoryBody\">\n",
      "\t\t<div class=\"sPoster\">\n",
      "\t\t\t<a href=\"https://kinogo.org/126387-berlinskaja-zhara.html\" title=\"Берлинская жара (2025)\">\n",
      "\t\t\t\t<img class=\"lazy\" fetchpriority=\"high\" data-src=\"/uploads/mini/short/b17/bd9a43b740dfe558d0562f3c28c12.webp\" src=\"data:image/gif;base64,R0lGODlhAQABAIAAAAAAAP///yH5BAEAAAAALAAAAAABAAEAAAIBRAA7\" width=\"200\" height=\"300\" alt=\"Берлинская жара (2025)\" title=\"Берлинская жара (2025)\">\n",
      "\t\t\t</a>\n",
      "\t\t\t<div class=\"lenta\"><div class=\"edge-left\"></div><div class=\"cont\" title=\" \">1 сезон 1-3 серия</div></div>\n",
      "\t\t</div>\n",
      "\t\t<!--noindex-->\n",
      "\t\t<div class=\"sInfo\">\n",
      "\t\t\t<span><b>Год выпуска:</b><a href=\"https://kinogo.org/xfsearch/year/2025/\">2025</a></span>\n",
      "\t\t\t<span style=\"max-width: 70%;\"><b>Страна:</b><a href=\"https://kinogo.org/xfsearch/country/%D1%80%D0%BE%D1%81%D1%81%D0%B8%D1%8F/\">Россия</a></span>\n",
      "            <span><b>Тип:</b><a href=\"https://kinogo.org/serials/\">Сериалы</a></span>\n",
      "\t\t\t<span><b>Жанр:</b><a href=\"https://kinogo.org/xfsearch/genre/%D0%B4%D1%80%D0%B0%D0%BC%D0%B0/\">драма</a>, <a href=\"https://kinogo.org/xfsearch/genre/%D1%82%D1%80%D0%B8%D0%BB%D0%BB%D0%B5%D1%80/\">триллер</a></span>\n",
      "\t\t\t<span><b>Продолжительность:</b>50 мин</span>\n",
      "            <span><b>Качество:</b><a href=\"https://kinogo.org/xfsearch/resolution/720p/\">WEB-DL 720p</a></span>\n",
      "\t\t\t<div class=\"fullRatings d-flex ai-center\">\n",
      "\t\t\t\t<span class=\"fQuality\"><b>IMDB:</b>Неизвестно</span>\n",
      "\t\t\t\t<span class=\"fullKP\"><b>КиноПоиск:</b>Неизвестно</span>\n",
      "\t\t\t</div>\n",
      "\t\t\t<p class=\"excerpt\">\n",
      "\t\t\t\tЛето 1943 года принесло советскому руководству тревожные известия: немецкие ученые значительно продвинулись в разработке атомной бомбы. Понимая, что это оружие имеет потенциал кардинально изменить баланс сил во время войны, советское командование отправляет в Германию своего агента под прикрытием с миссией похитить секретные...\n",
      "\n",
      "\t\t\t</p>\n",
      "\t\t</div>\n",
      "\t\t<!--/noindex-->\n",
      "\t</div>\n",
      "\t<div class=\"shortstoryFooter d-flex ai-center\">\n",
      "\t\t<a href=\"https://kinogo.org/126387-berlinskaja-zhara.html\" title=\"смотреть Берлинская жара онлайн\" data-tip=\"no\">Смотреть онлайн</a>\n",
      "\t\t\n",
      "\t\t\n",
      "\t\t<div class=\"fTime d-flex ai-center\"><svg class=\"icon\" width=\"15\" height=\"15\"><use xlink:href=\"/templates/kinogoF/images/sprites.svg#time\"></use></svg> <time datetime=\"2025-10-01T12:46\">Сегодня, 12:46</time></div>\n",
      "\t</div>\n",
      "</article><article id=\"post-126401\" class=\"shortStory\">\n",
      "\t<div class=\"shortstoryHeader d-flex ai-center\">\n",
      "\t\t<div class=\"hTitle\">\n",
      "\t\t\t<h2><a href=\"https://kinogo.org/126401-target.html\" title=\"Таргет (2025)\" data-tip=\"no\">Таргет (1 сезон)</a></h2>\n",
      "\t\t</div>\n",
      "        <div class=\"hRating\">\n",
      "\t\t\t<div class=\"rating\">\n",
      "\t\t<ul class=\"unit-rating\">\n",
      "\t\t<li class=\"current-rating\" style=\"width:80%;\">80</li>\n",
      "\t\t</ul>\n",
      "</div> <span class=\"ratingStats\">4.2/5 (<span data-vote-num-id=\"126401\">5</span> гол.)</span>\n",
      "\t\t</div>\n",
      "\t\t<div class=\"hFavs\">\n",
      "\t\t\t\n",
      "\t\t\t<div class=\"addFav\" title=\"Необходимо зарегистрироваться для добавления в избранное\"><svg class=\"icon\" width=\"25\" height=\"40\"><use xlink:href=\"/templates/kinogoF/images/sprites.svg#plusFav\"></use></svg></div>\n",
      "\t\t</div>\n",
      "\t</div>\n",
      "\t<div class=\"shortstoryBody\">\n",
      "\t\t<div class=\"sPoster\">\n",
      "\t\t\t<a href=\"https://kinogo.org/126401-target.html\" title=\"Таргет (2025)\">\n",
      "\t\t\t\t<img class=\"lazy\" fetchpriority=\"high\" data-src=\"/uploads/mini/short/a48/d9cf56d2c95f04214c8810e3f424a.webp\" src=\"data:image/gif;base64,R0lGODlhAQABAIAAAAAAAP///yH5BAEAAAAALAAAAAABAAEAAAIBRAA7\" width=\"200\" height=\"300\" alt=\"Таргет (2025)\" title=\"Таргет (2025)\">\n",
      "\t\t\t</a>\n",
      "\t\t\t<div class=\"lenta\"><div class=\"edge-left\"></div><div class=\"cont\" title=\" \">1 сезон 1-3 серия</div></div>\n",
      "\t\t</div>\n",
      "\t\t<!--noindex-->\n",
      "\t\t<div class=\"sInfo\">\n",
      "\t\t\t<span><b>Год выпуска:</b><a href=\"https://kinogo.org/xfsearch/year/2025/\">2025</a></span>\n",
      "\t\t\t<span style=\"max-width: 70%;\"><b>Страна:</b><a href=\"https://kinogo.org/xfsearch/country/%D0%BA%D0%B0%D0%B7%D0%B0%D1%85%D1%81%D1%82%D0%B0%D0%BD/\">Казахстан</a></span>\n",
      "            <span><b>Тип:</b><a href=\"https://kinogo.org/serials/\">Сериалы</a></span>\n",
      "\t\t\t<span><b>Жанр:</b><a href=\"https://kinogo.org/xfsearch/genre/%D0%BC%D0%B5%D0%BB%D0%BE%D0%B4%D1%80%D0%B0%D0%BC%D0%B0/\">мелодрама</a>, <a href=\"https://kinogo.org/xfsearch/genre/%D1%84%D0%B0%D0%BD%D1%82%D0%B0%D1%81%D1%82%D0%B8%D0%BA%D0%B0/\">фантастика</a></span>\n",
      "\t\t\t<span><b>Продолжительность:</b>24 мин</span>\n",
      "            <span><b>Качество:</b><a href=\"https://kinogo.org/xfsearch/resolution/720p/\">WEB-DL 720p</a></span>\n",
      "\t\t\t<div class=\"fullRatings d-flex ai-center\">\n",
      "\t\t\t\t<span class=\"fQuality\"><b>IMDB:</b>Неизвестно</span>\n",
      "\t\t\t\t<span class=\"fullKP\"><b>КиноПоиск:</b>Неизвестно</span>\n",
      "\t\t\t</div>\n",
      "\t\t\t<p class=\"excerpt\">\n",
      "\t\t\t\tМарк — студент престижной школы, чья беззаботная жизнь прерывается, когда его девушка Айлин начинает отдаляться без видимых причин. Одновременно с этим Марк сталкивается с необычными рекламными объявлениями в социальных сетях, которые кажутся скорее загадочными предсказаниями будущего, чем обычной рекламой. Одно из сообщений...\n",
      "\n",
      "\t\t\t</p>\n",
      "\t\t</div>\n",
      "\t\t<!--/noindex-->\n",
      "\t</div>\n",
      "\t<div class=\"shortstoryFooter d-flex ai-center\">\n",
      "\t\t<a href=\"https://kinogo.org/126401-target.html\" title=\"смотреть Таргет онлайн\" data-tip=\"no\">Смотреть онлайн</a>\n",
      "\t\t\n",
      "\t\t\n",
      "\t\t<div class=\"fTime d-flex ai-center\"><svg class=\"icon\" width=\"15\" height=\"15\"><use xlink:href=\"/templates/kinogoF/images/sprites.svg#time\"></use></svg> <time datetime=\"2025-10-01T12:16\">Сегодня, 12:16</time></div>\n",
      "\t</div>\n",
      "</article><article id=\"post-126380\" class=\"shortStory\">\n",
      "\t<div class=\"shortstoryHeader d-flex ai-center\">\n",
      "\t\t<div class=\"hTitle\">\n",
      "\t\t\t<h2><a href=\"https://kinogo.org/126380-zavist.html\" title=\"Зависть (2025)\" data-tip=\"no\">Зависть (1 сезон)</a></h2>\n",
      "\t\t</div>\n",
      "        <div class=\"hRating\">\n",
      "\t\t\t<div class=\"rating\">\n",
      "\t\t<ul class=\"unit-rating\">\n",
      "\t\t<li class=\"current-rating\" style=\"width:80%;\">80</li>\n",
      "\t\t</ul>\n",
      "</div> <span class=\"ratingStats\">3.6/5 (<span data-vote-num-id=\"126380\">8</span> гол.)</span>\n",
      "\t\t</div>\n",
      "\t\t<div class=\"hFavs\">\n",
      "\t\t\t\n",
      "\t\t\t<div class=\"addFav\" title=\"Необходимо зарегистрироваться для добавления в избранное\"><svg class=\"icon\" width=\"25\" height=\"40\"><use xlink:href=\"/templates/kinogoF/images/sprites.svg#plusFav\"></use></svg></div>\n",
      "\t\t</div>\n",
      "\t</div>\n",
      "\t<div class=\"shortstoryBody\">\n",
      "\t\t<div class=\"sPoster\">\n",
      "\t\t\t<a href=\"https://kinogo.org/126380-zavist.html\" title=\"Зависть (2025)\">\n",
      "\t\t\t\t<img class=\"lazy\" fetchpriority=\"high\" data-src=\"/uploads/mini/short/b71/ff16cc76d1650bbffc6257533f64a.webp\" src=\"data:image/gif;base64,R0lGODlhAQABAIAAAAAAAP///yH5BAEAAAAALAAAAAABAAEAAAIBRAA7\" width=\"200\" height=\"300\" alt=\"Зависть (2025)\" title=\"Зависть (2025)\">\n",
      "\t\t\t</a>\n",
      "\t\t\t<div class=\"lenta\"><div class=\"edge-left\"></div><div class=\"cont\" title=\" \">1 сезон 1-3 серия</div></div>\n",
      "\t\t</div>\n",
      "\t\t<!--noindex-->\n",
      "\t\t<div class=\"sInfo\">\n",
      "\t\t\t<span><b>Год выпуска:</b><a href=\"https://kinogo.org/xfsearch/year/2025/\">2025</a></span>\n",
      "\t\t\t<span style=\"max-width: 70%;\"><b>Страна:</b><a href=\"https://kinogo.org/xfsearch/country/%D1%82%D1%83%D1%80%D1%86%D0%B8%D1%8F/\">Турция</a></span>\n",
      "            <span><b>Тип:</b><a href=\"https://kinogo.org/serials/\">Сериалы</a></span>\n",
      "\t\t\t<span><b>Жанр:</b><a href=\"https://kinogo.org/xfsearch/genre/%D0%B4%D1%80%D0%B0%D0%BC%D0%B0/\">драма</a>, <a href=\"https://kinogo.org/xfsearch/genre/%D0%BC%D0%B5%D0%BB%D0%BE%D0%B4%D1%80%D0%B0%D0%BC%D0%B0/\">мелодрама</a></span>\n",
      "\t\t\t<span><b>Продолжительность:</b>2 ч 0 мин</span>\n",
      "            <span><b>Качество:</b><a href=\"https://kinogo.org/xfsearch/resolution/720p/\">WEB-DL 720p</a></span>\n",
      "\t\t\t<div class=\"fullRatings d-flex ai-center\">\n",
      "\t\t\t\t<span class=\"fQuality\"><b>IMDB:</b>7.1</span>\n",
      "\t\t\t\t<span class=\"fullKP\"><b>КиноПоиск:</b>Неизвестно</span>\n",
      "\t\t\t</div>\n",
      "\t\t\t<p class=\"excerpt\">\n",
      "\t\t\t\tСениха выросла без материнской любви и внимания, в то время как все ресурсы и возможности были отданы её брату Халиту. Он получил образование в престижных учебных заведениях, добился профессиональных высот в юриспруденции и заработал репутацию неотразимого завоевателя женских сердец. Все же, несмотря на свои успехи, Халит...\n",
      "\n",
      "\t\t\t</p>\n",
      "\t\t</div>\n",
      "\t\t<!--/noindex-->\n",
      "\t</div>\n",
      "\t<div class=\"shortstoryFooter d-flex ai-center\">\n",
      "\t\t<a href=\"https://kinogo.org/126380-zavist.html\" title=\"смотреть Зависть онлайн\" data-tip=\"no\">Смотреть онлайн</a>\n",
      "\t\t\n",
      "\t\t\n",
      "\t\t<div class=\"fTime d-flex ai-center\"><svg class=\"icon\" width=\"15\" height=\"15\"><use xlink:href=\"/templates/kinogoF/images/sprites.svg#time\"></use></svg> <time datetime=\"2025-10-01T12:16\">Сегодня, 12:16</time></div>\n",
      "\t</div>\n",
      "</article><article id=\"post-126145\" class=\"shortStory\">\n",
      "\t<div class=\"shortstoryHeader d-flex ai-center\">\n",
      "\t\t<div class=\"hTitle\">\n",
      "\t\t\t<h2><a href=\"https://kinogo.org/126145-glaza-chernogo-morja.html\" title=\"Глаза Чёрного моря (2025)\" data-tip=\"no\">Глаза Чёрного моря (1 сезон)</a></h2>\n",
      "\t\t</div>\n",
      "        <div class=\"hRating\">\n",
      "\t\t\t<div class=\"rating\">\n",
      "\t\t<ul class=\"unit-rating\">\n",
      "\t\t<li class=\"current-rating\" style=\"width:80%;\">80</li>\n",
      "\t\t</ul>\n",
      "</div> <span class=\"ratingStats\">4.3/5 (<span data-vote-num-id=\"126145\">4</span> гол.)</span>\n",
      "\t\t</div>\n",
      "\t\t<div class=\"hFavs\">\n",
      "\t\t\t\n",
      "\t\t\t<div class=\"addFav\" title=\"Необходимо зарегистрироваться для добавления в избранное\"><svg class=\"icon\" width=\"25\" height=\"40\"><use xlink:href=\"/templates/kinogoF/images/sprites.svg#plusFav\"></use></svg></div>\n",
      "\t\t</div>\n",
      "\t</div>\n",
      "\t<div class=\"shortstoryBody\">\n",
      "\t\t<div class=\"sPoster\">\n",
      "\t\t\t<a href=\"https://kinogo.org/126145-glaza-chernogo-morja.html\" title=\"Глаза Чёрного моря (2025)\">\n",
      "\t\t\t\t<img class=\"lazy\" fetchpriority=\"high\" data-src=\"/uploads/mini/short/508/238c088002e49a695d45a52813158.webp\" src=\"data:image/gif;base64,R0lGODlhAQABAIAAAAAAAP///yH5BAEAAAAALAAAAAABAAEAAAIBRAA7\" width=\"200\" height=\"300\" alt=\"Глаза Чёрного моря (2025)\" title=\"Глаза Чёрного моря (2025)\">\n",
      "\t\t\t</a>\n",
      "\t\t\t<div class=\"lenta\"><div class=\"edge-left\"></div><div class=\"cont\" title=\" \">1 сезон 1-5 серия</div></div>\n",
      "\t\t</div>\n",
      "\t\t<!--noindex-->\n",
      "\t\t<div class=\"sInfo\">\n",
      "\t\t\t<span><b>Год выпуска:</b><a href=\"https://kinogo.org/xfsearch/year/2025/\">2025</a></span>\n",
      "\t\t\t<span style=\"max-width: 70%;\"><b>Страна:</b><a href=\"https://kinogo.org/xfsearch/country/%D1%82%D1%83%D1%80%D1%86%D0%B8%D1%8F/\">Турция</a></span>\n",
      "            <span><b>Тип:</b><a href=\"https://kinogo.org/serials/\">Сериалы</a></span>\n",
      "\t\t\t<span><b>Жанр:</b><a href=\"https://kinogo.org/xfsearch/genre/%D0%B4%D1%80%D0%B0%D0%BC%D0%B0/\">драма</a></span>\n",
      "\t\t\t<span><b>Продолжительность:</b>Неизвестно</span>\n",
      "            <span><b>Качество:</b><a href=\"https://kinogo.org/xfsearch/resolution/720p/\">WEB-DL 720p</a></span>\n",
      "\t\t\t<div class=\"fullRatings d-flex ai-center\">\n",
      "\t\t\t\t<span class=\"fQuality\"><b>IMDB:</b>7.5</span>\n",
      "\t\t\t\t<span class=\"fullKP\"><b>КиноПоиск:</b>Неизвестно</span>\n",
      "\t\t\t</div>\n",
      "\t\t\t<p class=\"excerpt\">\n",
      "\t\t\t\tМолодой мужчина из региона Чёрного моря обнаруживает неожиданную связь со старинной и влиятельной турецкой семьей. В поисках разгадок о своей биографии, он отправляется в Стамбул, где его ждут скрытые тайны и сложные семейные конфликты. Путешествие приводит его к столкновению с запретной любовью, что ещё больше осложнит его...\n",
      "\n",
      "\t\t\t</p>\n",
      "\t\t</div>\n",
      "\t\t<!--/noindex-->\n",
      "\t</div>\n",
      "\t<div class=\"shortstoryFooter d-flex ai-center\">\n",
      "\t\t<a href=\"https://kinogo.org/126145-glaza-chernogo-morja.html\" title=\"смотреть Глаза Чёрного моря онлайн\" data-tip=\"no\">Смотреть онлайн</a>\n",
      "\t\t\n",
      "\t\t\n",
      "\t\t<div class=\"fTime d-flex ai-center\"><svg class=\"icon\" width=\"15\" height=\"15\"><use xlink:href=\"/templates/kinogoF/images/sprites.svg#time\"></use></svg> <time datetime=\"2025-10-01T12:16\">Сегодня, 12:16</time></div>\n",
      "\t</div>\n",
      "</article><article id=\"post-125387\" class=\"shortStory\">\n",
      "\t<div class=\"shortstoryHeader d-flex ai-center\">\n",
      "\t\t<div class=\"hTitle\">\n",
      "\t\t\t<h2><a href=\"https://kinogo.org/125387-zaputannaya-istoriya-amandy-noks.html\" title=\"Запутанная история Аманды Нокс (2025)\" data-tip=\"no\">Запутанная история Аманды Нокс (1 сезон)</a></h2>\n",
      "\t\t</div>\n",
      "        <div class=\"hRating\">\n",
      "\t\t\t<div class=\"rating\">\n",
      "\t\t<ul class=\"unit-rating\">\n",
      "\t\t<li class=\"current-rating\" style=\"width:80%;\">80</li>\n",
      "\t\t</ul>\n",
      "</div> <span class=\"ratingStats\">4.2/5 (<span data-vote-num-id=\"125387\">10</span> гол.)</span>\n",
      "\t\t</div>\n",
      "\t\t<div class=\"hFavs\">\n",
      "\t\t\t\n",
      "\t\t\t<div class=\"addFav\" title=\"Необходимо зарегистрироваться для добавления в избранное\"><svg class=\"icon\" width=\"25\" height=\"40\"><use xlink:href=\"/templates/kinogoF/images/sprites.svg#plusFav\"></use></svg></div>\n",
      "\t\t</div>\n",
      "\t</div>\n",
      "\t<div class=\"shortstoryBody\">\n",
      "\t\t<div class=\"sPoster\">\n",
      "\t\t\t<a href=\"https://kinogo.org/125387-zaputannaya-istoriya-amandy-noks.html\" title=\"Запутанная история Аманды Нокс (2025)\">\n",
      "\t\t\t\t<img class=\"lazy\" fetchpriority=\"high\" data-src=\"/uploads/mini/short/3cc/e1f0c9a46583c565e3937ce643d34.webp\" src=\"data:image/gif;base64,R0lGODlhAQABAIAAAAAAAP///yH5BAEAAAAALAAAAAABAAEAAAIBRAA7\" width=\"200\" height=\"300\" alt=\"Запутанная история Аманды Нокс (2025)\" title=\"Запутанная история Аманды Нокс (2025)\">\n",
      "\t\t\t</a>\n",
      "\t\t\t<div class=\"lenta\"><div class=\"edge-left\"></div><div class=\"cont\" title=\" \">1 сезон 1-8 серия</div></div>\n",
      "\t\t</div>\n",
      "\t\t<!--noindex-->\n",
      "\t\t<div class=\"sInfo\">\n",
      "\t\t\t<span><b>Год выпуска:</b><a href=\"https://kinogo.org/xfsearch/year/2025/\">2025</a></span>\n",
      "\t\t\t<span style=\"max-width: 70%;\"><b>Страна:</b><a href=\"https://kinogo.org/xfsearch/country/%D1%81%D1%88%D0%B0/\">США</a></span>\n",
      "            <span><b>Тип:</b><a href=\"https://kinogo.org/serials/\">Сериалы</a></span>\n",
      "\t\t\t<span><b>Жанр:</b><a href=\"https://kinogo.org/xfsearch/genre/%D0%B1%D0%B8%D0%BE%D0%B3%D1%80%D0%B0%D1%84%D0%B8%D1%8F/\">биография</a>, <a href=\"https://kinogo.org/xfsearch/genre/%D0%B4%D0%B5%D1%82%D0%B5%D0%BA%D1%82%D0%B8%D0%B2/\">детектив</a>, <a href=\"https://kinogo.org/xfsearch/genre/%D0%B4%D1%80%D0%B0%D0%BC%D0%B0/\">драма</a>, <a href=\"https://kinogo.org/xfsearch/genre/%D0%BA%D1%80%D0%B8%D0%BC%D0%B8%D0%BD%D0%B0%D0%BB/\">криминал</a></span>\n",
      "\t\t\t<span><b>Продолжительность:</b>54 мин</span>\n",
      "            <span><b>Качество:</b><a href=\"https://kinogo.org/xfsearch/resolution/720p/\">WEB-DL 720p</a></span>\n",
      "\t\t\t<div class=\"fullRatings d-flex ai-center\">\n",
      "\t\t\t\t<span class=\"fQuality\"><b>IMDB:</b>6.0</span>\n",
      "\t\t\t\t<span class=\"fullKP\"><b>КиноПоиск:</b>6.7</span>\n",
      "\t\t\t</div>\n",
      "\t\t\t<p class=\"excerpt\">\n",
      "\t\t\t\tСериал рассказывает о трагических событиях в жизни Аманды Нокс, которая была несправедливо осуждена за убийство своей соседки по комнате. Эпизоды описывают её тяжелый путь борьбы за доказательство собственной невиновности и стремление вернуть утраченную свободу. Создатели сериала в деталях отображают все испытания, через...\n",
      "\n",
      "\t\t\t</p>\n",
      "\t\t</div>\n",
      "\t\t<!--/noindex-->\n",
      "\t</div>\n",
      "\t<div class=\"shortstoryFooter d-flex ai-center\">\n",
      "\t\t<a href=\"https://kinogo.org/125387-zaputannaya-istoriya-amandy-noks.html\" title=\"смотреть Запутанная история Аманды Нокс онлайн\" data-tip=\"no\">Смотреть онлайн</a>\n",
      "\t\t\n",
      "\t\t\n",
      "\t\t<div class=\"fTime d-flex ai-center\"><svg class=\"icon\" width=\"15\" height=\"15\"><use xlink:href=\"/templates/kinogoF/images/sprites.svg#time\"></use></svg> <time datetime=\"2025-10-01T12:16\">Сегодня, 12:16</time></div>\n",
      "\t</div>\n",
      "</article><div class=\"pagiNation d-flex ai-center jc-center\">\n",
      "\t<span>Раньше</span><span>1</span> <a href=\"https://kinogo.org/serials/page/2/\">2</a> <a href=\"https://kinogo.org/serials/page/3/\">3</a> <a href=\"https://kinogo.org/serials/page/4/\">4</a> <a href=\"https://kinogo.org/serials/page/5/\">5</a> <a href=\"https://kinogo.org/serials/page/6/\">6</a> <a href=\"https://kinogo.org/serials/page/7/\">7</a> <a href=\"https://kinogo.org/serials/page/8/\">8</a> <a href=\"https://kinogo.org/serials/page/9/\">9</a> <a href=\"https://kinogo.org/serials/page/10/\">10</a> <span class=\"nav_ext\">...</span> <a href=\"https://kinogo.org/serials/page/1837/\">1837</a><a href=\"https://kinogo.org/serials/page/2/\">Позже</a>\n",
      "</div>\n",
      "\t\t\t\t\t</div>\n",
      "\t\t\t\t</main>\n",
      "\t\t\t\t<aside id=\"sideBar\">\n",
      "\t\t\t\t\t<div class=\"aHeader\">\n",
      "\t<i>Панель навигации</i>\n",
      "</div>\n",
      "<nav class=\"mainNav d-flex\">\n",
      "\t<div class=\"categories\">\n",
      "\t\t<i class=\"accent\">Категории</i>\n",
      "\t\t<ul style=\"margin-bottom: 27px\">\n",
      "\t\t\t<li class=\"d-flex ai-center jc-space-between\"><a href=\"/films/\" title=\"Фильмы\" data-tip=\"no\">Фильмы</a><span class=\"count\">(80525)</span></li>\n",
      "\t\t\t<li class=\"d-flex ai-center jc-space-between\"><a href=\"/serials/\" title=\"Сериалы\" data-tip=\"no\">Сериалы</a><span class=\"count\">(18364)</span></li>\n",
      "\t\t\t<li class=\"d-flex ai-center jc-space-between\"><a href=\"/multfilms/\" title=\"Мультфильмы\" data-tip=\"no\">Мультфильмы</a><span class=\"count\">(4634)</span></li>\n",
      "\t\t\t<li class=\"d-flex ai-center jc-space-between\"><a href=\"/multserials/\" title=\"Мультсериалы\" data-tip=\"no\">Мультсериалы</a><span class=\"count\">(2137)</span></li>\n",
      "\t\t\t<li class=\"d-flex ai-center jc-space-between\"><a href=\"/anime_films/\" title=\"Аниме фильмы\" data-tip=\"no\">Аниме фильмы</a><span class=\"count\">(2015)</span></li>\n",
      "\t\t\t<li class=\"d-flex ai-center jc-space-between\"><a href=\"/anime_serials/\" title=\"Аниме сериалы\" data-tip=\"no\">Аниме сериалы</a><span class=\"count\">(3862)</span></li>\n",
      "\t\t\t<li class=\"d-flex ai-center jc-space-between\"><a href=\"/doramas/\" title=\"Дорамы\" data-tip=\"no\">Дорамы</a><span class=\"count\">(1998)</span></li>\n",
      "\t\t\t<li class=\"d-flex ai-center jc-space-between\"><a href=\"/tv_show/\" title=\"ТВ-Шоу\" data-tip=\"no\">ТВ-Шоу</a><span class=\"count\">(887)</span></li>\n",
      "\t\t\t<li class=\"d-flex ai-center jc-space-between\"><a href=\"/premiery/\" title=\"Премьеры\" data-tip=\"no\">Премьеры</a><span class=\"count\">(0)</span></li>\n",
      "\t\t\t<li style=\"margin-top: 18px\" class=\"d-flex ai-center jc-space-between\"><a href=\"/lastnews/\" title=\"Последние обновления\" data-tip=\"no\">Последние обновления</a></li>\n",
      "\t\t</ul>\n",
      "\t\t\n",
      "\t\t<i class=\"accent\">Жанры</i>\n",
      "\t\t<ul>\n",
      "\t\t\t<li class=\"d-flex ai-center jc-space-between\"><a href=\"/xfsearch/genre/биография/\" title=\"Биографии\" data-tip=\"no\">Биографии</a></li>\n",
      "\t\t\t<li class=\"d-flex ai-center jc-space-between\"><a href=\"/xfsearch/genre/боевик/\" title=\"Боевики\" data-tip=\"no\">Боевики</a></li>\n",
      "\t\t\t<li class=\"d-flex ai-center jc-space-between\"><a href=\"/xfsearch/genre/вестерн/\" title=\"Вестерны\" data-tip=\"no\">Вестерны</a></li>\n",
      "\t\t\t<li class=\"d-flex ai-center jc-space-between\"><a href=\"/xfsearch/genre/военный/\" title=\"Военные\" data-tip=\"no\">Военные</a></li>\n",
      "\t\t\t<li class=\"d-flex ai-center jc-space-between\"><a href=\"/xfsearch/genre/детектив/\" title=\"Детективы\" data-tip=\"no\">Детективы</a></li>\n",
      "\t\t\t<li class=\"d-flex ai-center jc-space-between\"><a href=\"/xfsearch/genre/документальный/\" title=\"Документальные\" data-tip=\"no\">Документальные</a></li>\n",
      "\t\t\t<li class=\"d-flex ai-center jc-space-between\"><a href=\"/xfsearch/genre/драма/\" title=\"Драмы\" data-tip=\"no\">Драмы</a></li>\n",
      "\t\t\t<li class=\"d-flex ai-center jc-space-between\"><a href=\"/xfsearch/genre/история/\" title=\"Исторические\" data-tip=\"no\">Исторические</a></li>\n",
      "\t\t\t<li class=\"d-flex ai-center jc-space-between\"><a href=\"/xfsearch/genre/комедия/\" title=\"Комедии\" data-tip=\"no\">Комедии</a></li>\n",
      "\t\t\t<li class=\"d-flex ai-center jc-space-between\"><a href=\"/xfsearch/genre/криминал/\" title=\"Криминал\" data-tip=\"no\">Криминал</a></li>\n",
      "\t\t\t<li class=\"d-flex ai-center jc-space-between\"><a href=\"/xfsearch/genre/мелодрама/\" title=\"Мелодрамы\" data-tip=\"no\">Мелодрамы</a></li>\n",
      "\t\t\t<li class=\"d-flex ai-center jc-space-between\"><a href=\"/multfilms/\" title=\"Мультфильмы\" data-tip=\"no\">Мультфильмы</a></li>\n",
      "\t\t\t<li class=\"d-flex ai-center jc-space-between\"><a href=\"/xfsearch/genre/приключения/\" title=\"Приключения\" data-tip=\"no\">Приключения</a></li>\n",
      "\t\t\t<li class=\"d-flex ai-center jc-space-between\"><a href=\"/xfsearch/genre/семейный/\" title=\"Семейные\" data-tip=\"no\">Семейные</a></li>\n",
      "\t\t\t<li class=\"d-flex ai-center jc-space-between\"><a href=\"/xfsearch/genre/триллер/\" title=\"Триллеры\" data-tip=\"no\">Триллеры</a></li>\n",
      "\t\t\t<li class=\"d-flex ai-center jc-space-between\"><a href=\"/xfsearch/genre/ужасы/\" title=\"Ужасы\" data-tip=\"no\">Ужасы</a></li>\n",
      "\t\t\t<li class=\"d-flex ai-center jc-space-between\"><a href=\"/xfsearch/genre/фантастика/\" title=\"Фантастика\" data-tip=\"no\">Фантастика</a></li>\n",
      "\t\t\t<li class=\"d-flex ai-center jc-space-between\"><a href=\"/xfsearch/genre/фэнтези/\" title=\"Фэнтези\" data-tip=\"no\">Фэнтези</a></li>\n",
      "\t\t</ul>\n",
      "\t</div>\n",
      "   \n",
      "\t<div class=\"navSort\">\n",
      "\t\t<div class=\"byYear\">\n",
      "\t\t\t<i>По году</i>\n",
      "\t\t\t<ul>\n",
      "\t\t\t\t<li><a href=\"/xfsearch/year/2025/\" title=\"Фильмы, мультфильмы и сериалы 2025 года\" data-tip=\"no\">2025 года</a></li>\n",
      "\t\t\t\t<li><a href=\"/xfsearch/year/2024/\" title=\"Фильмы, мультфильмы и сериалы 2024 года\" data-tip=\"no\">2024 года</a></li>\n",
      "\t\t\t\t<li><a href=\"/xfsearch/year/2023/\" title=\"Фильмы, мультфильмы и сериалы 2023 года\" data-tip=\"no\">2023 года</a></li>\n",
      "\t\t\t\t<li><a href=\"/xfsearch/year/2022/\" title=\"Фильмы, мультфильмы и сериалы 2022 года\" data-tip=\"no\">2022 года</a></li>\n",
      "\t\t\t\t<li><a href=\"/xfsearch/year/2021/\" title=\"Фильмы, мультфильмы и сериалы 2021 года\" data-tip=\"no\">2021 года</a></li>\n",
      "\t\t\t\t<li><a href=\"/xfsearch/year/2020/\" title=\"Фильмы, мультфильмы и сериалы 2020 года\" data-tip=\"no\">2020 года</a></li>\n",
      "\t\t\t\t<li><a href=\"/xfsearch/year/2019/\" title=\"Фильмы, мультфильмы и сериалы 2019 года\" data-tip=\"no\">2019 года</a></li>\n",
      "\t\t\t\t<li><a href=\"/xfsearch/year/2018/\" title=\"Фильмы, мультфильмы и сериалы 2018 года\" data-tip=\"no\">2018 года</a></li>\n",
      "\t\t\t\t<li><a href=\"/xfsearch/year/2017/\" title=\"Фильмы, мультфильмы и сериалы 2017 года\" data-tip=\"no\">2017 года</a></li>\n",
      "\t\t\t\t<li><a href=\"/xfsearch/year/2016/\" title=\"Фильмы, мультфильмы и сериалы 2016 года\" data-tip=\"no\">2016 года</a></li>\n",
      "\t\t\t\t<li><a href=\"/xfsearch/year/2015/\" title=\"Фильмы, мультфильмы и сериалы 2015 года\" data-tip=\"no\">2015 года</a></li>\n",
      "\t\t\t\t\n",
      "\t\t\t</ul>\n",
      "\t\t</div>\n",
      "\t\t<div class=\"byCountry\">\n",
      "\t\t\t<i>По странам</i>\n",
      "\t\t\t<ul>\n",
      "\t\t\t\t<li><a href=\"/xfsearch/country/сша/\" title=\"Смотреть Американские фильмы, мультфильмы или сериалы\" data-tip=\"no\">Американские</a></li>\n",
      "\t\t\t\t<li><a href=\"/xfsearch/country/турция/\" title=\"Смотреть Турецкие фильмы, мультфильмы или сериалы\" data-tip=\"no\">Турецкие</a></li>\n",
      "\t\t\t\t<li><a href=\"/xfsearch/country/россия/\" title=\"Смотреть Российские фильмы, мультфильмы или сериалы\" data-tip=\"no\">Российские</a></li>\n",
      "\t\t\t\t<li><a href=\"/xfsearch/country/индия/\" title=\"Смотреть Индийские фильмы, мультфильмы или сериалы\" data-tip=\"no\">Индийские</a></li>\n",
      "\t\t\t\t<li><a href=\"/xfsearch/country/корея/\" title=\"Смотреть Корейские фильмы, мультфильмы или сериалы\" data-tip=\"no\">Корейские</a></li>\n",
      "\t\t\t\t<li><a href=\"/xfsearch/country/великобритания/\" title=\"Смотреть Английские фильмы, мультфильмы или сериалы\" data-tip=\"no\">Английские</a></li>\n",
      "\t\t\t\t<li><a href=\"/xfsearch/country/украина/\" title=\"Смотреть Украинские фильмы, мультфильмы или сериалы\" data-tip=\"no\">Украинские</a></li>\n",
      "\t\t\t\t<li><a href=\"/xfsearch/country/казахстан/\" title=\"Смотреть Казахстанские фильмы, мультфильмы или сериалы\" data-tip=\"no\">Казахстанские</a></li>\n",
      "\t\t\t</ul>\n",
      "\t\t</div>\n",
      "\t\t<div class=\"bySearials\">\n",
      "\t\t\t<i>Подборки</i>\n",
      "\t\t\t<ul>\n",
      "\t\t\t\t<li> - <a href=\"/podborki.html\" title=\"Все подборки от КинГо\" data-tip=\"no\">Все подборки</a></li>\n",
      "\t\t\t\t<li><a href=\"/xfsearch/collection/netflix/\" title=\"Смотреть фильмы и сериалы от Netflix онлайн\" data-tip=\"no\">Netflix</a></li>\n",
      "\t\t\t\t<li><a href=\"/xfsearch/collection/про%20любовь/\" title=\"Смотреть фильмы и сериалы про любовь онлайн\" data-tip=\"no\">Про любовь</a></li>\n",
      "\t\t\t\t<li><a href=\"/xfsearch/collection/disney/\" title=\"Смотреть фильмы и сериалы от Disney онлайн\" data-tip=\"no\">Disney</a></li>\n",
      "\t\t\t\t<li><a href=\"/xfsearch/collection/amazon/\" title=\"Смотреть фильмы и сериалы от Amazon онлайн\" data-tip=\"no\">Amazon</a></li>\n",
      "\t\t\t\t<li><a href=\"/xfsearch/collection/про%20вампиров/\" title=\"Смотреть фильмы и сериалы от Disney онлайн\" data-tip=\"no\">Про вампиров</a></li>\n",
      "\t\t\t\t<li><a href=\"/xfsearch/collection/про%20тюрьму/\" title=\"Смотреть фильмы и сериалы про тюрьму онлайн\" data-tip=\"no\">Про тюрьму</a></li>\n",
      "\t\t\t</ul>\n",
      "\t\t</div>\n",
      "\t</div>\n",
      "</nav>\n",
      "\n",
      "<div class=\"aHeader\">\n",
      "\t<i>Обновления сериалов</i>\n",
      "</div>\n",
      "\n",
      "<div class=\"lastUpdates\">\n",
      "\t<div class=\"lastUpdates-wrapper\">\n",
      "\t\t<div class=\"luTitle\">Последние обновления</div>\n",
      "\t\t<a href=\"/126379-podnogotnaja.html\" class=\"lastSeries\" title=\"Сериал&lt;br&gt;Подноготная (2025)&lt;br&gt;1 сезон 3 серия — ColdFilm\">\n",
      "\t<img data-src=\"/uploads/mini/search/ca/3fd8c8f3d2af64342bc1c16a46cac5.webp\" src=\"data:image/gif;base64,R0lGODlhAQABAIAAAAAAAP///yH5BAEAAAAALAAAAAABAAEAAAIBRAA7\" alt=\"Подноготная\" class=\"lastSeries-poster\">\n",
      "\t<div class=\"lastSeries-main\">\n",
      "\t\t<div class=\"lastSeries-title\">Подноготная <span>2025</span></div>\n",
      "\t\t\n",
      "\t\t<div class=\"lastSeries-details\">\n",
      "\t\t\t<div class=\"lastSeries-season\">1 сезон</div>\n",
      "\t\t\t<div class=\"lastSeries-category\">Сериал</div>\n",
      "\t\t</div>\n",
      "\t</div>\n",
      "\t<div class=\"lastSeries-aside\">\n",
      "\t\t<div class=\"lastSeries-episode\">3 серия</div>\n",
      "\t\t<div class=\"lastSeries-translation\">ColdFilm</div>\n",
      "\t</div>\n",
      "</a><a href=\"/9826-proslushka.html\" class=\"lastSeries\" title=\"Сериал&lt;br&gt;Прослушка (2002)&lt;br&gt;1 сезон 13 серия — KGJ\">\n",
      "\t<img data-src=\"/uploads/mini/search/b5/621772753e5683aca70372e6540c92.webp\" src=\"data:image/gif;base64,R0lGODlhAQABAIAAAAAAAP///yH5BAEAAAAALAAAAAABAAEAAAIBRAA7\" alt=\"Прослушка\" class=\"lastSeries-poster\">\n",
      "\t<div class=\"lastSeries-main\">\n",
      "\t\t<div class=\"lastSeries-title\">Прослушка <span>2002</span></div>\n",
      "\t\t\n",
      "\t\t<div class=\"lastSeries-details\">\n",
      "\t\t\t<div class=\"lastSeries-season\">1 сезон</div>\n",
      "\t\t\t<div class=\"lastSeries-category\">Сериал</div>\n",
      "\t\t</div>\n",
      "\t</div>\n",
      "\t<div class=\"lastSeries-aside\">\n",
      "\t\t<div class=\"lastSeries-episode\">13 серия</div>\n",
      "\t\t<div class=\"lastSeries-translation\">KGJ</div>\n",
      "\t</div>\n",
      "</a><a href=\"/115905-ubijstvo-v-malenkom-gorodke.html\" class=\"lastSeries\" title=\"Сериал&lt;br&gt;Убийство в маленьком городке (2024)&lt;br&gt;2 сезон 2 серия — RuDub\">\n",
      "\t<img data-src=\"/uploads/mini/search/b6/99c4f876df807aa3d88dd0afb5861a.webp\" src=\"data:image/gif;base64,R0lGODlhAQABAIAAAAAAAP///yH5BAEAAAAALAAAAAABAAEAAAIBRAA7\" alt=\"Убийство в маленьком городке\" class=\"lastSeries-poster\">\n",
      "\t<div class=\"lastSeries-main\">\n",
      "\t\t<div class=\"lastSeries-title\">Убийство в маленьком городке <span>2024</span></div>\n",
      "\t\t\n",
      "\t\t<div class=\"lastSeries-details\">\n",
      "\t\t\t<div class=\"lastSeries-season\">2 сезон</div>\n",
      "\t\t\t<div class=\"lastSeries-category\">Сериал</div>\n",
      "\t\t</div>\n",
      "\t</div>\n",
      "\t<div class=\"lastSeries-aside\">\n",
      "\t\t<div class=\"lastSeries-episode\">2 серия</div>\n",
      "\t\t<div class=\"lastSeries-translation\">RuDub</div>\n",
      "\t</div>\n",
      "</a><a href=\"/125387-zaputannaya-istoriya-amandy-noks.html\" class=\"lastSeries\" title=\"Сериал&lt;br&gt;Запутанная история Аманды Нокс (2025)&lt;br&gt;1 сезон 8 серия — ColdFilm\">\n",
      "\t<img data-src=\"/uploads/mini/search/3c/ce1f0c9a46583c565e3937ce643d34.webp\" src=\"data:image/gif;base64,R0lGODlhAQABAIAAAAAAAP///yH5BAEAAAAALAAAAAABAAEAAAIBRAA7\" alt=\"Запутанная история Аманды Нокс\" class=\"lastSeries-poster\">\n",
      "\t<div class=\"lastSeries-main\">\n",
      "\t\t<div class=\"lastSeries-title\">Запутанная история Аманды Нокс <span>2025</span></div>\n",
      "\t\t\n",
      "\t\t<div class=\"lastSeries-details\">\n",
      "\t\t\t<div class=\"lastSeries-season\">1 сезон</div>\n",
      "\t\t\t<div class=\"lastSeries-category\">Сериал</div>\n",
      "\t\t</div>\n",
      "\t</div>\n",
      "\t<div class=\"lastSeries-aside\">\n",
      "\t\t<div class=\"lastSeries-episode\">8 серия</div>\n",
      "\t\t<div class=\"lastSeries-translation\">ColdFilm</div>\n",
      "\t</div>\n",
      "</a><a href=\"/115604-lego-zvezdnye-vojny-vosstanovi-galaktiku.html\" class=\"lastSeries\" title=\"Мультсериал&lt;br&gt;LEGO Звёздные войны: Восстанови галактику (2024)&lt;br&gt;2 сезон 4 серия — RuDub\">\n",
      "\t<img data-src=\"/uploads/mini/search/8f/edb92aca4f8464741193fa80f38d65.webp\" src=\"data:image/gif;base64,R0lGODlhAQABAIAAAAAAAP///yH5BAEAAAAALAAAAAABAAEAAAIBRAA7\" alt=\"LEGO Звёздные войны: Восстанови галактику\" class=\"lastSeries-poster\">\n",
      "\t<div class=\"lastSeries-main\">\n",
      "\t\t<div class=\"lastSeries-title\">LEGO Звёздные войны: Восстанови галактику <span>2024</span></div>\n",
      "\t\t\n",
      "\t\t<div class=\"lastSeries-details\">\n",
      "\t\t\t<div class=\"lastSeries-season\">2 сезон</div>\n",
      "\t\t\t<div class=\"lastSeries-category\">Мультсериал</div>\n",
      "\t\t</div>\n",
      "\t</div>\n",
      "\t<div class=\"lastSeries-aside\">\n",
      "\t\t<div class=\"lastSeries-episode\">4 серия</div>\n",
      "\t\t<div class=\"lastSeries-translation\">RuDub</div>\n",
      "\t</div>\n",
      "</a><a href=\"/115604-lego-zvezdnye-vojny-vosstanovi-galaktiku.html\" class=\"lastSeries\" title=\"Мультсериал&lt;br&gt;LEGO Звёздные войны: Восстанови галактику (2024)&lt;br&gt;2 сезон 4 серия — TVShows\">\n",
      "\t<img data-src=\"/uploads/mini/search/8f/edb92aca4f8464741193fa80f38d65.webp\" src=\"data:image/gif;base64,R0lGODlhAQABAIAAAAAAAP///yH5BAEAAAAALAAAAAABAAEAAAIBRAA7\" alt=\"LEGO Звёздные войны: Восстанови галактику\" class=\"lastSeries-poster\">\n",
      "\t<div class=\"lastSeries-main\">\n",
      "\t\t<div class=\"lastSeries-title\">LEGO Звёздные войны: Восстанови галактику <span>2024</span></div>\n",
      "\t\t\n",
      "\t\t<div class=\"lastSeries-details\">\n",
      "\t\t\t<div class=\"lastSeries-season\">2 сезон</div>\n",
      "\t\t\t<div class=\"lastSeries-category\">Мультсериал</div>\n",
      "\t\t</div>\n",
      "\t</div>\n",
      "\t<div class=\"lastSeries-aside\">\n",
      "\t\t<div class=\"lastSeries-episode\">4 серия</div>\n",
      "\t\t<div class=\"lastSeries-translation\">TVShows</div>\n",
      "\t</div>\n",
      "</a><a href=\"/60480-vetnam.html\" class=\"lastSeries\" title=\"Сериал&lt;br&gt;Вьетнам (2017)&lt;br&gt;1 сезон 10 серия — Jaskier\">\n",
      "\t<img data-src=\"/uploads/mini/search/ab/aa721519d8f9df93cadc38babdd4b5.webp\" src=\"data:image/gif;base64,R0lGODlhAQABAIAAAAAAAP///yH5BAEAAAAALAAAAAABAAEAAAIBRAA7\" alt=\"Вьетнам\" class=\"lastSeries-poster\">\n",
      "\t<div class=\"lastSeries-main\">\n",
      "\t\t<div class=\"lastSeries-title\">Вьетнам <span>2017</span></div>\n",
      "\t\t\n",
      "\t\t<div class=\"lastSeries-details\">\n",
      "\t\t\t<div class=\"lastSeries-season\">1 сезон</div>\n",
      "\t\t\t<div class=\"lastSeries-category\">Сериал</div>\n",
      "\t\t</div>\n",
      "\t</div>\n",
      "\t<div class=\"lastSeries-aside\">\n",
      "\t\t<div class=\"lastSeries-episode\">10 серия</div>\n",
      "\t\t<div class=\"lastSeries-translation\">Jaskier</div>\n",
      "\t</div>\n",
      "</a><a href=\"/119089-dok.html\" class=\"lastSeries\" title=\"Сериал&lt;br&gt;Док (2025)&lt;br&gt;2 сезон 2 серия — ColdFilm\">\n",
      "\t<img data-src=\"/uploads/mini/search/c1/79cd1d36ff56867af3edbc8be847a3.webp\" src=\"data:image/gif;base64,R0lGODlhAQABAIAAAAAAAP///yH5BAEAAAAALAAAAAABAAEAAAIBRAA7\" alt=\"Док\" class=\"lastSeries-poster\">\n",
      "\t<div class=\"lastSeries-main\">\n",
      "\t\t<div class=\"lastSeries-title\">Док <span>2025</span></div>\n",
      "\t\t\n",
      "\t\t<div class=\"lastSeries-details\">\n",
      "\t\t\t<div class=\"lastSeries-season\">2 сезон</div>\n",
      "\t\t\t<div class=\"lastSeries-category\">Сериал</div>\n",
      "\t\t</div>\n",
      "\t</div>\n",
      "\t<div class=\"lastSeries-aside\">\n",
      "\t\t<div class=\"lastSeries-episode\">2 серия</div>\n",
      "\t\t<div class=\"lastSeries-translation\">ColdFilm</div>\n",
      "\t</div>\n",
      "</a><a href=\"/4745-platonicheskie-otnoshenija.html\" class=\"lastSeries\" title=\"Сериал&lt;br&gt;Платонические отношения (2023)&lt;br&gt;2 сезон 10 серия — LE-Production\">\n",
      "\t<img data-src=\"/uploads/mini/search/d7/bd4ba171d4ea75e6e9f5145ad8f8d7.webp\" src=\"data:image/gif;base64,R0lGODlhAQABAIAAAAAAAP///yH5BAEAAAAALAAAAAABAAEAAAIBRAA7\" alt=\"Платонические отношения\" class=\"lastSeries-poster\">\n",
      "\t<div class=\"lastSeries-main\">\n",
      "\t\t<div class=\"lastSeries-title\">Платонические отношения <span>2023</span></div>\n",
      "\t\t\n",
      "\t\t<div class=\"lastSeries-details\">\n",
      "\t\t\t<div class=\"lastSeries-season\">2 сезон</div>\n",
      "\t\t\t<div class=\"lastSeries-category\">Сериал</div>\n",
      "\t\t</div>\n",
      "\t</div>\n",
      "\t<div class=\"lastSeries-aside\">\n",
      "\t\t<div class=\"lastSeries-episode\">10 серия</div>\n",
      "\t\t<div class=\"lastSeries-translation\">LE-Production</div>\n",
      "\t</div>\n",
      "</a><a href=\"/126497-gospozha-inkognito-horoshaja-zhenschina-bu-se-mi.html\" class=\"lastSeries\" title=\"Дорама&lt;br&gt;Госпожа Инкогнито (2025)&lt;br&gt;1 сезон 2 серия — AniDUB\">\n",
      "\t<img data-src=\"/uploads/mini/search/4e/d47dfa34bbc072fbb6b43f6843aedd.webp\" src=\"data:image/gif;base64,R0lGODlhAQABAIAAAAAAAP///yH5BAEAAAAALAAAAAABAAEAAAIBRAA7\" alt=\"Госпожа Инкогнито\" class=\"lastSeries-poster\">\n",
      "\t<div class=\"lastSeries-main\">\n",
      "\t\t<div class=\"lastSeries-title\">Госпожа Инкогнито <span>2025</span></div>\n",
      "\t\t\n",
      "\t\t<div class=\"lastSeries-details\">\n",
      "\t\t\t<div class=\"lastSeries-season\">1 сезон</div>\n",
      "\t\t\t<div class=\"lastSeries-category\">Дорама</div>\n",
      "\t\t</div>\n",
      "\t</div>\n",
      "\t<div class=\"lastSeries-aside\">\n",
      "\t\t<div class=\"lastSeries-episode\">2 серия</div>\n",
      "\t\t<div class=\"lastSeries-translation\">AniDUB</div>\n",
      "\t</div>\n",
      "</a>\n",
      "\t\t\n",
      "\n",
      "\t</div>\n",
      "</div>\n",
      "\n",
      "<div class=\"aHeader\">\n",
      "\t<i>Последние комментарии</i>\n",
      "</div>\n",
      "<div class=\"lastComments\">\n",
      "\t<div class=\"lCommentItem\">\n",
      "    <div class=\"lCommentItem-title\">\n",
      "        <a href=\"https://kinogo.org/123832-chuzhoy-zemlya.html#comment\" class=\"d-flex ai-center\" title=\"Комментарий к Чужой: Земля\" data-tip=\"no\">\n",
      "            <div class=\"lCommentItem-avatar lazy\" data-bg=\"/templates/kinogoF/dleimages/noavatar.webp\"></div>\n",
      "            Чужой: Земля\n",
      "        </a>\n",
      "    </div>\n",
      "    <div class=\"lCommentItem-text\">\n",
      "        <span>Ооо</span>\n",
      "        Хуйня полня...\n",
      "    </div>\n",
      "</div><div class=\"lCommentItem\">\n",
      "    <div class=\"lCommentItem-title\">\n",
      "        <a href=\"https://kinogo.org/125666-oldskul.html#comment\" class=\"d-flex ai-center\" title=\"Комментарий к Олдскул\" data-tip=\"no\">\n",
      "            <div class=\"lCommentItem-avatar lazy\" data-bg=\"/templates/kinogoF/dleimages/noavatar.webp\"></div>\n",
      "            Олдскул\n",
      "        </a>\n",
      "    </div>\n",
      "    <div class=\"lCommentItem-text\">\n",
      "        <span>имя</span>\n",
      "        НА какой минуте чет не увидел...\n",
      "    </div>\n",
      "</div><div class=\"lCommentItem\">\n",
      "    <div class=\"lCommentItem-title\">\n",
      "        <a href=\"https://kinogo.org/125747-dispetcher.html#comment\" class=\"d-flex ai-center\" title=\"Комментарий к Диспетчер\" data-tip=\"no\">\n",
      "            <div class=\"lCommentItem-avatar lazy\" data-bg=\"/templates/kinogoF/dleimages/noavatar.webp\"></div>\n",
      "            Диспетчер\n",
      "        </a>\n",
      "    </div>\n",
      "    <div class=\"lCommentItem-text\">\n",
      "        <span>Пиндос</span>\n",
      "        Норм кино, на вечер можно, держит в напряжении...\n",
      "    </div>\n",
      "</div><div class=\"lCommentItem\">\n",
      "    <div class=\"lCommentItem-title\">\n",
      "        <a href=\"https://kinogo.org/26982-zabludshij-kosmicheskij-korabl.html#comment\" class=\"d-flex ai-center\" title=\"Комментарий к Заблудший космический корабль\" data-tip=\"no\">\n",
      "            <div class=\"lCommentItem-avatar lazy\" data-bg=\"/templates/kinogoF/dleimages/noavatar.webp\"></div>\n",
      "            Заблудший космический корабль\n",
      "        </a>\n",
      "    </div>\n",
      "    <div class=\"lCommentItem-text\">\n",
      "        <span>Гость Виктор</span>\n",
      "        шлак ......\n",
      "    </div>\n",
      "</div><div class=\"lCommentItem\">\n",
      "    <div class=\"lCommentItem-title\">\n",
      "        <a href=\"https://kinogo.org/6680-chukur.html#comment\" class=\"d-flex ai-center\" title=\"Комментарий к Чукур\" data-tip=\"no\">\n",
      "            <div class=\"lCommentItem-avatar lazy\" data-bg=\"/templates/kinogoF/dleimages/noavatar.webp\"></div>\n",
      "            Чукур\n",
      "        </a>\n",
      "    </div>\n",
      "    <div class=\"lCommentItem-text\">\n",
      "        <span>Анид</span>\n",
      "        Смотрела очень понравилось...\n",
      "    </div>\n",
      "</div><div class=\"lCommentItem\">\n",
      "    <div class=\"lCommentItem-title\">\n",
      "        <a href=\"https://kinogo.org/123832-chuzhoy-zemlya.html#comment\" class=\"d-flex ai-center\" title=\"Комментарий к Чужой: Земля\" data-tip=\"no\">\n",
      "            <div class=\"lCommentItem-avatar lazy\" data-bg=\"/templates/kinogoF/dleimages/noavatar.webp\"></div>\n",
      "            Чужой: Земля\n",
      "        </a>\n",
      "    </div>\n",
      "    <div class=\"lCommentItem-text\">\n",
      "        <span>нннн</span>\n",
      "        кайф полный...\n",
      "    </div>\n",
      "</div><div class=\"lCommentItem\">\n",
      "    <div class=\"lCommentItem-title\">\n",
      "        <a href=\"https://kinogo.org/123832-chuzhoy-zemlya.html#comment\" class=\"d-flex ai-center\" title=\"Комментарий к Чужой: Земля\" data-tip=\"no\">\n",
      "            <div class=\"lCommentItem-avatar lazy\" data-bg=\"/templates/kinogoF/dleimages/noavatar.webp\"></div>\n",
      "            Чужой: Земля\n",
      "        </a>\n",
      "    </div>\n",
      "    <div class=\"lCommentItem-text\">\n",
      "        <span>Пифагор</span>\n",
      "        Между четвертой и шестой серией....\n",
      "    </div>\n",
      "</div><div class=\"lCommentItem\">\n",
      "    <div class=\"lCommentItem-title\">\n",
      "        <a href=\"https://kinogo.org/125240-kapitan-kuk-proklyatye-berega.html#comment\" class=\"d-flex ai-center\" title=\"Комментарий к Капитан Кук: Проклятые берега\" data-tip=\"no\">\n",
      "            <div class=\"lCommentItem-avatar lazy\" data-bg=\"/templates/kinogoF/dleimages/noavatar.webp\"></div>\n",
      "            Капитан Кук: Проклятые берега\n",
      "        </a>\n",
      "    </div>\n",
      "    <div class=\"lCommentItem-text\">\n",
      "        <span>Админ</span>\n",
      "        капитан кук и админ говноед...\n",
      "    </div>\n",
      "</div><div class=\"lCommentItem\">\n",
      "    <div class=\"lCommentItem-title\">\n",
      "        <a href=\"https://kinogo.org/114004-chuzhoj-romul.html#comment\" class=\"d-flex ai-center\" title=\"Комментарий к Чужой: Ромул\" data-tip=\"no\">\n",
      "            <div class=\"lCommentItem-avatar lazy\" data-bg=\"/templates/kinogoF/dleimages/noavatar.webp\"></div>\n",
      "            Чужой: Ромул\n",
      "        </a>\n",
      "    </div>\n",
      "    <div class=\"lCommentItem-text\">\n",
      "        <span>Chuvachelolololo</span>\n",
      "        дак эт же дядя Степа в космосе :))))...\n",
      "    </div>\n",
      "</div><div class=\"lCommentItem\">\n",
      "    <div class=\"lCommentItem-title\">\n",
      "        <a href=\"https://kinogo.org/59409-eralash.html#comment\" class=\"d-flex ai-center\" title=\"Комментарий к Ералаш\" data-tip=\"no\">\n",
      "            <div class=\"lCommentItem-avatar lazy\" data-bg=\"/templates/kinogoF/dleimages/noavatar.webp\"></div>\n",
      "            Ералаш\n",
      "        </a>\n",
      "    </div>\n",
      "    <div class=\"lCommentItem-text\">\n",
      "        <span>даун</span>\n",
      "        лудчый...\n",
      "    </div>\n",
      "</div>\n",
      "\t\n",
      "</div>\n",
      "\t\t\t\t</aside>\n",
      "\t\t\t</div>\n",
      "            \n",
      "            <div id=\"topSlider\">\n",
      "                <div class=\"container\">\n",
      "                    <div class=\"topNav\">\n",
      "                        <ul class=\"d-flex pc-end\">\n",
      "                            <li><a href=\"/\" title=\"Главная\" data-tip=\"no\">Главная</a></li>\n",
      "                            <li><a href=\"/xfsearch/year/2025/\" title=\"Новинки\" data-tip=\"no\">Новинки</a></li>\n",
      "                            <li><a href=\"/podborki.html\" title=\"Подборки\" data-tip=\"no\">Подборки</a></li>\n",
      "                            <li><a href=\"/films/\" title=\"Фильмы\" data-tip=\"no\">Фильмы</a></li>\n",
      "                            <li><a href=\"/serials/\" title=\"Сериалы\" data-tip=\"no\">Сериалы</a></li>\n",
      "                            <li><a href=\"/anime_films/\" title=\"Аниме фильмы\" data-tip=\"no\">Аниме</a></li>\n",
      "                            <li><a href=\"/multfilms/\" title=\"Мультфильмы\" data-tip=\"no\">Мультфильмы</a></li>\n",
      "                            <li><a href=\"/doramas/\" title=\"Дорамы\" data-tip=\"no\">Дорамы</a></li>\n",
      "                        </ul>\n",
      "                    </div>\n",
      "\n",
      "                    <div class=\"carousel\">\n",
      "\t<div class=\"carousel__items\" data-count=\"7\" data-offset=\"3\">\n",
      "\t\t<a href=\"https://kinogo.org/116887-lihie.html\" class=\"carousel__item\" title=\"Лихие (2024)\" data-tooltip=\"Лихие (2024)\">\n",
      "\t<img src=\"/uploads/mini/slider/f5/05276b618c7d311abf373e96b5bc4e.webp\" alt=\"Лихие\">\n",
      "</a>\n",
      "<a href=\"https://kinogo.org/115569-lejla-zhizn-ljubov-spravedlivost.html\" class=\"carousel__item\" title=\"Лейла: Жизнь Любовь Справедливость (2024)\" data-tooltip=\"Лейла: Жизнь Любовь Справедливость (2024)\">\n",
      "\t<img src=\"/uploads/mini/slider/2f/32d83c736e0fccaa06a11b75532739.webp\" alt=\"Лейла: Жизнь Любовь Справедливость\">\n",
      "</a>\n",
      "<a href=\"https://kinogo.org/117426-dalekij-gorod.html\" class=\"carousel__item\" title=\"Далёкий город (2024)\" data-tooltip=\"Далёкий город (2024)\">\n",
      "\t<img src=\"/uploads/mini/slider/a4/8b8edfa9fdd8b307e36a3ad7cfa2a1.webp\" alt=\"Далёкий город\">\n",
      "</a>\n",
      "<a href=\"https://kinogo.org/123832-chuzhoy-zemlya.html\" class=\"carousel__item\" title=\"Чужой: Земля (2025)\" data-tooltip=\"Чужой: Земля (2025)\">\n",
      "\t<img src=\"/uploads/mini/slider/8a/3aa11ef10f48a5a8cda4740f3c2a0f.webp\" alt=\"Чужой: Земля\">\n",
      "</a>\n",
      "<a href=\"https://kinogo.org/124835-dekster-voskreshenie.html\" class=\"carousel__item\" title=\"Декстер: Воскрешение (2025)\" data-tooltip=\"Декстер: Воскрешение (2025)\">\n",
      "\t<img src=\"/uploads/mini/slider/70/07debfedc705d073d3ea3c794b8e2d.webp\" alt=\"Декстер: Воскрешение\">\n",
      "</a>\n",
      "<a href=\"https://kinogo.org/115729-bolshoj-potencial.html\" class=\"carousel__item\" title=\"Большой потенциал (2024)\" data-tooltip=\"Большой потенциал (2024)\">\n",
      "\t<img src=\"/uploads/mini/slider/ff/5b8a331646a2b525060d5cabbe7a22.webp\" alt=\"Большой потенциал\">\n",
      "</a>\n",
      "<a href=\"https://kinogo.org/120947-univer-molodye.html\" class=\"carousel__item\" title=\"Универ. Молодые (2025)\" data-tooltip=\"Универ. Молодые (2025)\">\n",
      "\t<img src=\"/uploads/mini/slider/3c/0a4fa20e4b7cf285109e4995599ea3.webp\" alt=\"Универ. Молодые\">\n",
      "</a>\n",
      "<a href=\"https://kinogo.org/124070-opasnyj.html\" class=\"carousel__item\" title=\"Опасный (2025)\" data-tooltip=\"Опасный (2025)\">\n",
      "\t<img data-src=\"/uploads/mini/slider/c3/0c0583a9954333a3255ab8793796b3.webp\" src=\"data:image/gif;base64,R0lGODlhAQABAIAAAAAAAP///yH5BAEAAAAALAAAAAABAAEAAAIBRAA7\" alt=\"Опасный\">\n",
      "</a>\n",
      "<a href=\"https://kinogo.org/124036-khirurg.html\" class=\"carousel__item\" title=\"Хирург (2025)\" data-tooltip=\"Хирург (2025)\">\n",
      "\t<img data-src=\"/uploads/mini/slider/85/2c6d9cd579741b250d3a9f551fcb15.webp\" src=\"data:image/gif;base64,R0lGODlhAQABAIAAAAAAAP///yH5BAEAAAAALAAAAAABAAEAAAIBRAA7\" alt=\"Хирург\">\n",
      "</a>\n",
      "<a href=\"https://kinogo.org/125016-vozhd-voyny.html\" class=\"carousel__item\" title=\"Вождь войны (2025)\" data-tooltip=\"Вождь войны (2025)\">\n",
      "\t<img data-src=\"/uploads/mini/slider/cc/ec7eeed4e01908edc22ee9d5f8796e.webp\" src=\"data:image/gif;base64,R0lGODlhAQABAIAAAAAAAP///yH5BAEAAAAALAAAAAABAAEAAAIBRAA7\" alt=\"Вождь войны\">\n",
      "</a>\n",
      "<a href=\"https://kinogo.org/122202-son-jeshrefa-mechta-jeshrefa.html\" class=\"carousel__item\" title=\"Сон Эшрефа / Мечта Эшрефа (2025)\" data-tooltip=\"Сон Эшрефа / Мечта Эшрефа (2025)\">\n",
      "\t<img data-src=\"/uploads/mini/slider/f4/7bcbc2de08de6f4e8ae068934b135f.webp\" src=\"data:image/gif;base64,R0lGODlhAQABAIAAAAAAAP///yH5BAEAAAAALAAAAAABAAEAAAIBRAA7\" alt=\"Сон Эшрефа / Мечта Эшрефа\">\n",
      "</a>\n",
      "<a href=\"https://kinogo.org/124899-institut.html\" class=\"carousel__item\" title=\"Институт (2025)\" data-tooltip=\"Институт (2025)\">\n",
      "\t<img data-src=\"/uploads/mini/slider/23/afc41f6cf2da4045bd4d26cb1109e1.webp\" src=\"data:image/gif;base64,R0lGODlhAQABAIAAAAAAAP///yH5BAEAAAAALAAAAAABAAEAAAIBRAA7\" alt=\"Институт\">\n",
      "</a>\n",
      "<a href=\"https://kinogo.org/125641-vinograd.html\" class=\"carousel__item\" title=\"Виноград (2025)\" data-tooltip=\"Виноград (2025)\">\n",
      "\t<img data-src=\"/uploads/mini/slider/39/548cba4fe2ff0485c9f5f64090a999.webp\" src=\"data:image/gif;base64,R0lGODlhAQABAIAAAAAAAP///yH5BAEAAAAALAAAAAABAAEAAAIBRAA7\" alt=\"Виноград\">\n",
      "</a>\n",
      "\n",
      "\t</div>\n",
      "\t<button type=\"button\" class=\"carousel-arrow prev\" title=\"Назад\"><svg class=\"icon\" height=\"24\" width=\"24\"><use xlink:href=\"/templates/kinogoF/images/sprites.svg#icon-left\"></use></svg></button>\n",
      "\t<button type=\"button\" class=\"carousel-arrow next\" title=\"Вперед\"><svg class=\"icon\" height=\"24\" width=\"24\"><use xlink:href=\"/templates/kinogoF/images/sprites.svg#icon-right\"></use></svg></button>\n",
      "</div>\n",
      "\n",
      "\n",
      "                </div>\n",
      "            </div>\n",
      "            \n",
      "\t\t</div>\n",
      "\t</div>\n",
      "\n",
      "\t<header>\n",
      "\t<div class=\"container d-flex ai-center\">\n",
      "\t\t<div class=\"logoType\">\n",
      "            <a href=\"/\" title=\"Kinogo.org\" data-tip=\"no\">\n",
      "                <svg class=\"icon iconLogo\" height=\"17\" width=\"90\"><use xlink:href=\"/templates/kinogoF/images/sprites.svg#logo\"></use></svg>\n",
      "            </a>\n",
      "\t\t</div>\n",
      "\t\t<div class=\"loginBlock\">\n",
      "\n",
      "\n",
      "<!--<script type=\"text/javascript\">function change(event, idName){event.preventDefault();const element = document.getElementById(idName);element.style.display = (element.style.display === 'none') ? '' : 'none';return false;}</script>-->\n",
      "\n",
      "<div class=\"desktopLogin d-flex ai-center\">\n",
      "\t<!--noindex--><a rel=\"nofollow\" href=\"#\" title=\"Вход\" onclick=\"if (!window.__cfRLUnblockHandlers) return false; change(event, 'formLogin')\">Вход</a> / <a rel=\"nofollow\" href=\"https://kinogo.org/index.php?do=register\" title=\"Регистрация\">Регистрация</a><!--/noindex-->\n",
      "\t<div id=\"formLogin\" style=\"display: none;\">\n",
      "\t\t<form method=\"post\" action=\"\">\n",
      "\t\t\t<label for=\"login_name\">Логин: </label><input type=\"text\" name=\"login_name\" id=\"login_name\" style=\"width: 90px;\">\n",
      "\t\t\t<label for=\"login_password\">Пароль (<a href=\"/?do=lostpassword\" title=\"Забыли пароль?\">Забыли?</a>):</label>\n",
      "\t\t\t<input type=\"password\" name=\"login_password\" id=\"login_password\" style=\"width: 90px;\">&nbsp;\n",
      "\t\t\t<button class=\"go__button\" onclick=\"if (!window.__cfRLUnblockHandlers) return false; submit();\" type=\"submit\" title=\"Войти\"><span>Войти</span></button>\n",
      "\t\t\t<input name=\"login\" type=\"hidden\" id=\"login\" value=\"submit\">\n",
      "\t\t</form>\n",
      "\t</div>\n",
      "</div>\n",
      "</div>\n",
      "\t\t<div class=\"liteSearch\">\n",
      "\t\t\t<div class=\"js-lightsearch-shader lightsearch__shader\" hidden=\"\"></div>\n",
      "<form class=\"js-lightsearch lightsearch\">\n",
      "\t<input type=\"text\" class=\"js-lightsearch-input lightsearch-input\" autocomplete=\"off\" placeholder=\"Поиск...\" value=\"\">\n",
      "\t<button type=\"button\" class=\"js-lightsearch-reset lightsearch-reset lightsearch-btn\" title=\"Очистить поле ввода\" hidden=\"\"></button>\n",
      "\t<button type=\"submit\" class=\"js-lightsearch-submit lightsearch-btn\">ok</button>\n",
      "\t<div class=\"js-lightsearch-content lightsearch__content\" hidden=\"\"></div>\n",
      "</form>\n",
      "\n",
      "\t\t</div>\n",
      "\t</div>\n",
      "</header>\n",
      "\n",
      "\t<footer id=\"footer\">\n",
      "\t\t<div class=\"container\">\n",
      "\t\t\t<div class=\"footerWrap\">\n",
      "\t\n",
      "\t\n",
      "\t<div class=\"footerText\">\n",
      "\t\t\n",
      "\t</div>\n",
      "\t\n",
      "\t<div class=\"footerText\">\n",
      "\t\t<a href=\"/copyrights.html\" data-tip=\"no\" class=\"\" title=\"Правообладателям и рекламодателям\" target=\"_blank\" style=\"font-weight: bold;\">Правообладателям / Рекламодателям</a>\n",
      "\t</div>\n",
      "</div>\n",
      "\t\t</div>\n",
      "\t</footer>\n",
      "\n",
      "\t<!--<script type=\"text/javascript\">\n",
      "<!--\n",
      "var dle_root       = '/';\n",
      "var dle_admin      = '';\n",
      "var dle_login_hash = '579ab19cb7c180877b43c53d31e8c2764393c4a3';\n",
      "var dle_group      = 5;\n",
      "var dle_skin       = 'kinogoF';\n",
      "var dle_wysiwyg    = '-1';\n",
      "var quick_wysiwyg  = '0';\n",
      "var dle_min_search = '4';\n",
      "var dle_act_lang   = [\"Да\", \"Нет\", \"Ввод\", \"Отмена\", \"Сохранить\", \"Удалить\", \"Загрузка. Пожалуйста, подождите...\"];\n",
      "var menu_short     = 'Быстрое редактирование';\n",
      "var menu_full      = 'Полное редактирование';\n",
      "var menu_profile   = 'Просмотр профиля';\n",
      "var menu_send      = 'Отправить сообщение';\n",
      "var menu_uedit     = 'Админцентр';\n",
      "var dle_info       = 'Информация';\n",
      "var dle_confirm    = 'Подтверждение';\n",
      "var dle_prompt     = 'Ввод информации';\n",
      "var dle_req_field  = [\"Заполните поле с именем\", \"Заполните поле с сообщением\", \"Заполните поле с темой сообщения\"];\n",
      "var dle_del_agree  = 'Вы действительно хотите удалить? Данное действие невозможно будет отменить';\n",
      "var dle_spam_agree = 'Вы действительно хотите отметить пользователя как спамера? Это приведёт к удалению всех его комментариев';\n",
      "var dle_c_title    = 'Отправка жалобы';\n",
      "var dle_complaint  = 'Укажите текст Вашей жалобы для администрации:';\n",
      "var dle_mail       = 'Ваш e-mail:';\n",
      "var dle_big_text   = 'Выделен слишком большой участок текста.';\n",
      "var dle_orfo_title = 'Укажите комментарий для администрации к найденной ошибке на странице:';\n",
      "var dle_p_send     = 'Отправить';\n",
      "var dle_p_send_ok  = 'Уведомление успешно отправлено';\n",
      "var dle_save_ok    = 'Изменения успешно сохранены. Обновить страницу?';\n",
      "var dle_reply_title= 'Ответ на комментарий';\n",
      "var dle_tree_comm  = '0';\n",
      "var dle_del_news   = 'Удалить статью';\n",
      "var dle_sub_agree  = 'Вы действительно хотите подписаться на комментарии к данной публикации?';\n",
      "var dle_unsub_agree  = 'Вы действительно хотите отписаться от комментариев к данной публикации?';\n",
      "var dle_captcha_type  = '0';\n",
      "var dle_share_interesting  = [\"Поделиться ссылкой на выделенный текст\", \"Twitter\", \"Facebook\", \"Вконтакте\", \"Прямая ссылка:\", \"Нажмите правой клавишей мыши и выберите «Копировать ссылку»\"];\n",
      "var DLEPlayerLang     = {prev: 'Предыдущий',next: 'Следующий',play: 'Воспроизвести',pause: 'Пауза',mute: 'Выключить звук', unmute: 'Включить звук', settings: 'Настройки', enterFullscreen: 'На полный экран', exitFullscreen: 'Выключить полноэкранный режим', speed: 'Скорость', normal: 'Обычная', quality: 'Качество', pip: 'Режим PiP'};\n",
      "var DLEGalleryLang    = {CLOSE: 'Закрыть (Esc)', NEXT: 'Следующее изображение', PREV: 'Предыдущее изображение', ERROR: 'Внимание! Обнаружена ошибка', IMAGE_ERROR: 'Не удалось загрузить изображение', TOGGLE_SLIDESHOW: 'Просмотр слайдшоу',TOGGLE_FULLSCREEN: 'Полноэкранный режим', TOGGLE_THUMBS: 'Включить / Выключить уменьшенные копии', ITERATEZOOM: 'Увеличить / Уменьшить', DOWNLOAD: 'Скачать изображение' };\n",
      "var DLEGalleryMode    = 0;\n",
      "var DLELazyMode       = 0;\n",
      "var allow_dle_delete_news   = false;\n",
      "\n",
      "//-->\n",
      "</script>-->\n",
      "\t<!--<script defer=\"\" src=\"/templates/kinogoF/assets/js/app.d6d5809333.js?v=1748979101\" type=\"b31b71a611f53a06c03df584-text/javascript\"></script>-->\n",
      "\n",
      "    \t<!--LiveInternet counter-->\n",
      "\t<!--<script type=\"text/javascript\">\n",
      "\twindow.addEventListener(\"load\", function () {\n",
      "\t\tnew Image().src = \"https://counter.yadro.ru/hit?r\" +\n",
      "\t\t\tescape(document.referrer) + ((typeof(screen) == \"undefined\") ? \"\" :\n",
      "\t\t\t\t\";s\" + screen.width + \"*\" + screen.height + \"*\" + (screen.colorDepth ?\n",
      "\t\t\t\t\tscreen.colorDepth : screen.pixelDepth)) + \";u\" + escape(document.URL) +\n",
      "\t\t\t\";h\" + escape(document.title.substring(0, 150)) +\n",
      "\t\t\t\";\" + Math.random();\n",
      "\t\t});\n",
      "\t</script>-->\n",
      "\t<!--/LiveInternet-->\n",
      "    \n",
      "<!--noindex-->\n",
      "\t<!--<script async=\"\" src=\"https://cdn77.s2517.com/bd0e74b4.js\" type=\"text/javascript\"></script>-->\n",
      "    <!--<script async=\"\" src=\"https://cdn77.srv224.com/ee314b03.js\" type=\"text/javascript\"></script>-->\n",
      "<!--/noindex-->\n",
      "\n",
      "\n",
      "\n",
      "</body></html>\n"
     ]
    }
   ],
   "source": [
    "# Опции для браузера (например, без GUI, если нужно)\n",
    "chrome_options = Options()\n",
    "chrome_options.add_argument(\"--headless\")  # если не нужен графический интерфейс\n",
    "#chrome_options.add_argument(\"--no-sandbox\")\n",
    "#chrome_options.add_argument(\"--disable-dev-shm-usage\")\n",
    "\n",
    "# Путь к chromedriver и инициализация сервиса\n",
    "service = Service(executable_path=\"/usr/bin/chromedriver\")\n",
    "# Создаем драйвер с опциями\n",
    "browser = webdriver.Chrome(service=service, options=chrome_options)\n",
    "# Задаем заголовки User-Agent через CDP (Chrome DevTools Protocol)\n",
    "browser.execute_cdp_cmd('Network.setUserAgentOverride', {\n",
    "    \"userAgent\": \"Mozilla/5.0 (X11; Linux x86_64) AppleWebKit/537.36 (KHTML, like Gecko) Chrome/136.0.0.0 YaBrowser/25.6.0.0 Safari/537.36\"\n",
    "})\n",
    "\n",
    "# Открываем страницу\n",
    "url_main = 'https://kinogo.org/serials/'\n",
    "browser.get(url_main)\n",
    "# Получаем HTML страницы\n",
    "src = browser.page_source\n",
    "# Вывод или сохранение\n",
    "print(src)\n",
    "\n",
    "# Закрываем браузер\n",
    "browser.quit()"
   ]
  },
  {
   "cell_type": "code",
   "execution_count": 13,
   "id": "ff230bd6",
   "metadata": {},
   "outputs": [],
   "source": [
    "# сохраним стартовую страницу\n",
    "with open(\"kinogo_start_page.html\", 'w') as file:\n",
    "    file.write(src)"
   ]
  },
  {
   "cell_type": "code",
   "execution_count": 14,
   "id": "76268ce4",
   "metadata": {},
   "outputs": [],
   "source": [
    "# продолжим работу с сохраненной страницей\n",
    "with open(\"kinogo_start_page.html\") as file:\n",
    "    src = file.read()"
   ]
  },
  {
   "cell_type": "code",
   "execution_count": 15,
   "id": "aba3b36f",
   "metadata": {},
   "outputs": [],
   "source": [
    "soup = BeautifulSoup(src, \"lxml\")"
   ]
  },
  {
   "cell_type": "code",
   "execution_count": 70,
   "id": "b1456749",
   "metadata": {},
   "outputs": [
    {
     "name": "stdout",
     "output_type": "stream",
     "text": [
      "Струны души: https://kinogo.org/125122-struny-dushi.html\n",
      "Любовь и гордость: https://kinogo.org/121822-ljubov-i-gordost.html\n",
      "Док: https://kinogo.org/119089-dok.html\n",
      "Убийство в маленьком городке: https://kinogo.org/115905-ubijstvo-v-malenkom-gorodke.html\n",
      "Большой потенциал: https://kinogo.org/115729-bolshoj-potencial.html\n",
      "Медленные лошади: https://kinogo.org/6694-medlennye-loshadi.html\n",
      "Утреннее шоу: https://kinogo.org/8272-utrennee-shou.html\n",
      "Бар «Один звонок»: https://kinogo.org/126522-bar-odin-zvonok.html\n",
      "Морская полиция: Тони и Зива: https://kinogo.org/126003-morskaja-policija-toni-i-ziva.html\n",
      "Платонические отношения: https://kinogo.org/4745-platonicheskie-otnoshenija.html\n"
     ]
    }
   ],
   "source": [
    "# Название, ссылка на фильм\n",
    "all_info_dict = {}\n",
    "all_serials_hrefs = soup.find_all(class_='hTitle')\n",
    "for item in all_serials_hrefs:\n",
    "    a_tag = item.find('a')\n",
    "    if a_tag:\n",
    "        title = a_tag.get('title')  # например, \"Подноготная (2025)\"\n",
    "        if title:\n",
    "            # Уберем год и скобки, оставим только название\n",
    "            item_text = title.split('(')[0].strip()  # \"Подноготная\"\n",
    "        else:\n",
    "            # Если title отсутствует, берем текст ссылки целиком\n",
    "            item_text = a_tag.text.strip()\n",
    "        item_href = a_tag.get('href')\n",
    "        print(f'{item_text}: {item_href}')\n",
    "        all_info_dict[item_text] = item_href\n"
   ]
  },
  {
   "cell_type": "code",
   "execution_count": 122,
   "id": "6dbcae54",
   "metadata": {},
   "outputs": [
    {
     "name": "stdout",
     "output_type": "stream",
     "text": [
      "2025\n",
      "2025\n",
      "2025\n",
      "2025\n",
      "2025\n",
      "2023\n",
      "2024\n",
      "2024\n",
      "2025\n",
      "2025\n"
     ]
    }
   ],
   "source": [
    "# Год выпуска\n",
    "blocks = soup.find_all(class_=\"shortStory\")\n",
    "final_dict = []\n",
    "for block in blocks:\n",
    "    year_title_tag = block.find('b', string='Год выпуска:')\n",
    "    if year_title_tag:\n",
    "        year_tags = year_title_tag.find_next_siblings('a')\n",
    "        year_texts = [tag.get_text() for tag in year_tags]\n",
    "        year_str = \", \".join(year_texts)\n",
    "        print(year_str)\n",
    "    #     final_dict['country'].append(year_str)\n",
    "    # else:\n",
    "    #     final_dict['country'].append(None)"
   ]
  },
  {
   "cell_type": "code",
   "execution_count": 121,
   "id": "5d8df2b6",
   "metadata": {},
   "outputs": [
    {
     "name": "stdout",
     "output_type": "stream",
     "text": [
      "https://kinogo.org/uploads/mini/short/09c/9fe24f15918df18f9fa1c495a6ad9.webp\n",
      "https://kinogo.org/uploads/mini/short/3b0/5618c9f935bbec17a860e7b2c64c7.webp\n",
      "https://kinogo.org/uploads/mini/short/13e/6ddd07fd7f4e5d4fe7237579327b8.webp\n",
      "https://kinogo.org/uploads/mini/short/732/1e42b0a05e294831167520b414305.webp\n",
      "https://kinogo.org/uploads/mini/short/ca3/fd8c8f3d2af64342bc1c16a46cac5.webp\n",
      "https://kinogo.org/uploads/mini/short/e5b/af8401186e22b90bf0fe7d6489d4b.webp\n",
      "https://kinogo.org/uploads/mini/short/088/b1ed8d37d7e8dd9fb946911577897.webp\n",
      "https://kinogo.org/uploads/mini/short/7e1/d0da09991154ead165d53c9c88c20.webp\n",
      "https://kinogo.org/uploads/mini/short/b17/bd9a43b740dfe558d0562f3c28c12.webp\n",
      "https://kinogo.org/uploads/mini/short/a48/d9cf56d2c95f04214c8810e3f424a.webp\n"
     ]
    }
   ],
   "source": [
    "# URL постера\n",
    "final_dict = {}\n",
    "for block in blocks:\n",
    "    image_tag = block.find(\"div\", class_=\"sPoster\").find(\"img\").get('data-src')\n",
    "    if image_tag:\n",
    "        image_url = 'https://kinogo.org' + image_tag\n",
    "        print(image_url)\n",
    "    #     final_dict['image_movie'].append(image_url)\n",
    "    # else:\n",
    "    #     final_dict['image_movie'].append(None)\n"
   ]
  },
  {
   "cell_type": "code",
   "execution_count": 141,
   "id": "a8ff9487",
   "metadata": {},
   "outputs": [
    {
     "name": "stdout",
     "output_type": "stream",
     "text": [
      "4.2/5\n",
      "3.2/5\n",
      "3.1/5\n",
      "3.4/5\n",
      "3.6/5\n",
      "3.6/5\n",
      "3.7/5\n",
      "3.5/5\n",
      "4.4/5\n",
      "4.2/5\n"
     ]
    }
   ],
   "source": [
    "for block in blocks:\n",
    "    rating_tag = block.find(\"span\", class_=\"ratingStats\")\n",
    "    if rating_tag:\n",
    "        rating = rating_tag.get_text(strip=True).split()[0]\n",
    "        print(rating)\n",
    "        final_dict['rating_votes'].append(rating)\n",
    "    else:\n",
    "        final_dict['rating_votes'].append(None)"
   ]
  },
  {
   "cell_type": "code",
   "execution_count": null,
   "id": "2ce47bd1",
   "metadata": {},
   "outputs": [
    {
     "name": "stdout",
     "output_type": "stream",
     "text": [
      "Неизвестно\n",
      "Неизвестно\n",
      "7.9\n",
      "7.6\n",
      "Неизвестно\n",
      "7.3\n",
      "7.0\n",
      "Неизвестно\n",
      "Неизвестно\n",
      "Неизвестно\n"
     ]
    }
   ],
   "source": [
    " # 10. Рейтинг Кинопоиска\n",
    "for block in blocks:\n",
    "    rating_kp_tag = block.find(\"span\", class_=\"fullKP\")\n",
    "    if rating_kp_tag:\n",
    "        rating_kp = rating_kp_tag.get_text(strip=True).split(':')[1]\n",
    "        print(rating_kp)\n",
    "        final_dict['film_rating_kp'].append(rating_kp_tag)\n",
    "    else:\n",
    "        final_dict['film_rating_kp'].append(None)"
   ]
  },
  {
   "cell_type": "code",
   "execution_count": 147,
   "id": "df0ebf2e",
   "metadata": {},
   "outputs": [
    {
     "name": "stdout",
     "output_type": "stream",
     "text": [
      "Неизвестно\n",
      "Неизвестно\n",
      "7.9\n",
      "7.6\n",
      "Неизвестно\n",
      "7.3\n",
      "7.0\n",
      "Неизвестно\n",
      "Неизвестно\n",
      "Неизвестно\n"
     ]
    }
   ],
   "source": [
    "for block in blocks:\n",
    "    rating_kp_tag = block.find(\"span\", class_=\"fullKP\")\n",
    "    if rating_kp_tag:\n",
    "        rating_kp = rating_kp_tag.get_text(strip=True).split(':')[1]\n",
    "        print(rating_kp)\n",
    "    #     final_dict['film_rating_kp'].append(rating_kp_tag)\n",
    "    # else:\n",
    "    #     final_dict['film_rating_kp'].append(None)"
   ]
  },
  {
   "cell_type": "code",
   "execution_count": null,
   "id": "cacf974d",
   "metadata": {},
   "outputs": [
    {
     "name": "stdout",
     "output_type": "stream",
     "text": [
      "Неизвестно\n",
      "Неизвестно\n",
      "Неизвестно\n",
      "Неизвестно\n",
      "Неизвестно\n",
      "7.6\n",
      "6.5\n",
      "7.9\n",
      "Неизвестно\n",
      "Неизвестно\n"
     ]
    }
   ],
   "source": [
    "# 11. Рейтинг IMDb\n",
    "for block in blocks:\n",
    "    rating_imdb_tag = block.find(\"span\", class_=\"fQuality\")\n",
    "    if rating_imdb_tag:\n",
    "        rating_imdb = rating_imdb_tag.get_text(strip=True).split(':')[1]\n",
    "        print(rating_imdb)\n",
    "    #     final_dict['film_rating_imdb'].append(rating_imdb)\n",
    "    # else:\n",
    "    #     final_dict['film_rating_imdb'].append(None)"
   ]
  },
  {
   "cell_type": "code",
   "execution_count": 155,
   "id": "ff86b509",
   "metadata": {},
   "outputs": [
    {
     "data": {
      "text/plain": [
       "['https://kinogo.org/126489-pin-kod.html',\n",
       " 'https://kinogo.org/126326-rejs-314.html']"
      ]
     },
     "execution_count": 155,
     "metadata": {},
     "output_type": "execute_result"
    }
   ],
   "source": [
    "final_dict['url_movie'][:2]"
   ]
  },
  {
   "cell_type": "code",
   "execution_count": 156,
   "id": "e51a7c14",
   "metadata": {},
   "outputs": [
    {
     "name": "stdout",
     "output_type": "stream",
     "text": [
      "Ошибка при загрузке https://kinogo.org/126489-pin-kod.html: HTTPConnectionPool(host='localhost', port=49875): Max retries exceeded with url: /session/2577eb5fab928523936854e9723ac4d8/url (Caused by NewConnectionError('<urllib3.connection.HTTPConnection object at 0x78f2e6597a00>: Failed to establish a new connection: [Errno 111] Connection refused'))\n",
      "Ошибка при загрузке https://kinogo.org/126326-rejs-314.html: HTTPConnectionPool(host='localhost', port=49875): Max retries exceeded with url: /session/2577eb5fab928523936854e9723ac4d8/url (Caused by NewConnectionError('<urllib3.connection.HTTPConnection object at 0x78f2e6596da0>: Failed to establish a new connection: [Errno 111] Connection refused'))\n"
     ]
    }
   ],
   "source": [
    "for url in final_dict['url_movie'][:2]:\n",
    "    if url:\n",
    "        try:\n",
    "            browser.get(url)\n",
    "            # Явное ожидание загрузки через WebDriverWait лучше, но для простоты:\n",
    "            time.sleep(2)  # уменьшено с 3-5 сек\n",
    "            movie_soup = BeautifulSoup(browser.page_source, \"lxml\")\n",
    "            desc_block = movie_soup.find(\"div\", class_=\"filmDescription\")\n",
    "            print(desc_block)\n",
    "            if desc_block:\n",
    "                full_desc = desc_block.get_text(strip=True)\n",
    "            else:\n",
    "                full_desc = None\n",
    "        except Exception as e:\n",
    "            print(f\"Ошибка при загрузке {url}: {e}\")\n",
    "            full_desc = None\n",
    "    else:\n",
    "        full_desc = None\n",
    "\n",
    "    #descriptions.append(full_desc)\n"
   ]
  },
  {
   "cell_type": "code",
   "execution_count": 125,
   "id": "32f6dfdb",
   "metadata": {},
   "outputs": [
    {
     "name": "stdout",
     "output_type": "stream",
     "text": [
      "Максим Захаров, майор полиции, сталкивается с личной трагедией, когда его дочь становится жертвой аферистов и впадает в кому после попытки самоубийства. Решив взять дело в свои руки, Захаров переходит в отдел, занимающийся борьбой с мошенничеством. В процессе расследования он встречает Евгению, работницу банка, и между ними...\n",
      "\n",
      "Иван Никогда, бывший чиновник с коррупционным прошлым, вынужден скрываться от правосудия. Под вымышленной личностью, он оказывается в роли пилота на внутреннем авиарейсе из Москвы во Владивосток. Его планы лететь незамеченным рушатся, когда настоящий пилот неожиданно умирает, оставляя Ивана управлять самолетом, хотя тот...\n",
      "\n",
      "Шашлычник Паша из Челябинска вместе с отцом и сыном Костей отправляются в поездку на юг страны, чтобы принять в наследство свою долю в винодельне. Вторая половина этого предприятия принадлежит Сергею Гордееву — тонкому ценителю и профессионалу своего дела, а также его дочери Оксане и внучке Миле. Двум семьям предстоит научиться...\n",
      "\n",
      "Двое представителей пришельцев прибыли на Землю с заданием отыскать потерянного наследника их Императора и ассистировать ему в выполнении важной тайной операции. Приняв облик людей, они живут как Антон и Марина, под видом обычной земной пары. В попытках не выдавать своего истинного происхождения, они стараются вести себя как...\n",
      "\n",
      "Ли Рейбон, владелец магазина книг в Талсе, совмещает свою основную деятельность с работой журналиста, фокусируясь на исследовании коррупции в регионе. Его интерес возрастает после неожиданной смерти одного из представителей влиятельного клана. Ли полагает, что обстоятельства этой смерти могут быть криминальными. Решив...\n",
      "\n",
      "\"Поколение «Ви»\" – захватывающий сериал 2023 года, представляющий собой спин-офф известного шоу \"Пацаны\". Это история о молодежи в мире, где супергерои – новые знаменитости, пользующиеся всеми привилегиями своего статуса. Действие разворачивается в колледже, курируемом корпорацией Vought International, где...\n",
      "\n",
      "Последней частью популярной франшизы стал сериал 2024 года, посвященный необычной магической семье. Герои оригинального \"Волшебников из Вэйверли Плэйс\" выросли, и теперь они вынуждены вновь сплотиться, чтобы противостоять могущественным силам тьмы. Сюжетная линия красочно и глубоко раскрывает перипетии жизни каждого...\n",
      "\n",
      "\"Мехмед: Султан завоевателей\" - это историческая драма 2024 года, основанная на жизни знаменитого османского султана Мехмеда II. Фильм затрагивает его ранние годы и восхождение к власти, сложности правления и борьбу за сохранение империи в условиях постоянных конфликтов. Но главенствующей становится тема о блестящем...\n",
      "\n",
      "Лето 1943 года принесло советскому руководству тревожные известия: немецкие ученые значительно продвинулись в разработке атомной бомбы. Понимая, что это оружие имеет потенциал кардинально изменить баланс сил во время войны, советское командование отправляет в Германию своего агента под прикрытием с миссией похитить секретные...\n",
      "\n",
      "Марк — студент престижной школы, чья беззаботная жизнь прерывается, когда его девушка Айлин начинает отдаляться без видимых причин. Одновременно с этим Марк сталкивается с необычными рекламными объявлениями в социальных сетях, которые кажутся скорее загадочными предсказаниями будущего, чем обычной рекламой. Одно из сообщений...\n",
      "\n"
     ]
    }
   ],
   "source": [
    "# 8. Описание\n",
    "for block in blocks:\n",
    "    description_title_tag = block.find(\"p\", class_=\"excerpt\")\n",
    "    if description_title_tag:\n",
    "        print(description_title_tag.get_text(strip=True))\n",
    "        print()\n",
    "    #     final_dict['description'].append(description_title_tag.get_text(strip=True))\n",
    "    # else:\n",
    "    #     final_dict['description'].append(None)"
   ]
  },
  {
   "cell_type": "code",
   "execution_count": null,
   "id": "39e9b347",
   "metadata": {},
   "outputs": [],
   "source": [
    "# словарь для записи результатов\n",
    "final_dict = {\n",
    "    'title': [],\n",
    "    'out_year': [],\n",
    "    'genres': [],\n",
    "    'country': [],\n",
    "    'duration': [],\n",
    "    'description': [],\n",
    "    'url_movie': [],\n",
    "    'image_movie': [],\n",
    "    'rating_votes': [],\n",
    "    'film_rating_kp': [],\n",
    "    'film_rating_imdb': []\n",
    "}\n",
    "# Для бд из 5000 сериалов понадобится с 1 по 500 стр (10 сериалов на каждой странице)\n",
    "page_min = 1\n",
    "page_max = 500\n",
    "my_range = range(page_min, page_max+1)\n",
    "# Список URL со всеми странциами\n",
    "urls = [f'{url_main}/page/{i+1}/' for i in range(500)]  # Список URL"
   ]
  },
  {
   "cell_type": "markdown",
   "id": "6a99b6d0",
   "metadata": {},
   "source": [
    "### Основной парсинг"
   ]
  },
  {
   "cell_type": "code",
   "execution_count": 164,
   "id": "a576dd46",
   "metadata": {},
   "outputs": [
    {
     "name": "stdout",
     "output_type": "stream",
     "text": [
      "🔎 Загружаем страницу 1: https://kinogo.org/serials/page/1/\n",
      "✅ Страница 1 собрана за 10.45 сек\n",
      "🔎 Загружаем страницу 2: https://kinogo.org/serials/page/2/\n",
      "✅ Страница 2 собрана за 7.96 сек\n",
      "🔎 Загружаем страницу 3: https://kinogo.org/serials/page/3/\n",
      "✅ Страница 3 собрана за 6.24 сек\n",
      "🔎 Загружаем страницу 4: https://kinogo.org/serials/page/4/\n",
      "✅ Страница 4 собрана за 29.34 сек\n",
      "🔎 Загружаем страницу 5: https://kinogo.org/serials/page/5/\n",
      "✅ Страница 5 собрана за 27.41 сек\n",
      "🔎 Загружаем страницу 6: https://kinogo.org/serials/page/6/\n",
      "✅ Страница 6 собрана за 82.98 сек\n",
      "🔎 Загружаем страницу 7: https://kinogo.org/serials/page/7/\n",
      "✅ Страница 7 собрана за 6.08 сек\n",
      "🔎 Загружаем страницу 8: https://kinogo.org/serials/page/8/\n",
      "✅ Страница 8 собрана за 8.24 сек\n",
      "🔎 Загружаем страницу 9: https://kinogo.org/serials/page/9/\n",
      "✅ Страница 9 собрана за 6.74 сек\n",
      "🔎 Загружаем страницу 10: https://kinogo.org/serials/page/10/\n",
      "✅ Страница 10 собрана за 5.99 сек\n",
      "🎬 Основной парсинг завершён. Данные сохранены в movies_dataset.csv и в movies_dataset.json\n",
      "🔎 Загружаем подробные описания с отдельных страниц...\n",
      "Ошибка при загрузке https://kinogo.org/126325-planetjane.html: HTTPConnectionPool(host='localhost', port=56179): Read timed out. (read timeout=120)\n",
      "Ошибка при загрузке https://kinogo.org/117228-volshebniki-za-predelami-vjejverli-pljejs.html: HTTPConnectionPool(host='localhost', port=56179): Read timed out. (read timeout=120)\n"
     ]
    },
    {
     "ename": "KeyboardInterrupt",
     "evalue": "",
     "output_type": "error",
     "traceback": [
      "\u001b[0;31m---------------------------------------------------------------------------\u001b[0m",
      "\u001b[0;31mKeyboardInterrupt\u001b[0m                         Traceback (most recent call last)",
      "Cell \u001b[0;32mIn[164], line 181\u001b[0m\n\u001b[1;32m    179\u001b[0m \u001b[38;5;28;01mif\u001b[39;00m url:\n\u001b[1;32m    180\u001b[0m     \u001b[38;5;28;01mtry\u001b[39;00m:\n\u001b[0;32m--> 181\u001b[0m         \u001b[43mbrowser\u001b[49m\u001b[38;5;241;43m.\u001b[39;49m\u001b[43mget\u001b[49m\u001b[43m(\u001b[49m\u001b[43murl\u001b[49m\u001b[43m)\u001b[49m\n\u001b[1;32m    182\u001b[0m         WebDriverWait(browser, \u001b[38;5;241m15\u001b[39m)\u001b[38;5;241m.\u001b[39muntil(\n\u001b[1;32m    183\u001b[0m             EC\u001b[38;5;241m.\u001b[39mpresence_of_element_located((By\u001b[38;5;241m.\u001b[39mCLASS_NAME, \u001b[38;5;124m\"\u001b[39m\u001b[38;5;124mfilmDescription\u001b[39m\u001b[38;5;124m\"\u001b[39m))\n\u001b[1;32m    184\u001b[0m         )\n\u001b[1;32m    185\u001b[0m         movie_soup \u001b[38;5;241m=\u001b[39m BeautifulSoup(browser\u001b[38;5;241m.\u001b[39mpage_source, \u001b[38;5;124m\"\u001b[39m\u001b[38;5;124mlxml\u001b[39m\u001b[38;5;124m\"\u001b[39m)\n",
      "File \u001b[0;32m~/miniforge3/envs/parcing/lib/python3.10/site-packages/selenium/webdriver/remote/webdriver.py:483\u001b[0m, in \u001b[0;36mWebDriver.get\u001b[0;34m(self, url)\u001b[0m\n\u001b[1;32m    465\u001b[0m \u001b[38;5;28;01mdef\u001b[39;00m\u001b[38;5;250m \u001b[39m\u001b[38;5;21mget\u001b[39m(\u001b[38;5;28mself\u001b[39m, url: \u001b[38;5;28mstr\u001b[39m) \u001b[38;5;241m-\u001b[39m\u001b[38;5;241m>\u001b[39m \u001b[38;5;28;01mNone\u001b[39;00m:\n\u001b[1;32m    466\u001b[0m \u001b[38;5;250m    \u001b[39m\u001b[38;5;124;03m\"\"\"Navigate the browser to the specified URL in the current window or\u001b[39;00m\n\u001b[1;32m    467\u001b[0m \u001b[38;5;124;03m    tab.\u001b[39;00m\n\u001b[1;32m    468\u001b[0m \n\u001b[0;32m   (...)\u001b[0m\n\u001b[1;32m    481\u001b[0m \u001b[38;5;124;03m    >>> driver.get(\"https://example.com\")\u001b[39;00m\n\u001b[1;32m    482\u001b[0m \u001b[38;5;124;03m    \"\"\"\u001b[39;00m\n\u001b[0;32m--> 483\u001b[0m     \u001b[38;5;28;43mself\u001b[39;49m\u001b[38;5;241;43m.\u001b[39;49m\u001b[43mexecute\u001b[49m\u001b[43m(\u001b[49m\u001b[43mCommand\u001b[49m\u001b[38;5;241;43m.\u001b[39;49m\u001b[43mGET\u001b[49m\u001b[43m,\u001b[49m\u001b[43m \u001b[49m\u001b[43m{\u001b[49m\u001b[38;5;124;43m\"\u001b[39;49m\u001b[38;5;124;43murl\u001b[39;49m\u001b[38;5;124;43m\"\u001b[39;49m\u001b[43m:\u001b[49m\u001b[43m \u001b[49m\u001b[43murl\u001b[49m\u001b[43m}\u001b[49m\u001b[43m)\u001b[49m\n",
      "File \u001b[0;32m~/miniforge3/envs/parcing/lib/python3.10/site-packages/selenium/webdriver/remote/webdriver.py:455\u001b[0m, in \u001b[0;36mWebDriver.execute\u001b[0;34m(self, driver_command, params)\u001b[0m\n\u001b[1;32m    452\u001b[0m     \u001b[38;5;28;01melif\u001b[39;00m \u001b[38;5;124m\"\u001b[39m\u001b[38;5;124msessionId\u001b[39m\u001b[38;5;124m\"\u001b[39m \u001b[38;5;129;01mnot\u001b[39;00m \u001b[38;5;129;01min\u001b[39;00m params:\n\u001b[1;32m    453\u001b[0m         params[\u001b[38;5;124m\"\u001b[39m\u001b[38;5;124msessionId\u001b[39m\u001b[38;5;124m\"\u001b[39m] \u001b[38;5;241m=\u001b[39m \u001b[38;5;28mself\u001b[39m\u001b[38;5;241m.\u001b[39msession_id\n\u001b[0;32m--> 455\u001b[0m response \u001b[38;5;241m=\u001b[39m \u001b[43mcast\u001b[49m\u001b[43m(\u001b[49m\u001b[43mRemoteConnection\u001b[49m\u001b[43m,\u001b[49m\u001b[43m \u001b[49m\u001b[38;5;28;43mself\u001b[39;49m\u001b[38;5;241;43m.\u001b[39;49m\u001b[43mcommand_executor\u001b[49m\u001b[43m)\u001b[49m\u001b[38;5;241;43m.\u001b[39;49m\u001b[43mexecute\u001b[49m\u001b[43m(\u001b[49m\u001b[43mdriver_command\u001b[49m\u001b[43m,\u001b[49m\u001b[43m \u001b[49m\u001b[43mparams\u001b[49m\u001b[43m)\u001b[49m\n\u001b[1;32m    457\u001b[0m \u001b[38;5;28;01mif\u001b[39;00m response:\n\u001b[1;32m    458\u001b[0m     \u001b[38;5;28mself\u001b[39m\u001b[38;5;241m.\u001b[39merror_handler\u001b[38;5;241m.\u001b[39mcheck_response(response)\n",
      "File \u001b[0;32m~/miniforge3/envs/parcing/lib/python3.10/site-packages/selenium/webdriver/remote/remote_connection.py:406\u001b[0m, in \u001b[0;36mRemoteConnection.execute\u001b[0;34m(self, command, params)\u001b[0m\n\u001b[1;32m    404\u001b[0m trimmed \u001b[38;5;241m=\u001b[39m \u001b[38;5;28mself\u001b[39m\u001b[38;5;241m.\u001b[39m_trim_large_entries(params)\n\u001b[1;32m    405\u001b[0m LOGGER\u001b[38;5;241m.\u001b[39mdebug(\u001b[38;5;124m\"\u001b[39m\u001b[38;5;132;01m%s\u001b[39;00m\u001b[38;5;124m \u001b[39m\u001b[38;5;132;01m%s\u001b[39;00m\u001b[38;5;124m \u001b[39m\u001b[38;5;132;01m%s\u001b[39;00m\u001b[38;5;124m\"\u001b[39m, command_info[\u001b[38;5;241m0\u001b[39m], url, \u001b[38;5;28mstr\u001b[39m(trimmed))\n\u001b[0;32m--> 406\u001b[0m \u001b[38;5;28;01mreturn\u001b[39;00m \u001b[38;5;28;43mself\u001b[39;49m\u001b[38;5;241;43m.\u001b[39;49m\u001b[43m_request\u001b[49m\u001b[43m(\u001b[49m\u001b[43mcommand_info\u001b[49m\u001b[43m[\u001b[49m\u001b[38;5;241;43m0\u001b[39;49m\u001b[43m]\u001b[49m\u001b[43m,\u001b[49m\u001b[43m \u001b[49m\u001b[43murl\u001b[49m\u001b[43m,\u001b[49m\u001b[43m \u001b[49m\u001b[43mbody\u001b[49m\u001b[38;5;241;43m=\u001b[39;49m\u001b[43mdata\u001b[49m\u001b[43m)\u001b[49m\n",
      "File \u001b[0;32m~/miniforge3/envs/parcing/lib/python3.10/site-packages/selenium/webdriver/remote/remote_connection.py:430\u001b[0m, in \u001b[0;36mRemoteConnection._request\u001b[0;34m(self, method, url, body)\u001b[0m\n\u001b[1;32m    427\u001b[0m     body \u001b[38;5;241m=\u001b[39m \u001b[38;5;28;01mNone\u001b[39;00m\n\u001b[1;32m    429\u001b[0m \u001b[38;5;28;01mif\u001b[39;00m \u001b[38;5;28mself\u001b[39m\u001b[38;5;241m.\u001b[39m_client_config\u001b[38;5;241m.\u001b[39mkeep_alive:\n\u001b[0;32m--> 430\u001b[0m     response \u001b[38;5;241m=\u001b[39m \u001b[38;5;28;43mself\u001b[39;49m\u001b[38;5;241;43m.\u001b[39;49m\u001b[43m_conn\u001b[49m\u001b[38;5;241;43m.\u001b[39;49m\u001b[43mrequest\u001b[49m\u001b[43m(\u001b[49m\u001b[43mmethod\u001b[49m\u001b[43m,\u001b[49m\u001b[43m \u001b[49m\u001b[43murl\u001b[49m\u001b[43m,\u001b[49m\u001b[43m \u001b[49m\u001b[43mbody\u001b[49m\u001b[38;5;241;43m=\u001b[39;49m\u001b[43mbody\u001b[49m\u001b[43m,\u001b[49m\u001b[43m \u001b[49m\u001b[43mheaders\u001b[49m\u001b[38;5;241;43m=\u001b[39;49m\u001b[43mheaders\u001b[49m\u001b[43m,\u001b[49m\u001b[43m \u001b[49m\u001b[43mtimeout\u001b[49m\u001b[38;5;241;43m=\u001b[39;49m\u001b[38;5;28;43mself\u001b[39;49m\u001b[38;5;241;43m.\u001b[39;49m\u001b[43m_client_config\u001b[49m\u001b[38;5;241;43m.\u001b[39;49m\u001b[43mtimeout\u001b[49m\u001b[43m)\u001b[49m\n\u001b[1;32m    431\u001b[0m     statuscode \u001b[38;5;241m=\u001b[39m response\u001b[38;5;241m.\u001b[39mstatus\n\u001b[1;32m    432\u001b[0m \u001b[38;5;28;01melse\u001b[39;00m:\n",
      "File \u001b[0;32m~/miniforge3/envs/parcing/lib/python3.10/site-packages/urllib3/_request_methods.py:143\u001b[0m, in \u001b[0;36mRequestMethods.request\u001b[0;34m(self, method, url, body, fields, headers, json, **urlopen_kw)\u001b[0m\n\u001b[1;32m    135\u001b[0m     \u001b[38;5;28;01mreturn\u001b[39;00m \u001b[38;5;28mself\u001b[39m\u001b[38;5;241m.\u001b[39mrequest_encode_url(\n\u001b[1;32m    136\u001b[0m         method,\n\u001b[1;32m    137\u001b[0m         url,\n\u001b[0;32m   (...)\u001b[0m\n\u001b[1;32m    140\u001b[0m         \u001b[38;5;241m*\u001b[39m\u001b[38;5;241m*\u001b[39murlopen_kw,\n\u001b[1;32m    141\u001b[0m     )\n\u001b[1;32m    142\u001b[0m \u001b[38;5;28;01melse\u001b[39;00m:\n\u001b[0;32m--> 143\u001b[0m     \u001b[38;5;28;01mreturn\u001b[39;00m \u001b[38;5;28;43mself\u001b[39;49m\u001b[38;5;241;43m.\u001b[39;49m\u001b[43mrequest_encode_body\u001b[49m\u001b[43m(\u001b[49m\n\u001b[1;32m    144\u001b[0m \u001b[43m        \u001b[49m\u001b[43mmethod\u001b[49m\u001b[43m,\u001b[49m\u001b[43m \u001b[49m\u001b[43murl\u001b[49m\u001b[43m,\u001b[49m\u001b[43m \u001b[49m\u001b[43mfields\u001b[49m\u001b[38;5;241;43m=\u001b[39;49m\u001b[43mfields\u001b[49m\u001b[43m,\u001b[49m\u001b[43m \u001b[49m\u001b[43mheaders\u001b[49m\u001b[38;5;241;43m=\u001b[39;49m\u001b[43mheaders\u001b[49m\u001b[43m,\u001b[49m\u001b[43m \u001b[49m\u001b[38;5;241;43m*\u001b[39;49m\u001b[38;5;241;43m*\u001b[39;49m\u001b[43murlopen_kw\u001b[49m\n\u001b[1;32m    145\u001b[0m \u001b[43m    \u001b[49m\u001b[43m)\u001b[49m\n",
      "File \u001b[0;32m~/miniforge3/envs/parcing/lib/python3.10/site-packages/urllib3/_request_methods.py:278\u001b[0m, in \u001b[0;36mRequestMethods.request_encode_body\u001b[0;34m(self, method, url, fields, headers, encode_multipart, multipart_boundary, **urlopen_kw)\u001b[0m\n\u001b[1;32m    274\u001b[0m     extra_kw[\u001b[38;5;124m\"\u001b[39m\u001b[38;5;124mheaders\u001b[39m\u001b[38;5;124m\"\u001b[39m]\u001b[38;5;241m.\u001b[39msetdefault(\u001b[38;5;124m\"\u001b[39m\u001b[38;5;124mContent-Type\u001b[39m\u001b[38;5;124m\"\u001b[39m, content_type)\n\u001b[1;32m    276\u001b[0m extra_kw\u001b[38;5;241m.\u001b[39mupdate(urlopen_kw)\n\u001b[0;32m--> 278\u001b[0m \u001b[38;5;28;01mreturn\u001b[39;00m \u001b[38;5;28;43mself\u001b[39;49m\u001b[38;5;241;43m.\u001b[39;49m\u001b[43murlopen\u001b[49m\u001b[43m(\u001b[49m\u001b[43mmethod\u001b[49m\u001b[43m,\u001b[49m\u001b[43m \u001b[49m\u001b[43murl\u001b[49m\u001b[43m,\u001b[49m\u001b[43m \u001b[49m\u001b[38;5;241;43m*\u001b[39;49m\u001b[38;5;241;43m*\u001b[39;49m\u001b[43mextra_kw\u001b[49m\u001b[43m)\u001b[49m\n",
      "File \u001b[0;32m~/miniforge3/envs/parcing/lib/python3.10/site-packages/urllib3/poolmanager.py:459\u001b[0m, in \u001b[0;36mPoolManager.urlopen\u001b[0;34m(self, method, url, redirect, **kw)\u001b[0m\n\u001b[1;32m    457\u001b[0m     response \u001b[38;5;241m=\u001b[39m conn\u001b[38;5;241m.\u001b[39murlopen(method, url, \u001b[38;5;241m*\u001b[39m\u001b[38;5;241m*\u001b[39mkw)\n\u001b[1;32m    458\u001b[0m \u001b[38;5;28;01melse\u001b[39;00m:\n\u001b[0;32m--> 459\u001b[0m     response \u001b[38;5;241m=\u001b[39m \u001b[43mconn\u001b[49m\u001b[38;5;241;43m.\u001b[39;49m\u001b[43murlopen\u001b[49m\u001b[43m(\u001b[49m\u001b[43mmethod\u001b[49m\u001b[43m,\u001b[49m\u001b[43m \u001b[49m\u001b[43mu\u001b[49m\u001b[38;5;241;43m.\u001b[39;49m\u001b[43mrequest_uri\u001b[49m\u001b[43m,\u001b[49m\u001b[43m \u001b[49m\u001b[38;5;241;43m*\u001b[39;49m\u001b[38;5;241;43m*\u001b[39;49m\u001b[43mkw\u001b[49m\u001b[43m)\u001b[49m\n\u001b[1;32m    461\u001b[0m redirect_location \u001b[38;5;241m=\u001b[39m redirect \u001b[38;5;129;01mand\u001b[39;00m response\u001b[38;5;241m.\u001b[39mget_redirect_location()\n\u001b[1;32m    462\u001b[0m \u001b[38;5;28;01mif\u001b[39;00m \u001b[38;5;129;01mnot\u001b[39;00m redirect_location:\n",
      "File \u001b[0;32m~/miniforge3/envs/parcing/lib/python3.10/site-packages/urllib3/connectionpool.py:787\u001b[0m, in \u001b[0;36mHTTPConnectionPool.urlopen\u001b[0;34m(self, method, url, body, headers, retries, redirect, assert_same_host, timeout, pool_timeout, release_conn, chunked, body_pos, preload_content, decode_content, **response_kw)\u001b[0m\n\u001b[1;32m    784\u001b[0m response_conn \u001b[38;5;241m=\u001b[39m conn \u001b[38;5;28;01mif\u001b[39;00m \u001b[38;5;129;01mnot\u001b[39;00m release_conn \u001b[38;5;28;01melse\u001b[39;00m \u001b[38;5;28;01mNone\u001b[39;00m\n\u001b[1;32m    786\u001b[0m \u001b[38;5;66;03m# Make the request on the HTTPConnection object\u001b[39;00m\n\u001b[0;32m--> 787\u001b[0m response \u001b[38;5;241m=\u001b[39m \u001b[38;5;28;43mself\u001b[39;49m\u001b[38;5;241;43m.\u001b[39;49m\u001b[43m_make_request\u001b[49m\u001b[43m(\u001b[49m\n\u001b[1;32m    788\u001b[0m \u001b[43m    \u001b[49m\u001b[43mconn\u001b[49m\u001b[43m,\u001b[49m\n\u001b[1;32m    789\u001b[0m \u001b[43m    \u001b[49m\u001b[43mmethod\u001b[49m\u001b[43m,\u001b[49m\n\u001b[1;32m    790\u001b[0m \u001b[43m    \u001b[49m\u001b[43murl\u001b[49m\u001b[43m,\u001b[49m\n\u001b[1;32m    791\u001b[0m \u001b[43m    \u001b[49m\u001b[43mtimeout\u001b[49m\u001b[38;5;241;43m=\u001b[39;49m\u001b[43mtimeout_obj\u001b[49m\u001b[43m,\u001b[49m\n\u001b[1;32m    792\u001b[0m \u001b[43m    \u001b[49m\u001b[43mbody\u001b[49m\u001b[38;5;241;43m=\u001b[39;49m\u001b[43mbody\u001b[49m\u001b[43m,\u001b[49m\n\u001b[1;32m    793\u001b[0m \u001b[43m    \u001b[49m\u001b[43mheaders\u001b[49m\u001b[38;5;241;43m=\u001b[39;49m\u001b[43mheaders\u001b[49m\u001b[43m,\u001b[49m\n\u001b[1;32m    794\u001b[0m \u001b[43m    \u001b[49m\u001b[43mchunked\u001b[49m\u001b[38;5;241;43m=\u001b[39;49m\u001b[43mchunked\u001b[49m\u001b[43m,\u001b[49m\n\u001b[1;32m    795\u001b[0m \u001b[43m    \u001b[49m\u001b[43mretries\u001b[49m\u001b[38;5;241;43m=\u001b[39;49m\u001b[43mretries\u001b[49m\u001b[43m,\u001b[49m\n\u001b[1;32m    796\u001b[0m \u001b[43m    \u001b[49m\u001b[43mresponse_conn\u001b[49m\u001b[38;5;241;43m=\u001b[39;49m\u001b[43mresponse_conn\u001b[49m\u001b[43m,\u001b[49m\n\u001b[1;32m    797\u001b[0m \u001b[43m    \u001b[49m\u001b[43mpreload_content\u001b[49m\u001b[38;5;241;43m=\u001b[39;49m\u001b[43mpreload_content\u001b[49m\u001b[43m,\u001b[49m\n\u001b[1;32m    798\u001b[0m \u001b[43m    \u001b[49m\u001b[43mdecode_content\u001b[49m\u001b[38;5;241;43m=\u001b[39;49m\u001b[43mdecode_content\u001b[49m\u001b[43m,\u001b[49m\n\u001b[1;32m    799\u001b[0m \u001b[43m    \u001b[49m\u001b[38;5;241;43m*\u001b[39;49m\u001b[38;5;241;43m*\u001b[39;49m\u001b[43mresponse_kw\u001b[49m\u001b[43m,\u001b[49m\n\u001b[1;32m    800\u001b[0m \u001b[43m\u001b[49m\u001b[43m)\u001b[49m\n\u001b[1;32m    802\u001b[0m \u001b[38;5;66;03m# Everything went great!\u001b[39;00m\n\u001b[1;32m    803\u001b[0m clean_exit \u001b[38;5;241m=\u001b[39m \u001b[38;5;28;01mTrue\u001b[39;00m\n",
      "File \u001b[0;32m~/miniforge3/envs/parcing/lib/python3.10/site-packages/urllib3/connectionpool.py:534\u001b[0m, in \u001b[0;36mHTTPConnectionPool._make_request\u001b[0;34m(self, conn, method, url, body, headers, retries, timeout, chunked, response_conn, preload_content, decode_content, enforce_content_length)\u001b[0m\n\u001b[1;32m    532\u001b[0m \u001b[38;5;66;03m# Receive the response from the server\u001b[39;00m\n\u001b[1;32m    533\u001b[0m \u001b[38;5;28;01mtry\u001b[39;00m:\n\u001b[0;32m--> 534\u001b[0m     response \u001b[38;5;241m=\u001b[39m \u001b[43mconn\u001b[49m\u001b[38;5;241;43m.\u001b[39;49m\u001b[43mgetresponse\u001b[49m\u001b[43m(\u001b[49m\u001b[43m)\u001b[49m\n\u001b[1;32m    535\u001b[0m \u001b[38;5;28;01mexcept\u001b[39;00m (BaseSSLError, \u001b[38;5;167;01mOSError\u001b[39;00m) \u001b[38;5;28;01mas\u001b[39;00m e:\n\u001b[1;32m    536\u001b[0m     \u001b[38;5;28mself\u001b[39m\u001b[38;5;241m.\u001b[39m_raise_timeout(err\u001b[38;5;241m=\u001b[39me, url\u001b[38;5;241m=\u001b[39murl, timeout_value\u001b[38;5;241m=\u001b[39mread_timeout)\n",
      "File \u001b[0;32m~/miniforge3/envs/parcing/lib/python3.10/site-packages/urllib3/connection.py:565\u001b[0m, in \u001b[0;36mHTTPConnection.getresponse\u001b[0;34m(self)\u001b[0m\n\u001b[1;32m    562\u001b[0m _shutdown \u001b[38;5;241m=\u001b[39m \u001b[38;5;28mgetattr\u001b[39m(\u001b[38;5;28mself\u001b[39m\u001b[38;5;241m.\u001b[39msock, \u001b[38;5;124m\"\u001b[39m\u001b[38;5;124mshutdown\u001b[39m\u001b[38;5;124m\"\u001b[39m, \u001b[38;5;28;01mNone\u001b[39;00m)\n\u001b[1;32m    564\u001b[0m \u001b[38;5;66;03m# Get the response from http.client.HTTPConnection\u001b[39;00m\n\u001b[0;32m--> 565\u001b[0m httplib_response \u001b[38;5;241m=\u001b[39m \u001b[38;5;28;43msuper\u001b[39;49m\u001b[43m(\u001b[49m\u001b[43m)\u001b[49m\u001b[38;5;241;43m.\u001b[39;49m\u001b[43mgetresponse\u001b[49m\u001b[43m(\u001b[49m\u001b[43m)\u001b[49m\n\u001b[1;32m    567\u001b[0m \u001b[38;5;28;01mtry\u001b[39;00m:\n\u001b[1;32m    568\u001b[0m     assert_header_parsing(httplib_response\u001b[38;5;241m.\u001b[39mmsg)\n",
      "File \u001b[0;32m~/miniforge3/envs/parcing/lib/python3.10/http/client.py:1375\u001b[0m, in \u001b[0;36mHTTPConnection.getresponse\u001b[0;34m(self)\u001b[0m\n\u001b[1;32m   1373\u001b[0m \u001b[38;5;28;01mtry\u001b[39;00m:\n\u001b[1;32m   1374\u001b[0m     \u001b[38;5;28;01mtry\u001b[39;00m:\n\u001b[0;32m-> 1375\u001b[0m         \u001b[43mresponse\u001b[49m\u001b[38;5;241;43m.\u001b[39;49m\u001b[43mbegin\u001b[49m\u001b[43m(\u001b[49m\u001b[43m)\u001b[49m\n\u001b[1;32m   1376\u001b[0m     \u001b[38;5;28;01mexcept\u001b[39;00m \u001b[38;5;167;01mConnectionError\u001b[39;00m:\n\u001b[1;32m   1377\u001b[0m         \u001b[38;5;28mself\u001b[39m\u001b[38;5;241m.\u001b[39mclose()\n",
      "File \u001b[0;32m~/miniforge3/envs/parcing/lib/python3.10/http/client.py:318\u001b[0m, in \u001b[0;36mHTTPResponse.begin\u001b[0;34m(self)\u001b[0m\n\u001b[1;32m    316\u001b[0m \u001b[38;5;66;03m# read until we get a non-100 response\u001b[39;00m\n\u001b[1;32m    317\u001b[0m \u001b[38;5;28;01mwhile\u001b[39;00m \u001b[38;5;28;01mTrue\u001b[39;00m:\n\u001b[0;32m--> 318\u001b[0m     version, status, reason \u001b[38;5;241m=\u001b[39m \u001b[38;5;28;43mself\u001b[39;49m\u001b[38;5;241;43m.\u001b[39;49m\u001b[43m_read_status\u001b[49m\u001b[43m(\u001b[49m\u001b[43m)\u001b[49m\n\u001b[1;32m    319\u001b[0m     \u001b[38;5;28;01mif\u001b[39;00m status \u001b[38;5;241m!=\u001b[39m CONTINUE:\n\u001b[1;32m    320\u001b[0m         \u001b[38;5;28;01mbreak\u001b[39;00m\n",
      "File \u001b[0;32m~/miniforge3/envs/parcing/lib/python3.10/http/client.py:279\u001b[0m, in \u001b[0;36mHTTPResponse._read_status\u001b[0;34m(self)\u001b[0m\n\u001b[1;32m    278\u001b[0m \u001b[38;5;28;01mdef\u001b[39;00m\u001b[38;5;250m \u001b[39m\u001b[38;5;21m_read_status\u001b[39m(\u001b[38;5;28mself\u001b[39m):\n\u001b[0;32m--> 279\u001b[0m     line \u001b[38;5;241m=\u001b[39m \u001b[38;5;28mstr\u001b[39m(\u001b[38;5;28;43mself\u001b[39;49m\u001b[38;5;241;43m.\u001b[39;49m\u001b[43mfp\u001b[49m\u001b[38;5;241;43m.\u001b[39;49m\u001b[43mreadline\u001b[49m\u001b[43m(\u001b[49m\u001b[43m_MAXLINE\u001b[49m\u001b[43m \u001b[49m\u001b[38;5;241;43m+\u001b[39;49m\u001b[43m \u001b[49m\u001b[38;5;241;43m1\u001b[39;49m\u001b[43m)\u001b[49m, \u001b[38;5;124m\"\u001b[39m\u001b[38;5;124miso-8859-1\u001b[39m\u001b[38;5;124m\"\u001b[39m)\n\u001b[1;32m    280\u001b[0m     \u001b[38;5;28;01mif\u001b[39;00m \u001b[38;5;28mlen\u001b[39m(line) \u001b[38;5;241m>\u001b[39m _MAXLINE:\n\u001b[1;32m    281\u001b[0m         \u001b[38;5;28;01mraise\u001b[39;00m LineTooLong(\u001b[38;5;124m\"\u001b[39m\u001b[38;5;124mstatus line\u001b[39m\u001b[38;5;124m\"\u001b[39m)\n",
      "File \u001b[0;32m~/miniforge3/envs/parcing/lib/python3.10/socket.py:717\u001b[0m, in \u001b[0;36mSocketIO.readinto\u001b[0;34m(self, b)\u001b[0m\n\u001b[1;32m    715\u001b[0m \u001b[38;5;28;01mwhile\u001b[39;00m \u001b[38;5;28;01mTrue\u001b[39;00m:\n\u001b[1;32m    716\u001b[0m     \u001b[38;5;28;01mtry\u001b[39;00m:\n\u001b[0;32m--> 717\u001b[0m         \u001b[38;5;28;01mreturn\u001b[39;00m \u001b[38;5;28;43mself\u001b[39;49m\u001b[38;5;241;43m.\u001b[39;49m\u001b[43m_sock\u001b[49m\u001b[38;5;241;43m.\u001b[39;49m\u001b[43mrecv_into\u001b[49m\u001b[43m(\u001b[49m\u001b[43mb\u001b[49m\u001b[43m)\u001b[49m\n\u001b[1;32m    718\u001b[0m     \u001b[38;5;28;01mexcept\u001b[39;00m timeout:\n\u001b[1;32m    719\u001b[0m         \u001b[38;5;28mself\u001b[39m\u001b[38;5;241m.\u001b[39m_timeout_occurred \u001b[38;5;241m=\u001b[39m \u001b[38;5;28;01mTrue\u001b[39;00m\n",
      "\u001b[0;31mKeyboardInterrupt\u001b[0m: "
     ]
    }
   ],
   "source": [
    "import time\n",
    "import pandas as pd\n",
    "from bs4 import BeautifulSoup\n",
    "from selenium import webdriver\n",
    "from selenium.webdriver.chrome.service import Service\n",
    "from selenium.webdriver.chrome.options import Options\n",
    "from selenium.webdriver.common.by import By\n",
    "from selenium.webdriver.support.ui import WebDriverWait\n",
    "from selenium.webdriver.support import expected_conditions as EC\n",
    "import json\n",
    "\n",
    "# --- Настройки Selenium ---\n",
    "chrome_options = Options()\n",
    "chrome_options.add_argument(\"--headless\")  # если не нужен графический интерфейс\n",
    "# chrome_options.add_argument(\"--disable-gpu\")\n",
    "# chrome_options.add_argument(\"--no-sandbox\")\n",
    "# chrome_options.add_argument(\"--disable-dev-shm-usage\")\n",
    "\n",
    "# Путь к chromedriver и инициализация сервиса\n",
    "service = Service(executable_path=\"/usr/bin/chromedriver\")\n",
    "# Создаем драйвер с опциями\n",
    "browser = webdriver.Chrome(service=service, options=chrome_options)\n",
    "# Маскировка под браузер\n",
    "browser.execute_cdp_cmd('Network.setUserAgentOverride', {\n",
    "    \"userAgent\": \"Mozilla/5.0 (X11; Linux x86_64) AppleWebKit/537.36 (KHTML, like Gecko) Chrome/136.0.0.0 YaBrowser/25.6.0.0 Safari/537.36\"\n",
    "})\n",
    "\n",
    "# --- Основные настройки ---\n",
    "url_main = 'https://kinogo.org/serials/'\n",
    "page_min = 1\n",
    "page_max = 10\n",
    "my_range = range(page_min, page_max+1)\n",
    "\n",
    "# --- Словарь результатов ---\n",
    "final_dict = {\n",
    "    'title': [],\n",
    "    'out_year': [],\n",
    "    'genres': [],\n",
    "    'country': [],\n",
    "    'duration': [],\n",
    "    'description': [],\n",
    "    'url_movie': [],\n",
    "    'image_movie': [],\n",
    "    'rating_votes': [],\n",
    "    'film_rating_kp': [],\n",
    "    'film_rating_imdb': []\n",
    "}\n",
    "\n",
    "# --- Цикл по страницам ---\n",
    "for page in my_range:\n",
    "    start_time = time.time()\n",
    "    url = f\"{url_main}page/{page}/\"\n",
    "    print(f\"🔎 Загружаем страницу {page}: {url}\")\n",
    "\n",
    "    browser.get(url)\n",
    "    time.sleep(5)  # ждём прогрузку\n",
    "    soup = BeautifulSoup(browser.page_source, \"lxml\")\n",
    "\n",
    "    # 0. Находим все блоки сериалов\n",
    "    blocks = soup.find_all(class_=\"shortStory\")\n",
    "\n",
    "    # 1. Название\n",
    "    final_dict['title'].extend([\n",
    "        block.find(\"h2\").get_text(strip=True).split('(')[0].strip() if block.find(\"h2\") else None\n",
    "        for block in blocks\n",
    "    ])\n",
    "\n",
    "    # 2. Год выхода\n",
    "    for block in blocks:\n",
    "        year_title_tag = block.find('b', string='Год выпуска:')\n",
    "        if year_title_tag:\n",
    "            year_tags = year_title_tag.find_next_siblings('a')\n",
    "            year_texts = [tag.get_text() for tag in year_tags]\n",
    "            year_str = \", \".join(year_texts)\n",
    "            final_dict['out_year'].append(year_str)\n",
    "        else:\n",
    "            final_dict['out_year'].append(None)\n",
    "\n",
    "    # 3. URL фильма\n",
    "    final_dict['url_movie'].extend([\n",
    "        block.find(\"a\").get(\"href\") if block.find(\"a\") else None\n",
    "        for block in blocks\n",
    "    ])\n",
    "\n",
    "    # 4. URL постера\n",
    "    for block in blocks:\n",
    "        image_tag = block.find(\"div\", class_=\"sPoster\").find(\"img\").get('data-src')\n",
    "        if image_tag:\n",
    "            image_url = 'https://kinogo.org' + image_tag\n",
    "            final_dict['image_movie'].append(image_url)\n",
    "        else:\n",
    "            final_dict['image_movie'].append(None)\n",
    "\n",
    "    # 5. Жанры\n",
    "    for block in blocks:\n",
    "        genre_title_tag = block.find('b', string='Жанр:')\n",
    "        if genre_title_tag:\n",
    "            genre_tags = genre_title_tag.find_next_siblings('a')\n",
    "            movie_genres = [item.get_text() for item in genre_tags if item.get_text() not in ['Фильмы', 'Новинки']]\n",
    "            final_dict['genres'].append(movie_genres)\n",
    "        else:\n",
    "            final_dict['genres'].append(None)\n",
    "\n",
    "    # 6. Страна\n",
    "    for block in blocks:\n",
    "        country_title_tag = block.find('b', string='Страна:')\n",
    "        if country_title_tag:\n",
    "            country_tags = country_title_tag.find_next_siblings('a')\n",
    "            movie_country = [item.get_text() for item in country_tags]\n",
    "            final_dict['country'].append(movie_country)\n",
    "        else:\n",
    "            final_dict['country'].append(None)\n",
    "\n",
    "    # 7. Продолжительность\n",
    "    for block in blocks:\n",
    "        duration_title_tag = block.find('b', string='Продолжительность:')\n",
    "        if duration_title_tag:\n",
    "            final_dict['duration'].append(duration_title_tag.next_sibling.strip())\n",
    "        else:\n",
    "            final_dict['duration'].append(None)\n",
    "\n",
    "    # 8. Описание (краткое)\n",
    "    short_descriptions = []\n",
    "    for block in blocks:\n",
    "        description_title_tag = block.find(\"p\", class_=\"excerpt\")\n",
    "        if description_title_tag:\n",
    "            short_des = description_title_tag.get_text(strip=True)\n",
    "            final_dict['description'].append(short_des)\n",
    "            short_descriptions.append(short_des)\n",
    "        else:\n",
    "            final_dict['description'].append(None)\n",
    "            short_descriptions.append(None)\n",
    "\n",
    "\n",
    "    # 9. Рейтинг сайта\n",
    "    for block in blocks:\n",
    "        rating_tag = block.find(\"span\", class_=\"ratingStats\")\n",
    "        if rating_tag:\n",
    "            rating = rating_tag.get_text(strip=True).split()[0]\n",
    "            final_dict['rating_votes'].append(rating)\n",
    "        else:\n",
    "            final_dict['rating_votes'].append(None)\n",
    "\n",
    "    # 10. Рейтинг Кинопоиска\n",
    "    for block in blocks:\n",
    "        rating_kp_tag = block.find(\"span\", class_=\"fullKP\")\n",
    "        if rating_kp_tag:\n",
    "            rating_kp = rating_kp_tag.get_text(strip=True).split(':')[1]\n",
    "            final_dict['film_rating_kp'].append(rating_kp)\n",
    "        else:\n",
    "            final_dict['film_rating_kp'].append(None)\n",
    "\n",
    "    # 11. Рейтинг IMDb\n",
    "    for block in blocks:\n",
    "        rating_imdb_tag = block.find(\"span\", class_=\"fQuality\")\n",
    "        if rating_imdb_tag:\n",
    "            rating_imdb = rating_imdb_tag.get_text(strip=True).split(':')[1]\n",
    "            final_dict['film_rating_imdb'].append(rating_imdb)\n",
    "        else:\n",
    "            final_dict['film_rating_imdb'].append(None)\n",
    "\n",
    "    end_time = time.time() - start_time\n",
    "    print(f\"✅ Страница {page} собрана за {end_time:.2f} сек\")\n",
    "\n",
    "    # Сохраняем каждую  страницу\n",
    "    # if page % 100 == 0:\n",
    "    current_df = pd.DataFrame(final_dict)\n",
    "    current_df.to_csv('movies_dataset.csv', index=False)\n",
    "    with open('movies_dataset.json', 'w', encoding='utf-8') as f:\n",
    "        json.dump(final_dict, f, ensure_ascii=False, indent=4)\n",
    "\n",
    "print(\"🎬 Основной парсинг завершён. Данные сохранены в movies_dataset.csv и в movies_dataset.json\")\n",
    "print(\"🔎 Загружаем подробные описания с отдельных страниц...\")\n",
    "\n",
    "# заменяем краткое описание на полное\n",
    "descriptions = []\n",
    "for idx, url in enumerate(final_dict['url_movie']):\n",
    "    short_desc = short_descriptions[idx] if idx < len(short_descriptions) else None\n",
    "    if url:\n",
    "        try:\n",
    "            browser.get(url)\n",
    "            WebDriverWait(browser, 15).until(\n",
    "                EC.presence_of_element_located((By.CLASS_NAME, \"filmDescription\"))\n",
    "            )\n",
    "            movie_soup = BeautifulSoup(browser.page_source, \"lxml\")\n",
    "            desc_block = movie_soup.find(\"div\", class_=\"filmDescription\")\n",
    "            if desc_block:\n",
    "                full_desc = desc_block.get_text(strip=True)\n",
    "            else:\n",
    "                full_desc = short_desc  # если нет полного описания - краткое\n",
    "        except Exception as e:\n",
    "            print(f\"Ошибка при загрузке {url}: {e}\")\n",
    "            full_desc = short_desc  # при ошибке используем краткое описание\n",
    "    else:\n",
    "        full_desc = short_desc  # нет ссылки - краткое описание\n",
    "\n",
    "    descriptions.append(full_desc)\n",
    "final_dict['description'] = descriptions\n",
    "\n",
    "# --- Финальное сохранение ---\n",
    "current_df = pd.DataFrame(final_dict)\n",
    "current_df.to_csv('movies_dataset_full.csv', index=False)\n",
    "with open('movies_dataset_full.json', 'w', encoding='utf-8') as f:\n",
    "    json.dump(final_dict, f, ensure_ascii=False, indent=4)\n",
    "\n",
    "print(\"🎬 Парсинг завершён. Данные сохранены в movies_dataset_full.csv и movies_dataset_full.json\")\n",
    "print(f'Количество фильмов в базе: {current_df.shape[0]}')\n",
    "current_df.head()\n",
    "\n",
    "# --- Закрываем браузер ---\n",
    "browser.quit()\n"
   ]
  },
  {
   "cell_type": "markdown",
   "id": "6ac5ad5a",
   "metadata": {},
   "source": [
    "### Оптимизированное предложение"
   ]
  },
  {
   "cell_type": "code",
   "execution_count": 2,
   "id": "60ce3ef0",
   "metadata": {},
   "outputs": [
    {
     "name": "stdout",
     "output_type": "stream",
     "text": [
      "🔎 Загружаем страницу 1: https://kinogo.org/serials/page/1/\n",
      "✅ Страница 1 собрана за 3.27 сек\n",
      "🔎 Загружаем страницу 2: https://kinogo.org/serials/page/2/\n",
      "✅ Страница 2 собрана за 1.61 сек\n",
      "🔎 Загружаем страницу 3: https://kinogo.org/serials/page/3/\n",
      "✅ Страница 3 собрана за 1.11 сек\n",
      "🔎 Загружаем страницу 4: https://kinogo.org/serials/page/4/\n",
      "✅ Страница 4 собрана за 0.97 сек\n",
      "🔎 Загружаем страницу 5: https://kinogo.org/serials/page/5/\n",
      "✅ Страница 5 собрана за 1.05 сек\n",
      "💾 Прогресс сохранён после страницы 5\n",
      "🔎 Загружаем страницу 6: https://kinogo.org/serials/page/6/\n",
      "✅ Страница 6 собрана за 1.09 сек\n",
      "🔎 Загружаем страницу 7: https://kinogo.org/serials/page/7/\n",
      "✅ Страница 7 собрана за 1.38 сек\n",
      "🔎 Загружаем страницу 8: https://kinogo.org/serials/page/8/\n",
      "✅ Страница 8 собрана за 1.06 сек\n",
      "🔎 Загружаем страницу 9: https://kinogo.org/serials/page/9/\n",
      "✅ Страница 9 собрана за 1.22 сек\n",
      "🔎 Загружаем страницу 10: https://kinogo.org/serials/page/10/\n",
      "✅ Страница 10 собрана за 1.31 сек\n",
      "💾 Прогресс сохранён после страницы 10\n",
      "🔎 Загружаем страницу 11: https://kinogo.org/serials/page/11/\n",
      "✅ Страница 11 собрана за 1.05 сек\n",
      "🔎 Загружаем страницу 12: https://kinogo.org/serials/page/12/\n",
      "✅ Страница 12 собрана за 2.32 сек\n",
      "🔎 Загружаем страницу 13: https://kinogo.org/serials/page/13/\n",
      "✅ Страница 13 собрана за 1.02 сек\n",
      "🔎 Загружаем страницу 14: https://kinogo.org/serials/page/14/\n",
      "✅ Страница 14 собрана за 1.21 сек\n",
      "🔎 Загружаем страницу 15: https://kinogo.org/serials/page/15/\n",
      "✅ Страница 15 собрана за 0.95 сек\n",
      "💾 Прогресс сохранён после страницы 15\n",
      "🔎 Загружаем страницу 16: https://kinogo.org/serials/page/16/\n",
      "✅ Страница 16 собрана за 0.86 сек\n",
      "🔎 Загружаем страницу 17: https://kinogo.org/serials/page/17/\n",
      "✅ Страница 17 собрана за 0.86 сек\n",
      "🔎 Загружаем страницу 18: https://kinogo.org/serials/page/18/\n",
      "✅ Страница 18 собрана за 0.90 сек\n",
      "🔎 Загружаем страницу 19: https://kinogo.org/serials/page/19/\n",
      "✅ Страница 19 собрана за 1.10 сек\n",
      "🔎 Загружаем страницу 20: https://kinogo.org/serials/page/20/\n",
      "✅ Страница 20 собрана за 0.80 сек\n",
      "💾 Прогресс сохранён после страницы 20\n",
      "🔎 Загружаем страницу 21: https://kinogo.org/serials/page/21/\n",
      "✅ Страница 21 собрана за 0.88 сек\n",
      "🔎 Загружаем страницу 22: https://kinogo.org/serials/page/22/\n",
      "✅ Страница 22 собрана за 0.94 сек\n",
      "🔎 Загружаем страницу 23: https://kinogo.org/serials/page/23/\n",
      "✅ Страница 23 собрана за 0.97 сек\n",
      "🔎 Загружаем страницу 24: https://kinogo.org/serials/page/24/\n",
      "✅ Страница 24 собрана за 1.06 сек\n",
      "🔎 Загружаем страницу 25: https://kinogo.org/serials/page/25/\n",
      "✅ Страница 25 собрана за 0.89 сек\n",
      "💾 Прогресс сохранён после страницы 25\n",
      "🔎 Загружаем страницу 26: https://kinogo.org/serials/page/26/\n",
      "✅ Страница 26 собрана за 1.04 сек\n",
      "🔎 Загружаем страницу 27: https://kinogo.org/serials/page/27/\n",
      "✅ Страница 27 собрана за 1.11 сек\n",
      "🔎 Загружаем страницу 28: https://kinogo.org/serials/page/28/\n",
      "✅ Страница 28 собрана за 1.59 сек\n",
      "🔎 Загружаем страницу 29: https://kinogo.org/serials/page/29/\n",
      "✅ Страница 29 собрана за 0.83 сек\n",
      "🔎 Загружаем страницу 30: https://kinogo.org/serials/page/30/\n",
      "✅ Страница 30 собрана за 0.89 сек\n",
      "💾 Прогресс сохранён после страницы 30\n",
      "🔎 Загружаем страницу 31: https://kinogo.org/serials/page/31/\n",
      "✅ Страница 31 собрана за 0.92 сек\n",
      "🔎 Загружаем страницу 32: https://kinogo.org/serials/page/32/\n",
      "✅ Страница 32 собрана за 0.78 сек\n",
      "🔎 Загружаем страницу 33: https://kinogo.org/serials/page/33/\n",
      "✅ Страница 33 собрана за 0.80 сек\n",
      "🔎 Загружаем страницу 34: https://kinogo.org/serials/page/34/\n",
      "✅ Страница 34 собрана за 1.70 сек\n",
      "🔎 Загружаем страницу 35: https://kinogo.org/serials/page/35/\n",
      "✅ Страница 35 собрана за 1.08 сек\n",
      "💾 Прогресс сохранён после страницы 35\n",
      "🔎 Загружаем страницу 36: https://kinogo.org/serials/page/36/\n",
      "✅ Страница 36 собрана за 1.05 сек\n",
      "🔎 Загружаем страницу 37: https://kinogo.org/serials/page/37/\n",
      "✅ Страница 37 собрана за 0.95 сек\n",
      "🔎 Загружаем страницу 38: https://kinogo.org/serials/page/38/\n",
      "✅ Страница 38 собрана за 1.16 сек\n",
      "🔎 Загружаем страницу 39: https://kinogo.org/serials/page/39/\n",
      "✅ Страница 39 собрана за 0.80 сек\n",
      "🔎 Загружаем страницу 40: https://kinogo.org/serials/page/40/\n",
      "✅ Страница 40 собрана за 0.86 сек\n",
      "💾 Прогресс сохранён после страницы 40\n",
      "🔎 Загружаем страницу 41: https://kinogo.org/serials/page/41/\n",
      "✅ Страница 41 собрана за 0.82 сек\n",
      "🔎 Загружаем страницу 42: https://kinogo.org/serials/page/42/\n",
      "✅ Страница 42 собрана за 0.88 сек\n",
      "🔎 Загружаем страницу 43: https://kinogo.org/serials/page/43/\n",
      "✅ Страница 43 собрана за 0.83 сек\n",
      "🔎 Загружаем страницу 44: https://kinogo.org/serials/page/44/\n",
      "✅ Страница 44 собрана за 0.81 сек\n",
      "🔎 Загружаем страницу 45: https://kinogo.org/serials/page/45/\n",
      "✅ Страница 45 собрана за 0.91 сек\n",
      "💾 Прогресс сохранён после страницы 45\n",
      "🔎 Загружаем страницу 46: https://kinogo.org/serials/page/46/\n",
      "✅ Страница 46 собрана за 0.80 сек\n",
      "🔎 Загружаем страницу 47: https://kinogo.org/serials/page/47/\n",
      "✅ Страница 47 собрана за 1.46 сек\n",
      "🔎 Загружаем страницу 48: https://kinogo.org/serials/page/48/\n",
      "✅ Страница 48 собрана за 0.80 сек\n",
      "🔎 Загружаем страницу 49: https://kinogo.org/serials/page/49/\n",
      "✅ Страница 49 собрана за 0.80 сек\n",
      "🔎 Загружаем страницу 50: https://kinogo.org/serials/page/50/\n",
      "✅ Страница 50 собрана за 1.01 сек\n",
      "💾 Прогресс сохранён после страницы 50\n",
      "🔎 Загружаем страницу 51: https://kinogo.org/serials/page/51/\n",
      "✅ Страница 51 собрана за 0.86 сек\n",
      "🔎 Загружаем страницу 52: https://kinogo.org/serials/page/52/\n",
      "✅ Страница 52 собрана за 0.85 сек\n",
      "🔎 Загружаем страницу 53: https://kinogo.org/serials/page/53/\n",
      "✅ Страница 53 собрана за 0.80 сек\n",
      "🔎 Загружаем страницу 54: https://kinogo.org/serials/page/54/\n",
      "✅ Страница 54 собрана за 1.57 сек\n",
      "🔎 Загружаем страницу 55: https://kinogo.org/serials/page/55/\n",
      "✅ Страница 55 собрана за 0.98 сек\n",
      "💾 Прогресс сохранён после страницы 55\n",
      "🔎 Загружаем страницу 56: https://kinogo.org/serials/page/56/\n",
      "✅ Страница 56 собрана за 0.82 сек\n",
      "🔎 Загружаем страницу 57: https://kinogo.org/serials/page/57/\n",
      "✅ Страница 57 собрана за 0.80 сек\n",
      "🔎 Загружаем страницу 58: https://kinogo.org/serials/page/58/\n",
      "✅ Страница 58 собрана за 0.88 сек\n",
      "🔎 Загружаем страницу 59: https://kinogo.org/serials/page/59/\n",
      "✅ Страница 59 собрана за 1.10 сек\n",
      "🔎 Загружаем страницу 60: https://kinogo.org/serials/page/60/\n",
      "✅ Страница 60 собрана за 1.50 сек\n",
      "💾 Прогресс сохранён после страницы 60\n",
      "🔎 Загружаем страницу 61: https://kinogo.org/serials/page/61/\n",
      "✅ Страница 61 собрана за 0.82 сек\n",
      "🔎 Загружаем страницу 62: https://kinogo.org/serials/page/62/\n",
      "✅ Страница 62 собрана за 1.21 сек\n",
      "🔎 Загружаем страницу 63: https://kinogo.org/serials/page/63/\n",
      "✅ Страница 63 собрана за 1.01 сек\n",
      "🔎 Загружаем страницу 64: https://kinogo.org/serials/page/64/\n",
      "✅ Страница 64 собрана за 0.91 сек\n",
      "🔎 Загружаем страницу 65: https://kinogo.org/serials/page/65/\n",
      "✅ Страница 65 собрана за 1.26 сек\n",
      "💾 Прогресс сохранён после страницы 65\n",
      "🔎 Загружаем страницу 66: https://kinogo.org/serials/page/66/\n",
      "✅ Страница 66 собрана за 1.79 сек\n",
      "🔎 Загружаем страницу 67: https://kinogo.org/serials/page/67/\n",
      "✅ Страница 67 собрана за 1.40 сек\n",
      "🔎 Загружаем страницу 68: https://kinogo.org/serials/page/68/\n",
      "✅ Страница 68 собрана за 1.34 сек\n",
      "🔎 Загружаем страницу 69: https://kinogo.org/serials/page/69/\n",
      "✅ Страница 69 собрана за 1.43 сек\n",
      "🔎 Загружаем страницу 70: https://kinogo.org/serials/page/70/\n",
      "✅ Страница 70 собрана за 1.25 сек\n",
      "💾 Прогресс сохранён после страницы 70\n",
      "🔎 Загружаем страницу 71: https://kinogo.org/serials/page/71/\n",
      "✅ Страница 71 собрана за 1.57 сек\n",
      "🔎 Загружаем страницу 72: https://kinogo.org/serials/page/72/\n",
      "✅ Страница 72 собрана за 1.27 сек\n",
      "🔎 Загружаем страницу 73: https://kinogo.org/serials/page/73/\n",
      "✅ Страница 73 собрана за 4.19 сек\n",
      "🔎 Загружаем страницу 74: https://kinogo.org/serials/page/74/\n",
      "✅ Страница 74 собрана за 5.36 сек\n",
      "🔎 Загружаем страницу 75: https://kinogo.org/serials/page/75/\n",
      "✅ Страница 75 собрана за 1.75 сек\n",
      "💾 Прогресс сохранён после страницы 75\n",
      "🔎 Загружаем страницу 76: https://kinogo.org/serials/page/76/\n",
      "✅ Страница 76 собрана за 1.66 сек\n",
      "🔎 Загружаем страницу 77: https://kinogo.org/serials/page/77/\n",
      "✅ Страница 77 собрана за 1.65 сек\n",
      "🔎 Загружаем страницу 78: https://kinogo.org/serials/page/78/\n",
      "✅ Страница 78 собрана за 5.05 сек\n",
      "🔎 Загружаем страницу 79: https://kinogo.org/serials/page/79/\n",
      "✅ Страница 79 собрана за 1.67 сек\n",
      "🔎 Загружаем страницу 80: https://kinogo.org/serials/page/80/\n",
      "✅ Страница 80 собрана за 1.38 сек\n",
      "💾 Прогресс сохранён после страницы 80\n",
      "🔎 Загружаем страницу 81: https://kinogo.org/serials/page/81/\n",
      "✅ Страница 81 собрана за 1.62 сек\n",
      "🔎 Загружаем страницу 82: https://kinogo.org/serials/page/82/\n",
      "✅ Страница 82 собрана за 36.99 сек\n",
      "🔎 Загружаем страницу 83: https://kinogo.org/serials/page/83/\n",
      "✅ Страница 83 собрана за 1.84 сек\n",
      "🔎 Загружаем страницу 84: https://kinogo.org/serials/page/84/\n",
      "✅ Страница 84 собрана за 1.47 сек\n",
      "🔎 Загружаем страницу 85: https://kinogo.org/serials/page/85/\n",
      "✅ Страница 85 собрана за 21.50 сек\n",
      "💾 Прогресс сохранён после страницы 85\n",
      "🔎 Загружаем страницу 86: https://kinogo.org/serials/page/86/\n",
      "✅ Страница 86 собрана за 1.52 сек\n",
      "🔎 Загружаем страницу 87: https://kinogo.org/serials/page/87/\n",
      "✅ Страница 87 собрана за 13.71 сек\n",
      "🔎 Загружаем страницу 88: https://kinogo.org/serials/page/88/\n",
      "✅ Страница 88 собрана за 1.52 сек\n",
      "🔎 Загружаем страницу 89: https://kinogo.org/serials/page/89/\n",
      "✅ Страница 89 собрана за 1.26 сек\n",
      "🔎 Загружаем страницу 90: https://kinogo.org/serials/page/90/\n",
      "✅ Страница 90 собрана за 15.58 сек\n",
      "💾 Прогресс сохранён после страницы 90\n",
      "🔎 Загружаем страницу 91: https://kinogo.org/serials/page/91/\n"
     ]
    },
    {
     "ename": "ReadTimeoutError",
     "evalue": "HTTPConnectionPool(host='localhost', port=58103): Read timed out. (read timeout=120)",
     "output_type": "error",
     "traceback": [
      "\u001b[0;31m---------------------------------------------------------------------------\u001b[0m",
      "\u001b[0;31mTimeoutError\u001b[0m                              Traceback (most recent call last)",
      "File \u001b[0;32m~/miniforge3/envs/parcing/lib/python3.10/site-packages/urllib3/connectionpool.py:534\u001b[0m, in \u001b[0;36mHTTPConnectionPool._make_request\u001b[0;34m(self, conn, method, url, body, headers, retries, timeout, chunked, response_conn, preload_content, decode_content, enforce_content_length)\u001b[0m\n\u001b[1;32m    533\u001b[0m \u001b[38;5;28;01mtry\u001b[39;00m:\n\u001b[0;32m--> 534\u001b[0m     response \u001b[38;5;241m=\u001b[39m \u001b[43mconn\u001b[49m\u001b[38;5;241;43m.\u001b[39;49m\u001b[43mgetresponse\u001b[49m\u001b[43m(\u001b[49m\u001b[43m)\u001b[49m\n\u001b[1;32m    535\u001b[0m \u001b[38;5;28;01mexcept\u001b[39;00m (BaseSSLError, \u001b[38;5;167;01mOSError\u001b[39;00m) \u001b[38;5;28;01mas\u001b[39;00m e:\n",
      "File \u001b[0;32m~/miniforge3/envs/parcing/lib/python3.10/site-packages/urllib3/connection.py:565\u001b[0m, in \u001b[0;36mHTTPConnection.getresponse\u001b[0;34m(self)\u001b[0m\n\u001b[1;32m    564\u001b[0m \u001b[38;5;66;03m# Get the response from http.client.HTTPConnection\u001b[39;00m\n\u001b[0;32m--> 565\u001b[0m httplib_response \u001b[38;5;241m=\u001b[39m \u001b[38;5;28;43msuper\u001b[39;49m\u001b[43m(\u001b[49m\u001b[43m)\u001b[49m\u001b[38;5;241;43m.\u001b[39;49m\u001b[43mgetresponse\u001b[49m\u001b[43m(\u001b[49m\u001b[43m)\u001b[49m\n\u001b[1;32m    567\u001b[0m \u001b[38;5;28;01mtry\u001b[39;00m:\n",
      "File \u001b[0;32m~/miniforge3/envs/parcing/lib/python3.10/http/client.py:1375\u001b[0m, in \u001b[0;36mHTTPConnection.getresponse\u001b[0;34m(self)\u001b[0m\n\u001b[1;32m   1374\u001b[0m \u001b[38;5;28;01mtry\u001b[39;00m:\n\u001b[0;32m-> 1375\u001b[0m     \u001b[43mresponse\u001b[49m\u001b[38;5;241;43m.\u001b[39;49m\u001b[43mbegin\u001b[49m\u001b[43m(\u001b[49m\u001b[43m)\u001b[49m\n\u001b[1;32m   1376\u001b[0m \u001b[38;5;28;01mexcept\u001b[39;00m \u001b[38;5;167;01mConnectionError\u001b[39;00m:\n",
      "File \u001b[0;32m~/miniforge3/envs/parcing/lib/python3.10/http/client.py:318\u001b[0m, in \u001b[0;36mHTTPResponse.begin\u001b[0;34m(self)\u001b[0m\n\u001b[1;32m    317\u001b[0m \u001b[38;5;28;01mwhile\u001b[39;00m \u001b[38;5;28;01mTrue\u001b[39;00m:\n\u001b[0;32m--> 318\u001b[0m     version, status, reason \u001b[38;5;241m=\u001b[39m \u001b[38;5;28;43mself\u001b[39;49m\u001b[38;5;241;43m.\u001b[39;49m\u001b[43m_read_status\u001b[49m\u001b[43m(\u001b[49m\u001b[43m)\u001b[49m\n\u001b[1;32m    319\u001b[0m     \u001b[38;5;28;01mif\u001b[39;00m status \u001b[38;5;241m!=\u001b[39m CONTINUE:\n",
      "File \u001b[0;32m~/miniforge3/envs/parcing/lib/python3.10/http/client.py:279\u001b[0m, in \u001b[0;36mHTTPResponse._read_status\u001b[0;34m(self)\u001b[0m\n\u001b[1;32m    278\u001b[0m \u001b[38;5;28;01mdef\u001b[39;00m\u001b[38;5;250m \u001b[39m\u001b[38;5;21m_read_status\u001b[39m(\u001b[38;5;28mself\u001b[39m):\n\u001b[0;32m--> 279\u001b[0m     line \u001b[38;5;241m=\u001b[39m \u001b[38;5;28mstr\u001b[39m(\u001b[38;5;28;43mself\u001b[39;49m\u001b[38;5;241;43m.\u001b[39;49m\u001b[43mfp\u001b[49m\u001b[38;5;241;43m.\u001b[39;49m\u001b[43mreadline\u001b[49m\u001b[43m(\u001b[49m\u001b[43m_MAXLINE\u001b[49m\u001b[43m \u001b[49m\u001b[38;5;241;43m+\u001b[39;49m\u001b[43m \u001b[49m\u001b[38;5;241;43m1\u001b[39;49m\u001b[43m)\u001b[49m, \u001b[38;5;124m\"\u001b[39m\u001b[38;5;124miso-8859-1\u001b[39m\u001b[38;5;124m\"\u001b[39m)\n\u001b[1;32m    280\u001b[0m     \u001b[38;5;28;01mif\u001b[39;00m \u001b[38;5;28mlen\u001b[39m(line) \u001b[38;5;241m>\u001b[39m _MAXLINE:\n",
      "File \u001b[0;32m~/miniforge3/envs/parcing/lib/python3.10/socket.py:717\u001b[0m, in \u001b[0;36mSocketIO.readinto\u001b[0;34m(self, b)\u001b[0m\n\u001b[1;32m    716\u001b[0m \u001b[38;5;28;01mtry\u001b[39;00m:\n\u001b[0;32m--> 717\u001b[0m     \u001b[38;5;28;01mreturn\u001b[39;00m \u001b[38;5;28;43mself\u001b[39;49m\u001b[38;5;241;43m.\u001b[39;49m\u001b[43m_sock\u001b[49m\u001b[38;5;241;43m.\u001b[39;49m\u001b[43mrecv_into\u001b[49m\u001b[43m(\u001b[49m\u001b[43mb\u001b[49m\u001b[43m)\u001b[49m\n\u001b[1;32m    718\u001b[0m \u001b[38;5;28;01mexcept\u001b[39;00m timeout:\n",
      "\u001b[0;31mTimeoutError\u001b[0m: timed out",
      "\nThe above exception was the direct cause of the following exception:\n",
      "\u001b[0;31mReadTimeoutError\u001b[0m                          Traceback (most recent call last)",
      "Cell \u001b[0;32mIn[2], line 48\u001b[0m\n\u001b[1;32m     45\u001b[0m url \u001b[38;5;241m=\u001b[39m \u001b[38;5;124mf\u001b[39m\u001b[38;5;124m\"\u001b[39m\u001b[38;5;132;01m{\u001b[39;00murl_main\u001b[38;5;132;01m}\u001b[39;00m\u001b[38;5;124mpage/\u001b[39m\u001b[38;5;132;01m{\u001b[39;00mpage\u001b[38;5;132;01m}\u001b[39;00m\u001b[38;5;124m/\u001b[39m\u001b[38;5;124m\"\u001b[39m\n\u001b[1;32m     46\u001b[0m \u001b[38;5;28mprint\u001b[39m(\u001b[38;5;124mf\u001b[39m\u001b[38;5;124m\"\u001b[39m\u001b[38;5;124m🔎 Загружаем страницу \u001b[39m\u001b[38;5;132;01m{\u001b[39;00mpage\u001b[38;5;132;01m}\u001b[39;00m\u001b[38;5;124m: \u001b[39m\u001b[38;5;132;01m{\u001b[39;00murl\u001b[38;5;132;01m}\u001b[39;00m\u001b[38;5;124m\"\u001b[39m)\n\u001b[0;32m---> 48\u001b[0m \u001b[43mbrowser\u001b[49m\u001b[38;5;241;43m.\u001b[39;49m\u001b[43mget\u001b[49m\u001b[43m(\u001b[49m\u001b[43murl\u001b[49m\u001b[43m)\u001b[49m\n\u001b[1;32m     49\u001b[0m WebDriverWait(browser, \u001b[38;5;241m20\u001b[39m)\u001b[38;5;241m.\u001b[39muntil(\n\u001b[1;32m     50\u001b[0m     EC\u001b[38;5;241m.\u001b[39mpresence_of_all_elements_located((By\u001b[38;5;241m.\u001b[39mCLASS_NAME, \u001b[38;5;124m\"\u001b[39m\u001b[38;5;124mshortStory\u001b[39m\u001b[38;5;124m\"\u001b[39m))\n\u001b[1;32m     51\u001b[0m )\n\u001b[1;32m     52\u001b[0m soup \u001b[38;5;241m=\u001b[39m BeautifulSoup(browser\u001b[38;5;241m.\u001b[39mpage_source, \u001b[38;5;124m\"\u001b[39m\u001b[38;5;124mlxml\u001b[39m\u001b[38;5;124m\"\u001b[39m)\n",
      "File \u001b[0;32m~/miniforge3/envs/parcing/lib/python3.10/site-packages/selenium/webdriver/remote/webdriver.py:483\u001b[0m, in \u001b[0;36mWebDriver.get\u001b[0;34m(self, url)\u001b[0m\n\u001b[1;32m    465\u001b[0m \u001b[38;5;28;01mdef\u001b[39;00m\u001b[38;5;250m \u001b[39m\u001b[38;5;21mget\u001b[39m(\u001b[38;5;28mself\u001b[39m, url: \u001b[38;5;28mstr\u001b[39m) \u001b[38;5;241m-\u001b[39m\u001b[38;5;241m>\u001b[39m \u001b[38;5;28;01mNone\u001b[39;00m:\n\u001b[1;32m    466\u001b[0m \u001b[38;5;250m    \u001b[39m\u001b[38;5;124;03m\"\"\"Navigate the browser to the specified URL in the current window or\u001b[39;00m\n\u001b[1;32m    467\u001b[0m \u001b[38;5;124;03m    tab.\u001b[39;00m\n\u001b[1;32m    468\u001b[0m \n\u001b[0;32m   (...)\u001b[0m\n\u001b[1;32m    481\u001b[0m \u001b[38;5;124;03m    >>> driver.get(\"https://example.com\")\u001b[39;00m\n\u001b[1;32m    482\u001b[0m \u001b[38;5;124;03m    \"\"\"\u001b[39;00m\n\u001b[0;32m--> 483\u001b[0m     \u001b[38;5;28;43mself\u001b[39;49m\u001b[38;5;241;43m.\u001b[39;49m\u001b[43mexecute\u001b[49m\u001b[43m(\u001b[49m\u001b[43mCommand\u001b[49m\u001b[38;5;241;43m.\u001b[39;49m\u001b[43mGET\u001b[49m\u001b[43m,\u001b[49m\u001b[43m \u001b[49m\u001b[43m{\u001b[49m\u001b[38;5;124;43m\"\u001b[39;49m\u001b[38;5;124;43murl\u001b[39;49m\u001b[38;5;124;43m\"\u001b[39;49m\u001b[43m:\u001b[49m\u001b[43m \u001b[49m\u001b[43murl\u001b[49m\u001b[43m}\u001b[49m\u001b[43m)\u001b[49m\n",
      "File \u001b[0;32m~/miniforge3/envs/parcing/lib/python3.10/site-packages/selenium/webdriver/remote/webdriver.py:455\u001b[0m, in \u001b[0;36mWebDriver.execute\u001b[0;34m(self, driver_command, params)\u001b[0m\n\u001b[1;32m    452\u001b[0m     \u001b[38;5;28;01melif\u001b[39;00m \u001b[38;5;124m\"\u001b[39m\u001b[38;5;124msessionId\u001b[39m\u001b[38;5;124m\"\u001b[39m \u001b[38;5;129;01mnot\u001b[39;00m \u001b[38;5;129;01min\u001b[39;00m params:\n\u001b[1;32m    453\u001b[0m         params[\u001b[38;5;124m\"\u001b[39m\u001b[38;5;124msessionId\u001b[39m\u001b[38;5;124m\"\u001b[39m] \u001b[38;5;241m=\u001b[39m \u001b[38;5;28mself\u001b[39m\u001b[38;5;241m.\u001b[39msession_id\n\u001b[0;32m--> 455\u001b[0m response \u001b[38;5;241m=\u001b[39m \u001b[43mcast\u001b[49m\u001b[43m(\u001b[49m\u001b[43mRemoteConnection\u001b[49m\u001b[43m,\u001b[49m\u001b[43m \u001b[49m\u001b[38;5;28;43mself\u001b[39;49m\u001b[38;5;241;43m.\u001b[39;49m\u001b[43mcommand_executor\u001b[49m\u001b[43m)\u001b[49m\u001b[38;5;241;43m.\u001b[39;49m\u001b[43mexecute\u001b[49m\u001b[43m(\u001b[49m\u001b[43mdriver_command\u001b[49m\u001b[43m,\u001b[49m\u001b[43m \u001b[49m\u001b[43mparams\u001b[49m\u001b[43m)\u001b[49m\n\u001b[1;32m    457\u001b[0m \u001b[38;5;28;01mif\u001b[39;00m response:\n\u001b[1;32m    458\u001b[0m     \u001b[38;5;28mself\u001b[39m\u001b[38;5;241m.\u001b[39merror_handler\u001b[38;5;241m.\u001b[39mcheck_response(response)\n",
      "File \u001b[0;32m~/miniforge3/envs/parcing/lib/python3.10/site-packages/selenium/webdriver/remote/remote_connection.py:406\u001b[0m, in \u001b[0;36mRemoteConnection.execute\u001b[0;34m(self, command, params)\u001b[0m\n\u001b[1;32m    404\u001b[0m trimmed \u001b[38;5;241m=\u001b[39m \u001b[38;5;28mself\u001b[39m\u001b[38;5;241m.\u001b[39m_trim_large_entries(params)\n\u001b[1;32m    405\u001b[0m LOGGER\u001b[38;5;241m.\u001b[39mdebug(\u001b[38;5;124m\"\u001b[39m\u001b[38;5;132;01m%s\u001b[39;00m\u001b[38;5;124m \u001b[39m\u001b[38;5;132;01m%s\u001b[39;00m\u001b[38;5;124m \u001b[39m\u001b[38;5;132;01m%s\u001b[39;00m\u001b[38;5;124m\"\u001b[39m, command_info[\u001b[38;5;241m0\u001b[39m], url, \u001b[38;5;28mstr\u001b[39m(trimmed))\n\u001b[0;32m--> 406\u001b[0m \u001b[38;5;28;01mreturn\u001b[39;00m \u001b[38;5;28;43mself\u001b[39;49m\u001b[38;5;241;43m.\u001b[39;49m\u001b[43m_request\u001b[49m\u001b[43m(\u001b[49m\u001b[43mcommand_info\u001b[49m\u001b[43m[\u001b[49m\u001b[38;5;241;43m0\u001b[39;49m\u001b[43m]\u001b[49m\u001b[43m,\u001b[49m\u001b[43m \u001b[49m\u001b[43murl\u001b[49m\u001b[43m,\u001b[49m\u001b[43m \u001b[49m\u001b[43mbody\u001b[49m\u001b[38;5;241;43m=\u001b[39;49m\u001b[43mdata\u001b[49m\u001b[43m)\u001b[49m\n",
      "File \u001b[0;32m~/miniforge3/envs/parcing/lib/python3.10/site-packages/selenium/webdriver/remote/remote_connection.py:430\u001b[0m, in \u001b[0;36mRemoteConnection._request\u001b[0;34m(self, method, url, body)\u001b[0m\n\u001b[1;32m    427\u001b[0m     body \u001b[38;5;241m=\u001b[39m \u001b[38;5;28;01mNone\u001b[39;00m\n\u001b[1;32m    429\u001b[0m \u001b[38;5;28;01mif\u001b[39;00m \u001b[38;5;28mself\u001b[39m\u001b[38;5;241m.\u001b[39m_client_config\u001b[38;5;241m.\u001b[39mkeep_alive:\n\u001b[0;32m--> 430\u001b[0m     response \u001b[38;5;241m=\u001b[39m \u001b[38;5;28;43mself\u001b[39;49m\u001b[38;5;241;43m.\u001b[39;49m\u001b[43m_conn\u001b[49m\u001b[38;5;241;43m.\u001b[39;49m\u001b[43mrequest\u001b[49m\u001b[43m(\u001b[49m\u001b[43mmethod\u001b[49m\u001b[43m,\u001b[49m\u001b[43m \u001b[49m\u001b[43murl\u001b[49m\u001b[43m,\u001b[49m\u001b[43m \u001b[49m\u001b[43mbody\u001b[49m\u001b[38;5;241;43m=\u001b[39;49m\u001b[43mbody\u001b[49m\u001b[43m,\u001b[49m\u001b[43m \u001b[49m\u001b[43mheaders\u001b[49m\u001b[38;5;241;43m=\u001b[39;49m\u001b[43mheaders\u001b[49m\u001b[43m,\u001b[49m\u001b[43m \u001b[49m\u001b[43mtimeout\u001b[49m\u001b[38;5;241;43m=\u001b[39;49m\u001b[38;5;28;43mself\u001b[39;49m\u001b[38;5;241;43m.\u001b[39;49m\u001b[43m_client_config\u001b[49m\u001b[38;5;241;43m.\u001b[39;49m\u001b[43mtimeout\u001b[49m\u001b[43m)\u001b[49m\n\u001b[1;32m    431\u001b[0m     statuscode \u001b[38;5;241m=\u001b[39m response\u001b[38;5;241m.\u001b[39mstatus\n\u001b[1;32m    432\u001b[0m \u001b[38;5;28;01melse\u001b[39;00m:\n",
      "File \u001b[0;32m~/miniforge3/envs/parcing/lib/python3.10/site-packages/urllib3/_request_methods.py:143\u001b[0m, in \u001b[0;36mRequestMethods.request\u001b[0;34m(self, method, url, body, fields, headers, json, **urlopen_kw)\u001b[0m\n\u001b[1;32m    135\u001b[0m     \u001b[38;5;28;01mreturn\u001b[39;00m \u001b[38;5;28mself\u001b[39m\u001b[38;5;241m.\u001b[39mrequest_encode_url(\n\u001b[1;32m    136\u001b[0m         method,\n\u001b[1;32m    137\u001b[0m         url,\n\u001b[0;32m   (...)\u001b[0m\n\u001b[1;32m    140\u001b[0m         \u001b[38;5;241m*\u001b[39m\u001b[38;5;241m*\u001b[39murlopen_kw,\n\u001b[1;32m    141\u001b[0m     )\n\u001b[1;32m    142\u001b[0m \u001b[38;5;28;01melse\u001b[39;00m:\n\u001b[0;32m--> 143\u001b[0m     \u001b[38;5;28;01mreturn\u001b[39;00m \u001b[38;5;28;43mself\u001b[39;49m\u001b[38;5;241;43m.\u001b[39;49m\u001b[43mrequest_encode_body\u001b[49m\u001b[43m(\u001b[49m\n\u001b[1;32m    144\u001b[0m \u001b[43m        \u001b[49m\u001b[43mmethod\u001b[49m\u001b[43m,\u001b[49m\u001b[43m \u001b[49m\u001b[43murl\u001b[49m\u001b[43m,\u001b[49m\u001b[43m \u001b[49m\u001b[43mfields\u001b[49m\u001b[38;5;241;43m=\u001b[39;49m\u001b[43mfields\u001b[49m\u001b[43m,\u001b[49m\u001b[43m \u001b[49m\u001b[43mheaders\u001b[49m\u001b[38;5;241;43m=\u001b[39;49m\u001b[43mheaders\u001b[49m\u001b[43m,\u001b[49m\u001b[43m \u001b[49m\u001b[38;5;241;43m*\u001b[39;49m\u001b[38;5;241;43m*\u001b[39;49m\u001b[43murlopen_kw\u001b[49m\n\u001b[1;32m    145\u001b[0m \u001b[43m    \u001b[49m\u001b[43m)\u001b[49m\n",
      "File \u001b[0;32m~/miniforge3/envs/parcing/lib/python3.10/site-packages/urllib3/_request_methods.py:278\u001b[0m, in \u001b[0;36mRequestMethods.request_encode_body\u001b[0;34m(self, method, url, fields, headers, encode_multipart, multipart_boundary, **urlopen_kw)\u001b[0m\n\u001b[1;32m    274\u001b[0m     extra_kw[\u001b[38;5;124m\"\u001b[39m\u001b[38;5;124mheaders\u001b[39m\u001b[38;5;124m\"\u001b[39m]\u001b[38;5;241m.\u001b[39msetdefault(\u001b[38;5;124m\"\u001b[39m\u001b[38;5;124mContent-Type\u001b[39m\u001b[38;5;124m\"\u001b[39m, content_type)\n\u001b[1;32m    276\u001b[0m extra_kw\u001b[38;5;241m.\u001b[39mupdate(urlopen_kw)\n\u001b[0;32m--> 278\u001b[0m \u001b[38;5;28;01mreturn\u001b[39;00m \u001b[38;5;28;43mself\u001b[39;49m\u001b[38;5;241;43m.\u001b[39;49m\u001b[43murlopen\u001b[49m\u001b[43m(\u001b[49m\u001b[43mmethod\u001b[49m\u001b[43m,\u001b[49m\u001b[43m \u001b[49m\u001b[43murl\u001b[49m\u001b[43m,\u001b[49m\u001b[43m \u001b[49m\u001b[38;5;241;43m*\u001b[39;49m\u001b[38;5;241;43m*\u001b[39;49m\u001b[43mextra_kw\u001b[49m\u001b[43m)\u001b[49m\n",
      "File \u001b[0;32m~/miniforge3/envs/parcing/lib/python3.10/site-packages/urllib3/poolmanager.py:459\u001b[0m, in \u001b[0;36mPoolManager.urlopen\u001b[0;34m(self, method, url, redirect, **kw)\u001b[0m\n\u001b[1;32m    457\u001b[0m     response \u001b[38;5;241m=\u001b[39m conn\u001b[38;5;241m.\u001b[39murlopen(method, url, \u001b[38;5;241m*\u001b[39m\u001b[38;5;241m*\u001b[39mkw)\n\u001b[1;32m    458\u001b[0m \u001b[38;5;28;01melse\u001b[39;00m:\n\u001b[0;32m--> 459\u001b[0m     response \u001b[38;5;241m=\u001b[39m \u001b[43mconn\u001b[49m\u001b[38;5;241;43m.\u001b[39;49m\u001b[43murlopen\u001b[49m\u001b[43m(\u001b[49m\u001b[43mmethod\u001b[49m\u001b[43m,\u001b[49m\u001b[43m \u001b[49m\u001b[43mu\u001b[49m\u001b[38;5;241;43m.\u001b[39;49m\u001b[43mrequest_uri\u001b[49m\u001b[43m,\u001b[49m\u001b[43m \u001b[49m\u001b[38;5;241;43m*\u001b[39;49m\u001b[38;5;241;43m*\u001b[39;49m\u001b[43mkw\u001b[49m\u001b[43m)\u001b[49m\n\u001b[1;32m    461\u001b[0m redirect_location \u001b[38;5;241m=\u001b[39m redirect \u001b[38;5;129;01mand\u001b[39;00m response\u001b[38;5;241m.\u001b[39mget_redirect_location()\n\u001b[1;32m    462\u001b[0m \u001b[38;5;28;01mif\u001b[39;00m \u001b[38;5;129;01mnot\u001b[39;00m redirect_location:\n",
      "File \u001b[0;32m~/miniforge3/envs/parcing/lib/python3.10/site-packages/urllib3/connectionpool.py:841\u001b[0m, in \u001b[0;36mHTTPConnectionPool.urlopen\u001b[0;34m(self, method, url, body, headers, retries, redirect, assert_same_host, timeout, pool_timeout, release_conn, chunked, body_pos, preload_content, decode_content, **response_kw)\u001b[0m\n\u001b[1;32m    838\u001b[0m \u001b[38;5;28;01melif\u001b[39;00m \u001b[38;5;28misinstance\u001b[39m(new_e, (\u001b[38;5;167;01mOSError\u001b[39;00m, HTTPException)):\n\u001b[1;32m    839\u001b[0m     new_e \u001b[38;5;241m=\u001b[39m ProtocolError(\u001b[38;5;124m\"\u001b[39m\u001b[38;5;124mConnection aborted.\u001b[39m\u001b[38;5;124m\"\u001b[39m, new_e)\n\u001b[0;32m--> 841\u001b[0m retries \u001b[38;5;241m=\u001b[39m \u001b[43mretries\u001b[49m\u001b[38;5;241;43m.\u001b[39;49m\u001b[43mincrement\u001b[49m\u001b[43m(\u001b[49m\n\u001b[1;32m    842\u001b[0m \u001b[43m    \u001b[49m\u001b[43mmethod\u001b[49m\u001b[43m,\u001b[49m\u001b[43m \u001b[49m\u001b[43murl\u001b[49m\u001b[43m,\u001b[49m\u001b[43m \u001b[49m\u001b[43merror\u001b[49m\u001b[38;5;241;43m=\u001b[39;49m\u001b[43mnew_e\u001b[49m\u001b[43m,\u001b[49m\u001b[43m \u001b[49m\u001b[43m_pool\u001b[49m\u001b[38;5;241;43m=\u001b[39;49m\u001b[38;5;28;43mself\u001b[39;49m\u001b[43m,\u001b[49m\u001b[43m \u001b[49m\u001b[43m_stacktrace\u001b[49m\u001b[38;5;241;43m=\u001b[39;49m\u001b[43msys\u001b[49m\u001b[38;5;241;43m.\u001b[39;49m\u001b[43mexc_info\u001b[49m\u001b[43m(\u001b[49m\u001b[43m)\u001b[49m\u001b[43m[\u001b[49m\u001b[38;5;241;43m2\u001b[39;49m\u001b[43m]\u001b[49m\n\u001b[1;32m    843\u001b[0m \u001b[43m\u001b[49m\u001b[43m)\u001b[49m\n\u001b[1;32m    844\u001b[0m retries\u001b[38;5;241m.\u001b[39msleep()\n\u001b[1;32m    846\u001b[0m \u001b[38;5;66;03m# Keep track of the error for the retry warning.\u001b[39;00m\n",
      "File \u001b[0;32m~/miniforge3/envs/parcing/lib/python3.10/site-packages/urllib3/util/retry.py:474\u001b[0m, in \u001b[0;36mRetry.increment\u001b[0;34m(self, method, url, response, error, _pool, _stacktrace)\u001b[0m\n\u001b[1;32m    471\u001b[0m \u001b[38;5;28;01melif\u001b[39;00m error \u001b[38;5;129;01mand\u001b[39;00m \u001b[38;5;28mself\u001b[39m\u001b[38;5;241m.\u001b[39m_is_read_error(error):\n\u001b[1;32m    472\u001b[0m     \u001b[38;5;66;03m# Read retry?\u001b[39;00m\n\u001b[1;32m    473\u001b[0m     \u001b[38;5;28;01mif\u001b[39;00m read \u001b[38;5;129;01mis\u001b[39;00m \u001b[38;5;28;01mFalse\u001b[39;00m \u001b[38;5;129;01mor\u001b[39;00m method \u001b[38;5;129;01mis\u001b[39;00m \u001b[38;5;28;01mNone\u001b[39;00m \u001b[38;5;129;01mor\u001b[39;00m \u001b[38;5;129;01mnot\u001b[39;00m \u001b[38;5;28mself\u001b[39m\u001b[38;5;241m.\u001b[39m_is_method_retryable(method):\n\u001b[0;32m--> 474\u001b[0m         \u001b[38;5;28;01mraise\u001b[39;00m \u001b[43mreraise\u001b[49m\u001b[43m(\u001b[49m\u001b[38;5;28;43mtype\u001b[39;49m\u001b[43m(\u001b[49m\u001b[43merror\u001b[49m\u001b[43m)\u001b[49m\u001b[43m,\u001b[49m\u001b[43m \u001b[49m\u001b[43merror\u001b[49m\u001b[43m,\u001b[49m\u001b[43m \u001b[49m\u001b[43m_stacktrace\u001b[49m\u001b[43m)\u001b[49m\n\u001b[1;32m    475\u001b[0m     \u001b[38;5;28;01melif\u001b[39;00m read \u001b[38;5;129;01mis\u001b[39;00m \u001b[38;5;129;01mnot\u001b[39;00m \u001b[38;5;28;01mNone\u001b[39;00m:\n\u001b[1;32m    476\u001b[0m         read \u001b[38;5;241m-\u001b[39m\u001b[38;5;241m=\u001b[39m \u001b[38;5;241m1\u001b[39m\n",
      "File \u001b[0;32m~/miniforge3/envs/parcing/lib/python3.10/site-packages/urllib3/util/util.py:39\u001b[0m, in \u001b[0;36mreraise\u001b[0;34m(tp, value, tb)\u001b[0m\n\u001b[1;32m     37\u001b[0m     \u001b[38;5;28;01mif\u001b[39;00m value\u001b[38;5;241m.\u001b[39m__traceback__ \u001b[38;5;129;01mis\u001b[39;00m \u001b[38;5;129;01mnot\u001b[39;00m tb:\n\u001b[1;32m     38\u001b[0m         \u001b[38;5;28;01mraise\u001b[39;00m value\u001b[38;5;241m.\u001b[39mwith_traceback(tb)\n\u001b[0;32m---> 39\u001b[0m     \u001b[38;5;28;01mraise\u001b[39;00m value\n\u001b[1;32m     40\u001b[0m \u001b[38;5;28;01mfinally\u001b[39;00m:\n\u001b[1;32m     41\u001b[0m     value \u001b[38;5;241m=\u001b[39m \u001b[38;5;28;01mNone\u001b[39;00m  \u001b[38;5;66;03m# type: ignore[assignment]\u001b[39;00m\n",
      "File \u001b[0;32m~/miniforge3/envs/parcing/lib/python3.10/site-packages/urllib3/connectionpool.py:787\u001b[0m, in \u001b[0;36mHTTPConnectionPool.urlopen\u001b[0;34m(self, method, url, body, headers, retries, redirect, assert_same_host, timeout, pool_timeout, release_conn, chunked, body_pos, preload_content, decode_content, **response_kw)\u001b[0m\n\u001b[1;32m    784\u001b[0m response_conn \u001b[38;5;241m=\u001b[39m conn \u001b[38;5;28;01mif\u001b[39;00m \u001b[38;5;129;01mnot\u001b[39;00m release_conn \u001b[38;5;28;01melse\u001b[39;00m \u001b[38;5;28;01mNone\u001b[39;00m\n\u001b[1;32m    786\u001b[0m \u001b[38;5;66;03m# Make the request on the HTTPConnection object\u001b[39;00m\n\u001b[0;32m--> 787\u001b[0m response \u001b[38;5;241m=\u001b[39m \u001b[38;5;28;43mself\u001b[39;49m\u001b[38;5;241;43m.\u001b[39;49m\u001b[43m_make_request\u001b[49m\u001b[43m(\u001b[49m\n\u001b[1;32m    788\u001b[0m \u001b[43m    \u001b[49m\u001b[43mconn\u001b[49m\u001b[43m,\u001b[49m\n\u001b[1;32m    789\u001b[0m \u001b[43m    \u001b[49m\u001b[43mmethod\u001b[49m\u001b[43m,\u001b[49m\n\u001b[1;32m    790\u001b[0m \u001b[43m    \u001b[49m\u001b[43murl\u001b[49m\u001b[43m,\u001b[49m\n\u001b[1;32m    791\u001b[0m \u001b[43m    \u001b[49m\u001b[43mtimeout\u001b[49m\u001b[38;5;241;43m=\u001b[39;49m\u001b[43mtimeout_obj\u001b[49m\u001b[43m,\u001b[49m\n\u001b[1;32m    792\u001b[0m \u001b[43m    \u001b[49m\u001b[43mbody\u001b[49m\u001b[38;5;241;43m=\u001b[39;49m\u001b[43mbody\u001b[49m\u001b[43m,\u001b[49m\n\u001b[1;32m    793\u001b[0m \u001b[43m    \u001b[49m\u001b[43mheaders\u001b[49m\u001b[38;5;241;43m=\u001b[39;49m\u001b[43mheaders\u001b[49m\u001b[43m,\u001b[49m\n\u001b[1;32m    794\u001b[0m \u001b[43m    \u001b[49m\u001b[43mchunked\u001b[49m\u001b[38;5;241;43m=\u001b[39;49m\u001b[43mchunked\u001b[49m\u001b[43m,\u001b[49m\n\u001b[1;32m    795\u001b[0m \u001b[43m    \u001b[49m\u001b[43mretries\u001b[49m\u001b[38;5;241;43m=\u001b[39;49m\u001b[43mretries\u001b[49m\u001b[43m,\u001b[49m\n\u001b[1;32m    796\u001b[0m \u001b[43m    \u001b[49m\u001b[43mresponse_conn\u001b[49m\u001b[38;5;241;43m=\u001b[39;49m\u001b[43mresponse_conn\u001b[49m\u001b[43m,\u001b[49m\n\u001b[1;32m    797\u001b[0m \u001b[43m    \u001b[49m\u001b[43mpreload_content\u001b[49m\u001b[38;5;241;43m=\u001b[39;49m\u001b[43mpreload_content\u001b[49m\u001b[43m,\u001b[49m\n\u001b[1;32m    798\u001b[0m \u001b[43m    \u001b[49m\u001b[43mdecode_content\u001b[49m\u001b[38;5;241;43m=\u001b[39;49m\u001b[43mdecode_content\u001b[49m\u001b[43m,\u001b[49m\n\u001b[1;32m    799\u001b[0m \u001b[43m    \u001b[49m\u001b[38;5;241;43m*\u001b[39;49m\u001b[38;5;241;43m*\u001b[39;49m\u001b[43mresponse_kw\u001b[49m\u001b[43m,\u001b[49m\n\u001b[1;32m    800\u001b[0m \u001b[43m\u001b[49m\u001b[43m)\u001b[49m\n\u001b[1;32m    802\u001b[0m \u001b[38;5;66;03m# Everything went great!\u001b[39;00m\n\u001b[1;32m    803\u001b[0m clean_exit \u001b[38;5;241m=\u001b[39m \u001b[38;5;28;01mTrue\u001b[39;00m\n",
      "File \u001b[0;32m~/miniforge3/envs/parcing/lib/python3.10/site-packages/urllib3/connectionpool.py:536\u001b[0m, in \u001b[0;36mHTTPConnectionPool._make_request\u001b[0;34m(self, conn, method, url, body, headers, retries, timeout, chunked, response_conn, preload_content, decode_content, enforce_content_length)\u001b[0m\n\u001b[1;32m    534\u001b[0m     response \u001b[38;5;241m=\u001b[39m conn\u001b[38;5;241m.\u001b[39mgetresponse()\n\u001b[1;32m    535\u001b[0m \u001b[38;5;28;01mexcept\u001b[39;00m (BaseSSLError, \u001b[38;5;167;01mOSError\u001b[39;00m) \u001b[38;5;28;01mas\u001b[39;00m e:\n\u001b[0;32m--> 536\u001b[0m     \u001b[38;5;28;43mself\u001b[39;49m\u001b[38;5;241;43m.\u001b[39;49m\u001b[43m_raise_timeout\u001b[49m\u001b[43m(\u001b[49m\u001b[43merr\u001b[49m\u001b[38;5;241;43m=\u001b[39;49m\u001b[43me\u001b[49m\u001b[43m,\u001b[49m\u001b[43m \u001b[49m\u001b[43murl\u001b[49m\u001b[38;5;241;43m=\u001b[39;49m\u001b[43murl\u001b[49m\u001b[43m,\u001b[49m\u001b[43m \u001b[49m\u001b[43mtimeout_value\u001b[49m\u001b[38;5;241;43m=\u001b[39;49m\u001b[43mread_timeout\u001b[49m\u001b[43m)\u001b[49m\n\u001b[1;32m    537\u001b[0m     \u001b[38;5;28;01mraise\u001b[39;00m\n\u001b[1;32m    539\u001b[0m \u001b[38;5;66;03m# Set properties that are used by the pooling layer.\u001b[39;00m\n",
      "File \u001b[0;32m~/miniforge3/envs/parcing/lib/python3.10/site-packages/urllib3/connectionpool.py:367\u001b[0m, in \u001b[0;36mHTTPConnectionPool._raise_timeout\u001b[0;34m(self, err, url, timeout_value)\u001b[0m\n\u001b[1;32m    364\u001b[0m \u001b[38;5;250m\u001b[39m\u001b[38;5;124;03m\"\"\"Is the error actually a timeout? Will raise a ReadTimeout or pass\"\"\"\u001b[39;00m\n\u001b[1;32m    366\u001b[0m \u001b[38;5;28;01mif\u001b[39;00m \u001b[38;5;28misinstance\u001b[39m(err, SocketTimeout):\n\u001b[0;32m--> 367\u001b[0m     \u001b[38;5;28;01mraise\u001b[39;00m ReadTimeoutError(\n\u001b[1;32m    368\u001b[0m         \u001b[38;5;28mself\u001b[39m, url, \u001b[38;5;124mf\u001b[39m\u001b[38;5;124m\"\u001b[39m\u001b[38;5;124mRead timed out. (read timeout=\u001b[39m\u001b[38;5;132;01m{\u001b[39;00mtimeout_value\u001b[38;5;132;01m}\u001b[39;00m\u001b[38;5;124m)\u001b[39m\u001b[38;5;124m\"\u001b[39m\n\u001b[1;32m    369\u001b[0m     ) \u001b[38;5;28;01mfrom\u001b[39;00m\u001b[38;5;250m \u001b[39m\u001b[38;5;21;01merr\u001b[39;00m\n\u001b[1;32m    371\u001b[0m \u001b[38;5;66;03m# See the above comment about EAGAIN in Python 3.\u001b[39;00m\n\u001b[1;32m    372\u001b[0m \u001b[38;5;28;01mif\u001b[39;00m \u001b[38;5;28mhasattr\u001b[39m(err, \u001b[38;5;124m\"\u001b[39m\u001b[38;5;124merrno\u001b[39m\u001b[38;5;124m\"\u001b[39m) \u001b[38;5;129;01mand\u001b[39;00m err\u001b[38;5;241m.\u001b[39merrno \u001b[38;5;129;01min\u001b[39;00m _blocking_errnos:\n",
      "\u001b[0;31mReadTimeoutError\u001b[0m: HTTPConnectionPool(host='localhost', port=58103): Read timed out. (read timeout=120)"
     ]
    }
   ],
   "source": [
    "import time\n",
    "import pandas as pd\n",
    "from bs4 import BeautifulSoup\n",
    "from selenium import webdriver\n",
    "from selenium.webdriver.chrome.service import Service\n",
    "from selenium.webdriver.chrome.options import Options\n",
    "from selenium.webdriver.common.by import By\n",
    "from selenium.webdriver.support.ui import WebDriverWait\n",
    "from selenium.webdriver.support import expected_conditions as EC\n",
    "from concurrent.futures import ThreadPoolExecutor, as_completed\n",
    "import json\n",
    "from tqdm import tqdm  # добавляем tqdm для прогресс-бара\n",
    "\n",
    "\n",
    "# --- Настройки Selenium ---\n",
    "def get_browser():\n",
    "    chrome_options = Options()\n",
    "    chrome_options.add_argument(\"--headless=new\")\n",
    "    chrome_options.add_argument(\"--disable-blink-features=AutomationControlled\")\n",
    "    service = Service(executable_path=\"/usr/bin/chromedriver\")\n",
    "    browser = webdriver.Chrome(service=service, options=chrome_options)\n",
    "    browser.execute_cdp_cmd('Network.setUserAgentOverride', {\n",
    "        \"userAgent\": \"Mozilla/5.0 (X11; Linux x86_64) AppleWebKit/537.36 (KHTML, like Gecko) Chrome/136.0.0.0 YaBrowser/25.6.0.0 Safari/537.36\"\n",
    "    })\n",
    "    return browser\n",
    "\n",
    "browser = get_browser()\n",
    "\n",
    "# --- Основные настройки ---\n",
    "url_main = 'https://kinogo.org/serials/'\n",
    "page_min, page_max = 1, 550\n",
    "my_range = range(page_min, page_max+1)\n",
    "save_every = 5   # сохранять каждые N страниц\n",
    "\n",
    "final_dict = {k: [] for k in [\n",
    "    'title','out_year','genres','country','duration','description',\n",
    "    'url_movie','image_movie','rating_votes','film_rating_kp','film_rating_imdb'\n",
    "]}\n",
    "\n",
    "short_descriptions = []  # для подстраховки, если нет полного описания\n",
    "\n",
    "# --- Парсим список страниц ---\n",
    "for page in my_range:\n",
    "    start_time = time.time()\n",
    "    url = f\"{url_main}page/{page}/\"\n",
    "    print(f\"🔎 Загружаем страницу {page}: {url}\")\n",
    "\n",
    "    browser.get(url)\n",
    "    WebDriverWait(browser, 20).until(\n",
    "        EC.presence_of_all_elements_located((By.CLASS_NAME, \"shortStory\"))\n",
    "    )\n",
    "    soup = BeautifulSoup(browser.page_source, \"lxml\")\n",
    "    blocks = soup.find_all(class_=\"shortStory\")\n",
    "\n",
    "    for block in blocks:\n",
    "        # --- Название ---\n",
    "        title = block.find(\"h2\").get_text(strip=True).split('(')[0].strip() if block.find(\"h2\") else None\n",
    "        # --- Год ---\n",
    "        year_tag = block.find('b', string='Год выпуска:')\n",
    "        year = \", \".join([tag.get_text() for tag in year_tag.find_next_siblings('a')]) if year_tag else None\n",
    "        # --- URL фильма ---\n",
    "        url_movie = block.find(\"a\").get(\"href\") if block.find(\"a\") else None\n",
    "        # --- Постер ---\n",
    "        img_tag = block.find(\"div\", class_=\"sPoster\").find(\"img\").get('data-src') if block.find(\"div\", class_=\"sPoster\") else None\n",
    "        img_url = f'https://kinogo.org{img_tag}' if img_tag else None\n",
    "        # --- Жанры ---\n",
    "        genre_tag = block.find('b', string='Жанр:')\n",
    "        genres = [g.get_text() for g in genre_tag.find_next_siblings('a')] if genre_tag else None\n",
    "        # --- Страна ---\n",
    "        country_tag = block.find('b', string='Страна:')\n",
    "        country = [c.get_text() for c in country_tag.find_next_siblings('a')] if country_tag else None\n",
    "        # --- Продолжительность ---\n",
    "        duration_tag = block.find('b', string='Продолжительность:')\n",
    "        duration = duration_tag.next_sibling.strip() if duration_tag else None\n",
    "        # --- Краткое описание ---\n",
    "        desc_tag = block.find(\"p\", class_=\"excerpt\")\n",
    "        short_desc = desc_tag.get_text(strip=True) if desc_tag else None\n",
    "        # --- Рейтинг сайта ---\n",
    "        rating_tag = block.find(\"span\", class_=\"ratingStats\")\n",
    "        rating = rating_tag.get_text(strip=True).split()[0] if rating_tag else None\n",
    "        # --- Рейтинг Кинопоиск ---\n",
    "        kp_tag = block.find(\"span\", class_=\"fullKP\")\n",
    "        kp = kp_tag.get_text(strip=True).split(':')[1] if kp_tag else None\n",
    "        # --- Рейтинг IMDb ---\n",
    "        imdb_tag = block.find(\"span\", class_=\"fQuality\")\n",
    "        imdb = imdb_tag.get_text(strip=True).split(':')[1] if imdb_tag else None\n",
    "\n",
    "        # --- Записываем ---\n",
    "        final_dict['title'].append(title)\n",
    "        final_dict['out_year'].append(year)\n",
    "        final_dict['url_movie'].append(url_movie)\n",
    "        final_dict['image_movie'].append(img_url)\n",
    "        final_dict['genres'].append(genres)\n",
    "        final_dict['country'].append(country)\n",
    "        final_dict['duration'].append(duration)\n",
    "        final_dict['description'].append(short_desc)  # временно ставим краткое\n",
    "        final_dict['rating_votes'].append(rating)\n",
    "        final_dict['film_rating_kp'].append(kp)\n",
    "        final_dict['film_rating_imdb'].append(imdb)\n",
    "\n",
    "        short_descriptions.append(short_desc)\n",
    "\n",
    "    print(f\"✅ Страница {page} собрана за {time.time()-start_time:.2f} сек\")\n",
    "\n",
    "    # --- частое сохранение ---\n",
    "    if page % save_every == 0:\n",
    "        df = pd.DataFrame(final_dict)\n",
    "        df.to_csv('movies_dataset_partial_5500.csv', index=False)\n",
    "        with open('movies_dataset_partial_5500.json', 'w', encoding='utf-8') as f:\n",
    "            json.dump(final_dict, f, ensure_ascii=False, indent=4)\n",
    "        print(f\"💾 Прогресс сохранён после страницы {page}\")\n",
    "\n",
    "# --- Функция для скачивания полного описания ---\n",
    "def get_full_description(idx, url, short_desc):\n",
    "    try:\n",
    "        b = get_browser()\n",
    "        b.get(url)\n",
    "        WebDriverWait(b, 10).until(\n",
    "            EC.presence_of_element_located((By.CLASS_NAME, \"filmDescription\"))\n",
    "        )\n",
    "        movie_soup = BeautifulSoup(b.page_source, \"lxml\")\n",
    "        desc_block = movie_soup.find(\"div\", class_=\"filmDescription\")\n",
    "        b.quit()\n",
    "        return idx, desc_block.get_text(strip=True) if desc_block else short_desc\n",
    "    except Exception as e:\n",
    "        print(f\"⚠ Ошибка при загрузке {url}: {e}\")\n",
    "        return idx, short_desc\n",
    "\n",
    "# --- Парсим полные описания в потоках ---\n",
    "print(\"🔎 Загружаем полные описания (многопоточно)...\")\n",
    "full_descriptions = [None] * len(final_dict['url_movie'])\n",
    "\n",
    "with ThreadPoolExecutor(max_workers=5) as executor:  # число потоков подбирай под железо\n",
    "    futures = []\n",
    "    for idx, url in enumerate(final_dict['url_movie']):\n",
    "        short_desc = short_descriptions[idx] if idx < len(short_descriptions) else None\n",
    "        if url:\n",
    "            futures.append(executor.submit(get_full_description, idx, url, short_desc))\n",
    "        else:\n",
    "            full_descriptions[idx] = short_desc\n",
    "\n",
    "    # прогресс-бар\n",
    "    for future in tqdm(as_completed(futures), total=len(futures), desc=\"Парсинг описаний\"):\n",
    "        idx, desc = future.result()\n",
    "        full_descriptions[idx] = desc\n",
    "\n",
    "# --- Заменяем краткие на полные ---\n",
    "final_dict['description'] = full_descriptions\n",
    "\n",
    "# --- Финальное сохранение ---\n",
    "df = pd.DataFrame(final_dict)\n",
    "full_name_csv = 'movies_dataset_full_5500.csv'\n",
    "full_name_json = 'movies_dataset_full_5500.json'\n",
    "df.to_csv(full_name_csv, index=False)\n",
    "with open(full_name_json, 'w', encoding='utf-8') as f:\n",
    "    json.dump(final_dict, f, ensure_ascii=False, indent=4)\n",
    "\n",
    "print(f\"🎬 Парсинг завершён. Данные сохранены в {full_name_csv} и {full_name_json}\")\n",
    "print(f'Количество фильмов в базе: {df.shape[0]}')\n",
    "\n",
    "browser.quit()"
   ]
  },
  {
   "cell_type": "code",
   "execution_count": 168,
   "id": "d5f13821",
   "metadata": {},
   "outputs": [
    {
     "data": {
      "text/html": [
       "<div>\n",
       "<style scoped>\n",
       "    .dataframe tbody tr th:only-of-type {\n",
       "        vertical-align: middle;\n",
       "    }\n",
       "\n",
       "    .dataframe tbody tr th {\n",
       "        vertical-align: top;\n",
       "    }\n",
       "\n",
       "    .dataframe thead th {\n",
       "        text-align: right;\n",
       "    }\n",
       "</style>\n",
       "<table border=\"1\" class=\"dataframe\">\n",
       "  <thead>\n",
       "    <tr style=\"text-align: right;\">\n",
       "      <th></th>\n",
       "      <th>title</th>\n",
       "      <th>out_year</th>\n",
       "      <th>genres</th>\n",
       "      <th>country</th>\n",
       "      <th>duration</th>\n",
       "      <th>description</th>\n",
       "      <th>url_movie</th>\n",
       "      <th>image_movie</th>\n",
       "      <th>rating_votes</th>\n",
       "      <th>film_rating_kp</th>\n",
       "      <th>film_rating_imdb</th>\n",
       "    </tr>\n",
       "  </thead>\n",
       "  <tbody>\n",
       "    <tr>\n",
       "      <th>0</th>\n",
       "      <td>Бахар</td>\n",
       "      <td>2024</td>\n",
       "      <td>['драма', 'комедия', 'мелодрама']</td>\n",
       "      <td>['Турция']</td>\n",
       "      <td>2 ч 12 мин</td>\n",
       "      <td>«Бахар» – это захватывающая мелодрама 2024 год...</td>\n",
       "      <td>https://kinogo.org/109108-bahar.html</td>\n",
       "      <td>https://kinogo.org/uploads/mini/short/948/20ee...</td>\n",
       "      <td>3.7/5</td>\n",
       "      <td>7.9</td>\n",
       "      <td>7.2</td>\n",
       "    </tr>\n",
       "    <tr>\n",
       "      <th>1</th>\n",
       "      <td>ПИН-код</td>\n",
       "      <td>2025</td>\n",
       "      <td>['детектив', 'драма']</td>\n",
       "      <td>['Россия']</td>\n",
       "      <td>49 мин</td>\n",
       "      <td>Максим Захаров, майор полиции, сталкивается с ...</td>\n",
       "      <td>https://kinogo.org/126489-pin-kod.html</td>\n",
       "      <td>https://kinogo.org/uploads/mini/short/09c/9fe2...</td>\n",
       "      <td>4.2/5</td>\n",
       "      <td>Неизвестно</td>\n",
       "      <td>Неизвестно</td>\n",
       "    </tr>\n",
       "    <tr>\n",
       "      <th>2</th>\n",
       "      <td>Рейс 314</td>\n",
       "      <td>2025</td>\n",
       "      <td>['комедия']</td>\n",
       "      <td>['Россия']</td>\n",
       "      <td>23 мин</td>\n",
       "      <td>Иван Никогда, бывший чиновник с коррупционным ...</td>\n",
       "      <td>https://kinogo.org/126326-rejs-314.html</td>\n",
       "      <td>https://kinogo.org/uploads/mini/short/3b0/5618...</td>\n",
       "      <td>3.2/5</td>\n",
       "      <td>Неизвестно</td>\n",
       "      <td>Неизвестно</td>\n",
       "    </tr>\n",
       "    <tr>\n",
       "      <th>3</th>\n",
       "      <td>Виноделы</td>\n",
       "      <td>2025</td>\n",
       "      <td>['комедия', 'мелодрама']</td>\n",
       "      <td>['Россия']</td>\n",
       "      <td>48 мин</td>\n",
       "      <td>Шашлычник Паша из Челябинска вместе с отцом и ...</td>\n",
       "      <td>https://kinogo.org/126323-vinodely.html</td>\n",
       "      <td>https://kinogo.org/uploads/mini/short/13e/6ddd...</td>\n",
       "      <td>3.1/5</td>\n",
       "      <td>7.9</td>\n",
       "      <td>Неизвестно</td>\n",
       "    </tr>\n",
       "    <tr>\n",
       "      <th>4</th>\n",
       "      <td>Планетяне</td>\n",
       "      <td>2025</td>\n",
       "      <td>['комедия', 'фантастика']</td>\n",
       "      <td>['Россия']</td>\n",
       "      <td>23 мин</td>\n",
       "      <td>Двое представителей пришельцев прибыли на Земл...</td>\n",
       "      <td>https://kinogo.org/126325-planetjane.html</td>\n",
       "      <td>https://kinogo.org/uploads/mini/short/732/1e42...</td>\n",
       "      <td>3.4/5</td>\n",
       "      <td>7.6</td>\n",
       "      <td>Неизвестно</td>\n",
       "    </tr>\n",
       "    <tr>\n",
       "      <th>...</th>\n",
       "      <td>...</td>\n",
       "      <td>...</td>\n",
       "      <td>...</td>\n",
       "      <td>...</td>\n",
       "      <td>...</td>\n",
       "      <td>...</td>\n",
       "      <td>...</td>\n",
       "      <td>...</td>\n",
       "      <td>...</td>\n",
       "      <td>...</td>\n",
       "      <td>...</td>\n",
       "    </tr>\n",
       "    <tr>\n",
       "      <th>95</th>\n",
       "      <td>Москва слезам не верит. Всё только начинается</td>\n",
       "      <td>2025</td>\n",
       "      <td>['драма', 'мелодрама']</td>\n",
       "      <td>['Россия']</td>\n",
       "      <td>52 мин</td>\n",
       "      <td>В начале 2000-х годов Ксюша отправляется на за...</td>\n",
       "      <td>https://kinogo.org/126000-moskva-slezam-ne-ver...</td>\n",
       "      <td>https://kinogo.org/uploads/mini/short/882/900b...</td>\n",
       "      <td>3.6/5</td>\n",
       "      <td>5.9</td>\n",
       "      <td>Неизвестно</td>\n",
       "    </tr>\n",
       "    <tr>\n",
       "      <th>96</th>\n",
       "      <td>Тайная история принцессы Тайпин</td>\n",
       "      <td>2012</td>\n",
       "      <td>['боевик', 'драма', 'история']</td>\n",
       "      <td>['Китай']</td>\n",
       "      <td>Неизвестно</td>\n",
       "      <td>Это историческая драма 2012 года, которая осно...</td>\n",
       "      <td>https://kinogo.org/118951-tajnaja-istorija-pri...</td>\n",
       "      <td>https://kinogo.org/uploads/mini/short/fec/4396...</td>\n",
       "      <td>4/5</td>\n",
       "      <td>Неизвестно</td>\n",
       "      <td>7.1</td>\n",
       "    </tr>\n",
       "    <tr>\n",
       "      <th>97</th>\n",
       "      <td>Непослушные</td>\n",
       "      <td>2025</td>\n",
       "      <td>['детектив', 'драма', 'триллер']</td>\n",
       "      <td>['Великобритания', 'Канада', 'США']</td>\n",
       "      <td>46 мин</td>\n",
       "      <td>Офицер полиции Алекс Демпси, работающий в небо...</td>\n",
       "      <td>https://kinogo.org/126400-neposlushnye.html</td>\n",
       "      <td>https://kinogo.org/uploads/mini/short/a09/869a...</td>\n",
       "      <td>4/5</td>\n",
       "      <td>Неизвестно</td>\n",
       "      <td>7.2</td>\n",
       "    </tr>\n",
       "    <tr>\n",
       "      <th>98</th>\n",
       "      <td>Дом Гиннесса</td>\n",
       "      <td>2025</td>\n",
       "      <td>['биография', 'драма', 'история']</td>\n",
       "      <td>['Великобритания']</td>\n",
       "      <td>53 мин</td>\n",
       "      <td>В центре сюжета данного телесериала — история ...</td>\n",
       "      <td>https://kinogo.org/125964-dom-ginnessa.html</td>\n",
       "      <td>https://kinogo.org/uploads/mini/short/b11/495f...</td>\n",
       "      <td>3.4/5</td>\n",
       "      <td>Неизвестно</td>\n",
       "      <td>Неизвестно</td>\n",
       "    </tr>\n",
       "    <tr>\n",
       "      <th>99</th>\n",
       "      <td>Сон Эшрефа / Мечта Эшрефа</td>\n",
       "      <td>2025</td>\n",
       "      <td>['мелодрама']</td>\n",
       "      <td>['Турция']</td>\n",
       "      <td>2 мин</td>\n",
       "      <td>\"Мечта Эшрефа\" - это мелодрама 2025 года, где ...</td>\n",
       "      <td>https://kinogo.org/122202-son-jeshrefa-mechta-...</td>\n",
       "      <td>https://kinogo.org/uploads/mini/short/f47/bcbc...</td>\n",
       "      <td>4.6/5</td>\n",
       "      <td>8.3</td>\n",
       "      <td>6.6</td>\n",
       "    </tr>\n",
       "  </tbody>\n",
       "</table>\n",
       "<p>100 rows × 11 columns</p>\n",
       "</div>"
      ],
      "text/plain": [
       "                                            title  out_year  \\\n",
       "0                                           Бахар      2024   \n",
       "1                                         ПИН-код      2025   \n",
       "2                                        Рейс 314      2025   \n",
       "3                                        Виноделы      2025   \n",
       "4                                       Планетяне      2025   \n",
       "..                                            ...       ...   \n",
       "95  Москва слезам не верит. Всё только начинается      2025   \n",
       "96                Тайная история принцессы Тайпин      2012   \n",
       "97                                    Непослушные      2025   \n",
       "98                                   Дом Гиннесса      2025   \n",
       "99                      Сон Эшрефа / Мечта Эшрефа      2025   \n",
       "\n",
       "                               genres                              country  \\\n",
       "0   ['драма', 'комедия', 'мелодрама']                           ['Турция']   \n",
       "1               ['детектив', 'драма']                           ['Россия']   \n",
       "2                         ['комедия']                           ['Россия']   \n",
       "3            ['комедия', 'мелодрама']                           ['Россия']   \n",
       "4           ['комедия', 'фантастика']                           ['Россия']   \n",
       "..                                ...                                  ...   \n",
       "95             ['драма', 'мелодрама']                           ['Россия']   \n",
       "96     ['боевик', 'драма', 'история']                            ['Китай']   \n",
       "97   ['детектив', 'драма', 'триллер']  ['Великобритания', 'Канада', 'США']   \n",
       "98  ['биография', 'драма', 'история']                   ['Великобритания']   \n",
       "99                      ['мелодрама']                           ['Турция']   \n",
       "\n",
       "      duration                                        description  \\\n",
       "0   2 ч 12 мин  «Бахар» – это захватывающая мелодрама 2024 год...   \n",
       "1       49 мин  Максим Захаров, майор полиции, сталкивается с ...   \n",
       "2       23 мин  Иван Никогда, бывший чиновник с коррупционным ...   \n",
       "3       48 мин  Шашлычник Паша из Челябинска вместе с отцом и ...   \n",
       "4       23 мин  Двое представителей пришельцев прибыли на Земл...   \n",
       "..         ...                                                ...   \n",
       "95      52 мин  В начале 2000-х годов Ксюша отправляется на за...   \n",
       "96  Неизвестно  Это историческая драма 2012 года, которая осно...   \n",
       "97      46 мин  Офицер полиции Алекс Демпси, работающий в небо...   \n",
       "98      53 мин  В центре сюжета данного телесериала — история ...   \n",
       "99       2 мин  \"Мечта Эшрефа\" - это мелодрама 2025 года, где ...   \n",
       "\n",
       "                                            url_movie  \\\n",
       "0                https://kinogo.org/109108-bahar.html   \n",
       "1              https://kinogo.org/126489-pin-kod.html   \n",
       "2             https://kinogo.org/126326-rejs-314.html   \n",
       "3             https://kinogo.org/126323-vinodely.html   \n",
       "4           https://kinogo.org/126325-planetjane.html   \n",
       "..                                                ...   \n",
       "95  https://kinogo.org/126000-moskva-slezam-ne-ver...   \n",
       "96  https://kinogo.org/118951-tajnaja-istorija-pri...   \n",
       "97        https://kinogo.org/126400-neposlushnye.html   \n",
       "98        https://kinogo.org/125964-dom-ginnessa.html   \n",
       "99  https://kinogo.org/122202-son-jeshrefa-mechta-...   \n",
       "\n",
       "                                          image_movie rating_votes  \\\n",
       "0   https://kinogo.org/uploads/mini/short/948/20ee...        3.7/5   \n",
       "1   https://kinogo.org/uploads/mini/short/09c/9fe2...        4.2/5   \n",
       "2   https://kinogo.org/uploads/mini/short/3b0/5618...        3.2/5   \n",
       "3   https://kinogo.org/uploads/mini/short/13e/6ddd...        3.1/5   \n",
       "4   https://kinogo.org/uploads/mini/short/732/1e42...        3.4/5   \n",
       "..                                                ...          ...   \n",
       "95  https://kinogo.org/uploads/mini/short/882/900b...        3.6/5   \n",
       "96  https://kinogo.org/uploads/mini/short/fec/4396...          4/5   \n",
       "97  https://kinogo.org/uploads/mini/short/a09/869a...          4/5   \n",
       "98  https://kinogo.org/uploads/mini/short/b11/495f...        3.4/5   \n",
       "99  https://kinogo.org/uploads/mini/short/f47/bcbc...        4.6/5   \n",
       "\n",
       "   film_rating_kp film_rating_imdb  \n",
       "0             7.9              7.2  \n",
       "1      Неизвестно       Неизвестно  \n",
       "2      Неизвестно       Неизвестно  \n",
       "3             7.9       Неизвестно  \n",
       "4             7.6       Неизвестно  \n",
       "..            ...              ...  \n",
       "95            5.9       Неизвестно  \n",
       "96     Неизвестно              7.1  \n",
       "97     Неизвестно              7.2  \n",
       "98     Неизвестно       Неизвестно  \n",
       "99            8.3              6.6  \n",
       "\n",
       "[100 rows x 11 columns]"
      ]
     },
     "execution_count": 168,
     "metadata": {},
     "output_type": "execute_result"
    }
   ],
   "source": [
    "pd.read_csv('movies_dataset_full_new.csv')"
   ]
  },
  {
   "cell_type": "markdown",
   "id": "91147851",
   "metadata": {},
   "source": [
    "### Оптимизированное №2"
   ]
  },
  {
   "cell_type": "code",
   "execution_count": 3,
   "id": "c8b44c7e",
   "metadata": {},
   "outputs": [
    {
     "name": "stdout",
     "output_type": "stream",
     "text": [
      "🔎 Загружаем страницу 1: https://kinogo.org/serials/page/1/\n",
      "✅ Страница 1 собрана за 3.33 сек\n",
      "🔎 Загружаем страницу 2: https://kinogo.org/serials/page/2/\n",
      "✅ Страница 2 собрана за 0.87 сек\n",
      "🔎 Загружаем страницу 3: https://kinogo.org/serials/page/3/\n",
      "✅ Страница 3 собрана за 0.88 сек\n",
      "🔎 Загружаем страницу 4: https://kinogo.org/serials/page/4/\n",
      "✅ Страница 4 собрана за 0.94 сек\n",
      "🔎 Загружаем страницу 5: https://kinogo.org/serials/page/5/\n",
      "✅ Страница 5 собрана за 1.81 сек\n",
      "💾 Прогресс сохранён после страницы 5\n",
      "🔎 Загружаем страницу 6: https://kinogo.org/serials/page/6/\n",
      "✅ Страница 6 собрана за 2.35 сек\n",
      "🔎 Загружаем страницу 7: https://kinogo.org/serials/page/7/\n",
      "✅ Страница 7 собрана за 0.98 сек\n",
      "🔎 Загружаем страницу 8: https://kinogo.org/serials/page/8/\n",
      "✅ Страница 8 собрана за 0.95 сек\n",
      "🔎 Загружаем страницу 9: https://kinogo.org/serials/page/9/\n",
      "✅ Страница 9 собрана за 0.86 сек\n",
      "🔎 Загружаем страницу 10: https://kinogo.org/serials/page/10/\n",
      "✅ Страница 10 собрана за 0.95 сек\n",
      "💾 Прогресс сохранён после страницы 10\n",
      "🔎 Загружаем страницу 11: https://kinogo.org/serials/page/11/\n",
      "✅ Страница 11 собрана за 1.24 сек\n",
      "🔎 Загружаем страницу 12: https://kinogo.org/serials/page/12/\n",
      "✅ Страница 12 собрана за 1.05 сек\n",
      "🔎 Загружаем страницу 13: https://kinogo.org/serials/page/13/\n",
      "✅ Страница 13 собрана за 1.26 сек\n",
      "🔎 Загружаем страницу 14: https://kinogo.org/serials/page/14/\n",
      "✅ Страница 14 собрана за 1.43 сек\n",
      "🔎 Загружаем страницу 15: https://kinogo.org/serials/page/15/\n",
      "✅ Страница 15 собрана за 1.87 сек\n",
      "💾 Прогресс сохранён после страницы 15\n",
      "🔎 Загружаем страницу 16: https://kinogo.org/serials/page/16/\n",
      "✅ Страница 16 собрана за 0.97 сек\n",
      "🔎 Загружаем страницу 17: https://kinogo.org/serials/page/17/\n",
      "✅ Страница 17 собрана за 1.70 сек\n",
      "🔎 Загружаем страницу 18: https://kinogo.org/serials/page/18/\n",
      "✅ Страница 18 собрана за 1.07 сек\n",
      "🔎 Загружаем страницу 19: https://kinogo.org/serials/page/19/\n",
      "✅ Страница 19 собрана за 1.05 сек\n",
      "🔎 Загружаем страницу 20: https://kinogo.org/serials/page/20/\n",
      "✅ Страница 20 собрана за 1.14 сек\n",
      "💾 Прогресс сохранён после страницы 20\n",
      "🔎 Загружаем страницу 21: https://kinogo.org/serials/page/21/\n",
      "✅ Страница 21 собрана за 0.85 сек\n",
      "🔎 Загружаем страницу 22: https://kinogo.org/serials/page/22/\n",
      "✅ Страница 22 собрана за 1.19 сек\n",
      "🔎 Загружаем страницу 23: https://kinogo.org/serials/page/23/\n",
      "✅ Страница 23 собрана за 0.92 сек\n",
      "🔎 Загружаем страницу 24: https://kinogo.org/serials/page/24/\n",
      "✅ Страница 24 собрана за 0.84 сек\n",
      "🔎 Загружаем страницу 25: https://kinogo.org/serials/page/25/\n",
      "✅ Страница 25 собрана за 1.13 сек\n",
      "💾 Прогресс сохранён после страницы 25\n",
      "🔎 Загружаем страницу 26: https://kinogo.org/serials/page/26/\n",
      "✅ Страница 26 собрана за 0.94 сек\n",
      "🔎 Загружаем страницу 27: https://kinogo.org/serials/page/27/\n",
      "✅ Страница 27 собрана за 1.15 сек\n",
      "🔎 Загружаем страницу 28: https://kinogo.org/serials/page/28/\n",
      "✅ Страница 28 собрана за 0.95 сек\n",
      "🔎 Загружаем страницу 29: https://kinogo.org/serials/page/29/\n",
      "✅ Страница 29 собрана за 1.06 сек\n",
      "🔎 Загружаем страницу 30: https://kinogo.org/serials/page/30/\n",
      "✅ Страница 30 собрана за 1.42 сек\n",
      "💾 Прогресс сохранён после страницы 30\n",
      "🔎 Загружаем страницу 31: https://kinogo.org/serials/page/31/\n",
      "✅ Страница 31 собрана за 0.76 сек\n",
      "🔎 Загружаем страницу 32: https://kinogo.org/serials/page/32/\n",
      "✅ Страница 32 собрана за 0.80 сек\n",
      "🔎 Загружаем страницу 33: https://kinogo.org/serials/page/33/\n",
      "✅ Страница 33 собрана за 0.91 сек\n",
      "🔎 Загружаем страницу 34: https://kinogo.org/serials/page/34/\n",
      "✅ Страница 34 собрана за 0.76 сек\n",
      "🔎 Загружаем страницу 35: https://kinogo.org/serials/page/35/\n",
      "✅ Страница 35 собрана за 0.87 сек\n",
      "💾 Прогресс сохранён после страницы 35\n",
      "🔎 Загружаем страницу 36: https://kinogo.org/serials/page/36/\n",
      "✅ Страница 36 собрана за 0.88 сек\n",
      "🔎 Загружаем страницу 37: https://kinogo.org/serials/page/37/\n",
      "✅ Страница 37 собрана за 1.02 сек\n",
      "🔎 Загружаем страницу 38: https://kinogo.org/serials/page/38/\n",
      "✅ Страница 38 собрана за 0.84 сек\n",
      "🔎 Загружаем страницу 39: https://kinogo.org/serials/page/39/\n",
      "✅ Страница 39 собрана за 0.79 сек\n",
      "🔎 Загружаем страницу 40: https://kinogo.org/serials/page/40/\n",
      "✅ Страница 40 собрана за 0.78 сек\n",
      "💾 Прогресс сохранён после страницы 40\n",
      "🔎 Загружаем страницу 41: https://kinogo.org/serials/page/41/\n",
      "✅ Страница 41 собрана за 1.12 сек\n",
      "🔎 Загружаем страницу 42: https://kinogo.org/serials/page/42/\n",
      "✅ Страница 42 собрана за 0.85 сек\n",
      "🔎 Загружаем страницу 43: https://kinogo.org/serials/page/43/\n",
      "✅ Страница 43 собрана за 0.75 сек\n",
      "🔎 Загружаем страницу 44: https://kinogo.org/serials/page/44/\n",
      "✅ Страница 44 собрана за 0.77 сек\n",
      "🔎 Загружаем страницу 45: https://kinogo.org/serials/page/45/\n",
      "✅ Страница 45 собрана за 0.99 сек\n",
      "💾 Прогресс сохранён после страницы 45\n",
      "🔎 Загружаем страницу 46: https://kinogo.org/serials/page/46/\n",
      "✅ Страница 46 собрана за 0.87 сек\n",
      "🔎 Загружаем страницу 47: https://kinogo.org/serials/page/47/\n",
      "✅ Страница 47 собрана за 0.85 сек\n",
      "🔎 Загружаем страницу 48: https://kinogo.org/serials/page/48/\n",
      "✅ Страница 48 собрана за 0.80 сек\n",
      "🔎 Загружаем страницу 49: https://kinogo.org/serials/page/49/\n",
      "✅ Страница 49 собрана за 0.85 сек\n",
      "🔎 Загружаем страницу 50: https://kinogo.org/serials/page/50/\n",
      "♻ Перезапущен браузер на странице 50\n",
      "✅ Страница 50 собрана за 3.88 сек\n",
      "💾 Прогресс сохранён после страницы 50\n",
      "🔎 Загружаем страницу 51: https://kinogo.org/serials/page/51/\n",
      "✅ Страница 51 собрана за 1.00 сек\n",
      "🔎 Загружаем страницу 52: https://kinogo.org/serials/page/52/\n",
      "✅ Страница 52 собрана за 1.19 сек\n",
      "🔎 Загружаем страницу 53: https://kinogo.org/serials/page/53/\n",
      "✅ Страница 53 собрана за 1.07 сек\n",
      "🔎 Загружаем страницу 54: https://kinogo.org/serials/page/54/\n",
      "✅ Страница 54 собрана за 1.15 сек\n",
      "🔎 Загружаем страницу 55: https://kinogo.org/serials/page/55/\n",
      "✅ Страница 55 собрана за 0.86 сек\n",
      "💾 Прогресс сохранён после страницы 55\n",
      "🔎 Загружаем страницу 56: https://kinogo.org/serials/page/56/\n",
      "✅ Страница 56 собрана за 0.85 сек\n",
      "🔎 Загружаем страницу 57: https://kinogo.org/serials/page/57/\n",
      "✅ Страница 57 собрана за 0.88 сек\n",
      "🔎 Загружаем страницу 58: https://kinogo.org/serials/page/58/\n",
      "✅ Страница 58 собрана за 0.79 сек\n",
      "🔎 Загружаем страницу 59: https://kinogo.org/serials/page/59/\n",
      "✅ Страница 59 собрана за 0.93 сек\n",
      "🔎 Загружаем страницу 60: https://kinogo.org/serials/page/60/\n",
      "✅ Страница 60 собрана за 0.94 сек\n",
      "💾 Прогресс сохранён после страницы 60\n",
      "🔎 Загружаем страницу 61: https://kinogo.org/serials/page/61/\n",
      "✅ Страница 61 собрана за 0.95 сек\n",
      "🔎 Загружаем страницу 62: https://kinogo.org/serials/page/62/\n",
      "✅ Страница 62 собрана за 1.00 сек\n",
      "🔎 Загружаем страницу 63: https://kinogo.org/serials/page/63/\n",
      "✅ Страница 63 собрана за 0.98 сек\n",
      "🔎 Загружаем страницу 64: https://kinogo.org/serials/page/64/\n",
      "✅ Страница 64 собрана за 1.14 сек\n",
      "🔎 Загружаем страницу 65: https://kinogo.org/serials/page/65/\n",
      "✅ Страница 65 собрана за 1.28 сек\n",
      "💾 Прогресс сохранён после страницы 65\n",
      "🔎 Загружаем страницу 66: https://kinogo.org/serials/page/66/\n",
      "✅ Страница 66 собрана за 0.93 сек\n",
      "🔎 Загружаем страницу 67: https://kinogo.org/serials/page/67/\n",
      "✅ Страница 67 собрана за 0.91 сек\n",
      "🔎 Загружаем страницу 68: https://kinogo.org/serials/page/68/\n",
      "✅ Страница 68 собрана за 1.13 сек\n",
      "🔎 Загружаем страницу 69: https://kinogo.org/serials/page/69/\n",
      "✅ Страница 69 собрана за 0.89 сек\n",
      "🔎 Загружаем страницу 70: https://kinogo.org/serials/page/70/\n",
      "✅ Страница 70 собрана за 1.02 сек\n",
      "💾 Прогресс сохранён после страницы 70\n",
      "🔎 Загружаем страницу 71: https://kinogo.org/serials/page/71/\n",
      "✅ Страница 71 собрана за 1.14 сек\n",
      "🔎 Загружаем страницу 72: https://kinogo.org/serials/page/72/\n",
      "✅ Страница 72 собрана за 1.09 сек\n",
      "🔎 Загружаем страницу 73: https://kinogo.org/serials/page/73/\n",
      "✅ Страница 73 собрана за 1.27 сек\n",
      "🔎 Загружаем страницу 74: https://kinogo.org/serials/page/74/\n",
      "✅ Страница 74 собрана за 1.13 сек\n",
      "🔎 Загружаем страницу 75: https://kinogo.org/serials/page/75/\n",
      "✅ Страница 75 собрана за 1.13 сек\n",
      "💾 Прогресс сохранён после страницы 75\n",
      "🔎 Загружаем страницу 76: https://kinogo.org/serials/page/76/\n",
      "✅ Страница 76 собрана за 1.42 сек\n",
      "🔎 Загружаем страницу 77: https://kinogo.org/serials/page/77/\n",
      "✅ Страница 77 собрана за 1.46 сек\n",
      "🔎 Загружаем страницу 78: https://kinogo.org/serials/page/78/\n",
      "✅ Страница 78 собрана за 1.15 сек\n",
      "🔎 Загружаем страницу 79: https://kinogo.org/serials/page/79/\n",
      "✅ Страница 79 собрана за 1.11 сек\n",
      "🔎 Загружаем страницу 80: https://kinogo.org/serials/page/80/\n",
      "✅ Страница 80 собрана за 1.24 сек\n",
      "💾 Прогресс сохранён после страницы 80\n",
      "🔎 Загружаем страницу 81: https://kinogo.org/serials/page/81/\n",
      "✅ Страница 81 собрана за 1.04 сек\n",
      "🔎 Загружаем страницу 82: https://kinogo.org/serials/page/82/\n",
      "✅ Страница 82 собрана за 1.62 сек\n",
      "🔎 Загружаем страницу 83: https://kinogo.org/serials/page/83/\n",
      "✅ Страница 83 собрана за 0.90 сек\n",
      "🔎 Загружаем страницу 84: https://kinogo.org/serials/page/84/\n",
      "✅ Страница 84 собрана за 1.04 сек\n",
      "🔎 Загружаем страницу 85: https://kinogo.org/serials/page/85/\n",
      "✅ Страница 85 собрана за 1.04 сек\n",
      "💾 Прогресс сохранён после страницы 85\n",
      "🔎 Загружаем страницу 86: https://kinogo.org/serials/page/86/\n",
      "✅ Страница 86 собрана за 0.91 сек\n",
      "🔎 Загружаем страницу 87: https://kinogo.org/serials/page/87/\n",
      "✅ Страница 87 собрана за 1.36 сек\n",
      "🔎 Загружаем страницу 88: https://kinogo.org/serials/page/88/\n",
      "✅ Страница 88 собрана за 1.02 сек\n",
      "🔎 Загружаем страницу 89: https://kinogo.org/serials/page/89/\n",
      "✅ Страница 89 собрана за 1.08 сек\n",
      "🔎 Загружаем страницу 90: https://kinogo.org/serials/page/90/\n",
      "✅ Страница 90 собрана за 0.81 сек\n",
      "💾 Прогресс сохранён после страницы 90\n",
      "🔎 Загружаем страницу 91: https://kinogo.org/serials/page/91/\n",
      "✅ Страница 91 собрана за 0.82 сек\n",
      "🔎 Загружаем страницу 92: https://kinogo.org/serials/page/92/\n",
      "✅ Страница 92 собрана за 1.02 сек\n",
      "🔎 Загружаем страницу 93: https://kinogo.org/serials/page/93/\n",
      "✅ Страница 93 собрана за 1.13 сек\n",
      "🔎 Загружаем страницу 94: https://kinogo.org/serials/page/94/\n",
      "✅ Страница 94 собрана за 1.16 сек\n",
      "🔎 Загружаем страницу 95: https://kinogo.org/serials/page/95/\n",
      "✅ Страница 95 собрана за 0.94 сек\n",
      "💾 Прогресс сохранён после страницы 95\n",
      "🔎 Загружаем страницу 96: https://kinogo.org/serials/page/96/\n",
      "✅ Страница 96 собрана за 0.92 сек\n",
      "🔎 Загружаем страницу 97: https://kinogo.org/serials/page/97/\n",
      "✅ Страница 97 собрана за 1.01 сек\n",
      "🔎 Загружаем страницу 98: https://kinogo.org/serials/page/98/\n",
      "✅ Страница 98 собрана за 0.93 сек\n",
      "🔎 Загружаем страницу 99: https://kinogo.org/serials/page/99/\n",
      "✅ Страница 99 собрана за 0.93 сек\n",
      "🔎 Загружаем страницу 100: https://kinogo.org/serials/page/100/\n",
      "♻ Перезапущен браузер на странице 100\n",
      "✅ Страница 100 собрана за 8.24 сек\n",
      "💾 Прогресс сохранён после страницы 100\n",
      "🔎 Загружаем страницу 101: https://kinogo.org/serials/page/101/\n",
      "✅ Страница 101 собрана за 1.16 сек\n",
      "🔎 Загружаем страницу 102: https://kinogo.org/serials/page/102/\n",
      "✅ Страница 102 собрана за 0.82 сек\n",
      "🔎 Загружаем страницу 103: https://kinogo.org/serials/page/103/\n",
      "✅ Страница 103 собрана за 0.87 сек\n",
      "🔎 Загружаем страницу 104: https://kinogo.org/serials/page/104/\n",
      "✅ Страница 104 собрана за 0.84 сек\n",
      "🔎 Загружаем страницу 105: https://kinogo.org/serials/page/105/\n",
      "✅ Страница 105 собрана за 0.83 сек\n",
      "💾 Прогресс сохранён после страницы 105\n",
      "🔎 Загружаем страницу 106: https://kinogo.org/serials/page/106/\n",
      "✅ Страница 106 собрана за 0.83 сек\n",
      "🔎 Загружаем страницу 107: https://kinogo.org/serials/page/107/\n",
      "✅ Страница 107 собрана за 0.75 сек\n",
      "🔎 Загружаем страницу 108: https://kinogo.org/serials/page/108/\n",
      "✅ Страница 108 собрана за 0.82 сек\n",
      "🔎 Загружаем страницу 109: https://kinogo.org/serials/page/109/\n",
      "✅ Страница 109 собрана за 0.81 сек\n",
      "🔎 Загружаем страницу 110: https://kinogo.org/serials/page/110/\n",
      "✅ Страница 110 собрана за 0.82 сек\n",
      "💾 Прогресс сохранён после страницы 110\n",
      "🔎 Загружаем страницу 111: https://kinogo.org/serials/page/111/\n",
      "✅ Страница 111 собрана за 0.79 сек\n",
      "🔎 Загружаем страницу 112: https://kinogo.org/serials/page/112/\n",
      "✅ Страница 112 собрана за 0.97 сек\n",
      "🔎 Загружаем страницу 113: https://kinogo.org/serials/page/113/\n",
      "✅ Страница 113 собрана за 1.28 сек\n",
      "🔎 Загружаем страницу 114: https://kinogo.org/serials/page/114/\n",
      "✅ Страница 114 собрана за 1.04 сек\n",
      "🔎 Загружаем страницу 115: https://kinogo.org/serials/page/115/\n",
      "✅ Страница 115 собрана за 1.23 сек\n",
      "💾 Прогресс сохранён после страницы 115\n",
      "🔎 Загружаем страницу 116: https://kinogo.org/serials/page/116/\n",
      "✅ Страница 116 собрана за 1.03 сек\n",
      "🔎 Загружаем страницу 117: https://kinogo.org/serials/page/117/\n",
      "✅ Страница 117 собрана за 1.00 сек\n",
      "🔎 Загружаем страницу 118: https://kinogo.org/serials/page/118/\n",
      "✅ Страница 118 собрана за 1.11 сек\n",
      "🔎 Загружаем страницу 119: https://kinogo.org/serials/page/119/\n",
      "✅ Страница 119 собрана за 0.88 сек\n",
      "🔎 Загружаем страницу 120: https://kinogo.org/serials/page/120/\n",
      "✅ Страница 120 собрана за 1.00 сек\n",
      "💾 Прогресс сохранён после страницы 120\n",
      "🔎 Загружаем страницу 121: https://kinogo.org/serials/page/121/\n",
      "✅ Страница 121 собрана за 0.99 сек\n",
      "🔎 Загружаем страницу 122: https://kinogo.org/serials/page/122/\n",
      "✅ Страница 122 собрана за 1.08 сек\n",
      "🔎 Загружаем страницу 123: https://kinogo.org/serials/page/123/\n",
      "✅ Страница 123 собрана за 0.96 сек\n",
      "🔎 Загружаем страницу 124: https://kinogo.org/serials/page/124/\n",
      "✅ Страница 124 собрана за 1.54 сек\n",
      "🔎 Загружаем страницу 125: https://kinogo.org/serials/page/125/\n",
      "✅ Страница 125 собрана за 1.64 сек\n",
      "💾 Прогресс сохранён после страницы 125\n",
      "🔎 Загружаем страницу 126: https://kinogo.org/serials/page/126/\n",
      "✅ Страница 126 собрана за 0.94 сек\n",
      "🔎 Загружаем страницу 127: https://kinogo.org/serials/page/127/\n",
      "✅ Страница 127 собрана за 1.89 сек\n",
      "🔎 Загружаем страницу 128: https://kinogo.org/serials/page/128/\n",
      "✅ Страница 128 собрана за 1.14 сек\n",
      "🔎 Загружаем страницу 129: https://kinogo.org/serials/page/129/\n",
      "✅ Страница 129 собрана за 1.05 сек\n",
      "🔎 Загружаем страницу 130: https://kinogo.org/serials/page/130/\n",
      "✅ Страница 130 собрана за 1.13 сек\n",
      "💾 Прогресс сохранён после страницы 130\n",
      "🔎 Загружаем страницу 131: https://kinogo.org/serials/page/131/\n",
      "✅ Страница 131 собрана за 1.45 сек\n",
      "🔎 Загружаем страницу 132: https://kinogo.org/serials/page/132/\n",
      "✅ Страница 132 собрана за 1.49 сек\n",
      "🔎 Загружаем страницу 133: https://kinogo.org/serials/page/133/\n",
      "✅ Страница 133 собрана за 0.88 сек\n",
      "🔎 Загружаем страницу 134: https://kinogo.org/serials/page/134/\n",
      "✅ Страница 134 собрана за 0.96 сек\n",
      "🔎 Загружаем страницу 135: https://kinogo.org/serials/page/135/\n",
      "✅ Страница 135 собрана за 0.92 сек\n",
      "💾 Прогресс сохранён после страницы 135\n",
      "🔎 Загружаем страницу 136: https://kinogo.org/serials/page/136/\n",
      "✅ Страница 136 собрана за 1.13 сек\n",
      "🔎 Загружаем страницу 137: https://kinogo.org/serials/page/137/\n",
      "✅ Страница 137 собрана за 0.99 сек\n",
      "🔎 Загружаем страницу 138: https://kinogo.org/serials/page/138/\n",
      "✅ Страница 138 собрана за 0.96 сек\n",
      "🔎 Загружаем страницу 139: https://kinogo.org/serials/page/139/\n",
      "✅ Страница 139 собрана за 0.88 сек\n",
      "🔎 Загружаем страницу 140: https://kinogo.org/serials/page/140/\n",
      "✅ Страница 140 собрана за 0.90 сек\n",
      "💾 Прогресс сохранён после страницы 140\n",
      "🔎 Загружаем страницу 141: https://kinogo.org/serials/page/141/\n",
      "✅ Страница 141 собрана за 1.13 сек\n",
      "🔎 Загружаем страницу 142: https://kinogo.org/serials/page/142/\n",
      "✅ Страница 142 собрана за 1.60 сек\n",
      "🔎 Загружаем страницу 143: https://kinogo.org/serials/page/143/\n",
      "✅ Страница 143 собрана за 1.04 сек\n",
      "🔎 Загружаем страницу 144: https://kinogo.org/serials/page/144/\n",
      "✅ Страница 144 собрана за 0.80 сек\n",
      "🔎 Загружаем страницу 145: https://kinogo.org/serials/page/145/\n",
      "✅ Страница 145 собрана за 0.97 сек\n",
      "💾 Прогресс сохранён после страницы 145\n",
      "🔎 Загружаем страницу 146: https://kinogo.org/serials/page/146/\n",
      "✅ Страница 146 собрана за 0.86 сек\n",
      "🔎 Загружаем страницу 147: https://kinogo.org/serials/page/147/\n",
      "✅ Страница 147 собрана за 0.79 сек\n",
      "🔎 Загружаем страницу 148: https://kinogo.org/serials/page/148/\n",
      "✅ Страница 148 собрана за 1.20 сек\n",
      "🔎 Загружаем страницу 149: https://kinogo.org/serials/page/149/\n",
      "✅ Страница 149 собрана за 0.84 сек\n",
      "🔎 Загружаем страницу 150: https://kinogo.org/serials/page/150/\n",
      "♻ Перезапущен браузер на странице 150\n",
      "✅ Страница 150 собрана за 3.87 сек\n",
      "💾 Прогресс сохранён после страницы 150\n",
      "🔎 Загружаем страницу 151: https://kinogo.org/serials/page/151/\n",
      "✅ Страница 151 собрана за 1.38 сек\n",
      "🔎 Загружаем страницу 152: https://kinogo.org/serials/page/152/\n",
      "✅ Страница 152 собрана за 1.20 сек\n",
      "🔎 Загружаем страницу 153: https://kinogo.org/serials/page/153/\n",
      "✅ Страница 153 собрана за 1.01 сек\n",
      "🔎 Загружаем страницу 154: https://kinogo.org/serials/page/154/\n",
      "✅ Страница 154 собрана за 1.02 сек\n",
      "🔎 Загружаем страницу 155: https://kinogo.org/serials/page/155/\n",
      "✅ Страница 155 собрана за 1.35 сек\n",
      "💾 Прогресс сохранён после страницы 155\n",
      "🔎 Загружаем страницу 156: https://kinogo.org/serials/page/156/\n",
      "✅ Страница 156 собрана за 0.93 сек\n",
      "🔎 Загружаем страницу 157: https://kinogo.org/serials/page/157/\n",
      "✅ Страница 157 собрана за 1.03 сек\n",
      "🔎 Загружаем страницу 158: https://kinogo.org/serials/page/158/\n",
      "✅ Страница 158 собрана за 0.94 сек\n",
      "🔎 Загружаем страницу 159: https://kinogo.org/serials/page/159/\n",
      "✅ Страница 159 собрана за 0.95 сек\n",
      "🔎 Загружаем страницу 160: https://kinogo.org/serials/page/160/\n",
      "✅ Страница 160 собрана за 1.13 сек\n",
      "💾 Прогресс сохранён после страницы 160\n",
      "🔎 Загружаем страницу 161: https://kinogo.org/serials/page/161/\n",
      "✅ Страница 161 собрана за 0.92 сек\n",
      "🔎 Загружаем страницу 162: https://kinogo.org/serials/page/162/\n",
      "✅ Страница 162 собрана за 1.83 сек\n",
      "🔎 Загружаем страницу 163: https://kinogo.org/serials/page/163/\n",
      "✅ Страница 163 собрана за 0.87 сек\n",
      "🔎 Загружаем страницу 164: https://kinogo.org/serials/page/164/\n",
      "✅ Страница 164 собрана за 0.84 сек\n",
      "🔎 Загружаем страницу 165: https://kinogo.org/serials/page/165/\n",
      "✅ Страница 165 собрана за 0.93 сек\n",
      "💾 Прогресс сохранён после страницы 165\n",
      "🔎 Загружаем страницу 166: https://kinogo.org/serials/page/166/\n",
      "✅ Страница 166 собрана за 1.03 сек\n",
      "🔎 Загружаем страницу 167: https://kinogo.org/serials/page/167/\n",
      "✅ Страница 167 собрана за 0.97 сек\n",
      "🔎 Загружаем страницу 168: https://kinogo.org/serials/page/168/\n",
      "✅ Страница 168 собрана за 0.88 сек\n",
      "🔎 Загружаем страницу 169: https://kinogo.org/serials/page/169/\n",
      "✅ Страница 169 собрана за 1.03 сек\n",
      "🔎 Загружаем страницу 170: https://kinogo.org/serials/page/170/\n",
      "✅ Страница 170 собрана за 1.15 сек\n",
      "💾 Прогресс сохранён после страницы 170\n",
      "🔎 Загружаем страницу 171: https://kinogo.org/serials/page/171/\n",
      "✅ Страница 171 собрана за 2.04 сек\n",
      "🔎 Загружаем страницу 172: https://kinogo.org/serials/page/172/\n",
      "✅ Страница 172 собрана за 0.96 сек\n",
      "🔎 Загружаем страницу 173: https://kinogo.org/serials/page/173/\n",
      "✅ Страница 173 собрана за 0.77 сек\n",
      "🔎 Загружаем страницу 174: https://kinogo.org/serials/page/174/\n",
      "✅ Страница 174 собрана за 0.75 сек\n",
      "🔎 Загружаем страницу 175: https://kinogo.org/serials/page/175/\n",
      "✅ Страница 175 собрана за 0.76 сек\n",
      "💾 Прогресс сохранён после страницы 175\n",
      "🔎 Загружаем страницу 176: https://kinogo.org/serials/page/176/\n",
      "✅ Страница 176 собрана за 0.90 сек\n",
      "🔎 Загружаем страницу 177: https://kinogo.org/serials/page/177/\n",
      "✅ Страница 177 собрана за 1.07 сек\n",
      "🔎 Загружаем страницу 178: https://kinogo.org/serials/page/178/\n",
      "✅ Страница 178 собрана за 0.91 сек\n",
      "🔎 Загружаем страницу 179: https://kinogo.org/serials/page/179/\n",
      "✅ Страница 179 собрана за 1.19 сек\n",
      "🔎 Загружаем страницу 180: https://kinogo.org/serials/page/180/\n",
      "✅ Страница 180 собрана за 1.35 сек\n",
      "💾 Прогресс сохранён после страницы 180\n",
      "🔎 Загружаем страницу 181: https://kinogo.org/serials/page/181/\n",
      "✅ Страница 181 собрана за 0.99 сек\n",
      "🔎 Загружаем страницу 182: https://kinogo.org/serials/page/182/\n",
      "✅ Страница 182 собрана за 0.87 сек\n",
      "🔎 Загружаем страницу 183: https://kinogo.org/serials/page/183/\n",
      "✅ Страница 183 собрана за 1.12 сек\n",
      "🔎 Загружаем страницу 184: https://kinogo.org/serials/page/184/\n",
      "✅ Страница 184 собрана за 1.35 сек\n",
      "🔎 Загружаем страницу 185: https://kinogo.org/serials/page/185/\n",
      "✅ Страница 185 собрана за 0.84 сек\n",
      "💾 Прогресс сохранён после страницы 185\n",
      "🔎 Загружаем страницу 186: https://kinogo.org/serials/page/186/\n",
      "✅ Страница 186 собрана за 0.77 сек\n",
      "🔎 Загружаем страницу 187: https://kinogo.org/serials/page/187/\n",
      "✅ Страница 187 собрана за 0.83 сек\n",
      "🔎 Загружаем страницу 188: https://kinogo.org/serials/page/188/\n",
      "✅ Страница 188 собрана за 0.87 сек\n",
      "🔎 Загружаем страницу 189: https://kinogo.org/serials/page/189/\n",
      "✅ Страница 189 собрана за 0.87 сек\n",
      "🔎 Загружаем страницу 190: https://kinogo.org/serials/page/190/\n",
      "✅ Страница 190 собрана за 0.75 сек\n",
      "💾 Прогресс сохранён после страницы 190\n",
      "🔎 Загружаем страницу 191: https://kinogo.org/serials/page/191/\n",
      "✅ Страница 191 собрана за 0.80 сек\n",
      "🔎 Загружаем страницу 192: https://kinogo.org/serials/page/192/\n",
      "✅ Страница 192 собрана за 0.93 сек\n",
      "🔎 Загружаем страницу 193: https://kinogo.org/serials/page/193/\n",
      "✅ Страница 193 собрана за 0.82 сек\n",
      "🔎 Загружаем страницу 194: https://kinogo.org/serials/page/194/\n",
      "✅ Страница 194 собрана за 1.08 сек\n",
      "🔎 Загружаем страницу 195: https://kinogo.org/serials/page/195/\n",
      "✅ Страница 195 собрана за 1.04 сек\n",
      "💾 Прогресс сохранён после страницы 195\n",
      "🔎 Загружаем страницу 196: https://kinogo.org/serials/page/196/\n",
      "✅ Страница 196 собрана за 0.93 сек\n",
      "🔎 Загружаем страницу 197: https://kinogo.org/serials/page/197/\n",
      "✅ Страница 197 собрана за 0.86 сек\n",
      "🔎 Загружаем страницу 198: https://kinogo.org/serials/page/198/\n",
      "✅ Страница 198 собрана за 0.88 сек\n",
      "🔎 Загружаем страницу 199: https://kinogo.org/serials/page/199/\n",
      "✅ Страница 199 собрана за 0.79 сек\n",
      "🔎 Загружаем страницу 200: https://kinogo.org/serials/page/200/\n",
      "♻ Перезапущен браузер на странице 200\n",
      "✅ Страница 200 собрана за 3.98 сек\n",
      "💾 Прогресс сохранён после страницы 200\n",
      "🔎 Загружаем страницу 201: https://kinogo.org/serials/page/201/\n",
      "✅ Страница 201 собрана за 0.93 сек\n",
      "🔎 Загружаем страницу 202: https://kinogo.org/serials/page/202/\n",
      "✅ Страница 202 собрана за 0.91 сек\n",
      "🔎 Загружаем страницу 203: https://kinogo.org/serials/page/203/\n",
      "✅ Страница 203 собрана за 0.87 сек\n",
      "🔎 Загружаем страницу 204: https://kinogo.org/serials/page/204/\n",
      "✅ Страница 204 собрана за 0.78 сек\n",
      "🔎 Загружаем страницу 205: https://kinogo.org/serials/page/205/\n",
      "✅ Страница 205 собрана за 0.91 сек\n",
      "💾 Прогресс сохранён после страницы 205\n",
      "🔎 Загружаем страницу 206: https://kinogo.org/serials/page/206/\n",
      "✅ Страница 206 собрана за 0.82 сек\n",
      "🔎 Загружаем страницу 207: https://kinogo.org/serials/page/207/\n",
      "✅ Страница 207 собрана за 1.06 сек\n",
      "🔎 Загружаем страницу 208: https://kinogo.org/serials/page/208/\n",
      "✅ Страница 208 собрана за 1.09 сек\n",
      "🔎 Загружаем страницу 209: https://kinogo.org/serials/page/209/\n",
      "✅ Страница 209 собрана за 0.84 сек\n",
      "🔎 Загружаем страницу 210: https://kinogo.org/serials/page/210/\n",
      "✅ Страница 210 собрана за 1.57 сек\n",
      "💾 Прогресс сохранён после страницы 210\n",
      "🔎 Загружаем страницу 211: https://kinogo.org/serials/page/211/\n",
      "✅ Страница 211 собрана за 0.79 сек\n",
      "🔎 Загружаем страницу 212: https://kinogo.org/serials/page/212/\n",
      "✅ Страница 212 собрана за 0.87 сек\n",
      "🔎 Загружаем страницу 213: https://kinogo.org/serials/page/213/\n",
      "✅ Страница 213 собрана за 0.88 сек\n",
      "🔎 Загружаем страницу 214: https://kinogo.org/serials/page/214/\n",
      "✅ Страница 214 собрана за 0.87 сек\n",
      "🔎 Загружаем страницу 215: https://kinogo.org/serials/page/215/\n",
      "✅ Страница 215 собрана за 0.93 сек\n",
      "💾 Прогресс сохранён после страницы 215\n",
      "🔎 Загружаем страницу 216: https://kinogo.org/serials/page/216/\n",
      "✅ Страница 216 собрана за 0.76 сек\n",
      "🔎 Загружаем страницу 217: https://kinogo.org/serials/page/217/\n",
      "✅ Страница 217 собрана за 0.91 сек\n",
      "🔎 Загружаем страницу 218: https://kinogo.org/serials/page/218/\n",
      "✅ Страница 218 собрана за 0.84 сек\n",
      "🔎 Загружаем страницу 219: https://kinogo.org/serials/page/219/\n",
      "✅ Страница 219 собрана за 1.40 сек\n",
      "🔎 Загружаем страницу 220: https://kinogo.org/serials/page/220/\n",
      "✅ Страница 220 собрана за 0.80 сек\n",
      "💾 Прогресс сохранён после страницы 220\n",
      "🔎 Загружаем страницу 221: https://kinogo.org/serials/page/221/\n",
      "✅ Страница 221 собрана за 0.78 сек\n",
      "🔎 Загружаем страницу 222: https://kinogo.org/serials/page/222/\n",
      "✅ Страница 222 собрана за 0.85 сек\n",
      "🔎 Загружаем страницу 223: https://kinogo.org/serials/page/223/\n",
      "✅ Страница 223 собрана за 1.03 сек\n",
      "🔎 Загружаем страницу 224: https://kinogo.org/serials/page/224/\n",
      "✅ Страница 224 собрана за 0.81 сек\n",
      "🔎 Загружаем страницу 225: https://kinogo.org/serials/page/225/\n",
      "✅ Страница 225 собрана за 0.92 сек\n",
      "💾 Прогресс сохранён после страницы 225\n",
      "🔎 Загружаем страницу 226: https://kinogo.org/serials/page/226/\n",
      "✅ Страница 226 собрана за 0.83 сек\n",
      "🔎 Загружаем страницу 227: https://kinogo.org/serials/page/227/\n",
      "✅ Страница 227 собрана за 1.40 сек\n",
      "🔎 Загружаем страницу 228: https://kinogo.org/serials/page/228/\n",
      "✅ Страница 228 собрана за 0.88 сек\n",
      "🔎 Загружаем страницу 229: https://kinogo.org/serials/page/229/\n",
      "✅ Страница 229 собрана за 1.05 сек\n",
      "🔎 Загружаем страницу 230: https://kinogo.org/serials/page/230/\n",
      "✅ Страница 230 собрана за 0.99 сек\n",
      "💾 Прогресс сохранён после страницы 230\n",
      "🔎 Загружаем страницу 231: https://kinogo.org/serials/page/231/\n",
      "✅ Страница 231 собрана за 1.54 сек\n",
      "🔎 Загружаем страницу 232: https://kinogo.org/serials/page/232/\n",
      "✅ Страница 232 собрана за 1.31 сек\n",
      "🔎 Загружаем страницу 233: https://kinogo.org/serials/page/233/\n",
      "✅ Страница 233 собрана за 1.50 сек\n",
      "🔎 Загружаем страницу 234: https://kinogo.org/serials/page/234/\n",
      "✅ Страница 234 собрана за 1.02 сек\n",
      "🔎 Загружаем страницу 235: https://kinogo.org/serials/page/235/\n",
      "✅ Страница 235 собрана за 0.92 сек\n",
      "💾 Прогресс сохранён после страницы 235\n",
      "🔎 Загружаем страницу 236: https://kinogo.org/serials/page/236/\n",
      "✅ Страница 236 собрана за 0.93 сек\n",
      "🔎 Загружаем страницу 237: https://kinogo.org/serials/page/237/\n",
      "✅ Страница 237 собрана за 0.96 сек\n",
      "🔎 Загружаем страницу 238: https://kinogo.org/serials/page/238/\n",
      "✅ Страница 238 собрана за 1.02 сек\n",
      "🔎 Загружаем страницу 239: https://kinogo.org/serials/page/239/\n",
      "✅ Страница 239 собрана за 0.92 сек\n",
      "🔎 Загружаем страницу 240: https://kinogo.org/serials/page/240/\n",
      "✅ Страница 240 собрана за 1.16 сек\n",
      "💾 Прогресс сохранён после страницы 240\n",
      "🔎 Загружаем страницу 241: https://kinogo.org/serials/page/241/\n",
      "✅ Страница 241 собрана за 0.89 сек\n",
      "🔎 Загружаем страницу 242: https://kinogo.org/serials/page/242/\n",
      "✅ Страница 242 собрана за 1.15 сек\n",
      "🔎 Загружаем страницу 243: https://kinogo.org/serials/page/243/\n",
      "✅ Страница 243 собрана за 1.01 сек\n",
      "🔎 Загружаем страницу 244: https://kinogo.org/serials/page/244/\n",
      "✅ Страница 244 собрана за 1.28 сек\n",
      "🔎 Загружаем страницу 245: https://kinogo.org/serials/page/245/\n",
      "✅ Страница 245 собрана за 0.83 сек\n",
      "💾 Прогресс сохранён после страницы 245\n",
      "🔎 Загружаем страницу 246: https://kinogo.org/serials/page/246/\n",
      "✅ Страница 246 собрана за 0.80 сек\n",
      "🔎 Загружаем страницу 247: https://kinogo.org/serials/page/247/\n",
      "✅ Страница 247 собрана за 1.40 сек\n",
      "🔎 Загружаем страницу 248: https://kinogo.org/serials/page/248/\n",
      "✅ Страница 248 собрана за 0.88 сек\n",
      "🔎 Загружаем страницу 249: https://kinogo.org/serials/page/249/\n",
      "✅ Страница 249 собрана за 0.92 сек\n",
      "🔎 Загружаем страницу 250: https://kinogo.org/serials/page/250/\n",
      "♻ Перезапущен браузер на странице 250\n",
      "✅ Страница 250 собрана за 5.28 сек\n",
      "💾 Прогресс сохранён после страницы 250\n",
      "🔎 Загружаем страницу 251: https://kinogo.org/serials/page/251/\n",
      "✅ Страница 251 собрана за 0.96 сек\n",
      "🔎 Загружаем страницу 252: https://kinogo.org/serials/page/252/\n",
      "✅ Страница 252 собрана за 1.19 сек\n",
      "🔎 Загружаем страницу 253: https://kinogo.org/serials/page/253/\n",
      "✅ Страница 253 собрана за 0.78 сек\n",
      "🔎 Загружаем страницу 254: https://kinogo.org/serials/page/254/\n",
      "✅ Страница 254 собрана за 1.03 сек\n",
      "🔎 Загружаем страницу 255: https://kinogo.org/serials/page/255/\n",
      "✅ Страница 255 собрана за 0.80 сек\n",
      "💾 Прогресс сохранён после страницы 255\n",
      "🔎 Загружаем страницу 256: https://kinogo.org/serials/page/256/\n",
      "✅ Страница 256 собрана за 1.07 сек\n",
      "🔎 Загружаем страницу 257: https://kinogo.org/serials/page/257/\n",
      "✅ Страница 257 собрана за 1.05 сек\n",
      "🔎 Загружаем страницу 258: https://kinogo.org/serials/page/258/\n",
      "✅ Страница 258 собрана за 0.87 сек\n",
      "🔎 Загружаем страницу 259: https://kinogo.org/serials/page/259/\n",
      "✅ Страница 259 собрана за 0.81 сек\n",
      "🔎 Загружаем страницу 260: https://kinogo.org/serials/page/260/\n",
      "✅ Страница 260 собрана за 0.85 сек\n",
      "💾 Прогресс сохранён после страницы 260\n",
      "🔎 Загружаем страницу 261: https://kinogo.org/serials/page/261/\n",
      "✅ Страница 261 собрана за 0.82 сек\n",
      "🔎 Загружаем страницу 262: https://kinogo.org/serials/page/262/\n",
      "✅ Страница 262 собрана за 0.76 сек\n",
      "🔎 Загружаем страницу 263: https://kinogo.org/serials/page/263/\n",
      "✅ Страница 263 собрана за 0.77 сек\n",
      "🔎 Загружаем страницу 264: https://kinogo.org/serials/page/264/\n",
      "✅ Страница 264 собрана за 0.83 сек\n",
      "🔎 Загружаем страницу 265: https://kinogo.org/serials/page/265/\n",
      "✅ Страница 265 собрана за 0.86 сек\n",
      "💾 Прогресс сохранён после страницы 265\n",
      "🔎 Загружаем страницу 266: https://kinogo.org/serials/page/266/\n",
      "✅ Страница 266 собрана за 1.11 сек\n",
      "🔎 Загружаем страницу 267: https://kinogo.org/serials/page/267/\n",
      "✅ Страница 267 собрана за 0.78 сек\n",
      "🔎 Загружаем страницу 268: https://kinogo.org/serials/page/268/\n",
      "✅ Страница 268 собрана за 0.83 сек\n",
      "🔎 Загружаем страницу 269: https://kinogo.org/serials/page/269/\n",
      "✅ Страница 269 собрана за 0.84 сек\n",
      "🔎 Загружаем страницу 270: https://kinogo.org/serials/page/270/\n",
      "✅ Страница 270 собрана за 0.75 сек\n",
      "💾 Прогресс сохранён после страницы 270\n",
      "🔎 Загружаем страницу 271: https://kinogo.org/serials/page/271/\n",
      "✅ Страница 271 собрана за 0.84 сек\n",
      "🔎 Загружаем страницу 272: https://kinogo.org/serials/page/272/\n",
      "✅ Страница 272 собрана за 0.83 сек\n",
      "🔎 Загружаем страницу 273: https://kinogo.org/serials/page/273/\n",
      "✅ Страница 273 собрана за 0.85 сек\n",
      "🔎 Загружаем страницу 274: https://kinogo.org/serials/page/274/\n",
      "✅ Страница 274 собрана за 0.85 сек\n",
      "🔎 Загружаем страницу 275: https://kinogo.org/serials/page/275/\n",
      "✅ Страница 275 собрана за 0.80 сек\n",
      "💾 Прогресс сохранён после страницы 275\n",
      "🔎 Загружаем страницу 276: https://kinogo.org/serials/page/276/\n",
      "✅ Страница 276 собрана за 0.84 сек\n",
      "🔎 Загружаем страницу 277: https://kinogo.org/serials/page/277/\n",
      "✅ Страница 277 собрана за 0.80 сек\n",
      "🔎 Загружаем страницу 278: https://kinogo.org/serials/page/278/\n",
      "✅ Страница 278 собрана за 1.08 сек\n",
      "🔎 Загружаем страницу 279: https://kinogo.org/serials/page/279/\n",
      "✅ Страница 279 собрана за 0.79 сек\n",
      "🔎 Загружаем страницу 280: https://kinogo.org/serials/page/280/\n",
      "✅ Страница 280 собрана за 0.77 сек\n",
      "💾 Прогресс сохранён после страницы 280\n",
      "🔎 Загружаем страницу 281: https://kinogo.org/serials/page/281/\n",
      "✅ Страница 281 собрана за 0.87 сек\n",
      "🔎 Загружаем страницу 282: https://kinogo.org/serials/page/282/\n",
      "✅ Страница 282 собрана за 1.27 сек\n",
      "🔎 Загружаем страницу 283: https://kinogo.org/serials/page/283/\n",
      "✅ Страница 283 собрана за 0.82 сек\n",
      "🔎 Загружаем страницу 284: https://kinogo.org/serials/page/284/\n",
      "✅ Страница 284 собрана за 0.78 сек\n",
      "🔎 Загружаем страницу 285: https://kinogo.org/serials/page/285/\n",
      "✅ Страница 285 собрана за 0.93 сек\n",
      "💾 Прогресс сохранён после страницы 285\n",
      "🔎 Загружаем страницу 286: https://kinogo.org/serials/page/286/\n",
      "✅ Страница 286 собрана за 0.84 сек\n",
      "🔎 Загружаем страницу 287: https://kinogo.org/serials/page/287/\n",
      "✅ Страница 287 собрана за 0.92 сек\n",
      "🔎 Загружаем страницу 288: https://kinogo.org/serials/page/288/\n",
      "✅ Страница 288 собрана за 0.82 сек\n",
      "🔎 Загружаем страницу 289: https://kinogo.org/serials/page/289/\n",
      "✅ Страница 289 собрана за 0.99 сек\n",
      "🔎 Загружаем страницу 290: https://kinogo.org/serials/page/290/\n",
      "✅ Страница 290 собрана за 1.20 сек\n",
      "💾 Прогресс сохранён после страницы 290\n",
      "🔎 Загружаем страницу 291: https://kinogo.org/serials/page/291/\n",
      "✅ Страница 291 собрана за 0.84 сек\n",
      "🔎 Загружаем страницу 292: https://kinogo.org/serials/page/292/\n",
      "✅ Страница 292 собрана за 0.83 сек\n",
      "🔎 Загружаем страницу 293: https://kinogo.org/serials/page/293/\n",
      "✅ Страница 293 собрана за 0.83 сек\n",
      "🔎 Загружаем страницу 294: https://kinogo.org/serials/page/294/\n",
      "✅ Страница 294 собрана за 0.93 сек\n",
      "🔎 Загружаем страницу 295: https://kinogo.org/serials/page/295/\n",
      "✅ Страница 295 собрана за 0.88 сек\n",
      "💾 Прогресс сохранён после страницы 295\n",
      "🔎 Загружаем страницу 296: https://kinogo.org/serials/page/296/\n",
      "✅ Страница 296 собрана за 0.81 сек\n",
      "🔎 Загружаем страницу 297: https://kinogo.org/serials/page/297/\n",
      "✅ Страница 297 собрана за 0.79 сек\n",
      "🔎 Загружаем страницу 298: https://kinogo.org/serials/page/298/\n",
      "✅ Страница 298 собрана за 0.87 сек\n",
      "🔎 Загружаем страницу 299: https://kinogo.org/serials/page/299/\n",
      "✅ Страница 299 собрана за 0.84 сек\n",
      "🔎 Загружаем страницу 300: https://kinogo.org/serials/page/300/\n",
      "♻ Перезапущен браузер на странице 300\n",
      "✅ Страница 300 собрана за 5.65 сек\n",
      "💾 Прогресс сохранён после страницы 300\n",
      "🔎 Загружаем страницу 301: https://kinogo.org/serials/page/301/\n",
      "✅ Страница 301 собрана за 1.07 сек\n",
      "🔎 Загружаем страницу 302: https://kinogo.org/serials/page/302/\n",
      "✅ Страница 302 собрана за 0.83 сек\n",
      "🔎 Загружаем страницу 303: https://kinogo.org/serials/page/303/\n",
      "✅ Страница 303 собрана за 0.91 сек\n",
      "🔎 Загружаем страницу 304: https://kinogo.org/serials/page/304/\n",
      "✅ Страница 304 собрана за 0.76 сек\n",
      "🔎 Загружаем страницу 305: https://kinogo.org/serials/page/305/\n",
      "✅ Страница 305 собрана за 0.75 сек\n",
      "💾 Прогресс сохранён после страницы 305\n",
      "🔎 Загружаем страницу 306: https://kinogo.org/serials/page/306/\n",
      "✅ Страница 306 собрана за 0.77 сек\n",
      "🔎 Загружаем страницу 307: https://kinogo.org/serials/page/307/\n",
      "✅ Страница 307 собрана за 1.07 сек\n",
      "🔎 Загружаем страницу 308: https://kinogo.org/serials/page/308/\n",
      "✅ Страница 308 собрана за 0.80 сек\n",
      "🔎 Загружаем страницу 309: https://kinogo.org/serials/page/309/\n",
      "✅ Страница 309 собрана за 0.80 сек\n",
      "🔎 Загружаем страницу 310: https://kinogo.org/serials/page/310/\n",
      "✅ Страница 310 собрана за 0.83 сек\n",
      "💾 Прогресс сохранён после страницы 310\n",
      "🔎 Загружаем страницу 311: https://kinogo.org/serials/page/311/\n",
      "✅ Страница 311 собрана за 0.99 сек\n",
      "🔎 Загружаем страницу 312: https://kinogo.org/serials/page/312/\n",
      "✅ Страница 312 собрана за 0.84 сек\n",
      "🔎 Загружаем страницу 313: https://kinogo.org/serials/page/313/\n",
      "✅ Страница 313 собрана за 1.05 сек\n",
      "🔎 Загружаем страницу 314: https://kinogo.org/serials/page/314/\n",
      "✅ Страница 314 собрана за 0.74 сек\n",
      "🔎 Загружаем страницу 315: https://kinogo.org/serials/page/315/\n",
      "✅ Страница 315 собрана за 0.83 сек\n",
      "💾 Прогресс сохранён после страницы 315\n",
      "🔎 Загружаем страницу 316: https://kinogo.org/serials/page/316/\n",
      "✅ Страница 316 собрана за 0.90 сек\n",
      "🔎 Загружаем страницу 317: https://kinogo.org/serials/page/317/\n",
      "✅ Страница 317 собрана за 0.79 сек\n",
      "🔎 Загружаем страницу 318: https://kinogo.org/serials/page/318/\n",
      "✅ Страница 318 собрана за 0.92 сек\n",
      "🔎 Загружаем страницу 319: https://kinogo.org/serials/page/319/\n",
      "✅ Страница 319 собрана за 1.02 сек\n",
      "🔎 Загружаем страницу 320: https://kinogo.org/serials/page/320/\n",
      "✅ Страница 320 собрана за 0.87 сек\n",
      "💾 Прогресс сохранён после страницы 320\n",
      "🔎 Загружаем страницу 321: https://kinogo.org/serials/page/321/\n",
      "✅ Страница 321 собрана за 0.93 сек\n",
      "🔎 Загружаем страницу 322: https://kinogo.org/serials/page/322/\n",
      "✅ Страница 322 собрана за 0.76 сек\n",
      "🔎 Загружаем страницу 323: https://kinogo.org/serials/page/323/\n",
      "✅ Страница 323 собрана за 0.87 сек\n",
      "🔎 Загружаем страницу 324: https://kinogo.org/serials/page/324/\n",
      "✅ Страница 324 собрана за 0.82 сек\n",
      "🔎 Загружаем страницу 325: https://kinogo.org/serials/page/325/\n",
      "✅ Страница 325 собрана за 1.10 сек\n",
      "💾 Прогресс сохранён после страницы 325\n",
      "🔎 Загружаем страницу 326: https://kinogo.org/serials/page/326/\n",
      "✅ Страница 326 собрана за 0.75 сек\n",
      "🔎 Загружаем страницу 327: https://kinogo.org/serials/page/327/\n",
      "✅ Страница 327 собрана за 0.78 сек\n",
      "🔎 Загружаем страницу 328: https://kinogo.org/serials/page/328/\n",
      "✅ Страница 328 собрана за 0.84 сек\n",
      "🔎 Загружаем страницу 329: https://kinogo.org/serials/page/329/\n",
      "✅ Страница 329 собрана за 1.04 сек\n",
      "🔎 Загружаем страницу 330: https://kinogo.org/serials/page/330/\n",
      "✅ Страница 330 собрана за 0.77 сек\n",
      "💾 Прогресс сохранён после страницы 330\n",
      "🔎 Загружаем страницу 331: https://kinogo.org/serials/page/331/\n",
      "✅ Страница 331 собрана за 0.77 сек\n",
      "🔎 Загружаем страницу 332: https://kinogo.org/serials/page/332/\n",
      "✅ Страница 332 собрана за 0.85 сек\n",
      "🔎 Загружаем страницу 333: https://kinogo.org/serials/page/333/\n",
      "✅ Страница 333 собрана за 0.90 сек\n",
      "🔎 Загружаем страницу 334: https://kinogo.org/serials/page/334/\n",
      "✅ Страница 334 собрана за 0.81 сек\n",
      "🔎 Загружаем страницу 335: https://kinogo.org/serials/page/335/\n",
      "✅ Страница 335 собрана за 0.82 сек\n",
      "💾 Прогресс сохранён после страницы 335\n",
      "🔎 Загружаем страницу 336: https://kinogo.org/serials/page/336/\n",
      "✅ Страница 336 собрана за 0.80 сек\n",
      "🔎 Загружаем страницу 337: https://kinogo.org/serials/page/337/\n",
      "✅ Страница 337 собрана за 1.16 сек\n",
      "🔎 Загружаем страницу 338: https://kinogo.org/serials/page/338/\n",
      "✅ Страница 338 собрана за 0.99 сек\n",
      "🔎 Загружаем страницу 339: https://kinogo.org/serials/page/339/\n",
      "✅ Страница 339 собрана за 0.81 сек\n",
      "🔎 Загружаем страницу 340: https://kinogo.org/serials/page/340/\n",
      "✅ Страница 340 собрана за 0.83 сек\n",
      "💾 Прогресс сохранён после страницы 340\n",
      "🔎 Загружаем страницу 341: https://kinogo.org/serials/page/341/\n",
      "✅ Страница 341 собрана за 0.83 сек\n",
      "🔎 Загружаем страницу 342: https://kinogo.org/serials/page/342/\n",
      "✅ Страница 342 собрана за 0.94 сек\n",
      "🔎 Загружаем страницу 343: https://kinogo.org/serials/page/343/\n",
      "✅ Страница 343 собрана за 0.77 сек\n",
      "🔎 Загружаем страницу 344: https://kinogo.org/serials/page/344/\n",
      "✅ Страница 344 собрана за 0.79 сек\n",
      "🔎 Загружаем страницу 345: https://kinogo.org/serials/page/345/\n",
      "✅ Страница 345 собрана за 0.80 сек\n",
      "💾 Прогресс сохранён после страницы 345\n",
      "🔎 Загружаем страницу 346: https://kinogo.org/serials/page/346/\n",
      "✅ Страница 346 собрана за 0.85 сек\n",
      "🔎 Загружаем страницу 347: https://kinogo.org/serials/page/347/\n",
      "✅ Страница 347 собрана за 1.05 сек\n",
      "🔎 Загружаем страницу 348: https://kinogo.org/serials/page/348/\n",
      "✅ Страница 348 собрана за 1.15 сек\n",
      "🔎 Загружаем страницу 349: https://kinogo.org/serials/page/349/\n",
      "✅ Страница 349 собрана за 1.10 сек\n",
      "🔎 Загружаем страницу 350: https://kinogo.org/serials/page/350/\n",
      "♻ Перезапущен браузер на странице 350\n",
      "✅ Страница 350 собрана за 6.98 сек\n",
      "💾 Прогресс сохранён после страницы 350\n",
      "🔎 Загружаем страницу 351: https://kinogo.org/serials/page/351/\n",
      "✅ Страница 351 собрана за 0.88 сек\n",
      "🔎 Загружаем страницу 352: https://kinogo.org/serials/page/352/\n",
      "✅ Страница 352 собрана за 0.86 сек\n",
      "🔎 Загружаем страницу 353: https://kinogo.org/serials/page/353/\n",
      "✅ Страница 353 собрана за 8.40 сек\n",
      "🔎 Загружаем страницу 354: https://kinogo.org/serials/page/354/\n",
      "✅ Страница 354 собрана за 0.96 сек\n",
      "🔎 Загружаем страницу 355: https://kinogo.org/serials/page/355/\n",
      "✅ Страница 355 собрана за 0.93 сек\n",
      "💾 Прогресс сохранён после страницы 355\n",
      "🔎 Загружаем страницу 356: https://kinogo.org/serials/page/356/\n",
      "✅ Страница 356 собрана за 1.17 сек\n",
      "🔎 Загружаем страницу 357: https://kinogo.org/serials/page/357/\n",
      "✅ Страница 357 собрана за 1.27 сек\n",
      "🔎 Загружаем страницу 358: https://kinogo.org/serials/page/358/\n",
      "✅ Страница 358 собрана за 1.08 сек\n",
      "🔎 Загружаем страницу 359: https://kinogo.org/serials/page/359/\n",
      "✅ Страница 359 собрана за 1.08 сек\n",
      "🔎 Загружаем страницу 360: https://kinogo.org/serials/page/360/\n",
      "✅ Страница 360 собрана за 0.98 сек\n",
      "💾 Прогресс сохранён после страницы 360\n",
      "🔎 Загружаем страницу 361: https://kinogo.org/serials/page/361/\n",
      "✅ Страница 361 собрана за 1.12 сек\n",
      "🔎 Загружаем страницу 362: https://kinogo.org/serials/page/362/\n",
      "✅ Страница 362 собрана за 1.34 сек\n",
      "🔎 Загружаем страницу 363: https://kinogo.org/serials/page/363/\n",
      "✅ Страница 363 собрана за 1.07 сек\n",
      "🔎 Загружаем страницу 364: https://kinogo.org/serials/page/364/\n",
      "✅ Страница 364 собрана за 1.38 сек\n",
      "🔎 Загружаем страницу 365: https://kinogo.org/serials/page/365/\n",
      "✅ Страница 365 собрана за 2.16 сек\n",
      "💾 Прогресс сохранён после страницы 365\n",
      "🔎 Загружаем страницу 366: https://kinogo.org/serials/page/366/\n",
      "✅ Страница 366 собрана за 1.14 сек\n",
      "🔎 Загружаем страницу 367: https://kinogo.org/serials/page/367/\n",
      "✅ Страница 367 собрана за 1.26 сек\n",
      "🔎 Загружаем страницу 368: https://kinogo.org/serials/page/368/\n",
      "✅ Страница 368 собрана за 1.31 сек\n",
      "🔎 Загружаем страницу 369: https://kinogo.org/serials/page/369/\n",
      "✅ Страница 369 собрана за 1.22 сек\n",
      "🔎 Загружаем страницу 370: https://kinogo.org/serials/page/370/\n",
      "✅ Страница 370 собрана за 1.25 сек\n",
      "💾 Прогресс сохранён после страницы 370\n",
      "🔎 Загружаем страницу 371: https://kinogo.org/serials/page/371/\n",
      "✅ Страница 371 собрана за 1.25 сек\n",
      "🔎 Загружаем страницу 372: https://kinogo.org/serials/page/372/\n",
      "✅ Страница 372 собрана за 1.66 сек\n",
      "🔎 Загружаем страницу 373: https://kinogo.org/serials/page/373/\n",
      "✅ Страница 373 собрана за 1.47 сек\n",
      "🔎 Загружаем страницу 374: https://kinogo.org/serials/page/374/\n",
      "✅ Страница 374 собрана за 1.36 сек\n",
      "🔎 Загружаем страницу 375: https://kinogo.org/serials/page/375/\n",
      "✅ Страница 375 собрана за 1.17 сек\n",
      "💾 Прогресс сохранён после страницы 375\n",
      "🔎 Загружаем страницу 376: https://kinogo.org/serials/page/376/\n",
      "✅ Страница 376 собрана за 1.47 сек\n",
      "🔎 Загружаем страницу 377: https://kinogo.org/serials/page/377/\n",
      "✅ Страница 377 собрана за 1.30 сек\n",
      "🔎 Загружаем страницу 378: https://kinogo.org/serials/page/378/\n",
      "✅ Страница 378 собрана за 1.26 сек\n",
      "🔎 Загружаем страницу 379: https://kinogo.org/serials/page/379/\n",
      "✅ Страница 379 собрана за 1.18 сек\n",
      "🔎 Загружаем страницу 380: https://kinogo.org/serials/page/380/\n",
      "✅ Страница 380 собрана за 1.42 сек\n",
      "💾 Прогресс сохранён после страницы 380\n",
      "🔎 Загружаем страницу 381: https://kinogo.org/serials/page/381/\n",
      "✅ Страница 381 собрана за 1.13 сек\n",
      "🔎 Загружаем страницу 382: https://kinogo.org/serials/page/382/\n",
      "✅ Страница 382 собрана за 0.97 сек\n",
      "🔎 Загружаем страницу 383: https://kinogo.org/serials/page/383/\n",
      "✅ Страница 383 собрана за 0.92 сек\n",
      "🔎 Загружаем страницу 384: https://kinogo.org/serials/page/384/\n",
      "✅ Страница 384 собрана за 1.34 сек\n",
      "🔎 Загружаем страницу 385: https://kinogo.org/serials/page/385/\n",
      "✅ Страница 385 собрана за 1.40 сек\n",
      "💾 Прогресс сохранён после страницы 385\n",
      "🔎 Загружаем страницу 386: https://kinogo.org/serials/page/386/\n",
      "✅ Страница 386 собрана за 1.12 сек\n",
      "🔎 Загружаем страницу 387: https://kinogo.org/serials/page/387/\n",
      "✅ Страница 387 собрана за 1.44 сек\n",
      "🔎 Загружаем страницу 388: https://kinogo.org/serials/page/388/\n",
      "✅ Страница 388 собрана за 1.46 сек\n",
      "🔎 Загружаем страницу 389: https://kinogo.org/serials/page/389/\n",
      "✅ Страница 389 собрана за 1.58 сек\n",
      "🔎 Загружаем страницу 390: https://kinogo.org/serials/page/390/\n",
      "✅ Страница 390 собрана за 1.42 сек\n",
      "💾 Прогресс сохранён после страницы 390\n",
      "🔎 Загружаем страницу 391: https://kinogo.org/serials/page/391/\n",
      "✅ Страница 391 собрана за 1.82 сек\n",
      "🔎 Загружаем страницу 392: https://kinogo.org/serials/page/392/\n",
      "✅ Страница 392 собрана за 1.24 сек\n",
      "🔎 Загружаем страницу 393: https://kinogo.org/serials/page/393/\n",
      "✅ Страница 393 собрана за 0.96 сек\n",
      "🔎 Загружаем страницу 394: https://kinogo.org/serials/page/394/\n",
      "✅ Страница 394 собрана за 1.00 сек\n",
      "🔎 Загружаем страницу 395: https://kinogo.org/serials/page/395/\n",
      "✅ Страница 395 собрана за 1.45 сек\n",
      "💾 Прогресс сохранён после страницы 395\n",
      "🔎 Загружаем страницу 396: https://kinogo.org/serials/page/396/\n",
      "✅ Страница 396 собрана за 1.92 сек\n",
      "🔎 Загружаем страницу 397: https://kinogo.org/serials/page/397/\n",
      "✅ Страница 397 собрана за 1.10 сек\n",
      "🔎 Загружаем страницу 398: https://kinogo.org/serials/page/398/\n",
      "✅ Страница 398 собрана за 1.08 сек\n",
      "🔎 Загружаем страницу 399: https://kinogo.org/serials/page/399/\n",
      "✅ Страница 399 собрана за 1.17 сек\n",
      "🔎 Загружаем страницу 400: https://kinogo.org/serials/page/400/\n",
      "♻ Перезапущен браузер на странице 400\n",
      "✅ Страница 400 собрана за 6.01 сек\n",
      "💾 Прогресс сохранён после страницы 400\n",
      "🔎 Загружаем страницу 401: https://kinogo.org/serials/page/401/\n",
      "✅ Страница 401 собрана за 1.38 сек\n",
      "🔎 Загружаем страницу 402: https://kinogo.org/serials/page/402/\n",
      "✅ Страница 402 собрана за 1.66 сек\n",
      "🔎 Загружаем страницу 403: https://kinogo.org/serials/page/403/\n",
      "✅ Страница 403 собрана за 1.41 сек\n",
      "🔎 Загружаем страницу 404: https://kinogo.org/serials/page/404/\n",
      "✅ Страница 404 собрана за 1.99 сек\n",
      "🔎 Загружаем страницу 405: https://kinogo.org/serials/page/405/\n",
      "✅ Страница 405 собрана за 1.12 сек\n",
      "💾 Прогресс сохранён после страницы 405\n",
      "🔎 Загружаем страницу 406: https://kinogo.org/serials/page/406/\n",
      "✅ Страница 406 собрана за 0.86 сек\n",
      "🔎 Загружаем страницу 407: https://kinogo.org/serials/page/407/\n",
      "✅ Страница 407 собрана за 1.02 сек\n",
      "🔎 Загружаем страницу 408: https://kinogo.org/serials/page/408/\n",
      "✅ Страница 408 собрана за 1.40 сек\n",
      "🔎 Загружаем страницу 409: https://kinogo.org/serials/page/409/\n",
      "✅ Страница 409 собрана за 1.00 сек\n",
      "🔎 Загружаем страницу 410: https://kinogo.org/serials/page/410/\n",
      "✅ Страница 410 собрана за 0.89 сек\n",
      "💾 Прогресс сохранён после страницы 410\n",
      "🔎 Загружаем страницу 411: https://kinogo.org/serials/page/411/\n",
      "✅ Страница 411 собрана за 1.25 сек\n",
      "🔎 Загружаем страницу 412: https://kinogo.org/serials/page/412/\n",
      "✅ Страница 412 собрана за 0.88 сек\n",
      "🔎 Загружаем страницу 413: https://kinogo.org/serials/page/413/\n",
      "✅ Страница 413 собрана за 0.88 сек\n",
      "🔎 Загружаем страницу 414: https://kinogo.org/serials/page/414/\n",
      "✅ Страница 414 собрана за 0.84 сек\n",
      "🔎 Загружаем страницу 415: https://kinogo.org/serials/page/415/\n",
      "✅ Страница 415 собрана за 0.90 сек\n",
      "💾 Прогресс сохранён после страницы 415\n",
      "🔎 Загружаем страницу 416: https://kinogo.org/serials/page/416/\n",
      "✅ Страница 416 собрана за 0.86 сек\n",
      "🔎 Загружаем страницу 417: https://kinogo.org/serials/page/417/\n",
      "✅ Страница 417 собрана за 0.83 сек\n",
      "🔎 Загружаем страницу 418: https://kinogo.org/serials/page/418/\n",
      "✅ Страница 418 собрана за 0.97 сек\n",
      "🔎 Загружаем страницу 419: https://kinogo.org/serials/page/419/\n",
      "✅ Страница 419 собрана за 0.90 сек\n",
      "🔎 Загружаем страницу 420: https://kinogo.org/serials/page/420/\n",
      "✅ Страница 420 собрана за 1.20 сек\n",
      "💾 Прогресс сохранён после страницы 420\n",
      "🔎 Загружаем страницу 421: https://kinogo.org/serials/page/421/\n",
      "✅ Страница 421 собрана за 0.78 сек\n",
      "🔎 Загружаем страницу 422: https://kinogo.org/serials/page/422/\n",
      "✅ Страница 422 собрана за 0.88 сек\n",
      "🔎 Загружаем страницу 423: https://kinogo.org/serials/page/423/\n",
      "✅ Страница 423 собрана за 0.92 сек\n",
      "🔎 Загружаем страницу 424: https://kinogo.org/serials/page/424/\n",
      "✅ Страница 424 собрана за 0.89 сек\n",
      "🔎 Загружаем страницу 425: https://kinogo.org/serials/page/425/\n",
      "✅ Страница 425 собрана за 0.91 сек\n",
      "💾 Прогресс сохранён после страницы 425\n",
      "🔎 Загружаем страницу 426: https://kinogo.org/serials/page/426/\n",
      "✅ Страница 426 собрана за 0.82 сек\n",
      "🔎 Загружаем страницу 427: https://kinogo.org/serials/page/427/\n",
      "✅ Страница 427 собрана за 0.86 сек\n",
      "🔎 Загружаем страницу 428: https://kinogo.org/serials/page/428/\n",
      "✅ Страница 428 собрана за 0.93 сек\n",
      "🔎 Загружаем страницу 429: https://kinogo.org/serials/page/429/\n",
      "✅ Страница 429 собрана за 0.84 сек\n",
      "🔎 Загружаем страницу 430: https://kinogo.org/serials/page/430/\n",
      "✅ Страница 430 собрана за 0.85 сек\n",
      "💾 Прогресс сохранён после страницы 430\n",
      "🔎 Загружаем страницу 431: https://kinogo.org/serials/page/431/\n",
      "✅ Страница 431 собрана за 1.04 сек\n",
      "🔎 Загружаем страницу 432: https://kinogo.org/serials/page/432/\n",
      "✅ Страница 432 собрана за 1.21 сек\n",
      "🔎 Загружаем страницу 433: https://kinogo.org/serials/page/433/\n",
      "✅ Страница 433 собрана за 0.88 сек\n",
      "🔎 Загружаем страницу 434: https://kinogo.org/serials/page/434/\n",
      "✅ Страница 434 собрана за 0.90 сек\n",
      "🔎 Загружаем страницу 435: https://kinogo.org/serials/page/435/\n",
      "✅ Страница 435 собрана за 1.09 сек\n",
      "💾 Прогресс сохранён после страницы 435\n",
      "🔎 Загружаем страницу 436: https://kinogo.org/serials/page/436/\n",
      "✅ Страница 436 собрана за 0.88 сек\n",
      "🔎 Загружаем страницу 437: https://kinogo.org/serials/page/437/\n",
      "✅ Страница 437 собрана за 1.01 сек\n",
      "🔎 Загружаем страницу 438: https://kinogo.org/serials/page/438/\n",
      "✅ Страница 438 собрана за 0.93 сек\n",
      "🔎 Загружаем страницу 439: https://kinogo.org/serials/page/439/\n",
      "✅ Страница 439 собрана за 1.00 сек\n",
      "🔎 Загружаем страницу 440: https://kinogo.org/serials/page/440/\n",
      "✅ Страница 440 собрана за 0.92 сек\n",
      "💾 Прогресс сохранён после страницы 440\n",
      "🔎 Загружаем страницу 441: https://kinogo.org/serials/page/441/\n",
      "✅ Страница 441 собрана за 0.82 сек\n",
      "🔎 Загружаем страницу 442: https://kinogo.org/serials/page/442/\n",
      "✅ Страница 442 собрана за 0.85 сек\n",
      "🔎 Загружаем страницу 443: https://kinogo.org/serials/page/443/\n",
      "✅ Страница 443 собрана за 1.13 сек\n",
      "🔎 Загружаем страницу 444: https://kinogo.org/serials/page/444/\n",
      "✅ Страница 444 собрана за 0.91 сек\n",
      "🔎 Загружаем страницу 445: https://kinogo.org/serials/page/445/\n",
      "✅ Страница 445 собрана за 0.82 сек\n",
      "💾 Прогресс сохранён после страницы 445\n",
      "🔎 Загружаем страницу 446: https://kinogo.org/serials/page/446/\n",
      "✅ Страница 446 собрана за 0.86 сек\n",
      "🔎 Загружаем страницу 447: https://kinogo.org/serials/page/447/\n",
      "✅ Страница 447 собрана за 0.95 сек\n",
      "🔎 Загружаем страницу 448: https://kinogo.org/serials/page/448/\n",
      "✅ Страница 448 собрана за 0.94 сек\n",
      "🔎 Загружаем страницу 449: https://kinogo.org/serials/page/449/\n",
      "✅ Страница 449 собрана за 0.79 сек\n",
      "🔎 Загружаем страницу 450: https://kinogo.org/serials/page/450/\n",
      "♻ Перезапущен браузер на странице 450\n",
      "✅ Страница 450 собрана за 5.11 сек\n",
      "💾 Прогресс сохранён после страницы 450\n",
      "🔎 Загружаем страницу 451: https://kinogo.org/serials/page/451/\n",
      "✅ Страница 451 собрана за 0.92 сек\n",
      "🔎 Загружаем страницу 452: https://kinogo.org/serials/page/452/\n",
      "✅ Страница 452 собрана за 0.98 сек\n",
      "🔎 Загружаем страницу 453: https://kinogo.org/serials/page/453/\n",
      "✅ Страница 453 собрана за 1.08 сек\n",
      "🔎 Загружаем страницу 454: https://kinogo.org/serials/page/454/\n",
      "✅ Страница 454 собрана за 1.17 сек\n",
      "🔎 Загружаем страницу 455: https://kinogo.org/serials/page/455/\n",
      "✅ Страница 455 собрана за 1.43 сек\n",
      "💾 Прогресс сохранён после страницы 455\n",
      "🔎 Загружаем страницу 456: https://kinogo.org/serials/page/456/\n",
      "✅ Страница 456 собрана за 1.22 сек\n",
      "🔎 Загружаем страницу 457: https://kinogo.org/serials/page/457/\n",
      "✅ Страница 457 собрана за 1.15 сек\n",
      "🔎 Загружаем страницу 458: https://kinogo.org/serials/page/458/\n",
      "✅ Страница 458 собрана за 1.25 сек\n",
      "🔎 Загружаем страницу 459: https://kinogo.org/serials/page/459/\n",
      "✅ Страница 459 собрана за 1.14 сек\n",
      "🔎 Загружаем страницу 460: https://kinogo.org/serials/page/460/\n",
      "✅ Страница 460 собрана за 1.39 сек\n",
      "💾 Прогресс сохранён после страницы 460\n",
      "🔎 Загружаем страницу 461: https://kinogo.org/serials/page/461/\n",
      "✅ Страница 461 собрана за 2.44 сек\n",
      "🔎 Загружаем страницу 462: https://kinogo.org/serials/page/462/\n",
      "✅ Страница 462 собрана за 1.14 сек\n",
      "🔎 Загружаем страницу 463: https://kinogo.org/serials/page/463/\n",
      "✅ Страница 463 собрана за 0.90 сек\n",
      "🔎 Загружаем страницу 464: https://kinogo.org/serials/page/464/\n",
      "✅ Страница 464 собрана за 0.84 сек\n",
      "🔎 Загружаем страницу 465: https://kinogo.org/serials/page/465/\n",
      "✅ Страница 465 собрана за 0.93 сек\n",
      "💾 Прогресс сохранён после страницы 465\n",
      "🔎 Загружаем страницу 466: https://kinogo.org/serials/page/466/\n",
      "✅ Страница 466 собрана за 1.70 сек\n",
      "🔎 Загружаем страницу 467: https://kinogo.org/serials/page/467/\n",
      "✅ Страница 467 собрана за 1.16 сек\n",
      "🔎 Загружаем страницу 468: https://kinogo.org/serials/page/468/\n",
      "✅ Страница 468 собрана за 0.87 сек\n",
      "🔎 Загружаем страницу 469: https://kinogo.org/serials/page/469/\n",
      "✅ Страница 469 собрана за 0.85 сек\n",
      "🔎 Загружаем страницу 470: https://kinogo.org/serials/page/470/\n",
      "✅ Страница 470 собрана за 0.90 сек\n",
      "💾 Прогресс сохранён после страницы 470\n",
      "🔎 Загружаем страницу 471: https://kinogo.org/serials/page/471/\n",
      "✅ Страница 471 собрана за 0.90 сек\n",
      "🔎 Загружаем страницу 472: https://kinogo.org/serials/page/472/\n",
      "✅ Страница 472 собрана за 0.87 сек\n",
      "🔎 Загружаем страницу 473: https://kinogo.org/serials/page/473/\n",
      "✅ Страница 473 собрана за 0.94 сек\n",
      "🔎 Загружаем страницу 474: https://kinogo.org/serials/page/474/\n",
      "✅ Страница 474 собрана за 0.89 сек\n",
      "🔎 Загружаем страницу 475: https://kinogo.org/serials/page/475/\n",
      "✅ Страница 475 собрана за 1.06 сек\n",
      "💾 Прогресс сохранён после страницы 475\n",
      "🔎 Загружаем страницу 476: https://kinogo.org/serials/page/476/\n",
      "✅ Страница 476 собрана за 0.86 сек\n",
      "🔎 Загружаем страницу 477: https://kinogo.org/serials/page/477/\n",
      "✅ Страница 477 собрана за 0.81 сек\n",
      "🔎 Загружаем страницу 478: https://kinogo.org/serials/page/478/\n",
      "✅ Страница 478 собрана за 0.90 сек\n",
      "🔎 Загружаем страницу 479: https://kinogo.org/serials/page/479/\n",
      "✅ Страница 479 собрана за 1.13 сек\n",
      "🔎 Загружаем страницу 480: https://kinogo.org/serials/page/480/\n",
      "✅ Страница 480 собрана за 1.26 сек\n",
      "💾 Прогресс сохранён после страницы 480\n",
      "🔎 Загружаем страницу 481: https://kinogo.org/serials/page/481/\n",
      "✅ Страница 481 собрана за 1.08 сек\n",
      "🔎 Загружаем страницу 482: https://kinogo.org/serials/page/482/\n",
      "✅ Страница 482 собрана за 0.86 сек\n",
      "🔎 Загружаем страницу 483: https://kinogo.org/serials/page/483/\n",
      "✅ Страница 483 собрана за 0.84 сек\n",
      "🔎 Загружаем страницу 484: https://kinogo.org/serials/page/484/\n",
      "✅ Страница 484 собрана за 0.83 сек\n",
      "🔎 Загружаем страницу 485: https://kinogo.org/serials/page/485/\n",
      "✅ Страница 485 собрана за 0.92 сек\n",
      "💾 Прогресс сохранён после страницы 485\n",
      "🔎 Загружаем страницу 486: https://kinogo.org/serials/page/486/\n",
      "✅ Страница 486 собрана за 1.06 сек\n",
      "🔎 Загружаем страницу 487: https://kinogo.org/serials/page/487/\n",
      "✅ Страница 487 собрана за 0.83 сек\n",
      "🔎 Загружаем страницу 488: https://kinogo.org/serials/page/488/\n",
      "✅ Страница 488 собрана за 0.81 сек\n",
      "🔎 Загружаем страницу 489: https://kinogo.org/serials/page/489/\n",
      "✅ Страница 489 собрана за 0.96 сек\n",
      "🔎 Загружаем страницу 490: https://kinogo.org/serials/page/490/\n",
      "✅ Страница 490 собрана за 1.21 сек\n",
      "💾 Прогресс сохранён после страницы 490\n",
      "🔎 Загружаем страницу 491: https://kinogo.org/serials/page/491/\n",
      "✅ Страница 491 собрана за 0.78 сек\n",
      "🔎 Загружаем страницу 492: https://kinogo.org/serials/page/492/\n",
      "✅ Страница 492 собрана за 0.80 сек\n",
      "🔎 Загружаем страницу 493: https://kinogo.org/serials/page/493/\n",
      "✅ Страница 493 собрана за 0.95 сек\n",
      "🔎 Загружаем страницу 494: https://kinogo.org/serials/page/494/\n",
      "✅ Страница 494 собрана за 0.91 сек\n",
      "🔎 Загружаем страницу 495: https://kinogo.org/serials/page/495/\n",
      "✅ Страница 495 собрана за 0.95 сек\n",
      "💾 Прогресс сохранён после страницы 495\n",
      "🔎 Загружаем страницу 496: https://kinogo.org/serials/page/496/\n",
      "✅ Страница 496 собрана за 0.97 сек\n",
      "🔎 Загружаем страницу 497: https://kinogo.org/serials/page/497/\n",
      "✅ Страница 497 собрана за 0.86 сек\n",
      "🔎 Загружаем страницу 498: https://kinogo.org/serials/page/498/\n",
      "✅ Страница 498 собрана за 0.89 сек\n",
      "🔎 Загружаем страницу 499: https://kinogo.org/serials/page/499/\n",
      "✅ Страница 499 собрана за 1.85 сек\n",
      "🔎 Загружаем страницу 500: https://kinogo.org/serials/page/500/\n",
      "♻ Перезапущен браузер на странице 500\n",
      "✅ Страница 500 собрана за 4.25 сек\n",
      "💾 Прогресс сохранён после страницы 500\n",
      "🔎 Загружаем страницу 501: https://kinogo.org/serials/page/501/\n",
      "✅ Страница 501 собрана за 0.98 сек\n",
      "🔎 Загружаем страницу 502: https://kinogo.org/serials/page/502/\n",
      "✅ Страница 502 собрана за 1.17 сек\n",
      "🔎 Загружаем страницу 503: https://kinogo.org/serials/page/503/\n",
      "✅ Страница 503 собрана за 0.83 сек\n",
      "🔎 Загружаем страницу 504: https://kinogo.org/serials/page/504/\n",
      "✅ Страница 504 собрана за 0.83 сек\n",
      "🔎 Загружаем страницу 505: https://kinogo.org/serials/page/505/\n",
      "✅ Страница 505 собрана за 0.86 сек\n",
      "💾 Прогресс сохранён после страницы 505\n",
      "🔎 Загружаем страницу 506: https://kinogo.org/serials/page/506/\n",
      "✅ Страница 506 собрана за 1.21 сек\n",
      "🔎 Загружаем страницу 507: https://kinogo.org/serials/page/507/\n",
      "✅ Страница 507 собрана за 1.00 сек\n",
      "🔎 Загружаем страницу 508: https://kinogo.org/serials/page/508/\n",
      "✅ Страница 508 собрана за 1.00 сек\n",
      "🔎 Загружаем страницу 509: https://kinogo.org/serials/page/509/\n",
      "✅ Страница 509 собрана за 1.33 сек\n",
      "🔎 Загружаем страницу 510: https://kinogo.org/serials/page/510/\n",
      "✅ Страница 510 собрана за 1.17 сек\n",
      "💾 Прогресс сохранён после страницы 510\n",
      "🔎 Загружаем страницу 511: https://kinogo.org/serials/page/511/\n",
      "✅ Страница 511 собрана за 1.19 сек\n",
      "🔎 Загружаем страницу 512: https://kinogo.org/serials/page/512/\n",
      "✅ Страница 512 собрана за 1.21 сек\n",
      "🔎 Загружаем страницу 513: https://kinogo.org/serials/page/513/\n",
      "✅ Страница 513 собрана за 0.86 сек\n",
      "🔎 Загружаем страницу 514: https://kinogo.org/serials/page/514/\n",
      "✅ Страница 514 собрана за 1.30 сек\n",
      "🔎 Загружаем страницу 515: https://kinogo.org/serials/page/515/\n",
      "✅ Страница 515 собрана за 1.50 сек\n",
      "💾 Прогресс сохранён после страницы 515\n",
      "🔎 Загружаем страницу 516: https://kinogo.org/serials/page/516/\n",
      "✅ Страница 516 собрана за 0.80 сек\n",
      "🔎 Загружаем страницу 517: https://kinogo.org/serials/page/517/\n",
      "✅ Страница 517 собрана за 0.82 сек\n",
      "🔎 Загружаем страницу 518: https://kinogo.org/serials/page/518/\n",
      "✅ Страница 518 собрана за 0.80 сек\n",
      "🔎 Загружаем страницу 519: https://kinogo.org/serials/page/519/\n",
      "✅ Страница 519 собрана за 0.88 сек\n",
      "🔎 Загружаем страницу 520: https://kinogo.org/serials/page/520/\n",
      "✅ Страница 520 собрана за 1.25 сек\n",
      "💾 Прогресс сохранён после страницы 520\n",
      "🔎 Загружаем страницу 521: https://kinogo.org/serials/page/521/\n",
      "✅ Страница 521 собрана за 1.04 сек\n",
      "🔎 Загружаем страницу 522: https://kinogo.org/serials/page/522/\n",
      "✅ Страница 522 собрана за 1.39 сек\n",
      "🔎 Загружаем страницу 523: https://kinogo.org/serials/page/523/\n",
      "✅ Страница 523 собрана за 1.22 сек\n",
      "🔎 Загружаем страницу 524: https://kinogo.org/serials/page/524/\n",
      "✅ Страница 524 собрана за 1.05 сек\n",
      "🔎 Загружаем страницу 525: https://kinogo.org/serials/page/525/\n",
      "✅ Страница 525 собрана за 0.83 сек\n",
      "💾 Прогресс сохранён после страницы 525\n",
      "🔎 Загружаем страницу 526: https://kinogo.org/serials/page/526/\n",
      "✅ Страница 526 собрана за 1.47 сек\n",
      "🔎 Загружаем страницу 527: https://kinogo.org/serials/page/527/\n",
      "✅ Страница 527 собрана за 0.80 сек\n",
      "🔎 Загружаем страницу 528: https://kinogo.org/serials/page/528/\n",
      "✅ Страница 528 собрана за 0.83 сек\n",
      "🔎 Загружаем страницу 529: https://kinogo.org/serials/page/529/\n",
      "✅ Страница 529 собрана за 1.00 сек\n",
      "🔎 Загружаем страницу 530: https://kinogo.org/serials/page/530/\n",
      "✅ Страница 530 собрана за 0.96 сек\n",
      "💾 Прогресс сохранён после страницы 530\n",
      "🔎 Загружаем страницу 531: https://kinogo.org/serials/page/531/\n",
      "✅ Страница 531 собрана за 0.84 сек\n",
      "🔎 Загружаем страницу 532: https://kinogo.org/serials/page/532/\n",
      "✅ Страница 532 собрана за 0.81 сек\n",
      "🔎 Загружаем страницу 533: https://kinogo.org/serials/page/533/\n",
      "✅ Страница 533 собрана за 0.88 сек\n",
      "🔎 Загружаем страницу 534: https://kinogo.org/serials/page/534/\n",
      "✅ Страница 534 собрана за 0.86 сек\n",
      "🔎 Загружаем страницу 535: https://kinogo.org/serials/page/535/\n",
      "✅ Страница 535 собрана за 0.84 сек\n",
      "💾 Прогресс сохранён после страницы 535\n",
      "🔎 Загружаем страницу 536: https://kinogo.org/serials/page/536/\n",
      "✅ Страница 536 собрана за 0.79 сек\n",
      "🔎 Загружаем страницу 537: https://kinogo.org/serials/page/537/\n",
      "✅ Страница 537 собрана за 0.86 сек\n",
      "🔎 Загружаем страницу 538: https://kinogo.org/serials/page/538/\n",
      "✅ Страница 538 собрана за 1.05 сек\n",
      "🔎 Загружаем страницу 539: https://kinogo.org/serials/page/539/\n",
      "✅ Страница 539 собрана за 0.87 сек\n",
      "🔎 Загружаем страницу 540: https://kinogo.org/serials/page/540/\n",
      "✅ Страница 540 собрана за 0.78 сек\n",
      "💾 Прогресс сохранён после страницы 540\n",
      "🔎 Загружаем страницу 541: https://kinogo.org/serials/page/541/\n",
      "✅ Страница 541 собрана за 0.84 сек\n",
      "🔎 Загружаем страницу 542: https://kinogo.org/serials/page/542/\n",
      "✅ Страница 542 собрана за 0.86 сек\n",
      "🔎 Загружаем страницу 543: https://kinogo.org/serials/page/543/\n",
      "✅ Страница 543 собрана за 1.03 сек\n",
      "🔎 Загружаем страницу 544: https://kinogo.org/serials/page/544/\n",
      "✅ Страница 544 собрана за 0.97 сек\n",
      "🔎 Загружаем страницу 545: https://kinogo.org/serials/page/545/\n",
      "✅ Страница 545 собрана за 0.89 сек\n",
      "💾 Прогресс сохранён после страницы 545\n",
      "🔎 Загружаем страницу 546: https://kinogo.org/serials/page/546/\n",
      "✅ Страница 546 собрана за 0.85 сек\n",
      "🔎 Загружаем страницу 547: https://kinogo.org/serials/page/547/\n",
      "✅ Страница 547 собрана за 0.86 сек\n",
      "🔎 Загружаем страницу 548: https://kinogo.org/serials/page/548/\n",
      "✅ Страница 548 собрана за 0.85 сек\n",
      "🔎 Загружаем страницу 549: https://kinogo.org/serials/page/549/\n",
      "✅ Страница 549 собрана за 0.90 сек\n",
      "🔎 Загружаем страницу 550: https://kinogo.org/serials/page/550/\n",
      "♻ Перезапущен браузер на странице 550\n",
      "✅ Страница 550 собрана за 4.86 сек\n",
      "💾 Прогресс сохранён после страницы 550\n",
      "\n",
      "🎬 Парсинг списка завершён. Пропущено страниц: 0\n",
      "🔎 Загружаем полные описания (многопоточно)...\n"
     ]
    },
    {
     "name": "stderr",
     "output_type": "stream",
     "text": [
      "Парсинг описаний:   1%|          | 47/5500 [02:21<7:21:21,  4.86s/it]"
     ]
    },
    {
     "name": "stdout",
     "output_type": "stream",
     "text": [
      "⚠ Ошибка при загрузке https://kinogo.org/126458-chasovye.html: Message: \n",
      "Stacktrace:\n",
      "#0 0x5799ec0a296a <unknown>\n",
      "#1 0x5799ebb38e60 <unknown>\n",
      "#2 0x5799ebb89300 <unknown>\n",
      "#3 0x5799ebb894f1 <unknown>\n",
      "#4 0x5799ebbd78f4 <unknown>\n",
      "#5 0x5799ebbaf15d <unknown>\n",
      "#6 0x5799ebbd4cc5 <unknown>\n",
      "#7 0x5799ebbaef03 <unknown>\n",
      "#8 0x5799ebb7ba5a <unknown>\n",
      "#9 0x5799ebb7c6d1 <unknown>\n",
      "#10 0x5799ec067eff <unknown>\n",
      "#11 0x5799ec06bf08 <unknown>\n",
      "#12 0x5799ec04eddc <unknown>\n",
      "#13 0x5799ec06c6ae <unknown>\n",
      "#14 0x5799ec03629e <unknown>\n",
      "#15 0x5799ec090238 <unknown>\n",
      "#16 0x5799ec090448 <unknown>\n",
      "#17 0x5799ec0a156c <unknown>\n",
      "#18 0x7d75eb494ac3 <unknown>\n",
      "\n"
     ]
    },
    {
     "name": "stderr",
     "output_type": "stream",
     "text": [
      "Парсинг описаний:   1%|          | 63/5500 [03:11<4:49:14,  3.19s/it]"
     ]
    },
    {
     "name": "stdout",
     "output_type": "stream",
     "text": [
      "⚠ Ошибка при загрузке https://kinogo.org/58834-kljukvennyj-scherbet.html: Message: \n",
      "Stacktrace:\n",
      "#0 0x56939822896a <unknown>\n",
      "#1 0x569397cbee60 <unknown>\n",
      "#2 0x569397d0f300 <unknown>\n",
      "#3 0x569397d0f4f1 <unknown>\n",
      "#4 0x569397d5d8f4 <unknown>\n",
      "#5 0x569397d3515d <unknown>\n",
      "#6 0x569397d5acc5 <unknown>\n",
      "#7 0x569397d34f03 <unknown>\n",
      "#8 0x569397d01a5a <unknown>\n",
      "#9 0x569397d026d1 <unknown>\n",
      "#10 0x5693981edeff <unknown>\n",
      "#11 0x5693981f1f08 <unknown>\n",
      "#12 0x5693981d4ddc <unknown>\n",
      "#13 0x5693981f26ae <unknown>\n",
      "#14 0x5693981bc29e <unknown>\n",
      "#15 0x569398216238 <unknown>\n",
      "#16 0x569398216448 <unknown>\n",
      "#17 0x56939822756c <unknown>\n",
      "#18 0x7965b8494ac3 <unknown>\n",
      "\n"
     ]
    },
    {
     "name": "stderr",
     "output_type": "stream",
     "text": [
      "Парсинг описаний:   1%|▏         | 70/5500 [03:32<4:22:19,  2.90s/it]"
     ]
    },
    {
     "name": "stdout",
     "output_type": "stream",
     "text": [
      "⚠ Ошибка при загрузке https://kinogo.org/126291-ljubov-i-slezy.html: Message: \n",
      "Stacktrace:\n",
      "#0 0x5d60c7ac996a <unknown>\n",
      "#1 0x5d60c755fe60 <unknown>\n",
      "#2 0x5d60c75b0300 <unknown>\n",
      "#3 0x5d60c75b04f1 <unknown>\n",
      "#4 0x5d60c75fe8f4 <unknown>\n",
      "#5 0x5d60c75d615d <unknown>\n",
      "#6 0x5d60c75fbcc5 <unknown>\n",
      "#7 0x5d60c75d5f03 <unknown>\n",
      "#8 0x5d60c75a2a5a <unknown>\n",
      "#9 0x5d60c75a36d1 <unknown>\n",
      "#10 0x5d60c7a8eeff <unknown>\n",
      "#11 0x5d60c7a92f08 <unknown>\n",
      "#12 0x5d60c7a75ddc <unknown>\n",
      "#13 0x5d60c7a936ae <unknown>\n",
      "#14 0x5d60c7a5d29e <unknown>\n",
      "#15 0x5d60c7ab7238 <unknown>\n",
      "#16 0x5d60c7ab7448 <unknown>\n",
      "#17 0x5d60c7ac856c <unknown>\n",
      "#18 0x7ca96dc94ac3 <unknown>\n",
      "\n"
     ]
    },
    {
     "name": "stderr",
     "output_type": "stream",
     "text": [
      "Парсинг описаний:   1%|▏         | 81/5500 [04:18<6:21:49,  4.23s/it]"
     ]
    },
    {
     "name": "stdout",
     "output_type": "stream",
     "text": [
      "⚠ Ошибка при загрузке https://kinogo.org/124583-chuzhestranka-krov-ot-krovi-moey.html: Message: \n",
      "Stacktrace:\n",
      "#0 0x6168d321296a <unknown>\n",
      "#1 0x6168d2ca8e60 <unknown>\n",
      "#2 0x6168d2cf9300 <unknown>\n",
      "#3 0x6168d2cf94f1 <unknown>\n",
      "#4 0x6168d2d478f4 <unknown>\n",
      "#5 0x6168d2d1f15d <unknown>\n",
      "#6 0x6168d2d44cc5 <unknown>\n",
      "#7 0x6168d2d1ef03 <unknown>\n",
      "#8 0x6168d2ceba5a <unknown>\n",
      "#9 0x6168d2cec6d1 <unknown>\n",
      "#10 0x6168d31d7eff <unknown>\n",
      "#11 0x6168d31dbf08 <unknown>\n",
      "#12 0x6168d31beddc <unknown>\n",
      "#13 0x6168d31dc6ae <unknown>\n",
      "#14 0x6168d31a629e <unknown>\n",
      "#15 0x6168d3200238 <unknown>\n",
      "#16 0x6168d3200448 <unknown>\n",
      "#17 0x6168d321156c <unknown>\n",
      "#18 0x71a712094ac3 <unknown>\n",
      "\n"
     ]
    },
    {
     "name": "stderr",
     "output_type": "stream",
     "text": [
      "Парсинг описаний:   2%|▏         | 89/5500 [05:09<10:59:16,  7.31s/it]"
     ]
    },
    {
     "name": "stdout",
     "output_type": "stream",
     "text": [
      "⚠ Ошибка при загрузке https://kinogo.org/126388-v-zapadne.html: Message: \n",
      "Stacktrace:\n",
      "#0 0x5bb9bda4896a <unknown>\n",
      "#1 0x5bb9bd4dee60 <unknown>\n",
      "#2 0x5bb9bd52f300 <unknown>\n",
      "#3 0x5bb9bd52f4f1 <unknown>\n",
      "#4 0x5bb9bd57d8f4 <unknown>\n",
      "#5 0x5bb9bd55515d <unknown>\n",
      "#6 0x5bb9bd57acc5 <unknown>\n",
      "#7 0x5bb9bd554f03 <unknown>\n",
      "#8 0x5bb9bd521a5a <unknown>\n",
      "#9 0x5bb9bd5226d1 <unknown>\n",
      "#10 0x5bb9bda0deff <unknown>\n",
      "#11 0x5bb9bda11f08 <unknown>\n",
      "#12 0x5bb9bd9f4ddc <unknown>\n",
      "#13 0x5bb9bda126ae <unknown>\n",
      "#14 0x5bb9bd9dc29e <unknown>\n",
      "#15 0x5bb9bda36238 <unknown>\n",
      "#16 0x5bb9bda36448 <unknown>\n",
      "#17 0x5bb9bda4756c <unknown>\n",
      "#18 0x7096f2c94ac3 <unknown>\n",
      "\n"
     ]
    },
    {
     "name": "stderr",
     "output_type": "stream",
     "text": [
      "Парсинг описаний:   2%|▏         | 95/5500 [05:38<8:47:26,  5.86s/it] "
     ]
    },
    {
     "name": "stdout",
     "output_type": "stream",
     "text": [
      "⚠ Ошибка при загрузке https://kinogo.org/126406-pod-maskoj-ljubvi.html: Message: \n",
      "Stacktrace:\n",
      "#0 0x612bb8af496a <unknown>\n",
      "#1 0x612bb858ae60 <unknown>\n",
      "#2 0x612bb85db300 <unknown>\n",
      "#3 0x612bb85db4f1 <unknown>\n",
      "#4 0x612bb86298f4 <unknown>\n",
      "#5 0x612bb860115d <unknown>\n",
      "#6 0x612bb8626cc5 <unknown>\n",
      "#7 0x612bb8600f03 <unknown>\n",
      "#8 0x612bb85cda5a <unknown>\n",
      "#9 0x612bb85ce6d1 <unknown>\n",
      "#10 0x612bb8ab9eff <unknown>\n",
      "#11 0x612bb8abdf08 <unknown>\n",
      "#12 0x612bb8aa0ddc <unknown>\n",
      "#13 0x612bb8abe6ae <unknown>\n",
      "#14 0x612bb8a8829e <unknown>\n",
      "#15 0x612bb8ae2238 <unknown>\n",
      "#16 0x612bb8ae2448 <unknown>\n",
      "#17 0x612bb8af356c <unknown>\n",
      "#18 0x79492dc94ac3 <unknown>\n",
      "\n"
     ]
    },
    {
     "name": "stderr",
     "output_type": "stream",
     "text": [
      "Парсинг описаний:   2%|▏         | 102/5500 [06:09<5:41:44,  3.80s/it]"
     ]
    },
    {
     "name": "stdout",
     "output_type": "stream",
     "text": [
      "⚠ Ошибка при загрузке https://kinogo.org/122202-son-jeshrefa-mechta-jeshrefa.html: Message: \n",
      "Stacktrace:\n",
      "#0 0x62f0f0abc96a <unknown>\n",
      "#1 0x62f0f0552e60 <unknown>\n",
      "#2 0x62f0f05a3300 <unknown>\n",
      "#3 0x62f0f05a34f1 <unknown>\n",
      "#4 0x62f0f05f18f4 <unknown>\n",
      "#5 0x62f0f05c915d <unknown>\n",
      "#6 0x62f0f05eecc5 <unknown>\n",
      "#7 0x62f0f05c8f03 <unknown>\n",
      "#8 0x62f0f0595a5a <unknown>\n",
      "#9 0x62f0f05966d1 <unknown>\n",
      "#10 0x62f0f0a81eff <unknown>\n",
      "#11 0x62f0f0a85f08 <unknown>\n",
      "#12 0x62f0f0a68ddc <unknown>\n",
      "#13 0x62f0f0a866ae <unknown>\n",
      "#14 0x62f0f0a5029e <unknown>\n",
      "#15 0x62f0f0aaa238 <unknown>\n",
      "#16 0x62f0f0aaa448 <unknown>\n",
      "#17 0x62f0f0abb56c <unknown>\n",
      "#18 0x7ab8e7a94ac3 <unknown>\n",
      "\n"
     ]
    },
    {
     "name": "stderr",
     "output_type": "stream",
     "text": [
      "Парсинг описаний:   3%|▎         | 138/5500 [08:30<4:13:03,  2.83s/it] "
     ]
    },
    {
     "name": "stdout",
     "output_type": "stream",
     "text": [
      "⚠ Ошибка при загрузке https://kinogo.org/3583-krutaja-peremena.html: Message: \n",
      "Stacktrace:\n",
      "#0 0x64a8ed2af96a <unknown>\n",
      "#1 0x64a8ecd45e60 <unknown>\n",
      "#2 0x64a8ecd96300 <unknown>\n",
      "#3 0x64a8ecd964f1 <unknown>\n",
      "#4 0x64a8ecde48f4 <unknown>\n",
      "#5 0x64a8ecdbc15d <unknown>\n",
      "#6 0x64a8ecde1cc5 <unknown>\n",
      "#7 0x64a8ecdbbf03 <unknown>\n",
      "#8 0x64a8ecd88a5a <unknown>\n",
      "#9 0x64a8ecd896d1 <unknown>\n",
      "#10 0x64a8ed274eff <unknown>\n",
      "#11 0x64a8ed278f08 <unknown>\n",
      "#12 0x64a8ed25bddc <unknown>\n",
      "#13 0x64a8ed2796ae <unknown>\n",
      "#14 0x64a8ed24329e <unknown>\n",
      "#15 0x64a8ed29d238 <unknown>\n",
      "#16 0x64a8ed29d448 <unknown>\n",
      "#17 0x64a8ed2ae56c <unknown>\n",
      "#18 0x753565c94ac3 <unknown>\n",
      "\n"
     ]
    },
    {
     "name": "stderr",
     "output_type": "stream",
     "text": [
      "Парсинг описаний:   4%|▍         | 222/5500 [13:04<3:25:35,  2.34s/it]"
     ]
    },
    {
     "name": "stdout",
     "output_type": "stream",
     "text": [
      "⚠ Ошибка при загрузке https://kinogo.org/124863-orlinskaya-niti-moyry.html: Message: \n",
      "Stacktrace:\n",
      "#0 0x608493c9c96a <unknown>\n",
      "#1 0x608493732e60 <unknown>\n",
      "#2 0x608493783300 <unknown>\n",
      "#3 0x6084937834f1 <unknown>\n",
      "#4 0x6084937d18f4 <unknown>\n",
      "#5 0x6084937a915d <unknown>\n",
      "#6 0x6084937cecc5 <unknown>\n",
      "#7 0x6084937a8f03 <unknown>\n",
      "#8 0x608493775a5a <unknown>\n",
      "#9 0x6084937766d1 <unknown>\n",
      "#10 0x608493c61eff <unknown>\n",
      "#11 0x608493c65f08 <unknown>\n",
      "#12 0x608493c48ddc <unknown>\n",
      "#13 0x608493c666ae <unknown>\n",
      "#14 0x608493c3029e <unknown>\n",
      "#15 0x608493c8a238 <unknown>\n",
      "#16 0x608493c8a448 <unknown>\n",
      "#17 0x608493c9b56c <unknown>\n",
      "#18 0x705333294ac3 <unknown>\n",
      "\n"
     ]
    },
    {
     "name": "stderr",
     "output_type": "stream",
     "text": [
      "Парсинг описаний:   5%|▍         | 256/5500 [15:16<6:06:49,  4.20s/it]"
     ]
    },
    {
     "name": "stdout",
     "output_type": "stream",
     "text": [
      "⚠ Ошибка при загрузке https://kinogo.org/103317-papiny-dochki-novye.html: Message: \n",
      "Stacktrace:\n",
      "#0 0x5c3b11f5096a <unknown>\n",
      "#1 0x5c3b119e6e60 <unknown>\n",
      "#2 0x5c3b11a37300 <unknown>\n",
      "#3 0x5c3b11a374f1 <unknown>\n",
      "#4 0x5c3b11a858f4 <unknown>\n",
      "#5 0x5c3b11a5d15d <unknown>\n",
      "#6 0x5c3b11a82cc5 <unknown>\n",
      "#7 0x5c3b11a5cf03 <unknown>\n",
      "#8 0x5c3b11a29a5a <unknown>\n",
      "#9 0x5c3b11a2a6d1 <unknown>\n",
      "#10 0x5c3b11f15eff <unknown>\n",
      "#11 0x5c3b11f19f08 <unknown>\n",
      "#12 0x5c3b11efcddc <unknown>\n",
      "#13 0x5c3b11f1a6ae <unknown>\n",
      "#14 0x5c3b11ee429e <unknown>\n",
      "#15 0x5c3b11f3e238 <unknown>\n",
      "#16 0x5c3b11f3e448 <unknown>\n",
      "#17 0x5c3b11f4f56c <unknown>\n",
      "#18 0x77f79d894ac3 <unknown>\n",
      "\n"
     ]
    },
    {
     "name": "stderr",
     "output_type": "stream",
     "text": [
      "Парсинг описаний:   5%|▌         | 276/5500 [16:11<4:40:11,  3.22s/it]"
     ]
    },
    {
     "name": "stdout",
     "output_type": "stream",
     "text": [
      "⚠ Ошибка при загрузке https://kinogo.org/124770-hutor.html: Message: \n",
      "Stacktrace:\n",
      "#0 0x56f7d257196a <unknown>\n",
      "#1 0x56f7d2007e60 <unknown>\n",
      "#2 0x56f7d2058300 <unknown>\n",
      "#3 0x56f7d20584f1 <unknown>\n",
      "#4 0x56f7d20a68f4 <unknown>\n",
      "#5 0x56f7d207e15d <unknown>\n",
      "#6 0x56f7d20a3cc5 <unknown>\n",
      "#7 0x56f7d207df03 <unknown>\n",
      "#8 0x56f7d204aa5a <unknown>\n",
      "#9 0x56f7d204b6d1 <unknown>\n",
      "#10 0x56f7d2536eff <unknown>\n",
      "#11 0x56f7d253af08 <unknown>\n",
      "#12 0x56f7d251dddc <unknown>\n",
      "#13 0x56f7d253b6ae <unknown>\n",
      "#14 0x56f7d250529e <unknown>\n",
      "#15 0x56f7d255f238 <unknown>\n",
      "#16 0x56f7d255f448 <unknown>\n",
      "#17 0x56f7d257056c <unknown>\n",
      "#18 0x768b91094ac3 <unknown>\n",
      "\n"
     ]
    },
    {
     "name": "stderr",
     "output_type": "stream",
     "text": [
      "Парсинг описаний:   5%|▌         | 278/5500 [16:13<3:17:26,  2.27s/it]"
     ]
    },
    {
     "name": "stdout",
     "output_type": "stream",
     "text": [
      "⚠ Ошибка при загрузке https://kinogo.org/1176-otkrytyi-brak.html: Message: \n",
      "Stacktrace:\n",
      "#0 0x6045fe56596a <unknown>\n",
      "#1 0x6045fdffbe60 <unknown>\n",
      "#2 0x6045fe04c300 <unknown>\n",
      "#3 0x6045fe04c4f1 <unknown>\n",
      "#4 0x6045fe09a8f4 <unknown>\n",
      "#5 0x6045fe07215d <unknown>\n",
      "#6 0x6045fe097cc5 <unknown>\n",
      "#7 0x6045fe071f03 <unknown>\n",
      "#8 0x6045fe03ea5a <unknown>\n",
      "#9 0x6045fe03f6d1 <unknown>\n",
      "#10 0x6045fe52aeff <unknown>\n",
      "#11 0x6045fe52ef08 <unknown>\n",
      "#12 0x6045fe511ddc <unknown>\n",
      "#13 0x6045fe52f6ae <unknown>\n",
      "#14 0x6045fe4f929e <unknown>\n",
      "#15 0x6045fe553238 <unknown>\n",
      "#16 0x6045fe553448 <unknown>\n",
      "#17 0x6045fe56456c <unknown>\n",
      "#18 0x700760694ac3 <unknown>\n",
      "\n"
     ]
    },
    {
     "name": "stderr",
     "output_type": "stream",
     "text": [
      "Парсинг описаний:   6%|▌         | 322/5500 [18:10<3:37:27,  2.52s/it]"
     ]
    },
    {
     "name": "stdout",
     "output_type": "stream",
     "text": [
      "⚠ Ошибка при загрузке https://kinogo.org/112565-supergen.html: Message: \n",
      "Stacktrace:\n",
      "#0 0x5baba686a96a <unknown>\n",
      "#1 0x5baba6300e60 <unknown>\n",
      "#2 0x5baba6351300 <unknown>\n",
      "#3 0x5baba63514f1 <unknown>\n",
      "#4 0x5baba639f8f4 <unknown>\n",
      "#5 0x5baba637715d <unknown>\n",
      "#6 0x5baba639ccc5 <unknown>\n",
      "#7 0x5baba6376f03 <unknown>\n",
      "#8 0x5baba6343a5a <unknown>\n",
      "#9 0x5baba63446d1 <unknown>\n",
      "#10 0x5baba682feff <unknown>\n",
      "#11 0x5baba6833f08 <unknown>\n",
      "#12 0x5baba6816ddc <unknown>\n",
      "#13 0x5baba68346ae <unknown>\n",
      "#14 0x5baba67fe29e <unknown>\n",
      "#15 0x5baba6858238 <unknown>\n",
      "#16 0x5baba6858448 <unknown>\n",
      "#17 0x5baba686956c <unknown>\n",
      "#18 0x7b7f8ca94ac3 <unknown>\n",
      "\n"
     ]
    },
    {
     "name": "stderr",
     "output_type": "stream",
     "text": [
      "Парсинг описаний:   7%|▋         | 372/5500 [20:20<3:13:43,  2.27s/it]"
     ]
    },
    {
     "name": "stdout",
     "output_type": "stream",
     "text": [
      "⚠ Ошибка при загрузке https://kinogo.org/5860-dva-holma.html: Message: \n",
      "Stacktrace:\n",
      "#0 0x609a2296c96a <unknown>\n",
      "#1 0x609a22402e60 <unknown>\n",
      "#2 0x609a22453300 <unknown>\n",
      "#3 0x609a224534f1 <unknown>\n",
      "#4 0x609a224a18f4 <unknown>\n",
      "#5 0x609a2247915d <unknown>\n",
      "#6 0x609a2249ecc5 <unknown>\n",
      "#7 0x609a22478f03 <unknown>\n",
      "#8 0x609a22445a5a <unknown>\n",
      "#9 0x609a224466d1 <unknown>\n",
      "#10 0x609a22931eff <unknown>\n",
      "#11 0x609a22935f08 <unknown>\n",
      "#12 0x609a22918ddc <unknown>\n",
      "#13 0x609a229366ae <unknown>\n",
      "#14 0x609a2290029e <unknown>\n",
      "#15 0x609a2295a238 <unknown>\n",
      "#16 0x609a2295a448 <unknown>\n",
      "#17 0x609a2296b56c <unknown>\n",
      "#18 0x79bdfde94ac3 <unknown>\n",
      "\n"
     ]
    },
    {
     "name": "stderr",
     "output_type": "stream",
     "text": [
      "Парсинг описаний:   8%|▊         | 422/5500 [22:29<3:31:19,  2.50s/it]"
     ]
    },
    {
     "name": "stdout",
     "output_type": "stream",
     "text": [
      "⚠ Ошибка при загрузке https://kinogo.org/123705-vysokij-sezon.html: Message: \n",
      "Stacktrace:\n",
      "#0 0x5cd04a8be96a <unknown>\n",
      "#1 0x5cd04a354e60 <unknown>\n",
      "#2 0x5cd04a3a5300 <unknown>\n",
      "#3 0x5cd04a3a54f1 <unknown>\n",
      "#4 0x5cd04a3f38f4 <unknown>\n",
      "#5 0x5cd04a3cb15d <unknown>\n",
      "#6 0x5cd04a3f0cc5 <unknown>\n",
      "#7 0x5cd04a3caf03 <unknown>\n",
      "#8 0x5cd04a397a5a <unknown>\n",
      "#9 0x5cd04a3986d1 <unknown>\n",
      "#10 0x5cd04a883eff <unknown>\n",
      "#11 0x5cd04a887f08 <unknown>\n",
      "#12 0x5cd04a86addc <unknown>\n",
      "#13 0x5cd04a8886ae <unknown>\n",
      "#14 0x5cd04a85229e <unknown>\n",
      "#15 0x5cd04a8ac238 <unknown>\n",
      "#16 0x5cd04a8ac448 <unknown>\n",
      "#17 0x5cd04a8bd56c <unknown>\n",
      "#18 0x70a5bbe94ac3 <unknown>\n",
      "\n"
     ]
    },
    {
     "name": "stderr",
     "output_type": "stream",
     "text": [
      "Парсинг описаний:   9%|▉         | 494/5500 [25:25<2:21:44,  1.70s/it]"
     ]
    },
    {
     "name": "stdout",
     "output_type": "stream",
     "text": [
      "⚠ Ошибка при загрузке https://kinogo.org/6997-jeskort.html: Message: \n",
      "Stacktrace:\n",
      "#0 0x5e1620ae396a <unknown>\n",
      "#1 0x5e1620579e60 <unknown>\n",
      "#2 0x5e16205ca300 <unknown>\n",
      "#3 0x5e16205ca4f1 <unknown>\n",
      "#4 0x5e16206188f4 <unknown>\n",
      "#5 0x5e16205f015d <unknown>\n",
      "#6 0x5e1620615cc5 <unknown>\n",
      "#7 0x5e16205eff03 <unknown>\n",
      "#8 0x5e16205bca5a <unknown>\n",
      "#9 0x5e16205bd6d1 <unknown>\n",
      "#10 0x5e1620aa8eff <unknown>\n",
      "#11 0x5e1620aacf08 <unknown>\n",
      "#12 0x5e1620a8fddc <unknown>\n",
      "#13 0x5e1620aad6ae <unknown>\n",
      "#14 0x5e1620a7729e <unknown>\n",
      "#15 0x5e1620ad1238 <unknown>\n",
      "#16 0x5e1620ad1448 <unknown>\n",
      "#17 0x5e1620ae256c <unknown>\n",
      "#18 0x74dfbb094ac3 <unknown>\n",
      "\n"
     ]
    },
    {
     "name": "stderr",
     "output_type": "stream",
     "text": [
      "Парсинг описаний:  11%|█         | 586/5500 [29:41<4:58:40,  3.65s/it]"
     ]
    },
    {
     "name": "stdout",
     "output_type": "stream",
     "text": [
      "⚠ Ошибка при загрузке https://kinogo.org/124420-igraj-kak-devchonka.html: Message: \n",
      "Stacktrace:\n",
      "#0 0x57360f1dd96a <unknown>\n",
      "#1 0x57360ec73e60 <unknown>\n",
      "#2 0x57360ecc4300 <unknown>\n",
      "#3 0x57360ecc44f1 <unknown>\n",
      "#4 0x57360ed128f4 <unknown>\n",
      "#5 0x57360ecea15d <unknown>\n",
      "#6 0x57360ed0fcc5 <unknown>\n",
      "#7 0x57360ece9f03 <unknown>\n",
      "#8 0x57360ecb6a5a <unknown>\n",
      "#9 0x57360ecb76d1 <unknown>\n",
      "#10 0x57360f1a2eff <unknown>\n",
      "#11 0x57360f1a6f08 <unknown>\n",
      "#12 0x57360f189ddc <unknown>\n",
      "#13 0x57360f1a76ae <unknown>\n",
      "#14 0x57360f17129e <unknown>\n",
      "#15 0x57360f1cb238 <unknown>\n",
      "#16 0x57360f1cb448 <unknown>\n",
      "#17 0x57360f1dc56c <unknown>\n",
      "#18 0x7daff0094ac3 <unknown>\n",
      "\n"
     ]
    },
    {
     "name": "stderr",
     "output_type": "stream",
     "text": [
      "Парсинг описаний:  14%|█▎        | 746/5500 [37:17<3:32:01,  2.68s/it] "
     ]
    },
    {
     "name": "stdout",
     "output_type": "stream",
     "text": [
      "⚠ Ошибка при загрузке https://kinogo.org/122900-chuzhie-dengi.html: Message: \n",
      "Stacktrace:\n",
      "#0 0x628ea10c696a <unknown>\n",
      "#1 0x628ea0b5ce60 <unknown>\n",
      "#2 0x628ea0bad300 <unknown>\n",
      "#3 0x628ea0bad4f1 <unknown>\n",
      "#4 0x628ea0bfb8f4 <unknown>\n",
      "#5 0x628ea0bd315d <unknown>\n",
      "#6 0x628ea0bf8cc5 <unknown>\n",
      "#7 0x628ea0bd2f03 <unknown>\n",
      "#8 0x628ea0b9fa5a <unknown>\n",
      "#9 0x628ea0ba06d1 <unknown>\n",
      "#10 0x628ea108beff <unknown>\n",
      "#11 0x628ea108ff08 <unknown>\n",
      "#12 0x628ea1072ddc <unknown>\n",
      "#13 0x628ea10906ae <unknown>\n",
      "#14 0x628ea105a29e <unknown>\n",
      "#15 0x628ea10b4238 <unknown>\n",
      "#16 0x628ea10b4448 <unknown>\n",
      "#17 0x628ea10c556c <unknown>\n",
      "#18 0x70ecc6e94ac3 <unknown>\n",
      "\n"
     ]
    },
    {
     "name": "stderr",
     "output_type": "stream",
     "text": [
      "Парсинг описаний:  14%|█▍        | 787/5500 [39:08<2:28:11,  1.89s/it]"
     ]
    },
    {
     "name": "stdout",
     "output_type": "stream",
     "text": [
      "⚠ Ошибка при загрузке https://kinogo.org/123308-tajny-darkneta.html: Message: \n",
      "Stacktrace:\n",
      "#0 0x5cdca1d7b96a <unknown>\n",
      "#1 0x5cdca1811e60 <unknown>\n",
      "#2 0x5cdca1862300 <unknown>\n",
      "#3 0x5cdca18624f1 <unknown>\n",
      "#4 0x5cdca18b08f4 <unknown>\n",
      "#5 0x5cdca188815d <unknown>\n",
      "#6 0x5cdca18adcc5 <unknown>\n",
      "#7 0x5cdca1887f03 <unknown>\n",
      "#8 0x5cdca1854a5a <unknown>\n",
      "#9 0x5cdca18556d1 <unknown>\n",
      "#10 0x5cdca1d40eff <unknown>\n",
      "#11 0x5cdca1d44f08 <unknown>\n",
      "#12 0x5cdca1d27ddc <unknown>\n",
      "#13 0x5cdca1d456ae <unknown>\n",
      "#14 0x5cdca1d0f29e <unknown>\n",
      "#15 0x5cdca1d69238 <unknown>\n",
      "#16 0x5cdca1d69448 <unknown>\n",
      "#17 0x5cdca1d7a56c <unknown>\n",
      "#18 0x74e800894ac3 <unknown>\n",
      "\n"
     ]
    },
    {
     "name": "stderr",
     "output_type": "stream",
     "text": [
      "Парсинг описаний:  16%|█▌        | 858/5500 [42:30<3:25:47,  2.66s/it]"
     ]
    },
    {
     "name": "stdout",
     "output_type": "stream",
     "text": [
      "⚠ Ошибка при загрузке https://kinogo.org/122909-stavka.html: Message: \n",
      "Stacktrace:\n",
      "#0 0x5ca0cc1bd96a <unknown>\n",
      "#1 0x5ca0cbc53e60 <unknown>\n",
      "#2 0x5ca0cbca4300 <unknown>\n",
      "#3 0x5ca0cbca44f1 <unknown>\n",
      "#4 0x5ca0cbcf28f4 <unknown>\n",
      "#5 0x5ca0cbcca15d <unknown>\n",
      "#6 0x5ca0cbcefcc5 <unknown>\n",
      "#7 0x5ca0cbcc9f03 <unknown>\n",
      "#8 0x5ca0cbc96a5a <unknown>\n",
      "#9 0x5ca0cbc976d1 <unknown>\n",
      "#10 0x5ca0cc182eff <unknown>\n",
      "#11 0x5ca0cc186f08 <unknown>\n",
      "#12 0x5ca0cc169ddc <unknown>\n",
      "#13 0x5ca0cc1876ae <unknown>\n",
      "#14 0x5ca0cc15129e <unknown>\n",
      "#15 0x5ca0cc1ab238 <unknown>\n",
      "#16 0x5ca0cc1ab448 <unknown>\n",
      "#17 0x5ca0cc1bc56c <unknown>\n",
      "#18 0x748ea2694ac3 <unknown>\n",
      "\n"
     ]
    },
    {
     "name": "stderr",
     "output_type": "stream",
     "text": [
      "Парсинг описаний:  16%|█▌        | 868/5500 [43:08<3:44:56,  2.91s/it]"
     ]
    },
    {
     "name": "stdout",
     "output_type": "stream",
     "text": [
      "⚠ Ошибка при загрузке https://kinogo.org/6095-uill-trent.html: Message: \n",
      "Stacktrace:\n",
      "#0 0x5d008c31296a <unknown>\n",
      "#1 0x5d008bda8e60 <unknown>\n",
      "#2 0x5d008bdf9300 <unknown>\n",
      "#3 0x5d008bdf94f1 <unknown>\n",
      "#4 0x5d008be478f4 <unknown>\n",
      "#5 0x5d008be1f15d <unknown>\n",
      "#6 0x5d008be44cc5 <unknown>\n",
      "#7 0x5d008be1ef03 <unknown>\n",
      "#8 0x5d008bdeba5a <unknown>\n",
      "#9 0x5d008bdec6d1 <unknown>\n",
      "#10 0x5d008c2d7eff <unknown>\n",
      "#11 0x5d008c2dbf08 <unknown>\n",
      "#12 0x5d008c2beddc <unknown>\n",
      "#13 0x5d008c2dc6ae <unknown>\n",
      "#14 0x5d008c2a629e <unknown>\n",
      "#15 0x5d008c300238 <unknown>\n",
      "#16 0x5d008c300448 <unknown>\n",
      "#17 0x5d008c31156c <unknown>\n",
      "#18 0x7cff8ca94ac3 <unknown>\n",
      "\n"
     ]
    },
    {
     "name": "stderr",
     "output_type": "stream",
     "text": [
      "Парсинг описаний:  16%|█▋        | 907/5500 [44:58<3:15:15,  2.55s/it]"
     ]
    },
    {
     "name": "stdout",
     "output_type": "stream",
     "text": [
      "⚠ Ошибка при загрузке https://kinogo.org/122521-zdes-zhivet-zlo-govorit-ubijca.html: Message: \n",
      "Stacktrace:\n",
      "#0 0x62273da4996a <unknown>\n",
      "#1 0x62273d4dfe60 <unknown>\n",
      "#2 0x62273d530300 <unknown>\n",
      "#3 0x62273d5304f1 <unknown>\n",
      "#4 0x62273d57e8f4 <unknown>\n",
      "#5 0x62273d55615d <unknown>\n",
      "#6 0x62273d57bcc5 <unknown>\n",
      "#7 0x62273d555f03 <unknown>\n",
      "#8 0x62273d522a5a <unknown>\n",
      "#9 0x62273d5236d1 <unknown>\n",
      "#10 0x62273da0eeff <unknown>\n",
      "#11 0x62273da12f08 <unknown>\n",
      "#12 0x62273d9f5ddc <unknown>\n",
      "#13 0x62273da136ae <unknown>\n",
      "#14 0x62273d9dd29e <unknown>\n",
      "#15 0x62273da37238 <unknown>\n",
      "#16 0x62273da37448 <unknown>\n",
      "#17 0x62273da4856c <unknown>\n",
      "#18 0x7aeec3a94ac3 <unknown>\n",
      "\n"
     ]
    },
    {
     "name": "stderr",
     "output_type": "stream",
     "text": [
      "Парсинг описаний:  17%|█▋        | 908/5500 [45:03<4:22:49,  3.43s/it]"
     ]
    },
    {
     "name": "stdout",
     "output_type": "stream",
     "text": [
      "⚠ Ошибка при загрузке https://kinogo.org/5967-morskaja-policija-specotdel.html: Message: \n",
      "Stacktrace:\n",
      "#0 0x56f4cd81696a <unknown>\n",
      "#1 0x56f4cd2ace60 <unknown>\n",
      "#2 0x56f4cd2fd300 <unknown>\n",
      "#3 0x56f4cd2fd4f1 <unknown>\n",
      "#4 0x56f4cd34b8f4 <unknown>\n",
      "#5 0x56f4cd32315d <unknown>\n",
      "#6 0x56f4cd348cc5 <unknown>\n",
      "#7 0x56f4cd322f03 <unknown>\n",
      "#8 0x56f4cd2efa5a <unknown>\n",
      "#9 0x56f4cd2f06d1 <unknown>\n",
      "#10 0x56f4cd7dbeff <unknown>\n",
      "#11 0x56f4cd7dff08 <unknown>\n",
      "#12 0x56f4cd7c2ddc <unknown>\n",
      "#13 0x56f4cd7e06ae <unknown>\n",
      "#14 0x56f4cd7aa29e <unknown>\n",
      "#15 0x56f4cd804238 <unknown>\n",
      "#16 0x56f4cd804448 <unknown>\n",
      "#17 0x56f4cd81556c <unknown>\n",
      "#18 0x7c05bdc94ac3 <unknown>\n",
      "\n"
     ]
    },
    {
     "name": "stderr",
     "output_type": "stream",
     "text": [
      "Парсинг описаний:  17%|█▋        | 945/5500 [47:06<5:02:08,  3.98s/it]"
     ]
    },
    {
     "name": "stdout",
     "output_type": "stream",
     "text": [
      "⚠ Ошибка при загрузке https://kinogo.org/120832-licom-k-licu.html: Message: \n",
      "Stacktrace:\n",
      "#0 0x63bf7b80796a <unknown>\n",
      "#1 0x63bf7b29de60 <unknown>\n",
      "#2 0x63bf7b2ee300 <unknown>\n",
      "#3 0x63bf7b2ee4f1 <unknown>\n",
      "#4 0x63bf7b33c8f4 <unknown>\n",
      "#5 0x63bf7b31415d <unknown>\n",
      "#6 0x63bf7b339cc5 <unknown>\n",
      "#7 0x63bf7b313f03 <unknown>\n",
      "#8 0x63bf7b2e0a5a <unknown>\n",
      "#9 0x63bf7b2e16d1 <unknown>\n",
      "#10 0x63bf7b7cceff <unknown>\n",
      "#11 0x63bf7b7d0f08 <unknown>\n",
      "#12 0x63bf7b7b3ddc <unknown>\n",
      "#13 0x63bf7b7d16ae <unknown>\n",
      "#14 0x63bf7b79b29e <unknown>\n",
      "#15 0x63bf7b7f5238 <unknown>\n",
      "#16 0x63bf7b7f5448 <unknown>\n",
      "#17 0x63bf7b80656c <unknown>\n",
      "#18 0x7841b0694ac3 <unknown>\n",
      "\n"
     ]
    },
    {
     "name": "stderr",
     "output_type": "stream",
     "text": [
      "Парсинг описаний:  17%|█▋        | 948/5500 [47:10<2:45:45,  2.18s/it]"
     ]
    },
    {
     "name": "stdout",
     "output_type": "stream",
     "text": [
      "⚠ Ошибка при загрузке https://kinogo.org/7396-formula-prestuplenija.html: Message: \n",
      "Stacktrace:\n",
      "#0 0x642328fcd96a <unknown>\n",
      "#1 0x642328a63e60 <unknown>\n",
      "#2 0x642328ab4300 <unknown>\n",
      "#3 0x642328ab44f1 <unknown>\n",
      "#4 0x642328b028f4 <unknown>\n",
      "#5 0x642328ada15d <unknown>\n",
      "#6 0x642328affcc5 <unknown>\n",
      "#7 0x642328ad9f03 <unknown>\n",
      "#8 0x642328aa6a5a <unknown>\n",
      "#9 0x642328aa76d1 <unknown>\n",
      "#10 0x642328f92eff <unknown>\n",
      "#11 0x642328f96f08 <unknown>\n",
      "#12 0x642328f79ddc <unknown>\n",
      "#13 0x642328f976ae <unknown>\n",
      "#14 0x642328f6129e <unknown>\n",
      "#15 0x642328fbb238 <unknown>\n",
      "#16 0x642328fbb448 <unknown>\n",
      "#17 0x642328fcc56c <unknown>\n",
      "#18 0x7a15b2494ac3 <unknown>\n",
      "\n"
     ]
    },
    {
     "name": "stderr",
     "output_type": "stream",
     "text": [
      "Парсинг описаний:  17%|█▋        | 951/5500 [47:31<5:25:42,  4.30s/it]"
     ]
    },
    {
     "name": "stdout",
     "output_type": "stream",
     "text": [
      "⚠ Ошибка при загрузке https://kinogo.org/122051-pozhit-kak-ljudi.html: Message: \n",
      "Stacktrace:\n",
      "#0 0x5957d7be896a <unknown>\n",
      "#1 0x5957d767ee60 <unknown>\n",
      "#2 0x5957d76cf300 <unknown>\n",
      "#3 0x5957d76cf4f1 <unknown>\n",
      "#4 0x5957d771d8f4 <unknown>\n",
      "#5 0x5957d76f515d <unknown>\n",
      "#6 0x5957d771acc5 <unknown>\n",
      "#7 0x5957d76f4f03 <unknown>\n",
      "#8 0x5957d76c1a5a <unknown>\n",
      "#9 0x5957d76c26d1 <unknown>\n",
      "#10 0x5957d7badeff <unknown>\n",
      "#11 0x5957d7bb1f08 <unknown>\n",
      "#12 0x5957d7b94ddc <unknown>\n",
      "#13 0x5957d7bb26ae <unknown>\n",
      "#14 0x5957d7b7c29e <unknown>\n",
      "#15 0x5957d7bd6238 <unknown>\n",
      "#16 0x5957d7bd6448 <unknown>\n",
      "#17 0x5957d7be756c <unknown>\n",
      "#18 0x7c875ee94ac3 <unknown>\n",
      "\n"
     ]
    },
    {
     "name": "stderr",
     "output_type": "stream",
     "text": [
      "Парсинг описаний:  20%|█▉        | 1074/5500 [53:21<3:18:30,  2.69s/it]"
     ]
    },
    {
     "name": "stdout",
     "output_type": "stream",
     "text": [
      "⚠ Ошибка при загрузке https://kinogo.org/120925-tri-pljus-tri.html: Message: \n",
      "Stacktrace:\n",
      "#0 0x59e6e2a5596a <unknown>\n",
      "#1 0x59e6e24ebe60 <unknown>\n",
      "#2 0x59e6e253c300 <unknown>\n",
      "#3 0x59e6e253c4f1 <unknown>\n",
      "#4 0x59e6e258a8f4 <unknown>\n",
      "#5 0x59e6e256215d <unknown>\n",
      "#6 0x59e6e2587cc5 <unknown>\n",
      "#7 0x59e6e2561f03 <unknown>\n",
      "#8 0x59e6e252ea5a <unknown>\n",
      "#9 0x59e6e252f6d1 <unknown>\n",
      "#10 0x59e6e2a1aeff <unknown>\n",
      "#11 0x59e6e2a1ef08 <unknown>\n",
      "#12 0x59e6e2a01ddc <unknown>\n",
      "#13 0x59e6e2a1f6ae <unknown>\n",
      "#14 0x59e6e29e929e <unknown>\n",
      "#15 0x59e6e2a43238 <unknown>\n",
      "#16 0x59e6e2a43448 <unknown>\n",
      "#17 0x59e6e2a5456c <unknown>\n",
      "#18 0x748de9294ac3 <unknown>\n",
      "\n"
     ]
    },
    {
     "name": "stderr",
     "output_type": "stream",
     "text": [
      "Парсинг описаний:  20%|█▉        | 1084/5500 [53:46<2:28:32,  2.02s/it]"
     ]
    },
    {
     "name": "stdout",
     "output_type": "stream",
     "text": [
      "⚠ Ошибка при загрузке https://kinogo.org/106864-inspektor-gavrilov.html: Message: \n",
      "Stacktrace:\n",
      "#0 0x5d56a5f7196a <unknown>\n",
      "#1 0x5d56a5a07e60 <unknown>\n",
      "#2 0x5d56a5a58300 <unknown>\n",
      "#3 0x5d56a5a584f1 <unknown>\n",
      "#4 0x5d56a5aa68f4 <unknown>\n",
      "#5 0x5d56a5a7e15d <unknown>\n",
      "#6 0x5d56a5aa3cc5 <unknown>\n",
      "#7 0x5d56a5a7df03 <unknown>\n",
      "#8 0x5d56a5a4aa5a <unknown>\n",
      "#9 0x5d56a5a4b6d1 <unknown>\n",
      "#10 0x5d56a5f36eff <unknown>\n",
      "#11 0x5d56a5f3af08 <unknown>\n",
      "#12 0x5d56a5f1dddc <unknown>\n",
      "#13 0x5d56a5f3b6ae <unknown>\n",
      "#14 0x5d56a5f0529e <unknown>\n",
      "#15 0x5d56a5f5f238 <unknown>\n",
      "#16 0x5d56a5f5f448 <unknown>\n",
      "#17 0x5d56a5f7056c <unknown>\n",
      "#18 0x76da91a94ac3 <unknown>\n",
      "\n"
     ]
    },
    {
     "name": "stderr",
     "output_type": "stream",
     "text": [
      "Парсинг описаний:  20%|██        | 1100/5500 [54:29<3:24:16,  2.79s/it]"
     ]
    },
    {
     "name": "stdout",
     "output_type": "stream",
     "text": [
      "⚠ Ошибка при загрузке https://kinogo.org/4819-zimorodok.html: Message: \n",
      "Stacktrace:\n",
      "#0 0x5fcb29e7796a <unknown>\n",
      "#1 0x5fcb2990de60 <unknown>\n",
      "#2 0x5fcb2995e300 <unknown>\n",
      "#3 0x5fcb2995e4f1 <unknown>\n",
      "#4 0x5fcb299ac8f4 <unknown>\n",
      "#5 0x5fcb2998415d <unknown>\n",
      "#6 0x5fcb299a9cc5 <unknown>\n",
      "#7 0x5fcb29983f03 <unknown>\n",
      "#8 0x5fcb29950a5a <unknown>\n",
      "#9 0x5fcb299516d1 <unknown>\n",
      "#10 0x5fcb29e3ceff <unknown>\n",
      "#11 0x5fcb29e40f08 <unknown>\n",
      "#12 0x5fcb29e23ddc <unknown>\n",
      "#13 0x5fcb29e416ae <unknown>\n",
      "#14 0x5fcb29e0b29e <unknown>\n",
      "#15 0x5fcb29e65238 <unknown>\n",
      "#16 0x5fcb29e65448 <unknown>\n",
      "#17 0x5fcb29e7656c <unknown>\n",
      "#18 0x74b3a5094ac3 <unknown>\n",
      "\n"
     ]
    },
    {
     "name": "stderr",
     "output_type": "stream",
     "text": [
      "Парсинг описаний:  22%|██▏       | 1206/5500 [59:04<3:50:22,  3.22s/it]"
     ]
    },
    {
     "name": "stdout",
     "output_type": "stream",
     "text": [
      "⚠ Ошибка при загрузке https://kinogo.org/119708-podslushano-v-rybinske.html: Message: \n",
      "Stacktrace:\n",
      "#0 0x5e3ce48b196a <unknown>\n",
      "#1 0x5e3ce4347e60 <unknown>\n",
      "#2 0x5e3ce4398300 <unknown>\n",
      "#3 0x5e3ce43984f1 <unknown>\n",
      "#4 0x5e3ce43e68f4 <unknown>\n",
      "#5 0x5e3ce43be15d <unknown>\n",
      "#6 0x5e3ce43e3cc5 <unknown>\n",
      "#7 0x5e3ce43bdf03 <unknown>\n",
      "#8 0x5e3ce438aa5a <unknown>\n",
      "#9 0x5e3ce438b6d1 <unknown>\n",
      "#10 0x5e3ce4876eff <unknown>\n",
      "#11 0x5e3ce487af08 <unknown>\n",
      "#12 0x5e3ce485dddc <unknown>\n",
      "#13 0x5e3ce487b6ae <unknown>\n",
      "#14 0x5e3ce484529e <unknown>\n",
      "#15 0x5e3ce489f238 <unknown>\n",
      "#16 0x5e3ce489f448 <unknown>\n",
      "#17 0x5e3ce48b056c <unknown>\n",
      "#18 0x783471c94ac3 <unknown>\n",
      "\n"
     ]
    },
    {
     "name": "stderr",
     "output_type": "stream",
     "text": [
      "Парсинг описаний:  24%|██▍       | 1344/5500 [1:04:53<2:56:15,  2.54s/it]"
     ]
    },
    {
     "name": "stdout",
     "output_type": "stream",
     "text": [
      "⚠ Ошибка при загрузке https://kinogo.org/3703-portret-ubijcy.html: Message: \n",
      "Stacktrace:\n",
      "#0 0x563976d3c96a <unknown>\n",
      "#1 0x5639767d2e60 <unknown>\n",
      "#2 0x563976823300 <unknown>\n",
      "#3 0x5639768234f1 <unknown>\n",
      "#4 0x5639768718f4 <unknown>\n",
      "#5 0x56397684915d <unknown>\n",
      "#6 0x56397686ecc5 <unknown>\n",
      "#7 0x563976848f03 <unknown>\n",
      "#8 0x563976815a5a <unknown>\n",
      "#9 0x5639768166d1 <unknown>\n",
      "#10 0x563976d01eff <unknown>\n",
      "#11 0x563976d05f08 <unknown>\n",
      "#12 0x563976ce8ddc <unknown>\n",
      "#13 0x563976d066ae <unknown>\n",
      "#14 0x563976cd029e <unknown>\n",
      "#15 0x563976d2a238 <unknown>\n",
      "#16 0x563976d2a448 <unknown>\n",
      "#17 0x563976d3b56c <unknown>\n",
      "#18 0x7bd2c3494ac3 <unknown>\n",
      "\n"
     ]
    },
    {
     "name": "stderr",
     "output_type": "stream",
     "text": [
      "Парсинг описаний:  26%|██▌       | 1417/5500 [1:08:00<3:01:34,  2.67s/it]"
     ]
    },
    {
     "name": "stdout",
     "output_type": "stream",
     "text": [
      "⚠ Ошибка при загрузке https://kinogo.org/118768-krasnaja-poljana.html: Message: \n",
      "Stacktrace:\n",
      "#0 0x5ae1fd16296a <unknown>\n",
      "#1 0x5ae1fcbf8e60 <unknown>\n",
      "#2 0x5ae1fcc49300 <unknown>\n",
      "#3 0x5ae1fcc494f1 <unknown>\n",
      "#4 0x5ae1fcc978f4 <unknown>\n",
      "#5 0x5ae1fcc6f15d <unknown>\n",
      "#6 0x5ae1fcc94cc5 <unknown>\n",
      "#7 0x5ae1fcc6ef03 <unknown>\n",
      "#8 0x5ae1fcc3ba5a <unknown>\n",
      "#9 0x5ae1fcc3c6d1 <unknown>\n",
      "#10 0x5ae1fd127eff <unknown>\n",
      "#11 0x5ae1fd12bf08 <unknown>\n",
      "#12 0x5ae1fd10eddc <unknown>\n",
      "#13 0x5ae1fd12c6ae <unknown>\n",
      "#14 0x5ae1fd0f629e <unknown>\n",
      "#15 0x5ae1fd150238 <unknown>\n",
      "#16 0x5ae1fd150448 <unknown>\n",
      "#17 0x5ae1fd16156c <unknown>\n",
      "#18 0x7396d1e94ac3 <unknown>\n",
      "\n"
     ]
    },
    {
     "name": "stderr",
     "output_type": "stream",
     "text": [
      "Парсинг описаний:  26%|██▋       | 1451/5500 [1:09:38<2:41:31,  2.39s/it]"
     ]
    },
    {
     "name": "stdout",
     "output_type": "stream",
     "text": [
      "⚠ Ошибка при загрузке https://kinogo.org/6396-protiv-vseh.html: Message: \n",
      "Stacktrace:\n",
      "#0 0x5abf8bfd296a <unknown>\n",
      "#1 0x5abf8ba68e60 <unknown>\n",
      "#2 0x5abf8bab9300 <unknown>\n",
      "#3 0x5abf8bab94f1 <unknown>\n",
      "#4 0x5abf8bb078f4 <unknown>\n",
      "#5 0x5abf8badf15d <unknown>\n",
      "#6 0x5abf8bb04cc5 <unknown>\n",
      "#7 0x5abf8badef03 <unknown>\n",
      "#8 0x5abf8baaba5a <unknown>\n",
      "#9 0x5abf8baac6d1 <unknown>\n",
      "#10 0x5abf8bf97eff <unknown>\n",
      "#11 0x5abf8bf9bf08 <unknown>\n",
      "#12 0x5abf8bf7eddc <unknown>\n",
      "#13 0x5abf8bf9c6ae <unknown>\n",
      "#14 0x5abf8bf6629e <unknown>\n",
      "#15 0x5abf8bfc0238 <unknown>\n",
      "#16 0x5abf8bfc0448 <unknown>\n",
      "#17 0x5abf8bfd156c <unknown>\n",
      "#18 0x747963094ac3 <unknown>\n",
      "\n"
     ]
    },
    {
     "name": "stderr",
     "output_type": "stream",
     "text": [
      "Парсинг описаний:  27%|██▋       | 1475/5500 [1:10:38<2:12:07,  1.97s/it]"
     ]
    },
    {
     "name": "stdout",
     "output_type": "stream",
     "text": [
      "⚠ Ошибка при загрузке https://kinogo.org/117646-deti-peremen.html: Message: \n",
      "Stacktrace:\n",
      "#0 0x5b1b7bec696a <unknown>\n",
      "#1 0x5b1b7b95ce60 <unknown>\n",
      "#2 0x5b1b7b9ad300 <unknown>\n",
      "#3 0x5b1b7b9ad4f1 <unknown>\n",
      "#4 0x5b1b7b9fb8f4 <unknown>\n",
      "#5 0x5b1b7b9d315d <unknown>\n",
      "#6 0x5b1b7b9f8cc5 <unknown>\n",
      "#7 0x5b1b7b9d2f03 <unknown>\n",
      "#8 0x5b1b7b99fa5a <unknown>\n",
      "#9 0x5b1b7b9a06d1 <unknown>\n",
      "#10 0x5b1b7be8beff <unknown>\n",
      "#11 0x5b1b7be8ff08 <unknown>\n",
      "#12 0x5b1b7be72ddc <unknown>\n",
      "#13 0x5b1b7be906ae <unknown>\n",
      "#14 0x5b1b7be5a29e <unknown>\n",
      "#15 0x5b1b7beb4238 <unknown>\n",
      "#16 0x5b1b7beb4448 <unknown>\n",
      "#17 0x5b1b7bec556c <unknown>\n",
      "#18 0x736158694ac3 <unknown>\n",
      "\n"
     ]
    },
    {
     "name": "stderr",
     "output_type": "stream",
     "text": [
      "Парсинг описаний:  29%|██▉       | 1595/5500 [1:16:13<2:26:04,  2.24s/it]"
     ]
    },
    {
     "name": "stdout",
     "output_type": "stream",
     "text": [
      "⚠ Ошибка при загрузке https://kinogo.org/4742-knutby.html: Message: \n",
      "Stacktrace:\n",
      "#0 0x55b1cbdca96a <unknown>\n",
      "#1 0x55b1cb860e60 <unknown>\n",
      "#2 0x55b1cb8b1300 <unknown>\n",
      "#3 0x55b1cb8b14f1 <unknown>\n",
      "#4 0x55b1cb8ff8f4 <unknown>\n",
      "#5 0x55b1cb8d715d <unknown>\n",
      "#6 0x55b1cb8fccc5 <unknown>\n",
      "#7 0x55b1cb8d6f03 <unknown>\n",
      "#8 0x55b1cb8a3a5a <unknown>\n",
      "#9 0x55b1cb8a46d1 <unknown>\n",
      "#10 0x55b1cbd8feff <unknown>\n",
      "#11 0x55b1cbd93f08 <unknown>\n",
      "#12 0x55b1cbd76ddc <unknown>\n",
      "#13 0x55b1cbd946ae <unknown>\n",
      "#14 0x55b1cbd5e29e <unknown>\n",
      "#15 0x55b1cbdb8238 <unknown>\n",
      "#16 0x55b1cbdb8448 <unknown>\n",
      "#17 0x55b1cbdc956c <unknown>\n",
      "#18 0x735b08694ac3 <unknown>\n",
      "\n"
     ]
    },
    {
     "name": "stderr",
     "output_type": "stream",
     "text": [
      "Парсинг описаний:  29%|██▉       | 1616/5500 [1:17:20<3:37:05,  3.35s/it]"
     ]
    },
    {
     "name": "stdout",
     "output_type": "stream",
     "text": [
      "⚠ Ошибка при загрузке https://kinogo.org/6789-tajny-sledstvija.html: Message: \n",
      "Stacktrace:\n",
      "#0 0x5ace92a1a96a <unknown>\n",
      "#1 0x5ace924b0e60 <unknown>\n",
      "#2 0x5ace92501300 <unknown>\n",
      "#3 0x5ace925014f1 <unknown>\n",
      "#4 0x5ace9254f8f4 <unknown>\n",
      "#5 0x5ace9252715d <unknown>\n",
      "#6 0x5ace9254ccc5 <unknown>\n",
      "#7 0x5ace92526f03 <unknown>\n",
      "#8 0x5ace924f3a5a <unknown>\n",
      "#9 0x5ace924f46d1 <unknown>\n",
      "#10 0x5ace929dfeff <unknown>\n",
      "#11 0x5ace929e3f08 <unknown>\n",
      "#12 0x5ace929c6ddc <unknown>\n",
      "#13 0x5ace929e46ae <unknown>\n",
      "#14 0x5ace929ae29e <unknown>\n",
      "#15 0x5ace92a08238 <unknown>\n",
      "#16 0x5ace92a08448 <unknown>\n",
      "#17 0x5ace92a1956c <unknown>\n",
      "#18 0x70f7c4894ac3 <unknown>\n",
      "\n"
     ]
    },
    {
     "name": "stderr",
     "output_type": "stream",
     "text": [
      "Парсинг описаний:  30%|██▉       | 1624/5500 [1:17:45<2:55:34,  2.72s/it]"
     ]
    },
    {
     "name": "stdout",
     "output_type": "stream",
     "text": [
      "⚠ Ошибка при загрузке https://kinogo.org/117360-makron.html: Message: \n",
      "Stacktrace:\n",
      "#0 0x5dbc4405696a <unknown>\n",
      "#1 0x5dbc43aece60 <unknown>\n",
      "#2 0x5dbc43b3d300 <unknown>\n",
      "#3 0x5dbc43b3d4f1 <unknown>\n",
      "#4 0x5dbc43b8b8f4 <unknown>\n",
      "#5 0x5dbc43b6315d <unknown>\n",
      "#6 0x5dbc43b88cc5 <unknown>\n",
      "#7 0x5dbc43b62f03 <unknown>\n",
      "#8 0x5dbc43b2fa5a <unknown>\n",
      "#9 0x5dbc43b306d1 <unknown>\n",
      "#10 0x5dbc4401beff <unknown>\n",
      "#11 0x5dbc4401ff08 <unknown>\n",
      "#12 0x5dbc44002ddc <unknown>\n",
      "#13 0x5dbc440206ae <unknown>\n",
      "#14 0x5dbc43fea29e <unknown>\n",
      "#15 0x5dbc44044238 <unknown>\n",
      "#16 0x5dbc44044448 <unknown>\n",
      "#17 0x5dbc4405556c <unknown>\n",
      "#18 0x7f8c73094ac3 <unknown>\n",
      "\n"
     ]
    },
    {
     "name": "stderr",
     "output_type": "stream",
     "text": [
      "Парсинг описаний:  30%|██▉       | 1645/5500 [1:18:54<2:43:51,  2.55s/it]"
     ]
    },
    {
     "name": "stdout",
     "output_type": "stream",
     "text": [
      "⚠ Ошибка при загрузке https://kinogo.org/3663-trepet-serdca.html: Message: \n",
      "Stacktrace:\n",
      "#0 0x5687355be96a <unknown>\n",
      "#1 0x568735054e60 <unknown>\n",
      "#2 0x5687350a5300 <unknown>\n",
      "#3 0x5687350a54f1 <unknown>\n",
      "#4 0x5687350f38f4 <unknown>\n",
      "#5 0x5687350cb15d <unknown>\n",
      "#6 0x5687350f0cc5 <unknown>\n",
      "#7 0x5687350caf03 <unknown>\n",
      "#8 0x568735097a5a <unknown>\n",
      "#9 0x5687350986d1 <unknown>\n",
      "#10 0x568735583eff <unknown>\n",
      "#11 0x568735587f08 <unknown>\n",
      "#12 0x56873556addc <unknown>\n",
      "#13 0x5687355886ae <unknown>\n",
      "#14 0x56873555229e <unknown>\n",
      "#15 0x5687355ac238 <unknown>\n",
      "#16 0x5687355ac448 <unknown>\n",
      "#17 0x5687355bd56c <unknown>\n",
      "#18 0x7f24bf094ac3 <unknown>\n",
      "\n"
     ]
    },
    {
     "name": "stderr",
     "output_type": "stream",
     "text": [
      "Парсинг описаний:  31%|███       | 1702/5500 [1:21:23<2:34:51,  2.45s/it]"
     ]
    },
    {
     "name": "stdout",
     "output_type": "stream",
     "text": [
      "⚠ Ошибка при загрузке https://kinogo.org/108215-mnogodetstvo.html: Message: \n",
      "Stacktrace:\n",
      "#0 0x65440e98396a <unknown>\n",
      "#1 0x65440e419e60 <unknown>\n",
      "#2 0x65440e46a300 <unknown>\n",
      "#3 0x65440e46a4f1 <unknown>\n",
      "#4 0x65440e4b88f4 <unknown>\n",
      "#5 0x65440e49015d <unknown>\n",
      "#6 0x65440e4b5cc5 <unknown>\n",
      "#7 0x65440e48ff03 <unknown>\n",
      "#8 0x65440e45ca5a <unknown>\n",
      "#9 0x65440e45d6d1 <unknown>\n",
      "#10 0x65440e948eff <unknown>\n",
      "#11 0x65440e94cf08 <unknown>\n",
      "#12 0x65440e92fddc <unknown>\n",
      "#13 0x65440e94d6ae <unknown>\n",
      "#14 0x65440e91729e <unknown>\n",
      "#15 0x65440e971238 <unknown>\n",
      "#16 0x65440e971448 <unknown>\n",
      "#17 0x65440e98256c <unknown>\n",
      "#18 0x7d09df094ac3 <unknown>\n",
      "\n"
     ]
    },
    {
     "name": "stderr",
     "output_type": "stream",
     "text": [
      "Парсинг описаний:  31%|███       | 1708/5500 [1:21:36<1:46:47,  1.69s/it]"
     ]
    },
    {
     "name": "stdout",
     "output_type": "stream",
     "text": [
      "⚠ Ошибка при загрузке https://kinogo.org/117083-mnogogranniki.html: Message: \n",
      "Stacktrace:\n",
      "#0 0x5d950db3096a <unknown>\n",
      "#1 0x5d950d5c6e60 <unknown>\n",
      "#2 0x5d950d617300 <unknown>\n",
      "#3 0x5d950d6174f1 <unknown>\n",
      "#4 0x5d950d6658f4 <unknown>\n",
      "#5 0x5d950d63d15d <unknown>\n",
      "#6 0x5d950d662cc5 <unknown>\n",
      "#7 0x5d950d63cf03 <unknown>\n",
      "#8 0x5d950d609a5a <unknown>\n",
      "#9 0x5d950d60a6d1 <unknown>\n",
      "#10 0x5d950daf5eff <unknown>\n",
      "#11 0x5d950daf9f08 <unknown>\n",
      "#12 0x5d950dadcddc <unknown>\n",
      "#13 0x5d950dafa6ae <unknown>\n",
      "#14 0x5d950dac429e <unknown>\n",
      "#15 0x5d950db1e238 <unknown>\n",
      "#16 0x5d950db1e448 <unknown>\n",
      "#17 0x5d950db2f56c <unknown>\n",
      "#18 0x70d76de94ac3 <unknown>\n",
      "\n"
     ]
    },
    {
     "name": "stderr",
     "output_type": "stream",
     "text": [
      "Парсинг описаний:  31%|███       | 1711/5500 [1:21:47<2:35:07,  2.46s/it]"
     ]
    },
    {
     "name": "stdout",
     "output_type": "stream",
     "text": [
      "⚠ Ошибка при загрузке https://kinogo.org/117569-cvety-zhizni.html: Message: \n",
      "Stacktrace:\n",
      "#0 0x56096064796a <unknown>\n",
      "#1 0x5609600dde60 <unknown>\n",
      "#2 0x56096012e300 <unknown>\n",
      "#3 0x56096012e4f1 <unknown>\n",
      "#4 0x56096017c8f4 <unknown>\n",
      "#5 0x56096015415d <unknown>\n",
      "#6 0x560960179cc5 <unknown>\n",
      "#7 0x560960153f03 <unknown>\n",
      "#8 0x560960120a5a <unknown>\n",
      "#9 0x5609601216d1 <unknown>\n",
      "#10 0x56096060ceff <unknown>\n",
      "#11 0x560960610f08 <unknown>\n",
      "#12 0x5609605f3ddc <unknown>\n",
      "#13 0x5609606116ae <unknown>\n",
      "#14 0x5609605db29e <unknown>\n",
      "#15 0x560960635238 <unknown>\n",
      "#16 0x560960635448 <unknown>\n",
      "#17 0x56096064656c <unknown>\n",
      "#18 0x7501b0694ac3 <unknown>\n",
      "\n"
     ]
    },
    {
     "name": "stderr",
     "output_type": "stream",
     "text": [
      "Парсинг описаний:  31%|███▏      | 1728/5500 [1:22:48<3:18:13,  3.15s/it]"
     ]
    },
    {
     "name": "stdout",
     "output_type": "stream",
     "text": [
      "⚠ Ошибка при загрузке https://kinogo.org/104222-grjaznaja-korzina.html: Message: \n",
      "Stacktrace:\n",
      "#0 0x5c6dd570196a <unknown>\n",
      "#1 0x5c6dd5197e60 <unknown>\n",
      "#2 0x5c6dd51e8300 <unknown>\n",
      "#3 0x5c6dd51e84f1 <unknown>\n",
      "#4 0x5c6dd52368f4 <unknown>\n",
      "#5 0x5c6dd520e15d <unknown>\n",
      "#6 0x5c6dd5233cc5 <unknown>\n",
      "#7 0x5c6dd520df03 <unknown>\n",
      "#8 0x5c6dd51daa5a <unknown>\n",
      "#9 0x5c6dd51db6d1 <unknown>\n",
      "#10 0x5c6dd56c6eff <unknown>\n",
      "#11 0x5c6dd56caf08 <unknown>\n",
      "#12 0x5c6dd56adddc <unknown>\n",
      "#13 0x5c6dd56cb6ae <unknown>\n",
      "#14 0x5c6dd569529e <unknown>\n",
      "#15 0x5c6dd56ef238 <unknown>\n",
      "#16 0x5c6dd56ef448 <unknown>\n",
      "#17 0x5c6dd570056c <unknown>\n",
      "#18 0x7a5989e94ac3 <unknown>\n",
      "\n"
     ]
    },
    {
     "name": "stderr",
     "output_type": "stream",
     "text": [
      "Парсинг описаний:  32%|███▏      | 1741/5500 [1:23:24<3:09:11,  3.02s/it]"
     ]
    },
    {
     "name": "stdout",
     "output_type": "stream",
     "text": [
      "⚠ Ошибка при загрузке https://kinogo.org/117458-razdel-mira-1939-1956.html: Message: \n",
      "Stacktrace:\n",
      "#0 0x5f0ac058e96a <unknown>\n",
      "#1 0x5f0ac0024e60 <unknown>\n",
      "#2 0x5f0ac0075300 <unknown>\n",
      "#3 0x5f0ac00754f1 <unknown>\n",
      "#4 0x5f0ac00c38f4 <unknown>\n",
      "#5 0x5f0ac009b15d <unknown>\n",
      "#6 0x5f0ac00c0cc5 <unknown>\n",
      "#7 0x5f0ac009af03 <unknown>\n",
      "#8 0x5f0ac0067a5a <unknown>\n",
      "#9 0x5f0ac00686d1 <unknown>\n",
      "#10 0x5f0ac0553eff <unknown>\n",
      "#11 0x5f0ac0557f08 <unknown>\n",
      "#12 0x5f0ac053addc <unknown>\n",
      "#13 0x5f0ac05586ae <unknown>\n",
      "#14 0x5f0ac052229e <unknown>\n",
      "#15 0x5f0ac057c238 <unknown>\n",
      "#16 0x5f0ac057c448 <unknown>\n",
      "#17 0x5f0ac058d56c <unknown>\n",
      "#18 0x7ce501094ac3 <unknown>\n",
      "\n"
     ]
    },
    {
     "name": "stderr",
     "output_type": "stream",
     "text": [
      "Парсинг описаний:  32%|███▏      | 1746/5500 [1:23:38<2:34:12,  2.46s/it]"
     ]
    },
    {
     "name": "stdout",
     "output_type": "stream",
     "text": [
      "⚠ Ошибка при загрузке https://kinogo.org/5927-zhit-zhizn.html: Message: \n",
      "Stacktrace:\n",
      "#0 0x5bddc176596a <unknown>\n",
      "#1 0x5bddc11fbe60 <unknown>\n",
      "#2 0x5bddc124c300 <unknown>\n",
      "#3 0x5bddc124c4f1 <unknown>\n",
      "#4 0x5bddc129a8f4 <unknown>\n",
      "#5 0x5bddc127215d <unknown>\n",
      "#6 0x5bddc1297cc5 <unknown>\n",
      "#7 0x5bddc1271f03 <unknown>\n",
      "#8 0x5bddc123ea5a <unknown>\n",
      "#9 0x5bddc123f6d1 <unknown>\n",
      "#10 0x5bddc172aeff <unknown>\n",
      "#11 0x5bddc172ef08 <unknown>\n",
      "#12 0x5bddc1711ddc <unknown>\n",
      "#13 0x5bddc172f6ae <unknown>\n",
      "#14 0x5bddc16f929e <unknown>\n",
      "#15 0x5bddc1753238 <unknown>\n",
      "#16 0x5bddc1753448 <unknown>\n",
      "#17 0x5bddc176456c <unknown>\n",
      "#18 0x742622094ac3 <unknown>\n",
      "\n"
     ]
    },
    {
     "name": "stderr",
     "output_type": "stream",
     "text": [
      "Парсинг описаний:  32%|███▏      | 1766/5500 [1:24:35<3:31:45,  3.40s/it]"
     ]
    },
    {
     "name": "stdout",
     "output_type": "stream",
     "text": [
      "⚠ Ошибка при загрузке https://kinogo.org/115695-roditeli-roditelej.html: Message: \n",
      "Stacktrace:\n",
      "#0 0x64ea05e6196a <unknown>\n",
      "#1 0x64ea058f7e60 <unknown>\n",
      "#2 0x64ea05948300 <unknown>\n",
      "#3 0x64ea059484f1 <unknown>\n",
      "#4 0x64ea059968f4 <unknown>\n",
      "#5 0x64ea0596e15d <unknown>\n",
      "#6 0x64ea05993cc5 <unknown>\n",
      "#7 0x64ea0596df03 <unknown>\n",
      "#8 0x64ea0593aa5a <unknown>\n",
      "#9 0x64ea0593b6d1 <unknown>\n",
      "#10 0x64ea05e26eff <unknown>\n",
      "#11 0x64ea05e2af08 <unknown>\n",
      "#12 0x64ea05e0dddc <unknown>\n",
      "#13 0x64ea05e2b6ae <unknown>\n",
      "#14 0x64ea05df529e <unknown>\n",
      "#15 0x64ea05e4f238 <unknown>\n",
      "#16 0x64ea05e4f448 <unknown>\n",
      "#17 0x64ea05e6056c <unknown>\n",
      "#18 0x7394cbc94ac3 <unknown>\n",
      "\n"
     ]
    },
    {
     "name": "stderr",
     "output_type": "stream",
     "text": [
      "Парсинг описаний:  32%|███▏      | 1770/5500 [1:24:41<2:01:53,  1.96s/it]"
     ]
    },
    {
     "name": "stdout",
     "output_type": "stream",
     "text": [
      "⚠ Ошибка при загрузке https://kinogo.org/7342-naparnicy-astrid-i-rafajella.html: Message: \n",
      "Stacktrace:\n",
      "#0 0x5924612b996a <unknown>\n",
      "#1 0x592460d4fe60 <unknown>\n",
      "#2 0x592460da0300 <unknown>\n",
      "#3 0x592460da04f1 <unknown>\n",
      "#4 0x592460dee8f4 <unknown>\n",
      "#5 0x592460dc615d <unknown>\n",
      "#6 0x592460debcc5 <unknown>\n",
      "#7 0x592460dc5f03 <unknown>\n",
      "#8 0x592460d92a5a <unknown>\n",
      "#9 0x592460d936d1 <unknown>\n",
      "#10 0x59246127eeff <unknown>\n",
      "#11 0x592461282f08 <unknown>\n",
      "#12 0x592461265ddc <unknown>\n",
      "#13 0x5924612836ae <unknown>\n",
      "#14 0x59246124d29e <unknown>\n",
      "#15 0x5924612a7238 <unknown>\n",
      "#16 0x5924612a7448 <unknown>\n",
      "#17 0x5924612b856c <unknown>\n",
      "#18 0x73f31fc94ac3 <unknown>\n",
      "\n"
     ]
    },
    {
     "name": "stderr",
     "output_type": "stream",
     "text": [
      "Парсинг описаний:  32%|███▏      | 1775/5500 [1:24:59<3:32:33,  3.42s/it]"
     ]
    },
    {
     "name": "stdout",
     "output_type": "stream",
     "text": [
      "⚠ Ошибка при загрузке https://kinogo.org/115979-poslednij-bogatyr-nasledie.html: Message: \n",
      "Stacktrace:\n",
      "#0 0x5b2b6938e96a <unknown>\n",
      "#1 0x5b2b68e24e60 <unknown>\n",
      "#2 0x5b2b68e75300 <unknown>\n",
      "#3 0x5b2b68e754f1 <unknown>\n",
      "#4 0x5b2b68ec38f4 <unknown>\n",
      "#5 0x5b2b68e9b15d <unknown>\n",
      "#6 0x5b2b68ec0cc5 <unknown>\n",
      "#7 0x5b2b68e9af03 <unknown>\n",
      "#8 0x5b2b68e67a5a <unknown>\n",
      "#9 0x5b2b68e686d1 <unknown>\n",
      "#10 0x5b2b69353eff <unknown>\n",
      "#11 0x5b2b69357f08 <unknown>\n",
      "#12 0x5b2b6933addc <unknown>\n",
      "#13 0x5b2b693586ae <unknown>\n",
      "#14 0x5b2b6932229e <unknown>\n",
      "#15 0x5b2b6937c238 <unknown>\n",
      "#16 0x5b2b6937c448 <unknown>\n",
      "#17 0x5b2b6938d56c <unknown>\n",
      "#18 0x7813a4494ac3 <unknown>\n",
      "\n"
     ]
    },
    {
     "name": "stderr",
     "output_type": "stream",
     "text": [
      "Парсинг описаний:  33%|███▎      | 1803/5500 [1:26:14<2:50:25,  2.77s/it]"
     ]
    },
    {
     "name": "stdout",
     "output_type": "stream",
     "text": [
      "⚠ Ошибка при загрузке https://kinogo.org/117022-horoshij-ili-plohoj-prokuror.html: Message: \n",
      "Stacktrace:\n",
      "#0 0x625eb14ee96a <unknown>\n",
      "#1 0x625eb0f84e60 <unknown>\n",
      "#2 0x625eb0fd5300 <unknown>\n",
      "#3 0x625eb0fd54f1 <unknown>\n",
      "#4 0x625eb10238f4 <unknown>\n",
      "#5 0x625eb0ffb15d <unknown>\n",
      "#6 0x625eb1020cc5 <unknown>\n",
      "#7 0x625eb0ffaf03 <unknown>\n",
      "#8 0x625eb0fc7a5a <unknown>\n",
      "#9 0x625eb0fc86d1 <unknown>\n",
      "#10 0x625eb14b3eff <unknown>\n",
      "#11 0x625eb14b7f08 <unknown>\n",
      "#12 0x625eb149addc <unknown>\n",
      "#13 0x625eb14b86ae <unknown>\n",
      "#14 0x625eb148229e <unknown>\n",
      "#15 0x625eb14dc238 <unknown>\n",
      "#16 0x625eb14dc448 <unknown>\n",
      "#17 0x625eb14ed56c <unknown>\n",
      "#18 0x733c56494ac3 <unknown>\n",
      "\n"
     ]
    },
    {
     "name": "stderr",
     "output_type": "stream",
     "text": [
      "Парсинг описаний:  33%|███▎      | 1834/5500 [1:27:58<3:04:05,  3.01s/it]"
     ]
    },
    {
     "name": "stdout",
     "output_type": "stream",
     "text": [
      "⚠ Ошибка при загрузке https://kinogo.org/7225-prisao-domiciliaria.html: Message: \n",
      "Stacktrace:\n",
      "#0 0x5fed3532896a <unknown>\n",
      "#1 0x5fed34dbee60 <unknown>\n",
      "#2 0x5fed34e0f300 <unknown>\n",
      "#3 0x5fed34e0f4f1 <unknown>\n",
      "#4 0x5fed34e5d8f4 <unknown>\n",
      "#5 0x5fed34e3515d <unknown>\n",
      "#6 0x5fed34e5acc5 <unknown>\n",
      "#7 0x5fed34e34f03 <unknown>\n",
      "#8 0x5fed34e01a5a <unknown>\n",
      "#9 0x5fed34e026d1 <unknown>\n",
      "#10 0x5fed352edeff <unknown>\n",
      "#11 0x5fed352f1f08 <unknown>\n",
      "#12 0x5fed352d4ddc <unknown>\n",
      "#13 0x5fed352f26ae <unknown>\n",
      "#14 0x5fed352bc29e <unknown>\n",
      "#15 0x5fed35316238 <unknown>\n",
      "#16 0x5fed35316448 <unknown>\n",
      "#17 0x5fed3532756c <unknown>\n",
      "#18 0x7f6182a94ac3 <unknown>\n",
      "\n"
     ]
    },
    {
     "name": "stderr",
     "output_type": "stream",
     "text": [
      "Парсинг описаний:  33%|███▎      | 1842/5500 [1:28:26<3:28:38,  3.42s/it]"
     ]
    },
    {
     "name": "stdout",
     "output_type": "stream",
     "text": [
      "⚠ Ошибка при загрузке https://kinogo.org/116980-zivert-do-for-love.html: Message: \n",
      "Stacktrace:\n",
      "#0 0x5d0584bd596a <unknown>\n",
      "#1 0x5d058466be60 <unknown>\n",
      "#2 0x5d05846bc300 <unknown>\n",
      "#3 0x5d05846bc4f1 <unknown>\n",
      "#4 0x5d058470a8f4 <unknown>\n",
      "#5 0x5d05846e215d <unknown>\n",
      "#6 0x5d0584707cc5 <unknown>\n",
      "#7 0x5d05846e1f03 <unknown>\n",
      "#8 0x5d05846aea5a <unknown>\n",
      "#9 0x5d05846af6d1 <unknown>\n",
      "#10 0x5d0584b9aeff <unknown>\n",
      "#11 0x5d0584b9ef08 <unknown>\n",
      "#12 0x5d0584b81ddc <unknown>\n",
      "#13 0x5d0584b9f6ae <unknown>\n",
      "#14 0x5d0584b6929e <unknown>\n",
      "#15 0x5d0584bc3238 <unknown>\n",
      "#16 0x5d0584bc3448 <unknown>\n",
      "#17 0x5d0584bd456c <unknown>\n",
      "#18 0x7f5600694ac3 <unknown>\n",
      "\n"
     ]
    },
    {
     "name": "stderr",
     "output_type": "stream",
     "text": [
      "Парсинг описаний:  35%|███▌      | 1925/5500 [1:32:10<2:37:57,  2.65s/it]"
     ]
    },
    {
     "name": "stdout",
     "output_type": "stream",
     "text": [
      "⚠ Ошибка при загрузке https://kinogo.org/116311-pochti-nastojaschij-detektiv.html: Message: \n",
      "Stacktrace:\n",
      "#0 0x55724280096a <unknown>\n",
      "#1 0x557242296e60 <unknown>\n",
      "#2 0x5572422e7300 <unknown>\n",
      "#3 0x5572422e74f1 <unknown>\n",
      "#4 0x5572423358f4 <unknown>\n",
      "#5 0x55724230d15d <unknown>\n",
      "#6 0x557242332cc5 <unknown>\n",
      "#7 0x55724230cf03 <unknown>\n",
      "#8 0x5572422d9a5a <unknown>\n",
      "#9 0x5572422da6d1 <unknown>\n",
      "#10 0x5572427c5eff <unknown>\n",
      "#11 0x5572427c9f08 <unknown>\n",
      "#12 0x5572427acddc <unknown>\n",
      "#13 0x5572427ca6ae <unknown>\n",
      "#14 0x55724279429e <unknown>\n",
      "#15 0x5572427ee238 <unknown>\n",
      "#16 0x5572427ee448 <unknown>\n",
      "#17 0x5572427ff56c <unknown>\n",
      "#18 0x7f543a694ac3 <unknown>\n",
      "\n"
     ]
    },
    {
     "name": "stderr",
     "output_type": "stream",
     "text": [
      "Парсинг описаний:  35%|███▌      | 1945/5500 [1:33:14<2:48:49,  2.85s/it]"
     ]
    },
    {
     "name": "stdout",
     "output_type": "stream",
     "text": [
      "⚠ Ошибка при загрузке https://kinogo.org/116479-strekoza-nad-omutom.html: HTTPConnectionPool(host='localhost', port=57605): Read timed out. (read timeout=120)\n"
     ]
    },
    {
     "name": "stderr",
     "output_type": "stream",
     "text": [
      "Парсинг описаний:  35%|███▌      | 1947/5500 [1:33:20<2:55:55,  2.97s/it]"
     ]
    },
    {
     "name": "stdout",
     "output_type": "stream",
     "text": [
      "⚠ Ошибка при загрузке https://kinogo.org/6039-vlast-v-nochnom-gorode-kniga-vtoraja-prizrak.html: Message: \n",
      "Stacktrace:\n",
      "#0 0x55657092796a <unknown>\n",
      "#1 0x5565703bde60 <unknown>\n",
      "#2 0x55657040e300 <unknown>\n",
      "#3 0x55657040e4f1 <unknown>\n",
      "#4 0x55657045c8f4 <unknown>\n",
      "#5 0x55657043415d <unknown>\n",
      "#6 0x556570459cc5 <unknown>\n",
      "#7 0x556570433f03 <unknown>\n",
      "#8 0x556570400a5a <unknown>\n",
      "#9 0x5565704016d1 <unknown>\n",
      "#10 0x5565708eceff <unknown>\n",
      "#11 0x5565708f0f08 <unknown>\n",
      "#12 0x5565708d3ddc <unknown>\n",
      "#13 0x5565708f16ae <unknown>\n",
      "#14 0x5565708bb29e <unknown>\n",
      "#15 0x556570915238 <unknown>\n",
      "#16 0x556570915448 <unknown>\n",
      "#17 0x55657092656c <unknown>\n",
      "#18 0x73f7eb694ac3 <unknown>\n",
      "\n"
     ]
    },
    {
     "name": "stderr",
     "output_type": "stream",
     "text": [
      "Парсинг описаний:  36%|███▌      | 1985/5500 [1:35:16<2:45:36,  2.83s/it]"
     ]
    },
    {
     "name": "stdout",
     "output_type": "stream",
     "text": [
      "⚠ Ошибка при загрузке https://kinogo.org/116010-odinokij-zver.html: Message: \n",
      "Stacktrace:\n",
      "#0 0x612cd8e4396a <unknown>\n",
      "#1 0x612cd88d9e60 <unknown>\n",
      "#2 0x612cd892a300 <unknown>\n",
      "#3 0x612cd892a4f1 <unknown>\n",
      "#4 0x612cd89788f4 <unknown>\n",
      "#5 0x612cd895015d <unknown>\n",
      "#6 0x612cd8975cc5 <unknown>\n",
      "#7 0x612cd894ff03 <unknown>\n",
      "#8 0x612cd891ca5a <unknown>\n",
      "#9 0x612cd891d6d1 <unknown>\n",
      "#10 0x612cd8e08eff <unknown>\n",
      "#11 0x612cd8e0cf08 <unknown>\n",
      "#12 0x612cd8defddc <unknown>\n",
      "#13 0x612cd8e0d6ae <unknown>\n",
      "#14 0x612cd8dd729e <unknown>\n",
      "#15 0x612cd8e31238 <unknown>\n",
      "#16 0x612cd8e31448 <unknown>\n",
      "#17 0x612cd8e4256c <unknown>\n",
      "#18 0x77fc65494ac3 <unknown>\n",
      "\n"
     ]
    },
    {
     "name": "stderr",
     "output_type": "stream",
     "text": [
      "Парсинг описаний:  36%|███▋      | 1996/5500 [1:35:57<3:50:57,  3.95s/it]"
     ]
    },
    {
     "name": "stdout",
     "output_type": "stream",
     "text": [
      "⚠ Ошибка при загрузке https://kinogo.org/113613-zhenschiny-v-sinem.html: Message: \n",
      "Stacktrace:\n",
      "#0 0x5d027094c96a <unknown>\n",
      "#1 0x5d02703e2e60 <unknown>\n",
      "#2 0x5d0270433300 <unknown>\n",
      "#3 0x5d02704334f1 <unknown>\n",
      "#4 0x5d02704818f4 <unknown>\n",
      "#5 0x5d027045915d <unknown>\n",
      "#6 0x5d027047ecc5 <unknown>\n",
      "#7 0x5d0270458f03 <unknown>\n",
      "#8 0x5d0270425a5a <unknown>\n",
      "#9 0x5d02704266d1 <unknown>\n",
      "#10 0x5d0270911eff <unknown>\n",
      "#11 0x5d0270915f08 <unknown>\n",
      "#12 0x5d02708f8ddc <unknown>\n",
      "#13 0x5d02709166ae <unknown>\n",
      "#14 0x5d02708e029e <unknown>\n",
      "#15 0x5d027093a238 <unknown>\n",
      "#16 0x5d027093a448 <unknown>\n",
      "#17 0x5d027094b56c <unknown>\n",
      "#18 0x7c6095a94ac3 <unknown>\n",
      "\n"
     ]
    },
    {
     "name": "stderr",
     "output_type": "stream",
     "text": [
      "Парсинг описаний:  37%|███▋      | 2015/5500 [1:36:58<2:37:24,  2.71s/it]"
     ]
    },
    {
     "name": "stdout",
     "output_type": "stream",
     "text": [
      "⚠ Ошибка при загрузке https://kinogo.org/126360-probuzhdajuschajasja-planeta.html: Message: \n",
      "Stacktrace:\n",
      "#0 0x582ed7c7896a <unknown>\n",
      "#1 0x582ed770ee60 <unknown>\n",
      "#2 0x582ed775f300 <unknown>\n",
      "#3 0x582ed775f4f1 <unknown>\n",
      "#4 0x582ed77ad8f4 <unknown>\n",
      "#5 0x582ed778515d <unknown>\n",
      "#6 0x582ed77aacc5 <unknown>\n",
      "#7 0x582ed7784f03 <unknown>\n",
      "#8 0x582ed7751a5a <unknown>\n",
      "#9 0x582ed77526d1 <unknown>\n",
      "#10 0x582ed7c3deff <unknown>\n",
      "#11 0x582ed7c41f08 <unknown>\n",
      "#12 0x582ed7c24ddc <unknown>\n",
      "#13 0x582ed7c426ae <unknown>\n",
      "#14 0x582ed7c0c29e <unknown>\n",
      "#15 0x582ed7c66238 <unknown>\n",
      "#16 0x582ed7c66448 <unknown>\n",
      "#17 0x582ed7c7756c <unknown>\n",
      "#18 0x7611a6e94ac3 <unknown>\n",
      "\n"
     ]
    },
    {
     "name": "stderr",
     "output_type": "stream",
     "text": [
      "Парсинг описаний:  37%|███▋      | 2021/5500 [1:37:21<3:22:49,  3.50s/it]"
     ]
    },
    {
     "name": "stdout",
     "output_type": "stream",
     "text": [
      "⚠ Ошибка при загрузке https://kinogo.org/115759-vernut-zhizn.html: Message: \n",
      "Stacktrace:\n",
      "#0 0x5dcdbad8996a <unknown>\n",
      "#1 0x5dcdba81fe60 <unknown>\n",
      "#2 0x5dcdba870300 <unknown>\n",
      "#3 0x5dcdba8704f1 <unknown>\n",
      "#4 0x5dcdba8be8f4 <unknown>\n",
      "#5 0x5dcdba89615d <unknown>\n",
      "#6 0x5dcdba8bbcc5 <unknown>\n",
      "#7 0x5dcdba895f03 <unknown>\n",
      "#8 0x5dcdba862a5a <unknown>\n",
      "#9 0x5dcdba8636d1 <unknown>\n",
      "#10 0x5dcdbad4eeff <unknown>\n",
      "#11 0x5dcdbad52f08 <unknown>\n",
      "#12 0x5dcdbad35ddc <unknown>\n",
      "#13 0x5dcdbad536ae <unknown>\n",
      "#14 0x5dcdbad1d29e <unknown>\n",
      "#15 0x5dcdbad77238 <unknown>\n",
      "#16 0x5dcdbad77448 <unknown>\n",
      "#17 0x5dcdbad8856c <unknown>\n",
      "#18 0x7a5bcb894ac3 <unknown>\n",
      "\n"
     ]
    },
    {
     "name": "stderr",
     "output_type": "stream",
     "text": [
      "Парсинг описаний:  37%|███▋      | 2024/5500 [1:37:34<3:39:06,  3.78s/it]"
     ]
    },
    {
     "name": "stdout",
     "output_type": "stream",
     "text": [
      "⚠ Ошибка при загрузке https://kinogo.org/115772-oderzhimost.html: Message: \n",
      "Stacktrace:\n",
      "#0 0x5b01da19096a <unknown>\n",
      "#1 0x5b01d9c26e60 <unknown>\n",
      "#2 0x5b01d9c77300 <unknown>\n",
      "#3 0x5b01d9c774f1 <unknown>\n",
      "#4 0x5b01d9cc58f4 <unknown>\n",
      "#5 0x5b01d9c9d15d <unknown>\n",
      "#6 0x5b01d9cc2cc5 <unknown>\n",
      "#7 0x5b01d9c9cf03 <unknown>\n",
      "#8 0x5b01d9c69a5a <unknown>\n",
      "#9 0x5b01d9c6a6d1 <unknown>\n",
      "#10 0x5b01da155eff <unknown>\n",
      "#11 0x5b01da159f08 <unknown>\n",
      "#12 0x5b01da13cddc <unknown>\n",
      "#13 0x5b01da15a6ae <unknown>\n",
      "#14 0x5b01da12429e <unknown>\n",
      "#15 0x5b01da17e238 <unknown>\n",
      "#16 0x5b01da17e448 <unknown>\n",
      "#17 0x5b01da18f56c <unknown>\n",
      "#18 0x74366ec94ac3 <unknown>\n",
      "\n"
     ]
    },
    {
     "name": "stderr",
     "output_type": "stream",
     "text": [
      "Парсинг описаний:  37%|███▋      | 2034/5500 [1:38:13<3:02:31,  3.16s/it]"
     ]
    },
    {
     "name": "stdout",
     "output_type": "stream",
     "text": [
      "⚠ Ошибка при загрузке https://kinogo.org/113582-trudnaja.html: Message: \n",
      "Stacktrace:\n",
      "#0 0x59672e9f596a <unknown>\n",
      "#1 0x59672e48be60 <unknown>\n",
      "#2 0x59672e4dc300 <unknown>\n",
      "#3 0x59672e4dc4f1 <unknown>\n",
      "#4 0x59672e52a8f4 <unknown>\n",
      "#5 0x59672e50215d <unknown>\n",
      "#6 0x59672e527cc5 <unknown>\n",
      "#7 0x59672e501f03 <unknown>\n",
      "#8 0x59672e4cea5a <unknown>\n",
      "#9 0x59672e4cf6d1 <unknown>\n",
      "#10 0x59672e9baeff <unknown>\n",
      "#11 0x59672e9bef08 <unknown>\n",
      "#12 0x59672e9a1ddc <unknown>\n",
      "#13 0x59672e9bf6ae <unknown>\n",
      "#14 0x59672e98929e <unknown>\n",
      "#15 0x59672e9e3238 <unknown>\n",
      "#16 0x59672e9e3448 <unknown>\n",
      "#17 0x59672e9f456c <unknown>\n",
      "#18 0x74c749094ac3 <unknown>\n",
      "\n"
     ]
    },
    {
     "name": "stderr",
     "output_type": "stream",
     "text": [
      "Парсинг описаний:  37%|███▋      | 2039/5500 [1:38:26<2:17:22,  2.38s/it]"
     ]
    },
    {
     "name": "stdout",
     "output_type": "stream",
     "text": [
      "⚠ Ошибка при загрузке https://kinogo.org/126275-feofan.html: Message: \n",
      "Stacktrace:\n",
      "#0 0x5a47543de96a <unknown>\n",
      "#1 0x5a4753e74e60 <unknown>\n",
      "#2 0x5a4753ec5300 <unknown>\n",
      "#3 0x5a4753ec54f1 <unknown>\n",
      "#4 0x5a4753f138f4 <unknown>\n",
      "#5 0x5a4753eeb15d <unknown>\n",
      "#6 0x5a4753f10cc5 <unknown>\n",
      "#7 0x5a4753eeaf03 <unknown>\n",
      "#8 0x5a4753eb7a5a <unknown>\n",
      "#9 0x5a4753eb86d1 <unknown>\n",
      "#10 0x5a47543a3eff <unknown>\n",
      "#11 0x5a47543a7f08 <unknown>\n",
      "#12 0x5a475438addc <unknown>\n",
      "#13 0x5a47543a86ae <unknown>\n",
      "#14 0x5a475437229e <unknown>\n",
      "#15 0x5a47543cc238 <unknown>\n",
      "#16 0x5a47543cc448 <unknown>\n",
      "#17 0x5a47543dd56c <unknown>\n",
      "#18 0x73e9aca94ac3 <unknown>\n",
      "\n"
     ]
    },
    {
     "name": "stderr",
     "output_type": "stream",
     "text": [
      "Парсинг описаний:  38%|███▊      | 2073/5500 [1:40:10<1:51:28,  1.95s/it]"
     ]
    },
    {
     "name": "stdout",
     "output_type": "stream",
     "text": [
      "⚠ Ошибка при загрузке https://kinogo.org/115605-bylo-delo-90-e.html: Message: \n",
      "Stacktrace:\n",
      "#0 0x582c98d9796a <unknown>\n",
      "#1 0x582c9882de60 <unknown>\n",
      "#2 0x582c9887e300 <unknown>\n",
      "#3 0x582c9887e4f1 <unknown>\n",
      "#4 0x582c988cc8f4 <unknown>\n",
      "#5 0x582c988a415d <unknown>\n",
      "#6 0x582c988c9cc5 <unknown>\n",
      "#7 0x582c988a3f03 <unknown>\n",
      "#8 0x582c98870a5a <unknown>\n",
      "#9 0x582c988716d1 <unknown>\n",
      "#10 0x582c98d5ceff <unknown>\n",
      "#11 0x582c98d60f08 <unknown>\n",
      "#12 0x582c98d43ddc <unknown>\n",
      "#13 0x582c98d616ae <unknown>\n",
      "#14 0x582c98d2b29e <unknown>\n",
      "#15 0x582c98d85238 <unknown>\n",
      "#16 0x582c98d85448 <unknown>\n",
      "#17 0x582c98d9656c <unknown>\n",
      "#18 0x7e2020894ac3 <unknown>\n",
      "\n"
     ]
    },
    {
     "name": "stderr",
     "output_type": "stream",
     "text": [
      "Парсинг описаний:  38%|███▊      | 2080/5500 [1:40:36<2:52:58,  3.03s/it]"
     ]
    },
    {
     "name": "stdout",
     "output_type": "stream",
     "text": [
      "⚠ Ошибка при загрузке https://kinogo.org/114471-detektiv-sjurprenan-devushka-s-zastyvshim-vzgljadom.html: Message: \n",
      "Stacktrace:\n",
      "#0 0x5c711304d96a <unknown>\n",
      "#1 0x5c7112ae3e60 <unknown>\n",
      "#2 0x5c7112b34300 <unknown>\n",
      "#3 0x5c7112b344f1 <unknown>\n",
      "#4 0x5c7112b828f4 <unknown>\n",
      "#5 0x5c7112b5a15d <unknown>\n",
      "#6 0x5c7112b7fcc5 <unknown>\n",
      "#7 0x5c7112b59f03 <unknown>\n",
      "#8 0x5c7112b26a5a <unknown>\n",
      "#9 0x5c7112b276d1 <unknown>\n",
      "#10 0x5c7113012eff <unknown>\n",
      "#11 0x5c7113016f08 <unknown>\n",
      "#12 0x5c7112ff9ddc <unknown>\n",
      "#13 0x5c71130176ae <unknown>\n",
      "#14 0x5c7112fe129e <unknown>\n",
      "#15 0x5c711303b238 <unknown>\n",
      "#16 0x5c711303b448 <unknown>\n",
      "#17 0x5c711304c56c <unknown>\n",
      "#18 0x72f716e94ac3 <unknown>\n",
      "\n"
     ]
    },
    {
     "name": "stderr",
     "output_type": "stream",
     "text": [
      "Парсинг описаний:  38%|███▊      | 2117/5500 [1:42:24<2:52:38,  3.06s/it]"
     ]
    },
    {
     "name": "stdout",
     "output_type": "stream",
     "text": [
      "⚠ Ошибка при загрузке https://kinogo.org/8479-grand.html: Message: \n",
      "Stacktrace:\n",
      "#0 0x5aaf7b6ad96a <unknown>\n",
      "#1 0x5aaf7b143e60 <unknown>\n",
      "#2 0x5aaf7b194300 <unknown>\n",
      "#3 0x5aaf7b1944f1 <unknown>\n",
      "#4 0x5aaf7b1e28f4 <unknown>\n",
      "#5 0x5aaf7b1ba15d <unknown>\n",
      "#6 0x5aaf7b1dfcc5 <unknown>\n",
      "#7 0x5aaf7b1b9f03 <unknown>\n",
      "#8 0x5aaf7b186a5a <unknown>\n",
      "#9 0x5aaf7b1876d1 <unknown>\n",
      "#10 0x5aaf7b672eff <unknown>\n",
      "#11 0x5aaf7b676f08 <unknown>\n",
      "#12 0x5aaf7b659ddc <unknown>\n",
      "#13 0x5aaf7b6776ae <unknown>\n",
      "#14 0x5aaf7b64129e <unknown>\n",
      "#15 0x5aaf7b69b238 <unknown>\n",
      "#16 0x5aaf7b69b448 <unknown>\n",
      "#17 0x5aaf7b6ac56c <unknown>\n",
      "#18 0x79f200494ac3 <unknown>\n",
      "\n"
     ]
    },
    {
     "name": "stderr",
     "output_type": "stream",
     "text": [
      "Парсинг описаний:  39%|███▊      | 2131/5500 [1:43:00<2:57:30,  3.16s/it]"
     ]
    },
    {
     "name": "stdout",
     "output_type": "stream",
     "text": [
      "⚠ Ошибка при загрузке https://kinogo.org/58813-ja-tebja-nikomu-ne-otdam.html: Message: \n",
      "Stacktrace:\n",
      "#0 0x5fb81136e96a <unknown>\n",
      "#1 0x5fb810e04e60 <unknown>\n",
      "#2 0x5fb810e55300 <unknown>\n",
      "#3 0x5fb810e554f1 <unknown>\n",
      "#4 0x5fb810ea38f4 <unknown>\n",
      "#5 0x5fb810e7b15d <unknown>\n",
      "#6 0x5fb810ea0cc5 <unknown>\n",
      "#7 0x5fb810e7af03 <unknown>\n",
      "#8 0x5fb810e47a5a <unknown>\n",
      "#9 0x5fb810e486d1 <unknown>\n",
      "#10 0x5fb811333eff <unknown>\n",
      "#11 0x5fb811337f08 <unknown>\n",
      "#12 0x5fb81131addc <unknown>\n",
      "#13 0x5fb8113386ae <unknown>\n",
      "#14 0x5fb81130229e <unknown>\n",
      "#15 0x5fb81135c238 <unknown>\n",
      "#16 0x5fb81135c448 <unknown>\n",
      "#17 0x5fb81136d56c <unknown>\n",
      "#18 0x7f98a6094ac3 <unknown>\n",
      "\n"
     ]
    },
    {
     "name": "stderr",
     "output_type": "stream",
     "text": [
      "Парсинг описаний:  39%|███▉      | 2158/5500 [1:44:22<1:46:30,  1.91s/it]"
     ]
    },
    {
     "name": "stdout",
     "output_type": "stream",
     "text": [
      "⚠ Ошибка при загрузке https://kinogo.org/5695-moi-bratja-bratja-i-sestry.html: Message: \n",
      "Stacktrace:\n",
      "#0 0x5fbb1e19996a <unknown>\n",
      "#1 0x5fbb1dc2fe60 <unknown>\n",
      "#2 0x5fbb1dc80300 <unknown>\n",
      "#3 0x5fbb1dc804f1 <unknown>\n",
      "#4 0x5fbb1dcce8f4 <unknown>\n",
      "#5 0x5fbb1dca615d <unknown>\n",
      "#6 0x5fbb1dccbcc5 <unknown>\n",
      "#7 0x5fbb1dca5f03 <unknown>\n",
      "#8 0x5fbb1dc72a5a <unknown>\n",
      "#9 0x5fbb1dc736d1 <unknown>\n",
      "#10 0x5fbb1e15eeff <unknown>\n",
      "#11 0x5fbb1e162f08 <unknown>\n",
      "#12 0x5fbb1e145ddc <unknown>\n",
      "#13 0x5fbb1e1636ae <unknown>\n",
      "#14 0x5fbb1e12d29e <unknown>\n",
      "#15 0x5fbb1e187238 <unknown>\n",
      "#16 0x5fbb1e187448 <unknown>\n",
      "#17 0x5fbb1e19856c <unknown>\n",
      "#18 0x7294aac94ac3 <unknown>\n",
      "\n"
     ]
    },
    {
     "name": "stderr",
     "output_type": "stream",
     "text": [
      "Парсинг описаний:  39%|███▉      | 2171/5500 [1:45:14<3:45:43,  4.07s/it]"
     ]
    },
    {
     "name": "stdout",
     "output_type": "stream",
     "text": [
      "⚠ Ошибка при загрузке https://kinogo.org/115380-oj-imperator-vljublen.html: Message: \n",
      "Stacktrace:\n",
      "#0 0x64c6ac12896a <unknown>\n",
      "#1 0x64c6abbbee60 <unknown>\n",
      "#2 0x64c6abc0f300 <unknown>\n",
      "#3 0x64c6abc0f4f1 <unknown>\n",
      "#4 0x64c6abc5d8f4 <unknown>\n",
      "#5 0x64c6abc3515d <unknown>\n",
      "#6 0x64c6abc5acc5 <unknown>\n",
      "#7 0x64c6abc34f03 <unknown>\n",
      "#8 0x64c6abc01a5a <unknown>\n",
      "#9 0x64c6abc026d1 <unknown>\n",
      "#10 0x64c6ac0edeff <unknown>\n",
      "#11 0x64c6ac0f1f08 <unknown>\n",
      "#12 0x64c6ac0d4ddc <unknown>\n",
      "#13 0x64c6ac0f26ae <unknown>\n",
      "#14 0x64c6ac0bc29e <unknown>\n",
      "#15 0x64c6ac116238 <unknown>\n",
      "#16 0x64c6ac116448 <unknown>\n",
      "#17 0x64c6ac12756c <unknown>\n",
      "#18 0x7579e6a94ac3 <unknown>\n",
      "\n"
     ]
    },
    {
     "name": "stderr",
     "output_type": "stream",
     "text": [
      "Парсинг описаний:  40%|███▉      | 2193/5500 [1:46:33<3:32:36,  3.86s/it]"
     ]
    },
    {
     "name": "stdout",
     "output_type": "stream",
     "text": [
      "⚠ Ошибка при загрузке https://kinogo.org/115326-peschanaja-burja.html: Message: \n",
      "Stacktrace:\n",
      "#0 0x649f4b33c96a <unknown>\n",
      "#1 0x649f4add2e60 <unknown>\n",
      "#2 0x649f4ae23300 <unknown>\n",
      "#3 0x649f4ae234f1 <unknown>\n",
      "#4 0x649f4ae718f4 <unknown>\n",
      "#5 0x649f4ae4915d <unknown>\n",
      "#6 0x649f4ae6ecc5 <unknown>\n",
      "#7 0x649f4ae48f03 <unknown>\n",
      "#8 0x649f4ae15a5a <unknown>\n",
      "#9 0x649f4ae166d1 <unknown>\n",
      "#10 0x649f4b301eff <unknown>\n",
      "#11 0x649f4b305f08 <unknown>\n",
      "#12 0x649f4b2e8ddc <unknown>\n",
      "#13 0x649f4b3066ae <unknown>\n",
      "#14 0x649f4b2d029e <unknown>\n",
      "#15 0x649f4b32a238 <unknown>\n",
      "#16 0x649f4b32a448 <unknown>\n",
      "#17 0x649f4b33b56c <unknown>\n",
      "#18 0x7902eba94ac3 <unknown>\n",
      "\n"
     ]
    },
    {
     "name": "stderr",
     "output_type": "stream",
     "text": [
      "Парсинг описаний:  40%|███▉      | 2197/5500 [1:46:47<4:17:42,  4.68s/it]"
     ]
    },
    {
     "name": "stdout",
     "output_type": "stream",
     "text": [
      "⚠ Ошибка при загрузке https://kinogo.org/115318-samyj-krutoj-mir.html: Message: \n",
      "Stacktrace:\n",
      "#0 0x5d30961e296a <unknown>\n",
      "#1 0x5d3095c78e60 <unknown>\n",
      "#2 0x5d3095cc9300 <unknown>\n",
      "#3 0x5d3095cc94f1 <unknown>\n",
      "#4 0x5d3095d178f4 <unknown>\n",
      "#5 0x5d3095cef15d <unknown>\n",
      "#6 0x5d3095d14cc5 <unknown>\n",
      "#7 0x5d3095ceef03 <unknown>\n",
      "#8 0x5d3095cbba5a <unknown>\n",
      "#9 0x5d3095cbc6d1 <unknown>\n",
      "#10 0x5d30961a7eff <unknown>\n",
      "#11 0x5d30961abf08 <unknown>\n",
      "#12 0x5d309618eddc <unknown>\n",
      "#13 0x5d30961ac6ae <unknown>\n",
      "#14 0x5d309617629e <unknown>\n",
      "#15 0x5d30961d0238 <unknown>\n",
      "#16 0x5d30961d0448 <unknown>\n",
      "#17 0x5d30961e156c <unknown>\n",
      "#18 0x79208ca94ac3 <unknown>\n",
      "\n"
     ]
    },
    {
     "name": "stderr",
     "output_type": "stream",
     "text": [
      "Парсинг описаний:  40%|████      | 2206/5500 [1:47:20<3:57:27,  4.33s/it]"
     ]
    },
    {
     "name": "stdout",
     "output_type": "stream",
     "text": [
      "⚠ Ошибка при загрузке https://kinogo.org/115305-aromat-pervogo-cvetka.html: Message: \n",
      "Stacktrace:\n",
      "#0 0x64d11df9f96a <unknown>\n",
      "#1 0x64d11da35e60 <unknown>\n",
      "#2 0x64d11da86300 <unknown>\n",
      "#3 0x64d11da864f1 <unknown>\n",
      "#4 0x64d11dad48f4 <unknown>\n",
      "#5 0x64d11daac15d <unknown>\n",
      "#6 0x64d11dad1cc5 <unknown>\n",
      "#7 0x64d11daabf03 <unknown>\n",
      "#8 0x64d11da78a5a <unknown>\n",
      "#9 0x64d11da796d1 <unknown>\n",
      "#10 0x64d11df64eff <unknown>\n",
      "#11 0x64d11df68f08 <unknown>\n",
      "#12 0x64d11df4bddc <unknown>\n",
      "#13 0x64d11df696ae <unknown>\n",
      "#14 0x64d11df3329e <unknown>\n",
      "#15 0x64d11df8d238 <unknown>\n",
      "#16 0x64d11df8d448 <unknown>\n",
      "#17 0x64d11df9e56c <unknown>\n",
      "#18 0x7069e3694ac3 <unknown>\n",
      "\n"
     ]
    },
    {
     "name": "stderr",
     "output_type": "stream",
     "text": [
      "Парсинг описаний:  41%|████      | 2235/5500 [1:48:49<3:13:03,  3.55s/it]"
     ]
    },
    {
     "name": "stdout",
     "output_type": "stream",
     "text": [
      "⚠ Ошибка при загрузке https://kinogo.org/115255-roman-v-zakone.html: Message: \n",
      "Stacktrace:\n",
      "#0 0x5c0e2a89796a <unknown>\n",
      "#1 0x5c0e2a32de60 <unknown>\n",
      "#2 0x5c0e2a37e300 <unknown>\n",
      "#3 0x5c0e2a37e4f1 <unknown>\n",
      "#4 0x5c0e2a3cc8f4 <unknown>\n",
      "#5 0x5c0e2a3a415d <unknown>\n",
      "#6 0x5c0e2a3c9cc5 <unknown>\n",
      "#7 0x5c0e2a3a3f03 <unknown>\n",
      "#8 0x5c0e2a370a5a <unknown>\n",
      "#9 0x5c0e2a3716d1 <unknown>\n",
      "#10 0x5c0e2a85ceff <unknown>\n",
      "#11 0x5c0e2a860f08 <unknown>\n",
      "#12 0x5c0e2a843ddc <unknown>\n",
      "#13 0x5c0e2a8616ae <unknown>\n",
      "#14 0x5c0e2a82b29e <unknown>\n",
      "#15 0x5c0e2a885238 <unknown>\n",
      "#16 0x5c0e2a885448 <unknown>\n",
      "#17 0x5c0e2a89656c <unknown>\n",
      "#18 0x7fa869094ac3 <unknown>\n",
      "\n"
     ]
    },
    {
     "name": "stderr",
     "output_type": "stream",
     "text": [
      "Парсинг описаний:  41%|████      | 2264/5500 [1:50:10<2:05:44,  2.33s/it]"
     ]
    },
    {
     "name": "stdout",
     "output_type": "stream",
     "text": [
      "⚠ Ошибка при загрузке https://kinogo.org/115219-krutaja-dama.html: Message: \n",
      "Stacktrace:\n",
      "#0 0x606bd341f96a <unknown>\n",
      "#1 0x606bd2eb5e60 <unknown>\n",
      "#2 0x606bd2f06300 <unknown>\n",
      "#3 0x606bd2f064f1 <unknown>\n",
      "#4 0x606bd2f548f4 <unknown>\n",
      "#5 0x606bd2f2c15d <unknown>\n",
      "#6 0x606bd2f51cc5 <unknown>\n",
      "#7 0x606bd2f2bf03 <unknown>\n",
      "#8 0x606bd2ef8a5a <unknown>\n",
      "#9 0x606bd2ef96d1 <unknown>\n",
      "#10 0x606bd33e4eff <unknown>\n",
      "#11 0x606bd33e8f08 <unknown>\n",
      "#12 0x606bd33cbddc <unknown>\n",
      "#13 0x606bd33e96ae <unknown>\n",
      "#14 0x606bd33b329e <unknown>\n",
      "#15 0x606bd340d238 <unknown>\n",
      "#16 0x606bd340d448 <unknown>\n",
      "#17 0x606bd341e56c <unknown>\n",
      "#18 0x7fc102694ac3 <unknown>\n",
      "\n"
     ]
    },
    {
     "name": "stderr",
     "output_type": "stream",
     "text": [
      "Парсинг описаний:  42%|████▏     | 2324/5500 [1:53:35<2:46:37,  3.15s/it] "
     ]
    },
    {
     "name": "stdout",
     "output_type": "stream",
     "text": [
      "⚠ Ошибка при загрузке https://kinogo.org/115143-zagnat-tigra-v-ugol.html: Message: \n",
      "Stacktrace:\n",
      "#0 0x56209b17d96a <unknown>\n",
      "#1 0x56209ac13e60 <unknown>\n",
      "#2 0x56209ac64300 <unknown>\n",
      "#3 0x56209ac644f1 <unknown>\n",
      "#4 0x56209acb28f4 <unknown>\n",
      "#5 0x56209ac8a15d <unknown>\n",
      "#6 0x56209acafcc5 <unknown>\n",
      "#7 0x56209ac89f03 <unknown>\n",
      "#8 0x56209ac56a5a <unknown>\n",
      "#9 0x56209ac576d1 <unknown>\n",
      "#10 0x56209b142eff <unknown>\n",
      "#11 0x56209b146f08 <unknown>\n",
      "#12 0x56209b129ddc <unknown>\n",
      "#13 0x56209b1476ae <unknown>\n",
      "#14 0x56209b11129e <unknown>\n",
      "#15 0x56209b16b238 <unknown>\n",
      "#16 0x56209b16b448 <unknown>\n",
      "#17 0x56209b17c56c <unknown>\n",
      "#18 0x7527d8094ac3 <unknown>\n",
      "\n"
     ]
    },
    {
     "name": "stderr",
     "output_type": "stream",
     "text": [
      "Парсинг описаний:  44%|████▎     | 2399/5500 [1:56:53<3:08:46,  3.65s/it]"
     ]
    },
    {
     "name": "stdout",
     "output_type": "stream",
     "text": [
      "⚠ Ошибка при загрузке https://kinogo.org/114921-pljazhnaja-vecherinka.html: Message: \n",
      "Stacktrace:\n",
      "#0 0x5b742a97596a <unknown>\n",
      "#1 0x5b742a40be60 <unknown>\n",
      "#2 0x5b742a45c300 <unknown>\n",
      "#3 0x5b742a45c4f1 <unknown>\n",
      "#4 0x5b742a4aa8f4 <unknown>\n",
      "#5 0x5b742a48215d <unknown>\n",
      "#6 0x5b742a4a7cc5 <unknown>\n",
      "#7 0x5b742a481f03 <unknown>\n",
      "#8 0x5b742a44ea5a <unknown>\n",
      "#9 0x5b742a44f6d1 <unknown>\n",
      "#10 0x5b742a93aeff <unknown>\n",
      "#11 0x5b742a93ef08 <unknown>\n",
      "#12 0x5b742a921ddc <unknown>\n",
      "#13 0x5b742a93f6ae <unknown>\n",
      "#14 0x5b742a90929e <unknown>\n",
      "#15 0x5b742a963238 <unknown>\n",
      "#16 0x5b742a963448 <unknown>\n",
      "#17 0x5b742a97456c <unknown>\n",
      "#18 0x71751fc94ac3 <unknown>\n",
      "\n"
     ]
    },
    {
     "name": "stderr",
     "output_type": "stream",
     "text": [
      "Парсинг описаний:  44%|████▎     | 2402/5500 [1:57:06<3:40:45,  4.28s/it]"
     ]
    },
    {
     "name": "stdout",
     "output_type": "stream",
     "text": [
      "⚠ Ошибка при загрузке https://kinogo.org/114915-tejlor-svift-protiv-skutera-brauna-vrazhda.html: Message: \n",
      "Stacktrace:\n",
      "#0 0x569e9bbd196a <unknown>\n",
      "#1 0x569e9b667e60 <unknown>\n",
      "#2 0x569e9b6b8300 <unknown>\n",
      "#3 0x569e9b6b84f1 <unknown>\n",
      "#4 0x569e9b7068f4 <unknown>\n",
      "#5 0x569e9b6de15d <unknown>\n",
      "#6 0x569e9b703cc5 <unknown>\n",
      "#7 0x569e9b6ddf03 <unknown>\n",
      "#8 0x569e9b6aaa5a <unknown>\n",
      "#9 0x569e9b6ab6d1 <unknown>\n",
      "#10 0x569e9bb96eff <unknown>\n",
      "#11 0x569e9bb9af08 <unknown>\n",
      "#12 0x569e9bb7dddc <unknown>\n",
      "#13 0x569e9bb9b6ae <unknown>\n",
      "#14 0x569e9bb6529e <unknown>\n",
      "#15 0x569e9bbbf238 <unknown>\n",
      "#16 0x569e9bbbf448 <unknown>\n",
      "#17 0x569e9bbd056c <unknown>\n",
      "#18 0x710082c94ac3 <unknown>\n",
      "\n"
     ]
    },
    {
     "name": "stderr",
     "output_type": "stream",
     "text": [
      "Парсинг описаний:  44%|████▎     | 2403/5500 [1:57:08<3:09:47,  3.68s/it]"
     ]
    },
    {
     "name": "stdout",
     "output_type": "stream",
     "text": [
      "⚠ Ошибка при загрузке https://kinogo.org/114850-otel-kupidon.html: Message: \n",
      "Stacktrace:\n",
      "#0 0x5a483dfce96a <unknown>\n",
      "#1 0x5a483da64e60 <unknown>\n",
      "#2 0x5a483dab5300 <unknown>\n",
      "#3 0x5a483dab54f1 <unknown>\n",
      "#4 0x5a483db038f4 <unknown>\n",
      "#5 0x5a483dadb15d <unknown>\n",
      "#6 0x5a483db00cc5 <unknown>\n",
      "#7 0x5a483dadaf03 <unknown>\n",
      "#8 0x5a483daa7a5a <unknown>\n",
      "#9 0x5a483daa86d1 <unknown>\n",
      "#10 0x5a483df93eff <unknown>\n",
      "#11 0x5a483df97f08 <unknown>\n",
      "#12 0x5a483df7addc <unknown>\n",
      "#13 0x5a483df986ae <unknown>\n",
      "#14 0x5a483df6229e <unknown>\n",
      "#15 0x5a483dfbc238 <unknown>\n",
      "#16 0x5a483dfbc448 <unknown>\n",
      "#17 0x5a483dfcd56c <unknown>\n",
      "#18 0x786c5f494ac3 <unknown>\n",
      "\n"
     ]
    },
    {
     "name": "stderr",
     "output_type": "stream",
     "text": [
      "Парсинг описаний:  45%|████▌     | 2496/5500 [2:01:43<1:42:52,  2.05s/it]"
     ]
    },
    {
     "name": "stdout",
     "output_type": "stream",
     "text": [
      "⚠ Ошибка при загрузке https://kinogo.org/10724-novaja-zhizn.html: Message: \n",
      "Stacktrace:\n",
      "#0 0x5b6b11ae696a <unknown>\n",
      "#1 0x5b6b1157ce60 <unknown>\n",
      "#2 0x5b6b115cd300 <unknown>\n",
      "#3 0x5b6b115cd4f1 <unknown>\n",
      "#4 0x5b6b1161b8f4 <unknown>\n",
      "#5 0x5b6b115f315d <unknown>\n",
      "#6 0x5b6b11618cc5 <unknown>\n",
      "#7 0x5b6b115f2f03 <unknown>\n",
      "#8 0x5b6b115bfa5a <unknown>\n",
      "#9 0x5b6b115c06d1 <unknown>\n",
      "#10 0x5b6b11aabeff <unknown>\n",
      "#11 0x5b6b11aaff08 <unknown>\n",
      "#12 0x5b6b11a92ddc <unknown>\n",
      "#13 0x5b6b11ab06ae <unknown>\n",
      "#14 0x5b6b11a7a29e <unknown>\n",
      "#15 0x5b6b11ad4238 <unknown>\n",
      "#16 0x5b6b11ad4448 <unknown>\n",
      "#17 0x5b6b11ae556c <unknown>\n",
      "#18 0x71f74b894ac3 <unknown>\n",
      "\n"
     ]
    },
    {
     "name": "stderr",
     "output_type": "stream",
     "text": [
      "Парсинг описаний:  47%|████▋     | 2569/5500 [2:04:51<1:56:42,  2.39s/it]"
     ]
    },
    {
     "name": "stdout",
     "output_type": "stream",
     "text": [
      "⚠ Ошибка при загрузке https://kinogo.org/112320-problemnaja-starsheklassnica-i-neputevyj-uchitel.html: HTTPConnectionPool(host='localhost', port=40265): Max retries exceeded with url: /session/254c5a4313d60a6c4479f989b38c17cd/source (Caused by NewConnectionError('<urllib3.connection.HTTPConnection object at 0x72b62c123820>: Failed to establish a new connection: [Errno 111] Connection refused'))\n"
     ]
    },
    {
     "name": "stderr",
     "output_type": "stream",
     "text": [
      "Парсинг описаний:  51%|█████▏    | 2823/5500 [2:16:02<1:52:23,  2.52s/it]"
     ]
    },
    {
     "name": "stdout",
     "output_type": "stream",
     "text": [
      "⚠ Ошибка при загрузке https://kinogo.org/7674-sestry.html: Message: \n",
      "Stacktrace:\n",
      "#0 0x62fe8678e96a <unknown>\n",
      "#1 0x62fe86224e60 <unknown>\n",
      "#2 0x62fe86275300 <unknown>\n",
      "#3 0x62fe862754f1 <unknown>\n",
      "#4 0x62fe862c38f4 <unknown>\n",
      "#5 0x62fe8629b15d <unknown>\n",
      "#6 0x62fe862c0cc5 <unknown>\n",
      "#7 0x62fe8629af03 <unknown>\n",
      "#8 0x62fe86267a5a <unknown>\n",
      "#9 0x62fe862686d1 <unknown>\n",
      "#10 0x62fe86753eff <unknown>\n",
      "#11 0x62fe86757f08 <unknown>\n",
      "#12 0x62fe8673addc <unknown>\n",
      "#13 0x62fe867586ae <unknown>\n",
      "#14 0x62fe8672229e <unknown>\n",
      "#15 0x62fe8677c238 <unknown>\n",
      "#16 0x62fe8677c448 <unknown>\n",
      "#17 0x62fe8678d56c <unknown>\n",
      "#18 0x735deca94ac3 <unknown>\n",
      "\n"
     ]
    },
    {
     "name": "stderr",
     "output_type": "stream",
     "text": [
      "Парсинг описаний:  52%|█████▏    | 2841/5500 [2:16:53<1:44:15,  2.35s/it]"
     ]
    },
    {
     "name": "stdout",
     "output_type": "stream",
     "text": [
      "⚠ Ошибка при загрузке https://kinogo.org/111400-krasnye-linii.html: Message: \n",
      "Stacktrace:\n",
      "#0 0x58c4fc6fb96a <unknown>\n",
      "#1 0x58c4fc191e60 <unknown>\n",
      "#2 0x58c4fc1e2300 <unknown>\n",
      "#3 0x58c4fc1e24f1 <unknown>\n",
      "#4 0x58c4fc2308f4 <unknown>\n",
      "#5 0x58c4fc20815d <unknown>\n",
      "#6 0x58c4fc22dcc5 <unknown>\n",
      "#7 0x58c4fc207f03 <unknown>\n",
      "#8 0x58c4fc1d4a5a <unknown>\n",
      "#9 0x58c4fc1d56d1 <unknown>\n",
      "#10 0x58c4fc6c0eff <unknown>\n",
      "#11 0x58c4fc6c4f08 <unknown>\n",
      "#12 0x58c4fc6a7ddc <unknown>\n",
      "#13 0x58c4fc6c56ae <unknown>\n",
      "#14 0x58c4fc68f29e <unknown>\n",
      "#15 0x58c4fc6e9238 <unknown>\n",
      "#16 0x58c4fc6e9448 <unknown>\n",
      "#17 0x58c4fc6fa56c <unknown>\n",
      "#18 0x73d107c94ac3 <unknown>\n",
      "\n"
     ]
    },
    {
     "name": "stderr",
     "output_type": "stream",
     "text": [
      "Парсинг описаний:  56%|█████▋    | 3107/5500 [2:28:33<1:17:11,  1.94s/it]"
     ]
    },
    {
     "name": "stdout",
     "output_type": "stream",
     "text": [
      "⚠ Ошибка при загрузке https://kinogo.org/109129-nevernye.html: Message: \n",
      "Stacktrace:\n",
      "#0 0x5e697ff7e96a <unknown>\n",
      "#1 0x5e697fa14e60 <unknown>\n",
      "#2 0x5e697fa65300 <unknown>\n",
      "#3 0x5e697fa654f1 <unknown>\n",
      "#4 0x5e697fab38f4 <unknown>\n",
      "#5 0x5e697fa8b15d <unknown>\n",
      "#6 0x5e697fab0cc5 <unknown>\n",
      "#7 0x5e697fa8af03 <unknown>\n",
      "#8 0x5e697fa57a5a <unknown>\n",
      "#9 0x5e697fa586d1 <unknown>\n",
      "#10 0x5e697ff43eff <unknown>\n",
      "#11 0x5e697ff47f08 <unknown>\n",
      "#12 0x5e697ff2addc <unknown>\n",
      "#13 0x5e697ff486ae <unknown>\n",
      "#14 0x5e697ff1229e <unknown>\n",
      "#15 0x5e697ff6c238 <unknown>\n",
      "#16 0x5e697ff6c448 <unknown>\n",
      "#17 0x5e697ff7d56c <unknown>\n",
      "#18 0x7c5355894ac3 <unknown>\n",
      "\n"
     ]
    },
    {
     "name": "stderr",
     "output_type": "stream",
     "text": [
      "Парсинг описаний:  57%|█████▋    | 3152/5500 [2:30:46<3:16:19,  5.02s/it]"
     ]
    },
    {
     "name": "stdout",
     "output_type": "stream",
     "text": [
      "⚠ Ошибка при загрузке https://kinogo.org/108872-artist-s-bolshoj-dorogi.html: Message: \n",
      "Stacktrace:\n",
      "#0 0x5a4e55c0b96a <unknown>\n",
      "#1 0x5a4e556a1e60 <unknown>\n",
      "#2 0x5a4e556f2300 <unknown>\n",
      "#3 0x5a4e556f24f1 <unknown>\n",
      "#4 0x5a4e557408f4 <unknown>\n",
      "#5 0x5a4e5571815d <unknown>\n",
      "#6 0x5a4e5573dcc5 <unknown>\n",
      "#7 0x5a4e55717f03 <unknown>\n",
      "#8 0x5a4e556e4a5a <unknown>\n",
      "#9 0x5a4e556e56d1 <unknown>\n",
      "#10 0x5a4e55bd0eff <unknown>\n",
      "#11 0x5a4e55bd4f08 <unknown>\n",
      "#12 0x5a4e55bb7ddc <unknown>\n",
      "#13 0x5a4e55bd56ae <unknown>\n",
      "#14 0x5a4e55b9f29e <unknown>\n",
      "#15 0x5a4e55bf9238 <unknown>\n",
      "#16 0x5a4e55bf9448 <unknown>\n",
      "#17 0x5a4e55c0a56c <unknown>\n",
      "#18 0x7c2c90294ac3 <unknown>\n",
      "\n"
     ]
    },
    {
     "name": "stderr",
     "output_type": "stream",
     "text": [
      "Парсинг описаний:  58%|█████▊    | 3172/5500 [2:31:53<2:10:14,  3.36s/it]"
     ]
    },
    {
     "name": "stdout",
     "output_type": "stream",
     "text": [
      "⚠ Ошибка при загрузке https://kinogo.org/63248-stella.html: HTTPConnectionPool(host='localhost', port=46231): Read timed out. (read timeout=120)\n"
     ]
    },
    {
     "name": "stderr",
     "output_type": "stream",
     "text": [
      "Парсинг описаний:  58%|█████▊    | 3211/5500 [2:33:44<1:03:07,  1.65s/it]"
     ]
    },
    {
     "name": "stdout",
     "output_type": "stream",
     "text": [
      "⚠ Ошибка при загрузке https://kinogo.org/108340-prestizh.html: Message: \n",
      "Stacktrace:\n",
      "#0 0x5ad0876a596a <unknown>\n",
      "#1 0x5ad08713be60 <unknown>\n",
      "#2 0x5ad08718c300 <unknown>\n",
      "#3 0x5ad08718c4f1 <unknown>\n",
      "#4 0x5ad0871da8f4 <unknown>\n",
      "#5 0x5ad0871b215d <unknown>\n",
      "#6 0x5ad0871d7cc5 <unknown>\n",
      "#7 0x5ad0871b1f03 <unknown>\n",
      "#8 0x5ad08717ea5a <unknown>\n",
      "#9 0x5ad08717f6d1 <unknown>\n",
      "#10 0x5ad08766aeff <unknown>\n",
      "#11 0x5ad08766ef08 <unknown>\n",
      "#12 0x5ad087651ddc <unknown>\n",
      "#13 0x5ad08766f6ae <unknown>\n",
      "#14 0x5ad08763929e <unknown>\n",
      "#15 0x5ad087693238 <unknown>\n",
      "#16 0x5ad087693448 <unknown>\n",
      "#17 0x5ad0876a456c <unknown>\n",
      "#18 0x7bae1c694ac3 <unknown>\n",
      "\n"
     ]
    },
    {
     "name": "stderr",
     "output_type": "stream",
     "text": [
      "Парсинг описаний:  60%|██████    | 3311/5500 [2:38:38<50:58,  1.40s/it]  "
     ]
    },
    {
     "name": "stdout",
     "output_type": "stream",
     "text": [
      "⚠ Ошибка при загрузке https://kinogo.org/6736-frendzona.html: Message: \n",
      "Stacktrace:\n",
      "#0 0x642e0e1d396a <unknown>\n",
      "#1 0x642e0dc69e60 <unknown>\n",
      "#2 0x642e0dcba300 <unknown>\n",
      "#3 0x642e0dcba4f1 <unknown>\n",
      "#4 0x642e0dd088f4 <unknown>\n",
      "#5 0x642e0dce015d <unknown>\n",
      "#6 0x642e0dd05cc5 <unknown>\n",
      "#7 0x642e0dcdff03 <unknown>\n",
      "#8 0x642e0dcaca5a <unknown>\n",
      "#9 0x642e0dcad6d1 <unknown>\n",
      "#10 0x642e0e198eff <unknown>\n",
      "#11 0x642e0e19cf08 <unknown>\n",
      "#12 0x642e0e17fddc <unknown>\n",
      "#13 0x642e0e19d6ae <unknown>\n",
      "#14 0x642e0e16729e <unknown>\n",
      "#15 0x642e0e1c1238 <unknown>\n",
      "#16 0x642e0e1c1448 <unknown>\n",
      "#17 0x642e0e1d256c <unknown>\n",
      "#18 0x725bc0e94ac3 <unknown>\n",
      "\n"
     ]
    },
    {
     "name": "stderr",
     "output_type": "stream",
     "text": [
      "Парсинг описаний:  62%|██████▏   | 3421/5500 [2:41:44<1:07:25,  1.95s/it]"
     ]
    },
    {
     "name": "stdout",
     "output_type": "stream",
     "text": [
      "⚠ Ошибка при загрузке https://kinogo.org/8660-mediator.html: Message: \n",
      "Stacktrace:\n",
      "#0 0x63cc877e396a <unknown>\n",
      "#1 0x63cc87279e60 <unknown>\n",
      "#2 0x63cc872ca300 <unknown>\n",
      "#3 0x63cc872ca4f1 <unknown>\n",
      "#4 0x63cc873188f4 <unknown>\n",
      "#5 0x63cc872f015d <unknown>\n",
      "#6 0x63cc87315cc5 <unknown>\n",
      "#7 0x63cc872eff03 <unknown>\n",
      "#8 0x63cc872bca5a <unknown>\n",
      "#9 0x63cc872bd6d1 <unknown>\n",
      "#10 0x63cc877a8eff <unknown>\n",
      "#11 0x63cc877acf08 <unknown>\n",
      "#12 0x63cc8778fddc <unknown>\n",
      "#13 0x63cc877ad6ae <unknown>\n",
      "#14 0x63cc8777729e <unknown>\n",
      "#15 0x63cc877d1238 <unknown>\n",
      "#16 0x63cc877d1448 <unknown>\n",
      "#17 0x63cc877e256c <unknown>\n",
      "#18 0x76b920094ac3 <unknown>\n",
      "\n"
     ]
    },
    {
     "name": "stderr",
     "output_type": "stream",
     "text": [
      "Парсинг описаний:  69%|██████▉   | 3818/5500 [2:52:27<40:52,  1.46s/it]  "
     ]
    },
    {
     "name": "stdout",
     "output_type": "stream",
     "text": [
      "⚠ Ошибка при загрузке https://kinogo.org/105988-slovo-pacana-serial-s6.html: Message: \n",
      "Stacktrace:\n",
      "#0 0x5d41a1fd596a <unknown>\n",
      "#1 0x5d41a1a6be60 <unknown>\n",
      "#2 0x5d41a1abc300 <unknown>\n",
      "#3 0x5d41a1abc4f1 <unknown>\n",
      "#4 0x5d41a1b0a8f4 <unknown>\n",
      "#5 0x5d41a1ae215d <unknown>\n",
      "#6 0x5d41a1b07cc5 <unknown>\n",
      "#7 0x5d41a1ae1f03 <unknown>\n",
      "#8 0x5d41a1aaea5a <unknown>\n",
      "#9 0x5d41a1aaf6d1 <unknown>\n",
      "#10 0x5d41a1f9aeff <unknown>\n",
      "#11 0x5d41a1f9ef08 <unknown>\n",
      "#12 0x5d41a1f81ddc <unknown>\n",
      "#13 0x5d41a1f9f6ae <unknown>\n",
      "#14 0x5d41a1f6929e <unknown>\n",
      "#15 0x5d41a1fc3238 <unknown>\n",
      "#16 0x5d41a1fc3448 <unknown>\n",
      "#17 0x5d41a1fd456c <unknown>\n",
      "#18 0x75418f294ac3 <unknown>\n",
      "\n"
     ]
    },
    {
     "name": "stderr",
     "output_type": "stream",
     "text": [
      "Парсинг описаний:  70%|██████▉   | 3823/5500 [2:52:35<39:19,  1.41s/it]  "
     ]
    },
    {
     "name": "stdout",
     "output_type": "stream",
     "text": [
      "⚠ Ошибка при загрузке https://kinogo.org/106507-kuplju-aktrisu.html: Message: \n",
      "Stacktrace:\n",
      "#0 0x5b61f73da96a <unknown>\n",
      "#1 0x5b61f6e70e60 <unknown>\n",
      "#2 0x5b61f6ec1300 <unknown>\n",
      "#3 0x5b61f6ec14f1 <unknown>\n",
      "#4 0x5b61f6f0f8f4 <unknown>\n",
      "#5 0x5b61f6ee715d <unknown>\n",
      "#6 0x5b61f6f0ccc5 <unknown>\n",
      "#7 0x5b61f6ee6f03 <unknown>\n",
      "#8 0x5b61f6eb3a5a <unknown>\n",
      "#9 0x5b61f6eb46d1 <unknown>\n",
      "#10 0x5b61f739feff <unknown>\n",
      "#11 0x5b61f73a3f08 <unknown>\n",
      "#12 0x5b61f7386ddc <unknown>\n",
      "#13 0x5b61f73a46ae <unknown>\n",
      "#14 0x5b61f736e29e <unknown>\n",
      "#15 0x5b61f73c8238 <unknown>\n",
      "#16 0x5b61f73c8448 <unknown>\n",
      "#17 0x5b61f73d956c <unknown>\n",
      "#18 0x7bf5ae294ac3 <unknown>\n",
      "\n"
     ]
    },
    {
     "name": "stderr",
     "output_type": "stream",
     "text": [
      "Парсинг описаний:  70%|███████   | 3868/5500 [2:53:49<27:37,  1.02s/it]  "
     ]
    },
    {
     "name": "stdout",
     "output_type": "stream",
     "text": [
      "⚠ Ошибка при загрузке https://kinogo.org/105046-slovo-pacana-m7.html: Message: \n",
      "Stacktrace:\n",
      "#0 0x5bb2e7a5196a <unknown>\n",
      "#1 0x5bb2e74e7e60 <unknown>\n",
      "#2 0x5bb2e7538300 <unknown>\n",
      "#3 0x5bb2e75384f1 <unknown>\n",
      "#4 0x5bb2e75868f4 <unknown>\n",
      "#5 0x5bb2e755e15d <unknown>\n",
      "#6 0x5bb2e7583cc5 <unknown>\n",
      "#7 0x5bb2e755df03 <unknown>\n",
      "#8 0x5bb2e752aa5a <unknown>\n",
      "#9 0x5bb2e752b6d1 <unknown>\n",
      "#10 0x5bb2e7a16eff <unknown>\n",
      "#11 0x5bb2e7a1af08 <unknown>\n",
      "#12 0x5bb2e79fdddc <unknown>\n",
      "#13 0x5bb2e7a1b6ae <unknown>\n",
      "#14 0x5bb2e79e529e <unknown>\n",
      "#15 0x5bb2e7a3f238 <unknown>\n",
      "#16 0x5bb2e7a3f448 <unknown>\n",
      "#17 0x5bb2e7a5056c <unknown>\n",
      "#18 0x7fdf4a494ac3 <unknown>\n",
      "\n"
     ]
    },
    {
     "name": "stderr",
     "output_type": "stream",
     "text": [
      "Парсинг описаний:  70%|███████   | 3876/5500 [2:54:05<46:08,  1.70s/it]  "
     ]
    },
    {
     "name": "stdout",
     "output_type": "stream",
     "text": [
      "⚠ Ошибка при загрузке https://kinogo.org/103589-bednye-abramovichi.html: Message: \n",
      "Stacktrace:\n",
      "#0 0x5897f409d96a <unknown>\n",
      "#1 0x5897f3b33e60 <unknown>\n",
      "#2 0x5897f3b84300 <unknown>\n",
      "#3 0x5897f3b844f1 <unknown>\n",
      "#4 0x5897f3bd28f4 <unknown>\n",
      "#5 0x5897f3baa15d <unknown>\n",
      "#6 0x5897f3bcfcc5 <unknown>\n",
      "#7 0x5897f3ba9f03 <unknown>\n",
      "#8 0x5897f3b76a5a <unknown>\n",
      "#9 0x5897f3b776d1 <unknown>\n",
      "#10 0x5897f4062eff <unknown>\n",
      "#11 0x5897f4066f08 <unknown>\n",
      "#12 0x5897f4049ddc <unknown>\n",
      "#13 0x5897f40676ae <unknown>\n",
      "#14 0x5897f403129e <unknown>\n",
      "#15 0x5897f408b238 <unknown>\n",
      "#16 0x5897f408b448 <unknown>\n",
      "#17 0x5897f409c56c <unknown>\n",
      "#18 0x76c697894ac3 <unknown>\n",
      "\n"
     ]
    },
    {
     "name": "stderr",
     "output_type": "stream",
     "text": [
      "Парсинг описаний:  72%|███████▏  | 3985/5500 [2:57:01<47:55,  1.90s/it]  "
     ]
    },
    {
     "name": "stdout",
     "output_type": "stream",
     "text": [
      "⚠ Ошибка при загрузке https://kinogo.org/104864-abrek.html: Message: \n",
      "Stacktrace:\n",
      "#0 0x5f4d6932a96a <unknown>\n",
      "#1 0x5f4d68dc0e60 <unknown>\n",
      "#2 0x5f4d68e11300 <unknown>\n",
      "#3 0x5f4d68e114f1 <unknown>\n",
      "#4 0x5f4d68e5f8f4 <unknown>\n",
      "#5 0x5f4d68e3715d <unknown>\n",
      "#6 0x5f4d68e5ccc5 <unknown>\n",
      "#7 0x5f4d68e36f03 <unknown>\n",
      "#8 0x5f4d68e03a5a <unknown>\n",
      "#9 0x5f4d68e046d1 <unknown>\n",
      "#10 0x5f4d692efeff <unknown>\n",
      "#11 0x5f4d692f3f08 <unknown>\n",
      "#12 0x5f4d692d6ddc <unknown>\n",
      "#13 0x5f4d692f46ae <unknown>\n",
      "#14 0x5f4d692be29e <unknown>\n",
      "#15 0x5f4d69318238 <unknown>\n",
      "#16 0x5f4d69318448 <unknown>\n",
      "#17 0x5f4d6932956c <unknown>\n",
      "#18 0x7b2f54294ac3 <unknown>\n",
      "\n"
     ]
    },
    {
     "name": "stderr",
     "output_type": "stream",
     "text": [
      "Парсинг описаний:  73%|███████▎  | 4037/5500 [2:58:23<36:43,  1.51s/it]"
     ]
    },
    {
     "name": "stdout",
     "output_type": "stream",
     "text": [
      "⚠ Ошибка при загрузке https://kinogo.org/104155-odnazhdy-v-abhazii.html: Message: \n",
      "Stacktrace:\n",
      "#0 0x56c31cc2296a <unknown>\n",
      "#1 0x56c31c6b8e60 <unknown>\n",
      "#2 0x56c31c709300 <unknown>\n",
      "#3 0x56c31c7094f1 <unknown>\n",
      "#4 0x56c31c7578f4 <unknown>\n",
      "#5 0x56c31c72f15d <unknown>\n",
      "#6 0x56c31c754cc5 <unknown>\n",
      "#7 0x56c31c72ef03 <unknown>\n",
      "#8 0x56c31c6fba5a <unknown>\n",
      "#9 0x56c31c6fc6d1 <unknown>\n",
      "#10 0x56c31cbe7eff <unknown>\n",
      "#11 0x56c31cbebf08 <unknown>\n",
      "#12 0x56c31cbceddc <unknown>\n",
      "#13 0x56c31cbec6ae <unknown>\n",
      "#14 0x56c31cbb629e <unknown>\n",
      "#15 0x56c31cc10238 <unknown>\n",
      "#16 0x56c31cc10448 <unknown>\n",
      "#17 0x56c31cc2156c <unknown>\n",
      "#18 0x781d7fa94ac3 <unknown>\n",
      "\n"
     ]
    },
    {
     "name": "stderr",
     "output_type": "stream",
     "text": [
      "Парсинг описаний:  75%|███████▍  | 4117/5500 [3:00:32<32:36,  1.41s/it]"
     ]
    },
    {
     "name": "stdout",
     "output_type": "stream",
     "text": [
      "⚠ Ошибка при загрузке https://kinogo.org/104149-seks-do-i-posle.html: Message: \n",
      "Stacktrace:\n",
      "#0 0x55db67e1c96a <unknown>\n",
      "#1 0x55db678b2e60 <unknown>\n",
      "#2 0x55db67903300 <unknown>\n",
      "#3 0x55db679034f1 <unknown>\n",
      "#4 0x55db679518f4 <unknown>\n",
      "#5 0x55db6792915d <unknown>\n",
      "#6 0x55db6794ecc5 <unknown>\n",
      "#7 0x55db67928f03 <unknown>\n",
      "#8 0x55db678f5a5a <unknown>\n",
      "#9 0x55db678f66d1 <unknown>\n",
      "#10 0x55db67de1eff <unknown>\n",
      "#11 0x55db67de5f08 <unknown>\n",
      "#12 0x55db67dc8ddc <unknown>\n",
      "#13 0x55db67de66ae <unknown>\n",
      "#14 0x55db67db029e <unknown>\n",
      "#15 0x55db67e0a238 <unknown>\n",
      "#16 0x55db67e0a448 <unknown>\n",
      "#17 0x55db67e1b56c <unknown>\n",
      "#18 0x774f8b294ac3 <unknown>\n",
      "\n"
     ]
    },
    {
     "name": "stderr",
     "output_type": "stream",
     "text": [
      "Парсинг описаний:  75%|███████▌  | 4128/5500 [3:00:49<28:29,  1.25s/it]"
     ]
    },
    {
     "name": "stdout",
     "output_type": "stream",
     "text": [
      "⚠ Ошибка при загрузке https://kinogo.org/7008-konteiner.html: Message: \n",
      "Stacktrace:\n",
      "#0 0x5c0110a3296a <unknown>\n",
      "#1 0x5c01104c8e60 <unknown>\n",
      "#2 0x5c0110519300 <unknown>\n",
      "#3 0x5c01105194f1 <unknown>\n",
      "#4 0x5c01105678f4 <unknown>\n",
      "#5 0x5c011053f15d <unknown>\n",
      "#6 0x5c0110564cc5 <unknown>\n",
      "#7 0x5c011053ef03 <unknown>\n",
      "#8 0x5c011050ba5a <unknown>\n",
      "#9 0x5c011050c6d1 <unknown>\n",
      "#10 0x5c01109f7eff <unknown>\n",
      "#11 0x5c01109fbf08 <unknown>\n",
      "#12 0x5c01109deddc <unknown>\n",
      "#13 0x5c01109fc6ae <unknown>\n",
      "#14 0x5c01109c629e <unknown>\n",
      "#15 0x5c0110a20238 <unknown>\n",
      "#16 0x5c0110a20448 <unknown>\n",
      "#17 0x5c0110a3156c <unknown>\n",
      "#18 0x75f1b9294ac3 <unknown>\n",
      "\n"
     ]
    },
    {
     "name": "stderr",
     "output_type": "stream",
     "text": [
      "Парсинг описаний:  76%|███████▌  | 4177/5500 [3:02:12<36:53,  1.67s/it]"
     ]
    },
    {
     "name": "stdout",
     "output_type": "stream",
     "text": [
      "⚠ Ошибка при загрузке https://kinogo.org/93257-novenkie.html: Message: \n",
      "Stacktrace:\n",
      "#0 0x5b511990b96a <unknown>\n",
      "#1 0x5b51193a1e60 <unknown>\n",
      "#2 0x5b51193f2300 <unknown>\n",
      "#3 0x5b51193f24f1 <unknown>\n",
      "#4 0x5b51194408f4 <unknown>\n",
      "#5 0x5b511941815d <unknown>\n",
      "#6 0x5b511943dcc5 <unknown>\n",
      "#7 0x5b5119417f03 <unknown>\n",
      "#8 0x5b51193e4a5a <unknown>\n",
      "#9 0x5b51193e56d1 <unknown>\n",
      "#10 0x5b51198d0eff <unknown>\n",
      "#11 0x5b51198d4f08 <unknown>\n",
      "#12 0x5b51198b7ddc <unknown>\n",
      "#13 0x5b51198d56ae <unknown>\n",
      "#14 0x5b511989f29e <unknown>\n",
      "#15 0x5b51198f9238 <unknown>\n",
      "#16 0x5b51198f9448 <unknown>\n",
      "#17 0x5b511990a56c <unknown>\n",
      "#18 0x7cdb2b694ac3 <unknown>\n",
      "\n"
     ]
    },
    {
     "name": "stderr",
     "output_type": "stream",
     "text": [
      "Парсинг описаний:  76%|███████▌  | 4193/5500 [3:02:43<43:03,  1.98s/it]"
     ]
    },
    {
     "name": "stdout",
     "output_type": "stream",
     "text": [
      "⚠ Ошибка при загрузке https://kinogo.org/103105-lihie-smelye-derzkie.html: Message: \n",
      "Stacktrace:\n",
      "#0 0x556087e8b96a <unknown>\n",
      "#1 0x556087921e60 <unknown>\n",
      "#2 0x556087972300 <unknown>\n",
      "#3 0x5560879724f1 <unknown>\n",
      "#4 0x5560879c08f4 <unknown>\n",
      "#5 0x55608799815d <unknown>\n",
      "#6 0x5560879bdcc5 <unknown>\n",
      "#7 0x556087997f03 <unknown>\n",
      "#8 0x556087964a5a <unknown>\n",
      "#9 0x5560879656d1 <unknown>\n",
      "#10 0x556087e50eff <unknown>\n",
      "#11 0x556087e54f08 <unknown>\n",
      "#12 0x556087e37ddc <unknown>\n",
      "#13 0x556087e556ae <unknown>\n",
      "#14 0x556087e1f29e <unknown>\n",
      "#15 0x556087e79238 <unknown>\n",
      "#16 0x556087e79448 <unknown>\n",
      "#17 0x556087e8a56c <unknown>\n",
      "#18 0x7780c1a94ac3 <unknown>\n",
      "\n",
      "⚠ Ошибка при загрузке https://kinogo.org/5363-chernyj-dvor.html: Message: \n",
      "Stacktrace:\n",
      "#0 0x64228a78b96a <unknown>\n",
      "#1 0x64228a221e60 <unknown>\n",
      "#2 0x64228a272300 <unknown>\n",
      "#3 0x64228a2724f1 <unknown>\n",
      "#4 0x64228a2c08f4 <unknown>\n",
      "#5 0x64228a29815d <unknown>\n",
      "#6 0x64228a2bdcc5 <unknown>\n",
      "#7 0x64228a297f03 <unknown>\n",
      "#8 0x64228a264a5a <unknown>\n",
      "#9 0x64228a2656d1 <unknown>\n",
      "#10 0x64228a750eff <unknown>\n",
      "#11 0x64228a754f08 <unknown>\n",
      "#12 0x64228a737ddc <unknown>\n",
      "#13 0x64228a7556ae <unknown>\n",
      "#14 0x64228a71f29e <unknown>\n",
      "#15 0x64228a779238 <unknown>\n",
      "#16 0x64228a779448 <unknown>\n",
      "#17 0x64228a78a56c <unknown>\n",
      "#18 0x724e5ce94ac3 <unknown>\n",
      "\n"
     ]
    },
    {
     "name": "stderr",
     "output_type": "stream",
     "text": [
      "Парсинг описаний:  77%|███████▋  | 4233/5500 [3:04:19<41:48,  1.98s/it]  "
     ]
    },
    {
     "name": "stdout",
     "output_type": "stream",
     "text": [
      "⚠ Ошибка при загрузке https://kinogo.org/104275-delo-gregori.html: Message: \n",
      "Stacktrace:\n",
      "#0 0x5f610b26c96a <unknown>\n",
      "#1 0x5f610ad02e60 <unknown>\n",
      "#2 0x5f610ad53300 <unknown>\n",
      "#3 0x5f610ad534f1 <unknown>\n",
      "#4 0x5f610ada18f4 <unknown>\n",
      "#5 0x5f610ad7915d <unknown>\n",
      "#6 0x5f610ad9ecc5 <unknown>\n",
      "#7 0x5f610ad78f03 <unknown>\n",
      "#8 0x5f610ad45a5a <unknown>\n",
      "#9 0x5f610ad466d1 <unknown>\n",
      "#10 0x5f610b231eff <unknown>\n",
      "#11 0x5f610b235f08 <unknown>\n",
      "#12 0x5f610b218ddc <unknown>\n",
      "#13 0x5f610b2366ae <unknown>\n",
      "#14 0x5f610b20029e <unknown>\n",
      "#15 0x5f610b25a238 <unknown>\n",
      "#16 0x5f610b25a448 <unknown>\n",
      "#17 0x5f610b26b56c <unknown>\n",
      "#18 0x74bfbd094ac3 <unknown>\n",
      "\n"
     ]
    },
    {
     "name": "stderr",
     "output_type": "stream",
     "text": [
      "Парсинг описаний:  77%|███████▋  | 4236/5500 [3:04:26<43:56,  2.09s/it]"
     ]
    },
    {
     "name": "stdout",
     "output_type": "stream",
     "text": [
      "⚠ Ошибка при загрузке https://kinogo.org/3638-alfaromeo.html: Message: \n",
      "Stacktrace:\n",
      "#0 0x59d88faba96a <unknown>\n",
      "#1 0x59d88f550e60 <unknown>\n",
      "#2 0x59d88f5a1300 <unknown>\n",
      "#3 0x59d88f5a14f1 <unknown>\n",
      "#4 0x59d88f5ef8f4 <unknown>\n",
      "#5 0x59d88f5c715d <unknown>\n",
      "#6 0x59d88f5eccc5 <unknown>\n",
      "#7 0x59d88f5c6f03 <unknown>\n",
      "#8 0x59d88f593a5a <unknown>\n",
      "#9 0x59d88f5946d1 <unknown>\n",
      "#10 0x59d88fa7feff <unknown>\n",
      "#11 0x59d88fa83f08 <unknown>\n",
      "#12 0x59d88fa66ddc <unknown>\n",
      "#13 0x59d88fa846ae <unknown>\n",
      "#14 0x59d88fa4e29e <unknown>\n",
      "#15 0x59d88faa8238 <unknown>\n",
      "#16 0x59d88faa8448 <unknown>\n",
      "#17 0x59d88fab956c <unknown>\n",
      "#18 0x793eada94ac3 <unknown>\n",
      "\n"
     ]
    },
    {
     "name": "stderr",
     "output_type": "stream",
     "text": [
      "Парсинг описаний:  78%|███████▊  | 4287/5500 [3:06:20<30:18,  1.50s/it]  "
     ]
    },
    {
     "name": "stdout",
     "output_type": "stream",
     "text": [
      "⚠ Ошибка при загрузке https://kinogo.org/3644-novenkij.html: Message: \n",
      "Stacktrace:\n",
      "#0 0x579badaac96a <unknown>\n",
      "#1 0x579bad542e60 <unknown>\n",
      "#2 0x579bad593300 <unknown>\n",
      "#3 0x579bad5934f1 <unknown>\n",
      "#4 0x579bad5e18f4 <unknown>\n",
      "#5 0x579bad5b915d <unknown>\n",
      "#6 0x579bad5decc5 <unknown>\n",
      "#7 0x579bad5b8f03 <unknown>\n",
      "#8 0x579bad585a5a <unknown>\n",
      "#9 0x579bad5866d1 <unknown>\n",
      "#10 0x579bada71eff <unknown>\n",
      "#11 0x579bada75f08 <unknown>\n",
      "#12 0x579bada58ddc <unknown>\n",
      "#13 0x579bada766ae <unknown>\n",
      "#14 0x579bada4029e <unknown>\n",
      "#15 0x579bada9a238 <unknown>\n",
      "#16 0x579bada9a448 <unknown>\n",
      "#17 0x579badaab56c <unknown>\n",
      "#18 0x7c035fe94ac3 <unknown>\n",
      "\n"
     ]
    },
    {
     "name": "stderr",
     "output_type": "stream",
     "text": [
      "Парсинг описаний:  86%|████████▌ | 4716/5500 [3:17:56<20:42,  1.58s/it]"
     ]
    },
    {
     "name": "stdout",
     "output_type": "stream",
     "text": [
      "⚠ Ошибка при загрузке https://kinogo.org/95095-zabit-na-poslednej-sekunde.html: Message: \n",
      "Stacktrace:\n",
      "#0 0x574bbd23296a <unknown>\n",
      "#1 0x574bbccc8e60 <unknown>\n",
      "#2 0x574bbcd19300 <unknown>\n",
      "#3 0x574bbcd194f1 <unknown>\n",
      "#4 0x574bbcd678f4 <unknown>\n",
      "#5 0x574bbcd3f15d <unknown>\n",
      "#6 0x574bbcd64cc5 <unknown>\n",
      "#7 0x574bbcd3ef03 <unknown>\n",
      "#8 0x574bbcd0ba5a <unknown>\n",
      "#9 0x574bbcd0c6d1 <unknown>\n",
      "#10 0x574bbd1f7eff <unknown>\n",
      "#11 0x574bbd1fbf08 <unknown>\n",
      "#12 0x574bbd1deddc <unknown>\n",
      "#13 0x574bbd1fc6ae <unknown>\n",
      "#14 0x574bbd1c629e <unknown>\n",
      "#15 0x574bbd220238 <unknown>\n",
      "#16 0x574bbd220448 <unknown>\n",
      "#17 0x574bbd23156c <unknown>\n",
      "#18 0x7e309a294ac3 <unknown>\n",
      "\n"
     ]
    },
    {
     "name": "stderr",
     "output_type": "stream",
     "text": [
      "Парсинг описаний:  89%|████████▉ | 4922/5500 [3:23:43<45:14,  4.70s/it]"
     ]
    },
    {
     "name": "stdout",
     "output_type": "stream",
     "text": [
      "⚠ Ошибка при загрузке https://kinogo.org/94056-bezumnaja-koroleva.html: Message: \n",
      "Stacktrace:\n",
      "#0 0x6358945ca96a <unknown>\n",
      "#1 0x635894060e60 <unknown>\n",
      "#2 0x6358940b1300 <unknown>\n",
      "#3 0x6358940b14f1 <unknown>\n",
      "#4 0x6358940ff8f4 <unknown>\n",
      "#5 0x6358940d715d <unknown>\n",
      "#6 0x6358940fccc5 <unknown>\n",
      "#7 0x6358940d6f03 <unknown>\n",
      "#8 0x6358940a3a5a <unknown>\n",
      "#9 0x6358940a46d1 <unknown>\n",
      "#10 0x63589458feff <unknown>\n",
      "#11 0x635894593f08 <unknown>\n",
      "#12 0x635894576ddc <unknown>\n",
      "#13 0x6358945946ae <unknown>\n",
      "#14 0x63589455e29e <unknown>\n",
      "#15 0x6358945b8238 <unknown>\n",
      "#16 0x6358945b8448 <unknown>\n",
      "#17 0x6358945c956c <unknown>\n",
      "#18 0x75dcf4a94ac3 <unknown>\n",
      "\n"
     ]
    },
    {
     "name": "stderr",
     "output_type": "stream",
     "text": [
      "Парсинг описаний:  90%|████████▉ | 4923/5500 [3:23:44<33:40,  3.50s/it]"
     ]
    },
    {
     "name": "stdout",
     "output_type": "stream",
     "text": [
      "⚠ Ошибка при загрузке https://kinogo.org/10054-shkola-chernaja-dyra.html: Message: \n",
      "Stacktrace:\n",
      "#0 0x64cea71ff96a <unknown>\n",
      "#1 0x64cea6c95e60 <unknown>\n",
      "#2 0x64cea6ce6300 <unknown>\n",
      "#3 0x64cea6ce64f1 <unknown>\n",
      "#4 0x64cea6d348f4 <unknown>\n",
      "#5 0x64cea6d0c15d <unknown>\n",
      "#6 0x64cea6d31cc5 <unknown>\n",
      "#7 0x64cea6d0bf03 <unknown>\n",
      "#8 0x64cea6cd8a5a <unknown>\n",
      "#9 0x64cea6cd96d1 <unknown>\n",
      "#10 0x64cea71c4eff <unknown>\n",
      "#11 0x64cea71c8f08 <unknown>\n",
      "#12 0x64cea71abddc <unknown>\n",
      "#13 0x64cea71c96ae <unknown>\n",
      "#14 0x64cea719329e <unknown>\n",
      "#15 0x64cea71ed238 <unknown>\n",
      "#16 0x64cea71ed448 <unknown>\n",
      "#17 0x64cea71fe56c <unknown>\n",
      "#18 0x71496c494ac3 <unknown>\n",
      "\n"
     ]
    },
    {
     "name": "stderr",
     "output_type": "stream",
     "text": [
      "Парсинг описаний:  90%|████████▉ | 4925/5500 [3:23:48<27:13,  2.84s/it]"
     ]
    },
    {
     "name": "stdout",
     "output_type": "stream",
     "text": [
      "⚠ Ошибка при загрузке https://kinogo.org/51275-ischite-zhenschinu.html: Message: \n",
      "Stacktrace:\n",
      "#0 0x59e4b55ec96a <unknown>\n",
      "#1 0x59e4b5082e60 <unknown>\n",
      "#2 0x59e4b50d3300 <unknown>\n",
      "#3 0x59e4b50d34f1 <unknown>\n",
      "#4 0x59e4b51218f4 <unknown>\n",
      "#5 0x59e4b50f915d <unknown>\n",
      "#6 0x59e4b511ecc5 <unknown>\n",
      "#7 0x59e4b50f8f03 <unknown>\n",
      "#8 0x59e4b50c5a5a <unknown>\n",
      "#9 0x59e4b50c66d1 <unknown>\n",
      "#10 0x59e4b55b1eff <unknown>\n",
      "#11 0x59e4b55b5f08 <unknown>\n",
      "#12 0x59e4b5598ddc <unknown>\n",
      "#13 0x59e4b55b66ae <unknown>\n",
      "#14 0x59e4b558029e <unknown>\n",
      "#15 0x59e4b55da238 <unknown>\n",
      "#16 0x59e4b55da448 <unknown>\n",
      "#17 0x59e4b55eb56c <unknown>\n",
      "#18 0x785dd1494ac3 <unknown>\n",
      "\n"
     ]
    },
    {
     "name": "stderr",
     "output_type": "stream",
     "text": [
      "Парсинг описаний:  90%|████████▉ | 4926/5500 [3:23:50<25:26,  2.66s/it]"
     ]
    },
    {
     "name": "stdout",
     "output_type": "stream",
     "text": [
      "⚠ Ошибка при загрузке https://kinogo.org/102886-vojna-vojnoj-a-obed-po-raspisaniju.html: Message: \n",
      "Stacktrace:\n",
      "#0 0x57d8099f696a <unknown>\n",
      "#1 0x57d80948ce60 <unknown>\n",
      "#2 0x57d8094dd300 <unknown>\n",
      "#3 0x57d8094dd4f1 <unknown>\n",
      "#4 0x57d80952b8f4 <unknown>\n",
      "#5 0x57d80950315d <unknown>\n",
      "#6 0x57d809528cc5 <unknown>\n",
      "#7 0x57d809502f03 <unknown>\n",
      "#8 0x57d8094cfa5a <unknown>\n",
      "#9 0x57d8094d06d1 <unknown>\n",
      "#10 0x57d8099bbeff <unknown>\n",
      "#11 0x57d8099bff08 <unknown>\n",
      "#12 0x57d8099a2ddc <unknown>\n",
      "#13 0x57d8099c06ae <unknown>\n",
      "#14 0x57d80998a29e <unknown>\n",
      "#15 0x57d8099e4238 <unknown>\n",
      "#16 0x57d8099e4448 <unknown>\n",
      "#17 0x57d8099f556c <unknown>\n",
      "#18 0x7ea754094ac3 <unknown>\n",
      "\n"
     ]
    },
    {
     "name": "stderr",
     "output_type": "stream",
     "text": [
      "Парсинг описаний:  91%|█████████ | 5000/5500 [3:27:05<15:13,  1.83s/it]  "
     ]
    },
    {
     "name": "stdout",
     "output_type": "stream",
     "text": [
      "⚠ Ошибка при загрузке https://kinogo.org/82653-neobyknovennye-prikljuchenija-karika-i-vali.html: Message: \n",
      "Stacktrace:\n",
      "#0 0x56dff706b96a <unknown>\n",
      "#1 0x56dff6b01e60 <unknown>\n",
      "#2 0x56dff6b52300 <unknown>\n",
      "#3 0x56dff6b524f1 <unknown>\n",
      "#4 0x56dff6ba08f4 <unknown>\n",
      "#5 0x56dff6b7815d <unknown>\n",
      "#6 0x56dff6b9dcc5 <unknown>\n",
      "#7 0x56dff6b77f03 <unknown>\n",
      "#8 0x56dff6b44a5a <unknown>\n",
      "#9 0x56dff6b456d1 <unknown>\n",
      "#10 0x56dff7030eff <unknown>\n",
      "#11 0x56dff7034f08 <unknown>\n",
      "#12 0x56dff7017ddc <unknown>\n",
      "#13 0x56dff70356ae <unknown>\n",
      "#14 0x56dff6fff29e <unknown>\n",
      "#15 0x56dff7059238 <unknown>\n",
      "#16 0x56dff7059448 <unknown>\n",
      "#17 0x56dff706a56c <unknown>\n",
      "#18 0x7aaa73494ac3 <unknown>\n",
      "\n"
     ]
    },
    {
     "name": "stderr",
     "output_type": "stream",
     "text": [
      "Парсинг описаний:  93%|█████████▎| 5138/5500 [3:32:03<10:28,  1.74s/it]"
     ]
    },
    {
     "name": "stdout",
     "output_type": "stream",
     "text": [
      "⚠ Ошибка при загрузке https://kinogo.org/101478-cvetochki-posle-jagodok-2.html: HTTPConnectionPool(host='localhost', port=34247): Read timed out. (read timeout=120)\n"
     ]
    },
    {
     "name": "stderr",
     "output_type": "stream",
     "text": [
      "Парсинг описаний:  93%|█████████▎| 5139/5500 [3:32:03<08:03,  1.34s/it]"
     ]
    },
    {
     "name": "stdout",
     "output_type": "stream",
     "text": [
      "⚠ Ошибка при загрузке https://kinogo.org/102812-bishunmo.html: HTTPConnectionPool(host='localhost', port=35715): Read timed out. (read timeout=120)\n"
     ]
    },
    {
     "name": "stderr",
     "output_type": "stream",
     "text": [
      "Парсинг описаний:  96%|█████████▌| 5257/5500 [3:35:50<11:30,  2.84s/it]"
     ]
    },
    {
     "name": "stdout",
     "output_type": "stream",
     "text": [
      "⚠ Ошибка при загрузке https://kinogo.org/102687-21-den.html: Message: \n",
      "Stacktrace:\n",
      "#0 0x611c7a70a96a <unknown>\n",
      "#1 0x611c7a1a0e60 <unknown>\n",
      "#2 0x611c7a1f1300 <unknown>\n",
      "#3 0x611c7a1f14f1 <unknown>\n",
      "#4 0x611c7a23f8f4 <unknown>\n",
      "#5 0x611c7a21715d <unknown>\n",
      "#6 0x611c7a23ccc5 <unknown>\n",
      "#7 0x611c7a216f03 <unknown>\n",
      "#8 0x611c7a1e3a5a <unknown>\n",
      "#9 0x611c7a1e46d1 <unknown>\n",
      "#10 0x611c7a6cfeff <unknown>\n",
      "#11 0x611c7a6d3f08 <unknown>\n",
      "#12 0x611c7a6b6ddc <unknown>\n",
      "#13 0x611c7a6d46ae <unknown>\n",
      "#14 0x611c7a69e29e <unknown>\n",
      "#15 0x611c7a6f8238 <unknown>\n",
      "#16 0x611c7a6f8448 <unknown>\n",
      "#17 0x611c7a70956c <unknown>\n",
      "#18 0x7171c9294ac3 <unknown>\n",
      "\n"
     ]
    },
    {
     "name": "stderr",
     "output_type": "stream",
     "text": [
      "Парсинг описаний:  97%|█████████▋| 5339/5500 [3:38:37<04:26,  1.66s/it]"
     ]
    },
    {
     "name": "stdout",
     "output_type": "stream",
     "text": [
      "⚠ Ошибка при загрузке https://kinogo.org/102453-temno-sinij-poceluj.html: Message: \n",
      "Stacktrace:\n",
      "#0 0x60718747296a <unknown>\n",
      "#1 0x607186f08e60 <unknown>\n",
      "#2 0x607186f59300 <unknown>\n",
      "#3 0x607186f594f1 <unknown>\n",
      "#4 0x607186fa78f4 <unknown>\n",
      "#5 0x607186f7f15d <unknown>\n",
      "#6 0x607186fa4cc5 <unknown>\n",
      "#7 0x607186f7ef03 <unknown>\n",
      "#8 0x607186f4ba5a <unknown>\n",
      "#9 0x607186f4c6d1 <unknown>\n",
      "#10 0x607187437eff <unknown>\n",
      "#11 0x60718743bf08 <unknown>\n",
      "#12 0x60718741eddc <unknown>\n",
      "#13 0x60718743c6ae <unknown>\n",
      "#14 0x60718740629e <unknown>\n",
      "#15 0x607187460238 <unknown>\n",
      "#16 0x607187460448 <unknown>\n",
      "#17 0x60718747156c <unknown>\n",
      "#18 0x72bf0b694ac3 <unknown>\n",
      "\n"
     ]
    },
    {
     "name": "stderr",
     "output_type": "stream",
     "text": [
      "Парсинг описаний:  97%|█████████▋| 5343/5500 [3:39:01<11:27,  4.38s/it]"
     ]
    },
    {
     "name": "stdout",
     "output_type": "stream",
     "text": [
      "⚠ Ошибка при загрузке https://kinogo.org/11282-moja-sladkaja-lozh.html: Message: \n",
      "Stacktrace:\n",
      "#0 0x58e5b278e96a <unknown>\n",
      "#1 0x58e5b2224e60 <unknown>\n",
      "#2 0x58e5b2275300 <unknown>\n",
      "#3 0x58e5b22754f1 <unknown>\n",
      "#4 0x58e5b22c38f4 <unknown>\n",
      "#5 0x58e5b229b15d <unknown>\n",
      "#6 0x58e5b22c0cc5 <unknown>\n",
      "#7 0x58e5b229af03 <unknown>\n",
      "#8 0x58e5b2267a5a <unknown>\n",
      "#9 0x58e5b22686d1 <unknown>\n",
      "#10 0x58e5b2753eff <unknown>\n",
      "#11 0x58e5b2757f08 <unknown>\n",
      "#12 0x58e5b273addc <unknown>\n",
      "#13 0x58e5b27586ae <unknown>\n",
      "#14 0x58e5b272229e <unknown>\n",
      "#15 0x58e5b277c238 <unknown>\n",
      "#16 0x58e5b277c448 <unknown>\n",
      "#17 0x58e5b278d56c <unknown>\n",
      "#18 0x7665f9294ac3 <unknown>\n",
      "\n",
      "⚠ Ошибка при загрузке https://kinogo.org/11283-princessa-hlopkovyh-polej.html: Message: \n",
      "Stacktrace:\n",
      "#0 0x62205b92d96a <unknown>\n",
      "#1 0x62205b3c3e60 <unknown>\n",
      "#2 0x62205b414300 <unknown>\n",
      "#3 0x62205b4144f1 <unknown>\n",
      "#4 0x62205b4628f4 <unknown>\n",
      "#5 0x62205b43a15d <unknown>\n",
      "#6 0x62205b45fcc5 <unknown>\n",
      "#7 0x62205b439f03 <unknown>\n",
      "#8 0x62205b406a5a <unknown>\n",
      "#9 0x62205b4076d1 <unknown>\n",
      "#10 0x62205b8f2eff <unknown>\n",
      "#11 0x62205b8f6f08 <unknown>\n",
      "#12 0x62205b8d9ddc <unknown>\n",
      "#13 0x62205b8f76ae <unknown>\n",
      "#14 0x62205b8c129e <unknown>\n",
      "#15 0x62205b91b238 <unknown>\n",
      "#16 0x62205b91b448 <unknown>\n",
      "#17 0x62205b92c56c <unknown>\n",
      "#18 0x713f83e94ac3 <unknown>\n",
      "\n"
     ]
    },
    {
     "name": "stderr",
     "output_type": "stream",
     "text": [
      "Парсинг описаний:  97%|█████████▋| 5344/5500 [3:39:03<09:24,  3.62s/it]"
     ]
    },
    {
     "name": "stdout",
     "output_type": "stream",
     "text": [
      "⚠ Ошибка при загрузке https://kinogo.org/102389-prizrozolushka.html: Message: \n",
      "Stacktrace:\n",
      "#0 0x5ad47fb1596a <unknown>\n",
      "#1 0x5ad47f5abe60 <unknown>\n",
      "#2 0x5ad47f5fc300 <unknown>\n",
      "#3 0x5ad47f5fc4f1 <unknown>\n",
      "#4 0x5ad47f64a8f4 <unknown>\n",
      "#5 0x5ad47f62215d <unknown>\n",
      "#6 0x5ad47f647cc5 <unknown>\n",
      "#7 0x5ad47f621f03 <unknown>\n",
      "#8 0x5ad47f5eea5a <unknown>\n",
      "#9 0x5ad47f5ef6d1 <unknown>\n",
      "#10 0x5ad47fadaeff <unknown>\n",
      "#11 0x5ad47fadef08 <unknown>\n",
      "#12 0x5ad47fac1ddc <unknown>\n",
      "#13 0x5ad47fadf6ae <unknown>\n",
      "#14 0x5ad47faa929e <unknown>\n",
      "#15 0x5ad47fb03238 <unknown>\n",
      "#16 0x5ad47fb03448 <unknown>\n",
      "#17 0x5ad47fb1456c <unknown>\n",
      "#18 0x76003e494ac3 <unknown>\n",
      "\n"
     ]
    },
    {
     "name": "stderr",
     "output_type": "stream",
     "text": [
      "Парсинг описаний:  97%|█████████▋| 5345/5500 [3:39:34<30:52, 11.95s/it]"
     ]
    },
    {
     "name": "stdout",
     "output_type": "stream",
     "text": [
      "⚠ Ошибка при загрузке https://kinogo.org/12006-chernyj-hleb.html: Message: Can not connect to the Service /usr/bin/chromedriver\n",
      "⚠ Ошибка при загрузке https://kinogo.org/93397-gluboko-v-serdce.html: Message: Can not connect to the Service /usr/bin/chromedriver\n",
      "\n",
      "\n"
     ]
    },
    {
     "name": "stderr",
     "output_type": "stream",
     "text": [
      "Парсинг описаний:  97%|█████████▋| 5347/5500 [3:39:36<16:31,  6.48s/it]"
     ]
    },
    {
     "name": "stdout",
     "output_type": "stream",
     "text": [
      "⚠ Ошибка при загрузке https://kinogo.org/94625-ranenye-kamni.html: Message: Can not connect to the Service /usr/bin/chromedriver\n",
      "\n"
     ]
    },
    {
     "name": "stderr",
     "output_type": "stream",
     "text": [
      "Парсинг описаний:  97%|█████████▋| 5349/5500 [3:40:13<27:23, 10.89s/it]"
     ]
    },
    {
     "name": "stdout",
     "output_type": "stream",
     "text": [
      "⚠ Ошибка при загрузке https://kinogo.org/65098-chelovecheskaja-vina.html: Message: Can not connect to the Service /usr/bin/chromedriver\n",
      "⚠ Ошибка при загрузке https://kinogo.org/102296-predatelstvo.html: Message: Can not connect to the Service /usr/bin/chromedriver\n",
      "\n",
      "\n",
      "⚠ Ошибка при загрузке https://kinogo.org/63870-plohoj-put.html: Message: Can not connect to the Service /usr/bin/chromedriver\n",
      "\n"
     ]
    },
    {
     "name": "stderr",
     "output_type": "stream",
     "text": [
      "Парсинг описаний:  97%|█████████▋| 5351/5500 [3:40:54<43:21, 17.46s/it]"
     ]
    },
    {
     "name": "stdout",
     "output_type": "stream",
     "text": [
      "⚠ Ошибка при загрузке https://kinogo.org/64834-chernyj-shrift.html: Message: Can not connect to the Service /usr/bin/chromedriver\n",
      "⚠ Ошибка при загрузке https://kinogo.org/65113-vrag-v-moem-dome.html: Message: Can not connect to the Service /usr/bin/chromedriver\n",
      "\n",
      "\n"
     ]
    },
    {
     "name": "stderr",
     "output_type": "stream",
     "text": [
      "Парсинг описаний:  97%|█████████▋| 5352/5500 [3:40:54<30:16, 12.27s/it]"
     ]
    },
    {
     "name": "stdout",
     "output_type": "stream",
     "text": [
      "⚠ Ошибка при загрузке https://kinogo.org/93397-gluboko-v-serdce.html: Message: Can not connect to the Service /usr/bin/chromedriver\n",
      "\n"
     ]
    },
    {
     "name": "stderr",
     "output_type": "stream",
     "text": [
      "Парсинг описаний:  97%|█████████▋| 5354/5500 [3:40:59<17:46,  7.30s/it]"
     ]
    },
    {
     "name": "stdout",
     "output_type": "stream",
     "text": [
      "⚠ Ошибка при загрузке https://kinogo.org/101275-sila-solnca.html: HTTPConnectionPool(host='localhost', port=54437): Read timed out. (read timeout=120)\n",
      "⚠ Ошибка при загрузке https://kinogo.org/12747-sumerki.html: HTTPConnectionPool(host='localhost', port=58459): Read timed out. (read timeout=120)\n"
     ]
    },
    {
     "name": "stderr",
     "output_type": "stream",
     "text": [
      "Парсинг описаний:  97%|█████████▋| 5355/5500 [3:40:59<12:31,  5.18s/it]"
     ]
    },
    {
     "name": "stdout",
     "output_type": "stream",
     "text": [
      "⚠ Ошибка при загрузке https://kinogo.org/94625-ranenye-kamni.html: Message: Can not connect to the Service /usr/bin/chromedriver\n",
      "⚠ Ошибка при загрузке https://kinogo.org/8776-hostel-dejz.html: Message: Can not connect to the Service /usr/bin/chromedriver\n",
      "\n",
      "\n"
     ]
    },
    {
     "name": "stderr",
     "output_type": "stream",
     "text": [
      "Парсинг описаний:  97%|█████████▋| 5358/5500 [3:41:38<18:35,  7.85s/it]"
     ]
    },
    {
     "name": "stdout",
     "output_type": "stream",
     "text": [
      "⚠ Ошибка при загрузке https://kinogo.org/9135-sita-i-rama.html: Message: Can not connect to the Service /usr/bin/chromedriver\n",
      "\n"
     ]
    },
    {
     "name": "stderr",
     "output_type": "stream",
     "text": [
      "Парсинг описаний:  97%|█████████▋| 5360/5500 [3:41:40<10:05,  4.33s/it]"
     ]
    },
    {
     "name": "stdout",
     "output_type": "stream",
     "text": [
      "⚠ Ошибка при загрузке https://kinogo.org/101823-vybor-vojny-mezhdu-devushkami.html: Message: Can not connect to the Service /usr/bin/chromedriver\n",
      "⚠ Ошибка при загрузке https://kinogo.org/9432-donja.html: Message: Can not connect to the Service /usr/bin/chromedriver\n",
      "\n",
      "\n"
     ]
    },
    {
     "name": "stderr",
     "output_type": "stream",
     "text": [
      "Парсинг описаний:  97%|█████████▋| 5361/5500 [3:42:17<33:02, 14.27s/it]"
     ]
    },
    {
     "name": "stdout",
     "output_type": "stream",
     "text": [
      "⚠ Ошибка при загрузке https://kinogo.org/9135-sita-i-rama.html: Message: Can not connect to the Service /usr/bin/chromedriver\n",
      "⚠ Ошибка при загрузке https://kinogo.org/65113-vrag-v-moem-dome.html: Message: Can not connect to the Service /usr/bin/chromedriver\n",
      "\n",
      "\n"
     ]
    },
    {
     "name": "stderr",
     "output_type": "stream",
     "text": [
      "Парсинг описаний:  98%|█████████▊| 5363/5500 [3:42:20<17:48,  7.80s/it]"
     ]
    },
    {
     "name": "stdout",
     "output_type": "stream",
     "text": [
      "⚠ Ошибка при загрузке https://kinogo.org/9432-donja.html: Message: Can not connect to the Service /usr/bin/chromedriver\n",
      "\n"
     ]
    },
    {
     "name": "stderr",
     "output_type": "stream",
     "text": [
      "Парсинг описаний:  98%|█████████▊| 5364/5500 [3:42:22<13:51,  6.11s/it]"
     ]
    },
    {
     "name": "stdout",
     "output_type": "stream",
     "text": [
      "⚠ Ошибка при загрузке https://kinogo.org/101748-iskusstvo-v-ljubvi.html: Message: Can not connect to the Service /usr/bin/chromedriver\n",
      "⚠ Ошибка при загрузке https://kinogo.org/63870-plohoj-put.html: Message: Can not connect to the Service /usr/bin/chromedriver\n",
      "\n",
      "\n"
     ]
    },
    {
     "name": "stderr",
     "output_type": "stream",
     "text": [
      "Парсинг описаний:  98%|█████████▊| 5367/5500 [3:42:57<20:42,  9.34s/it]"
     ]
    },
    {
     "name": "stdout",
     "output_type": "stream",
     "text": [
      "⚠ Ошибка при загрузке https://kinogo.org/11023-vnutri.html: Message: Can not connect to the Service /usr/bin/chromedriver\n",
      "⚠ Ошибка при загрузке https://kinogo.org/61281-bol-zhizni.html: Message: Can not connect to the Service /usr/bin/chromedriver\n",
      "\n",
      "\n",
      "⚠ Ошибка при загрузке https://kinogo.org/101823-vybor-vojny-mezhdu-devushkami.html: Message: Can not connect to the Service /usr/bin/chromedriver\n",
      "\n"
     ]
    },
    {
     "name": "stderr",
     "output_type": "stream",
     "text": [
      "Парсинг описаний:  98%|█████████▊| 5370/5500 [3:43:02<08:49,  4.07s/it]"
     ]
    },
    {
     "name": "stdout",
     "output_type": "stream",
     "text": [
      "⚠ Ошибка при загрузке https://kinogo.org/101747-devushka-s-prekrasnymi-mechami.html: Message: Can not connect to the Service /usr/bin/chromedriver\n",
      "⚠ Ошибка при загрузке https://kinogo.org/64834-chernyj-shrift.html: Message: Can not connect to the Service /usr/bin/chromedriver\n",
      "\n",
      "\n"
     ]
    },
    {
     "name": "stderr",
     "output_type": "stream",
     "text": [
      "Парсинг описаний:  98%|█████████▊| 5372/5500 [3:43:35<19:16,  9.04s/it]"
     ]
    },
    {
     "name": "stdout",
     "output_type": "stream",
     "text": [
      "⚠ Ошибка при загрузке https://kinogo.org/94618-volshebnyj-golos-dzhelsomino.html: Message: Can not connect to the Service /usr/bin/chromedriver\n",
      "⚠ Ошибка при загрузке https://kinogo.org/12022-ljubov-moej-zhizni.html: Message: Can not connect to the Service /usr/bin/chromedriver\n",
      "\n",
      "\n",
      "⚠ Ошибка при загрузке https://kinogo.org/5133-moja-mama.html: Message: Can not connect to the Service /usr/bin/chromedriver\n",
      "\n"
     ]
    },
    {
     "name": "stderr",
     "output_type": "stream",
     "text": [
      "Парсинг описаний:  98%|█████████▊| 5375/5500 [3:43:39<08:00,  3.84s/it]"
     ]
    },
    {
     "name": "stdout",
     "output_type": "stream",
     "text": [
      "⚠ Ошибка при загрузке https://kinogo.org/62052-selskaja-krasavica.html: Message: Can not connect to the Service /usr/bin/chromedriver\n",
      "⚠ Ошибка при загрузке https://kinogo.org/6300-voshod-osmanskoj-imperii.html: Message: Can not connect to the Service /usr/bin/chromedriver\n",
      "\n",
      "\n"
     ]
    },
    {
     "name": "stderr",
     "output_type": "stream",
     "text": [
      "Парсинг описаний:  98%|█████████▊| 5376/5500 [3:44:21<31:26, 15.21s/it]"
     ]
    },
    {
     "name": "stdout",
     "output_type": "stream",
     "text": [
      "⚠ Ошибка при загрузке https://kinogo.org/62205-pod-senju-lip.html: Message: Can not connect to the Service /usr/bin/chromedriver\n",
      "⚠ Ошибка при загрузке https://kinogo.org/62220-sbezhavshie-nevesty.html: Message: Can not connect to the Service /usr/bin/chromedriver\n",
      "\n",
      "\n"
     ]
    },
    {
     "name": "stderr",
     "output_type": "stream",
     "text": [
      "Парсинг описаний:  98%|█████████▊| 5377/5500 [3:44:21<21:59, 10.73s/it]"
     ]
    },
    {
     "name": "stdout",
     "output_type": "stream",
     "text": [
      "⚠ Ошибка при загрузке https://kinogo.org/62255-srochno-ischem-ljubov.html: Message: Can not connect to the Service /usr/bin/chromedriver\n",
      "\n"
     ]
    },
    {
     "name": "stderr",
     "output_type": "stream",
     "text": [
      "Парсинг описаний:  98%|█████████▊| 5378/5500 [3:44:24<16:48,  8.27s/it]"
     ]
    },
    {
     "name": "stdout",
     "output_type": "stream",
     "text": [
      "⚠ Ошибка при загрузке https://kinogo.org/100375-bts-bon-vojazh.html: Message: Can not connect to the Service /usr/bin/chromedriver\n",
      "⚠ Ошибка при загрузке https://kinogo.org/62218-vspomni-genjul.html: Message: Can not connect to the Service /usr/bin/chromedriver\n",
      "\n",
      "\n"
     ]
    },
    {
     "name": "stderr",
     "output_type": "stream",
     "text": [
      "Парсинг описаний:  98%|█████████▊| 5382/5500 [3:45:03<19:48, 10.07s/it]"
     ]
    },
    {
     "name": "stdout",
     "output_type": "stream",
     "text": [
      "⚠ Ошибка при загрузке https://kinogo.org/63886-zapret.html: Message: Can not connect to the Service /usr/bin/chromedriver\n",
      "⚠ Ошибка при загрузке https://kinogo.org/12735-zhenschiny-na-grani.html: Message: Can not connect to the Service /usr/bin/chromedriver\n",
      "\n",
      "\n"
     ]
    },
    {
     "name": "stderr",
     "output_type": "stream",
     "text": [
      "Парсинг описаний:  98%|█████████▊| 5383/5500 [3:45:05<15:02,  7.72s/it]"
     ]
    },
    {
     "name": "stdout",
     "output_type": "stream",
     "text": [
      "⚠ Ошибка при загрузке https://kinogo.org/64226-serdce-vetra.html: Message: Can not connect to the Service /usr/bin/chromedriver\n",
      "\n",
      "⚠ Ошибка при загрузке https://kinogo.org/94618-volshebnyj-golos-dzhelsomino.html: Message: Can not connect to the Service /usr/bin/chromedriver\n",
      "⚠ Ошибка при загрузке https://kinogo.org/100375-bts-bon-vojazh.html: Message: Can not connect to the Service /usr/bin/chromedriver\n",
      "\n",
      "\n"
     ]
    },
    {
     "name": "stderr",
     "output_type": "stream",
     "text": [
      "Парсинг описаний:  98%|█████████▊| 5385/5500 [3:45:07<08:03,  4.21s/it]"
     ]
    },
    {
     "name": "stdout",
     "output_type": "stream",
     "text": [
      "⚠ Ошибка при загрузке https://kinogo.org/97304-malenkij-nachalnik.html: Message: Can not connect to the Service /usr/bin/chromedriver\n",
      "\n",
      "⚠ Ошибка при загрузке https://kinogo.org/94623-vozvraschenie-v-jedem-2.html: Message: Can not connect to the Service /usr/bin/chromedriver\n",
      "\n"
     ]
    },
    {
     "name": "stderr",
     "output_type": "stream",
     "text": [
      "Парсинг описаний:  98%|█████████▊| 5387/5500 [3:45:44<18:28,  9.81s/it]"
     ]
    },
    {
     "name": "stdout",
     "output_type": "stream",
     "text": [
      "⚠ Ошибка при загрузке https://kinogo.org/62255-srochno-ischem-ljubov.html: Message: Can not connect to the Service /usr/bin/chromedriver\n",
      "\n"
     ]
    },
    {
     "name": "stderr",
     "output_type": "stream",
     "text": [
      "Парсинг описаний:  98%|█████████▊| 5388/5500 [3:45:56<19:32, 10.46s/it]"
     ]
    },
    {
     "name": "stdout",
     "output_type": "stream",
     "text": [
      "⚠ Ошибка при загрузке https://kinogo.org/7647-bratja-karamazovy.html: Message: Can not connect to the Service /usr/bin/chromedriver\n",
      "⚠ Ошибка при загрузке https://kinogo.org/55940-zhivye-i-mertvye.html: Message: Can not connect to the Service /usr/bin/chromedriver\n",
      "\n",
      "\n"
     ]
    },
    {
     "name": "stderr",
     "output_type": "stream",
     "text": [
      "Парсинг описаний:  98%|█████████▊| 5392/5500 [3:46:28<16:08,  8.97s/it]"
     ]
    },
    {
     "name": "stdout",
     "output_type": "stream",
     "text": [
      "⚠ Ошибка при загрузке https://kinogo.org/63704-gabrijela.html: Message: Can not connect to the Service /usr/bin/chromedriver\n",
      "⚠ Ошибка при загрузке https://kinogo.org/94598-21-tander.html: Message: Can not connect to the Service /usr/bin/chromedriver\n",
      "\n",
      "\n"
     ]
    },
    {
     "name": "stderr",
     "output_type": "stream",
     "text": [
      "Парсинг описаний:  98%|█████████▊| 5393/5500 [3:46:30<12:26,  6.98s/it]"
     ]
    },
    {
     "name": "stdout",
     "output_type": "stream",
     "text": [
      "⚠ Ошибка при загрузке https://kinogo.org/9371-zerkalo-zhizni.html: Message: Can not connect to the Service /usr/bin/chromedriver\n",
      "\n"
     ]
    },
    {
     "name": "stderr",
     "output_type": "stream",
     "text": [
      "Парсинг описаний:  98%|█████████▊| 5395/5500 [3:46:32<06:46,  3.87s/it]"
     ]
    },
    {
     "name": "stdout",
     "output_type": "stream",
     "text": [
      "⚠ Ошибка при загрузке https://kinogo.org/102064-lihoradka-v-razgar-leta.html: Message: Can not connect to the Service /usr/bin/chromedriver\n",
      "⚠ Ошибка при загрузке https://kinogo.org/59409-eralash.html: Message: Can not connect to the Service /usr/bin/chromedriver\n",
      "\n",
      "\n"
     ]
    },
    {
     "name": "stderr",
     "output_type": "stream",
     "text": [
      "Парсинг описаний:  98%|█████████▊| 5396/5500 [3:47:52<45:53, 26.48s/it]"
     ]
    },
    {
     "name": "stdout",
     "output_type": "stream",
     "text": [
      "⚠ Ошибка при загрузке https://kinogo.org/93066-neuderzhimyj.html: ('Connection aborted.', RemoteDisconnected('Remote end closed connection without response'))\n"
     ]
    },
    {
     "name": "stderr",
     "output_type": "stream",
     "text": [
      "Парсинг описаний:  98%|█████████▊| 5397/5500 [3:47:54<32:56, 19.19s/it]"
     ]
    },
    {
     "name": "stdout",
     "output_type": "stream",
     "text": [
      "⚠ Ошибка при загрузке https://kinogo.org/12722-vseveduschij.html: ('Connection aborted.', RemoteDisconnected('Remote end closed connection without response'))\n"
     ]
    },
    {
     "name": "stderr",
     "output_type": "stream",
     "text": [
      "Парсинг описаний:  98%|█████████▊| 5398/5500 [3:47:56<23:54, 14.06s/it]"
     ]
    },
    {
     "name": "stdout",
     "output_type": "stream",
     "text": [
      "⚠ Ошибка при загрузке https://kinogo.org/11923-den-kogda-napisana-moja-sudba.html: ('Connection aborted.', RemoteDisconnected('Remote end closed connection without response'))\n"
     ]
    },
    {
     "name": "stderr",
     "output_type": "stream",
     "text": [
      "Парсинг описаний:  98%|█████████▊| 5399/5500 [3:47:58<17:51, 10.61s/it]"
     ]
    },
    {
     "name": "stdout",
     "output_type": "stream",
     "text": [
      "⚠ Ошибка при загрузке https://kinogo.org/102067-ne-v-dengah-schaste.html: ('Connection aborted.', RemoteDisconnected('Remote end closed connection without response'))\n"
     ]
    },
    {
     "name": "stderr",
     "output_type": "stream",
     "text": [
      "Парсинг описаний:  98%|█████████▊| 5400/5500 [3:48:00<13:24,  8.04s/it]"
     ]
    },
    {
     "name": "stdout",
     "output_type": "stream",
     "text": [
      "⚠ Ошибка при загрузке https://kinogo.org/62142-poka-my-ne-vstretimsja-snova.html: ('Connection aborted.', RemoteDisconnected('Remote end closed connection without response'))\n"
     ]
    },
    {
     "name": "stderr",
     "output_type": "stream",
     "text": [
      "Парсинг описаний:  98%|█████████▊| 5401/5500 [3:48:29<23:36, 14.31s/it]"
     ]
    },
    {
     "name": "stdout",
     "output_type": "stream",
     "text": [
      "⚠ Ошибка при загрузке https://kinogo.org/9371-zerkalo-zhizni.html: Message: Can not connect to the Service /usr/bin/chromedriver\n",
      "\n",
      "⚠ Ошибка при загрузке https://kinogo.org/102064-lihoradka-v-razgar-leta.html: Message: Can not connect to the Service /usr/bin/chromedriver\n",
      "\n"
     ]
    },
    {
     "name": "stderr",
     "output_type": "stream",
     "text": [
      "Парсинг описаний:  98%|█████████▊| 5402/5500 [3:48:31<17:12, 10.54s/it]"
     ]
    },
    {
     "name": "stdout",
     "output_type": "stream",
     "text": [
      "⚠ Ошибка при загрузке https://kinogo.org/12722-vseveduschij.html: Message: Can not connect to the Service /usr/bin/chromedriver\n",
      "\n"
     ]
    },
    {
     "name": "stderr",
     "output_type": "stream",
     "text": [
      "Парсинг описаний:  98%|█████████▊| 5404/5500 [3:48:36<10:11,  6.37s/it]"
     ]
    },
    {
     "name": "stdout",
     "output_type": "stream",
     "text": [
      "⚠ Ошибка при загрузке https://kinogo.org/11541-osada-jel-kuta.html: Message: Can not connect to the Service /usr/bin/chromedriver\n",
      "\n"
     ]
    },
    {
     "name": "stderr",
     "output_type": "stream",
     "text": [
      "Парсинг описаний:  98%|█████████▊| 5405/5500 [3:48:38<08:01,  5.07s/it]"
     ]
    },
    {
     "name": "stdout",
     "output_type": "stream",
     "text": [
      "⚠ Ошибка при загрузке https://kinogo.org/55940-zhivye-i-mertvye.html: Message: Can not connect to the Service /usr/bin/chromedriver\n",
      "\n"
     ]
    },
    {
     "name": "stderr",
     "output_type": "stream",
     "text": [
      "Парсинг описаний:  98%|█████████▊| 5406/5500 [3:49:04<17:45, 11.34s/it]"
     ]
    },
    {
     "name": "stdout",
     "output_type": "stream",
     "text": [
      "⚠ Ошибка при загрузке https://kinogo.org/11923-den-kogda-napisana-moja-sudba.html: Message: Can not connect to the Service /usr/bin/chromedriver\n",
      "\n"
     ]
    },
    {
     "name": "stderr",
     "output_type": "stream",
     "text": [
      "Парсинг описаний:  98%|█████████▊| 5407/5500 [3:49:06<13:20,  8.60s/it]"
     ]
    },
    {
     "name": "stdout",
     "output_type": "stream",
     "text": [
      "⚠ Ошибка при загрузке https://kinogo.org/40229-belyj-bim-chernoe-uho.html: Message: Can not connect to the Service /usr/bin/chromedriver\n",
      "\n"
     ]
    },
    {
     "name": "stderr",
     "output_type": "stream",
     "text": [
      "Парсинг описаний:  98%|█████████▊| 5408/5500 [3:49:08<10:11,  6.64s/it]"
     ]
    },
    {
     "name": "stdout",
     "output_type": "stream",
     "text": [
      "⚠ Ошибка при загрузке https://kinogo.org/93687-prokurorskie-vojny.html: Message: Can not connect to the Service /usr/bin/chromedriver\n",
      "\n"
     ]
    },
    {
     "name": "stderr",
     "output_type": "stream",
     "text": [
      "Парсинг описаний:  98%|█████████▊| 5409/5500 [3:49:11<08:10,  5.39s/it]"
     ]
    },
    {
     "name": "stdout",
     "output_type": "stream",
     "text": [
      "⚠ Ошибка при загрузке https://kinogo.org/101812-ukrast-na-odnu-noch.html: Message: Can not connect to the Service /usr/bin/chromedriver\n",
      "\n"
     ]
    },
    {
     "name": "stderr",
     "output_type": "stream",
     "text": [
      "Парсинг описаний:  98%|█████████▊| 5410/5500 [3:49:13<06:35,  4.40s/it]"
     ]
    },
    {
     "name": "stdout",
     "output_type": "stream",
     "text": [
      "⚠ Ошибка при загрузке https://kinogo.org/50757-dostojanie-respubliki.html: Message: Can not connect to the Service /usr/bin/chromedriver\n",
      "\n"
     ]
    },
    {
     "name": "stderr",
     "output_type": "stream",
     "text": [
      "Парсинг описаний:  98%|█████████▊| 5411/5500 [3:49:39<16:16, 10.97s/it]"
     ]
    },
    {
     "name": "stdout",
     "output_type": "stream",
     "text": [
      "⚠ Ошибка при загрузке https://kinogo.org/102041-dorogoj-detektiv.html: Message: Can not connect to the Service /usr/bin/chromedriver\n",
      "\n"
     ]
    },
    {
     "name": "stderr",
     "output_type": "stream",
     "text": [
      "Парсинг описаний:  98%|█████████▊| 5412/5500 [3:49:41<12:14,  8.34s/it]"
     ]
    },
    {
     "name": "stdout",
     "output_type": "stream",
     "text": [
      "⚠ Ошибка при загрузке https://kinogo.org/94587-solo-dlja-slona-s-orkestrom.html: Message: Can not connect to the Service /usr/bin/chromedriver\n",
      "\n",
      "⚠ Ошибка при загрузке https://kinogo.org/49479-kanikuly-petrova-i-vasechkina-obyknovennye-i-neverojatnye.html: Message: Can not connect to the Service /usr/bin/chromedriver\n",
      "\n"
     ]
    },
    {
     "name": "stderr",
     "output_type": "stream",
     "text": [
      "Парсинг описаний:  98%|█████████▊| 5414/5500 [3:49:46<07:32,  5.27s/it]"
     ]
    },
    {
     "name": "stdout",
     "output_type": "stream",
     "text": [
      "⚠ Ошибка при загрузке https://kinogo.org/53246-zelenyj-furgon.html: Message: Can not connect to the Service /usr/bin/chromedriver\n",
      "\n"
     ]
    },
    {
     "name": "stderr",
     "output_type": "stream",
     "text": [
      "Парсинг описаний:  98%|█████████▊| 5415/5500 [3:49:48<06:06,  4.31s/it]"
     ]
    },
    {
     "name": "stdout",
     "output_type": "stream",
     "text": [
      "⚠ Ошибка при загрузке https://kinogo.org/102035-bolnye-na-golovu.html: Message: Can not connect to the Service /usr/bin/chromedriver\n",
      "\n"
     ]
    },
    {
     "name": "stderr",
     "output_type": "stream",
     "text": [
      "Парсинг описаний:  98%|█████████▊| 5416/5500 [3:50:16<16:12, 11.58s/it]"
     ]
    },
    {
     "name": "stdout",
     "output_type": "stream",
     "text": [
      "⚠ Ошибка при загрузке https://kinogo.org/94581-garem.html: Message: Can not connect to the Service /usr/bin/chromedriver\n",
      "\n"
     ]
    },
    {
     "name": "stderr",
     "output_type": "stream",
     "text": [
      "Парсинг описаний:  98%|█████████▊| 5417/5500 [3:50:18<12:06,  8.75s/it]"
     ]
    },
    {
     "name": "stdout",
     "output_type": "stream",
     "text": [
      "⚠ Ошибка при загрузке https://kinogo.org/48086-chernaja-roza-jemblema-pechali-krasnaja-roza-jemblema-ljubvi.html: Message: Can not connect to the Service /usr/bin/chromedriver\n",
      "\n"
     ]
    },
    {
     "name": "stderr",
     "output_type": "stream",
     "text": [
      "Парсинг описаний:  99%|█████████▊| 5418/5500 [3:50:20<09:12,  6.74s/it]"
     ]
    },
    {
     "name": "stdout",
     "output_type": "stream",
     "text": [
      "⚠ Ошибка при загрузке https://kinogo.org/12730-zabytaja-armija.html: Message: Can not connect to the Service /usr/bin/chromedriver\n",
      "\n",
      "⚠ Ошибка при загрузке https://kinogo.org/64809-obizhennye-cvety.html: Message: Can not connect to the Service /usr/bin/chromedriver\n",
      "\n"
     ]
    },
    {
     "name": "stderr",
     "output_type": "stream",
     "text": [
      "Парсинг описаний:  99%|█████████▊| 5420/5500 [3:50:25<05:54,  4.43s/it]"
     ]
    },
    {
     "name": "stdout",
     "output_type": "stream",
     "text": [
      "⚠ Ошибка при загрузке https://kinogo.org/78130-dom-kotoryj-postroil-svift.html: Message: Can not connect to the Service /usr/bin/chromedriver\n",
      "\n"
     ]
    },
    {
     "name": "stderr",
     "output_type": "stream",
     "text": [
      "Парсинг описаний:  99%|█████████▊| 5421/5500 [3:50:55<15:45, 11.97s/it]"
     ]
    },
    {
     "name": "stdout",
     "output_type": "stream",
     "text": [
      "⚠ Ошибка при загрузке https://kinogo.org/10415-nasha-istorija.html: Message: Can not connect to the Service /usr/bin/chromedriver\n",
      "\n"
     ]
    },
    {
     "name": "stderr",
     "output_type": "stream",
     "text": [
      "Парсинг описаний:  99%|█████████▊| 5422/5500 [3:50:57<11:49,  9.09s/it]"
     ]
    },
    {
     "name": "stdout",
     "output_type": "stream",
     "text": [
      "⚠ Ошибка при загрузке https://kinogo.org/53246-zelenyj-furgon.html: Message: Can not connect to the Service /usr/bin/chromedriver\n",
      "\n",
      "⚠ Ошибка при загрузке https://kinogo.org/11301-gjulperi.html: Message: Can not connect to the Service /usr/bin/chromedriver\n",
      "\n"
     ]
    },
    {
     "name": "stderr",
     "output_type": "stream",
     "text": [
      "Парсинг описаний:  99%|█████████▊| 5424/5500 [3:51:02<07:22,  5.83s/it]"
     ]
    },
    {
     "name": "stdout",
     "output_type": "stream",
     "text": [
      "⚠ Ошибка при загрузке https://kinogo.org/49479-kanikuly-petrova-i-vasechkina-obyknovennye-i-neverojatnye.html: Message: Can not connect to the Service /usr/bin/chromedriver\n",
      "\n",
      "⚠ Ошибка при загрузке https://kinogo.org/12730-zabytaja-armija.html: Message: Can not connect to the Service /usr/bin/chromedriver\n",
      "\n"
     ]
    },
    {
     "name": "stderr",
     "output_type": "stream",
     "text": [
      "Парсинг описаний:  99%|█████████▊| 5426/5500 [3:51:40<17:16, 14.01s/it]"
     ]
    },
    {
     "name": "stdout",
     "output_type": "stream",
     "text": [
      "⚠ Ошибка при загрузке https://kinogo.org/48086-chernaja-roza-jemblema-pechali-krasnaja-roza-jemblema-ljubvi.html: Message: Can not connect to the Service /usr/bin/chromedriver\n",
      "\n",
      "⚠ Ошибка при загрузке https://kinogo.org/12164-dzhodha-i-akbar-istorija-velikoj-ljubvi.html: Message: Can not connect to the Service /usr/bin/chromedriver\n",
      "\n"
     ]
    },
    {
     "name": "stderr",
     "output_type": "stream",
     "text": [
      "Парсинг описаний:  99%|█████████▊| 5427/5500 [3:51:42<12:43, 10.45s/it]"
     ]
    },
    {
     "name": "stdout",
     "output_type": "stream",
     "text": [
      "⚠ Ошибка при загрузке https://kinogo.org/101938-nekontroliruemaja-ljubov.html: Message: Can not connect to the Service /usr/bin/chromedriver\n",
      "\n"
     ]
    },
    {
     "name": "stderr",
     "output_type": "stream",
     "text": [
      "Парсинг описаний:  99%|█████████▊| 5428/5500 [3:51:45<09:43,  8.10s/it]"
     ]
    },
    {
     "name": "stdout",
     "output_type": "stream",
     "text": [
      "⚠ Ошибка при загрузке https://kinogo.org/99062-dorogoj-princ.html: Message: Can not connect to the Service /usr/bin/chromedriver\n",
      "\n"
     ]
    },
    {
     "name": "stderr",
     "output_type": "stream",
     "text": [
      "Парсинг описаний:  99%|█████████▊| 5430/5500 [3:51:49<05:49,  4.99s/it]"
     ]
    },
    {
     "name": "stdout",
     "output_type": "stream",
     "text": [
      "⚠ Ошибка при загрузке https://kinogo.org/94599-zhizn-polna-sjurprizov.html: Message: Can not connect to the Service /usr/bin/chromedriver\n",
      "\n"
     ]
    },
    {
     "name": "stderr",
     "output_type": "stream",
     "text": [
      "Парсинг описаний:  99%|█████████▊| 5431/5500 [3:52:17<13:46, 11.98s/it]"
     ]
    },
    {
     "name": "stdout",
     "output_type": "stream",
     "text": [
      "⚠ Ошибка при загрузке https://kinogo.org/12678-neuderzhimyj.html: Message: Can not connect to the Service /usr/bin/chromedriver\n",
      "\n"
     ]
    },
    {
     "name": "stderr",
     "output_type": "stream",
     "text": [
      "Парсинг описаний:  99%|█████████▉| 5432/5500 [3:52:20<10:21,  9.14s/it]"
     ]
    },
    {
     "name": "stdout",
     "output_type": "stream",
     "text": [
      "⚠ Ошибка при загрузке https://kinogo.org/12492-bez-grazhdanstva.html: Message: Can not connect to the Service /usr/bin/chromedriver\n",
      "\n"
     ]
    },
    {
     "name": "stderr",
     "output_type": "stream",
     "text": [
      "Парсинг описаний:  99%|█████████▉| 5433/5500 [3:52:22<07:50,  7.03s/it]"
     ]
    },
    {
     "name": "stdout",
     "output_type": "stream",
     "text": [
      "⚠ Ошибка при загрузке https://kinogo.org/99062-dorogoj-princ.html: Message: Can not connect to the Service /usr/bin/chromedriver\n",
      "\n"
     ]
    },
    {
     "name": "stderr",
     "output_type": "stream",
     "text": [
      "Парсинг описаний:  99%|█████████▉| 5434/5500 [3:52:24<06:03,  5.50s/it]"
     ]
    },
    {
     "name": "stdout",
     "output_type": "stream",
     "text": [
      "⚠ Ошибка при загрузке https://kinogo.org/94599-zhizn-polna-sjurprizov.html: Message: Can not connect to the Service /usr/bin/chromedriver\n",
      "\n"
     ]
    },
    {
     "name": "stderr",
     "output_type": "stream",
     "text": [
      "Парсинг описаний:  99%|█████████▉| 5435/5500 [3:52:26<04:50,  4.48s/it]"
     ]
    },
    {
     "name": "stdout",
     "output_type": "stream",
     "text": [
      "⚠ Ошибка при загрузке https://kinogo.org/23340-starshij-syn.html: Message: Can not connect to the Service /usr/bin/chromedriver\n",
      "\n",
      "⚠ Ошибка при загрузке https://kinogo.org/36532-horoshie-novozdi.html: Message: Can not connect to the Service /usr/bin/chromedriver\n",
      "\n"
     ]
    },
    {
     "name": "stderr",
     "output_type": "stream",
     "text": [
      "Парсинг описаний:  99%|█████████▉| 5437/5500 [3:52:56<09:17,  8.85s/it]"
     ]
    },
    {
     "name": "stdout",
     "output_type": "stream",
     "text": [
      "⚠ Ошибка при загрузке https://kinogo.org/97692-jachejka-gordinyh.html: Message: Can not connect to the Service /usr/bin/chromedriver\n",
      "\n",
      "⚠ Ошибка при загрузке https://kinogo.org/101945-skazanie-o-junosti.html: Message: Can not connect to the Service /usr/bin/chromedriver\n",
      "\n"
     ]
    },
    {
     "name": "stderr",
     "output_type": "stream",
     "text": [
      "Парсинг описаний:  99%|█████████▉| 5439/5500 [3:53:00<05:25,  5.33s/it]"
     ]
    },
    {
     "name": "stdout",
     "output_type": "stream",
     "text": [
      "⚠ Ошибка при загрузке https://kinogo.org/12688-pujerta-7.html: Message: Can not connect to the Service /usr/bin/chromedriver\n",
      "\n"
     ]
    },
    {
     "name": "stderr",
     "output_type": "stream",
     "text": [
      "Парсинг описаний:  99%|█████████▉| 5440/5500 [3:53:02<04:20,  4.34s/it]"
     ]
    },
    {
     "name": "stdout",
     "output_type": "stream",
     "text": [
      "⚠ Ошибка при загрузке https://kinogo.org/12690-spektros.html: Message: Can not connect to the Service /usr/bin/chromedriver\n",
      "\n"
     ]
    },
    {
     "name": "stderr",
     "output_type": "stream",
     "text": [
      "Парсинг описаний:  99%|█████████▉| 5441/5500 [3:53:31<11:16, 11.47s/it]"
     ]
    },
    {
     "name": "stdout",
     "output_type": "stream",
     "text": [
      "⚠ Ошибка при загрузке https://kinogo.org/99062-dorogoj-princ.html: Message: Can not connect to the Service /usr/bin/chromedriver\n",
      "\n",
      "⚠ Ошибка при загрузке https://kinogo.org/12678-neuderzhimyj.html: Message: Can not connect to the Service /usr/bin/chromedriver\n",
      "\n"
     ]
    },
    {
     "name": "stderr",
     "output_type": "stream",
     "text": [
      "Парсинг описаний:  99%|█████████▉| 5442/5500 [3:53:33<08:32,  8.83s/it]"
     ]
    },
    {
     "name": "stdout",
     "output_type": "stream",
     "text": [
      "⚠ Ошибка при загрузке https://kinogo.org/101425-ja-tebja-ljublju-no-u-menja-est-sekret.html: Message: Can not connect to the Service /usr/bin/chromedriver\n",
      "\n"
     ]
    },
    {
     "name": "stderr",
     "output_type": "stream",
     "text": [
      "Парсинг описаний:  99%|█████████▉| 5443/5500 [3:53:35<06:27,  6.80s/it]"
     ]
    },
    {
     "name": "stdout",
     "output_type": "stream",
     "text": [
      "⚠ Ошибка при загрузке https://kinogo.org/101937-nikakih-sekretov.html: Message: Can not connect to the Service /usr/bin/chromedriver\n",
      "\n"
     ]
    },
    {
     "name": "stderr",
     "output_type": "stream",
     "text": [
      "Парсинг описаний:  99%|█████████▉| 5445/5500 [3:53:39<03:50,  4.20s/it]"
     ]
    },
    {
     "name": "stdout",
     "output_type": "stream",
     "text": [
      "⚠ Ошибка при загрузке https://kinogo.org/101938-nekontroliruemaja-ljubov.html: Message: Can not connect to the Service /usr/bin/chromedriver\n",
      "\n"
     ]
    },
    {
     "name": "stderr",
     "output_type": "stream",
     "text": [
      "Парсинг описаний:  99%|█████████▉| 5446/5500 [3:54:06<09:52, 10.97s/it]"
     ]
    },
    {
     "name": "stdout",
     "output_type": "stream",
     "text": [
      "⚠ Ошибка при загрузке https://kinogo.org/12098-iffet.html: Message: Can not connect to the Service /usr/bin/chromedriver\n",
      "\n"
     ]
    },
    {
     "name": "stderr",
     "output_type": "stream",
     "text": [
      "Парсинг описаний:  99%|█████████▉| 5447/5500 [3:54:08<07:27,  8.44s/it]"
     ]
    },
    {
     "name": "stdout",
     "output_type": "stream",
     "text": [
      "⚠ Ошибка при загрузке https://kinogo.org/94552-gosudarstvennaja-granica-film-2-mirnoe-leto-21-go-goda.html: Message: Can not connect to the Service /usr/bin/chromedriver\n",
      "\n"
     ]
    },
    {
     "name": "stderr",
     "output_type": "stream",
     "text": [
      "Парсинг описаний:  99%|█████████▉| 5448/5500 [3:54:10<05:37,  6.49s/it]"
     ]
    },
    {
     "name": "stdout",
     "output_type": "stream",
     "text": [
      "⚠ Ошибка при загрузке https://kinogo.org/94550-gosudarstvennaja-granica-film-5-god-sorok-pervyj.html: Message: Can not connect to the Service /usr/bin/chromedriver\n",
      "\n"
     ]
    },
    {
     "name": "stderr",
     "output_type": "stream",
     "text": [
      "Парсинг описаний:  99%|█████████▉| 5449/5500 [3:54:12<04:24,  5.19s/it]"
     ]
    },
    {
     "name": "stdout",
     "output_type": "stream",
     "text": [
      "⚠ Ошибка при загрузке https://kinogo.org/46921-gosudarstvennaja-granica-film-3-vostochnyj-rubezh.html: Message: Can not connect to the Service /usr/bin/chromedriver\n",
      "\n",
      "⚠ Ошибка при загрузке https://kinogo.org/101354-potomu-chto-ja-ljublju-tebja.html: Message: Can not connect to the Service /usr/bin/chromedriver\n",
      "\n"
     ]
    },
    {
     "name": "stderr",
     "output_type": "stream",
     "text": [
      "Парсинг описаний:  99%|█████████▉| 5451/5500 [3:54:39<08:35, 10.51s/it]"
     ]
    },
    {
     "name": "stdout",
     "output_type": "stream",
     "text": [
      "⚠ Ошибка при загрузке https://kinogo.org/94549-gosudarstvennaja-granica-film-6-za-porogom-pobedy.html: Message: Can not connect to the Service /usr/bin/chromedriver\n",
      "\n"
     ]
    },
    {
     "name": "stderr",
     "output_type": "stream",
     "text": [
      "Парсинг описаний:  99%|█████████▉| 5452/5500 [3:54:42<06:31,  8.16s/it]"
     ]
    },
    {
     "name": "stdout",
     "output_type": "stream",
     "text": [
      "⚠ Ошибка при загрузке https://kinogo.org/94553-gosudarstvennaja-granica-my-nash-my-novyj.html: Message: Can not connect to the Service /usr/bin/chromedriver\n",
      "\n"
     ]
    },
    {
     "name": "stderr",
     "output_type": "stream",
     "text": [
      "Парсинг описаний:  99%|█████████▉| 5453/5500 [3:54:44<04:57,  6.34s/it]"
     ]
    },
    {
     "name": "stdout",
     "output_type": "stream",
     "text": [
      "⚠ Ошибка при загрузке https://kinogo.org/94566-mariana-i-skarlett.html: Message: Can not connect to the Service /usr/bin/chromedriver\n",
      "\n"
     ]
    },
    {
     "name": "stderr",
     "output_type": "stream",
     "text": [
      "Парсинг описаний:  99%|█████████▉| 5454/5500 [3:54:46<03:52,  5.06s/it]"
     ]
    },
    {
     "name": "stdout",
     "output_type": "stream",
     "text": [
      "⚠ Ошибка при загрузке https://kinogo.org/94547-gosudarstvennaja-granica-film-8-na-dalnem-pograniche.html: Message: Can not connect to the Service /usr/bin/chromedriver\n",
      "\n",
      "⚠ Ошибка при загрузке https://kinogo.org/101354-potomu-chto-ja-ljublju-tebja.html: Message: Can not connect to the Service /usr/bin/chromedriver\n",
      "\n"
     ]
    },
    {
     "name": "stderr",
     "output_type": "stream",
     "text": [
      "Парсинг описаний:  99%|█████████▉| 5456/5500 [3:55:15<08:01, 10.95s/it]"
     ]
    },
    {
     "name": "stdout",
     "output_type": "stream",
     "text": [
      "⚠ Ошибка при загрузке https://kinogo.org/101878-nezavisimaja-chzhiyn.html: Message: Can not connect to the Service /usr/bin/chromedriver\n",
      "\n"
     ]
    },
    {
     "name": "stderr",
     "output_type": "stream",
     "text": [
      "Парсинг описаний:  99%|█████████▉| 5457/5500 [3:55:17<06:03,  8.46s/it]"
     ]
    },
    {
     "name": "stdout",
     "output_type": "stream",
     "text": [
      "⚠ Ошибка при загрузке https://kinogo.org/94533-hammer-sessija.html: Message: Can not connect to the Service /usr/bin/chromedriver\n",
      "\n"
     ]
    },
    {
     "name": "stderr",
     "output_type": "stream",
     "text": [
      "Парсинг описаний:  99%|█████████▉| 5458/5500 [3:55:19<04:34,  6.53s/it]"
     ]
    },
    {
     "name": "stdout",
     "output_type": "stream",
     "text": [
      "⚠ Ошибка при загрузке https://kinogo.org/94560-izumrudnoe-ozherele.html: Message: Can not connect to the Service /usr/bin/chromedriver\n",
      "\n"
     ]
    },
    {
     "name": "stderr",
     "output_type": "stream",
     "text": [
      "Парсинг описаний:  99%|█████████▉| 5459/5500 [3:55:22<03:38,  5.33s/it]"
     ]
    },
    {
     "name": "stdout",
     "output_type": "stream",
     "text": [
      "⚠ Ошибка при загрузке https://kinogo.org/94556-shejh.html: Message: Can not connect to the Service /usr/bin/chromedriver\n",
      "\n"
     ]
    },
    {
     "name": "stderr",
     "output_type": "stream",
     "text": [
      "Парсинг описаний:  99%|█████████▉| 5460/5500 [3:55:23<02:47,  4.18s/it]"
     ]
    },
    {
     "name": "stdout",
     "output_type": "stream",
     "text": [
      "⚠ Ошибка при загрузке https://kinogo.org/11466-soglasie.html: Message: Can not connect to the Service /usr/bin/chromedriver\n",
      "\n",
      "⚠ Ошибка при загрузке https://kinogo.org/10984-rusalki.html: Message: Can not connect to the Service /usr/bin/chromedriver\n",
      "\n"
     ]
    },
    {
     "name": "stderr",
     "output_type": "stream",
     "text": [
      "Парсинг описаний:  99%|█████████▉| 5462/5500 [3:56:02<06:33, 10.34s/it]"
     ]
    },
    {
     "name": "stdout",
     "output_type": "stream",
     "text": [
      "⚠ Ошибка при загрузке https://kinogo.org/46921-gosudarstvennaja-granica-film-3-vostochnyj-rubezh.html: Message: Can not connect to the Service /usr/bin/chromedriver\n",
      "\n",
      "⚠ Ошибка при загрузке https://kinogo.org/11068-pravilo-igry.html: Message: Can not connect to the Service /usr/bin/chromedriver\n",
      "\n"
     ]
    },
    {
     "name": "stderr",
     "output_type": "stream",
     "text": [
      "Парсинг описаний:  99%|█████████▉| 5464/5500 [3:56:07<03:44,  6.24s/it]"
     ]
    },
    {
     "name": "stdout",
     "output_type": "stream",
     "text": [
      "⚠ Ошибка при загрузке https://kinogo.org/11466-soglasie.html: Message: Can not connect to the Service /usr/bin/chromedriver\n",
      "\n"
     ]
    },
    {
     "name": "stderr",
     "output_type": "stream",
     "text": [
      "Парсинг описаний:  99%|█████████▉| 5465/5500 [3:56:08<02:48,  4.80s/it]"
     ]
    },
    {
     "name": "stdout",
     "output_type": "stream",
     "text": [
      "⚠ Ошибка при загрузке https://kinogo.org/101851-tancy-v-stile-sljem.html: Message: Can not connect to the Service /usr/bin/chromedriver\n",
      "\n"
     ]
    },
    {
     "name": "stderr",
     "output_type": "stream",
     "text": [
      "Парсинг описаний:  99%|█████████▉| 5466/5500 [3:56:34<06:15, 11.03s/it]"
     ]
    },
    {
     "name": "stdout",
     "output_type": "stream",
     "text": [
      "⚠ Ошибка при загрузке https://kinogo.org/11661-koroleva-sono.html: Message: Can not connect to the Service /usr/bin/chromedriver\n",
      "\n"
     ]
    },
    {
     "name": "stderr",
     "output_type": "stream",
     "text": [
      "Парсинг описаний:  99%|█████████▉| 5467/5500 [3:56:36<04:36,  8.39s/it]"
     ]
    },
    {
     "name": "stdout",
     "output_type": "stream",
     "text": [
      "⚠ Ошибка при загрузке https://kinogo.org/101354-potomu-chto-ja-ljublju-tebja.html: Message: Can not connect to the Service /usr/bin/chromedriver\n",
      "\n"
     ]
    },
    {
     "name": "stderr",
     "output_type": "stream",
     "text": [
      "Парсинг описаний:  99%|█████████▉| 5468/5500 [3:56:38<03:27,  6.48s/it]"
     ]
    },
    {
     "name": "stdout",
     "output_type": "stream",
     "text": [
      "⚠ Ошибка при загрузке https://kinogo.org/94549-gosudarstvennaja-granica-film-6-za-porogom-pobedy.html: Message: Can not connect to the Service /usr/bin/chromedriver\n",
      "\n"
     ]
    },
    {
     "name": "stderr",
     "output_type": "stream",
     "text": [
      "Парсинг описаний:  99%|█████████▉| 5469/5500 [3:56:40<02:42,  5.26s/it]"
     ]
    },
    {
     "name": "stdout",
     "output_type": "stream",
     "text": [
      "⚠ Ошибка при загрузке https://kinogo.org/101611-arkan-dlja-lebedja.html: Message: Can not connect to the Service /usr/bin/chromedriver\n",
      "\n",
      "⚠ Ошибка при загрузке https://kinogo.org/101458-jej-uchitel-vy-razve-ne-znaete.html: Message: Can not connect to the Service /usr/bin/chromedriver\n",
      "\n"
     ]
    },
    {
     "name": "stderr",
     "output_type": "stream",
     "text": [
      "Парсинг описаний:  99%|█████████▉| 5471/5500 [3:57:09<05:21, 11.10s/it]"
     ]
    },
    {
     "name": "stdout",
     "output_type": "stream",
     "text": [
      "⚠ Ошибка при загрузке https://kinogo.org/101458-jej-uchitel-vy-razve-ne-znaete.html: Message: Can not connect to the Service /usr/bin/chromedriver\n",
      "\n",
      "⚠ Ошибка при загрузке https://kinogo.org/101788-v-jablochko.html: Message: Can not connect to the Service /usr/bin/chromedriver\n",
      "\n"
     ]
    },
    {
     "name": "stderr",
     "output_type": "stream",
     "text": [
      "Парсинг описаний:  99%|█████████▉| 5472/5500 [3:57:12<03:58,  8.52s/it]"
     ]
    },
    {
     "name": "stdout",
     "output_type": "stream",
     "text": [
      "⚠ Ошибка при загрузке https://kinogo.org/94531-cyganskaja-ljubov.html: Message: Can not connect to the Service /usr/bin/chromedriver\n",
      "\n"
     ]
    },
    {
     "name": "stderr",
     "output_type": "stream",
     "text": [
      "Парсинг описаний: 100%|█████████▉| 5474/5500 [3:57:16<02:19,  5.36s/it]"
     ]
    },
    {
     "name": "stdout",
     "output_type": "stream",
     "text": [
      "⚠ Ошибка при загрузке https://kinogo.org/8637-beglecy.html: Message: Can not connect to the Service /usr/bin/chromedriver\n",
      "\n"
     ]
    },
    {
     "name": "stderr",
     "output_type": "stream",
     "text": [
      "Парсинг описаний: 100%|█████████▉| 5475/5500 [3:57:18<01:45,  4.21s/it]"
     ]
    },
    {
     "name": "stdout",
     "output_type": "stream",
     "text": [
      "⚠ Ошибка при загрузке https://kinogo.org/9481-jeta-zhenschina.html: Message: Can not connect to the Service /usr/bin/chromedriver\n",
      "\n",
      "⚠ Ошибка при загрузке https://kinogo.org/101170-obeschanie-v-tysjachu-dnej.html: Message: Can not connect to the Service /usr/bin/chromedriver\n",
      "\n"
     ]
    },
    {
     "name": "stderr",
     "output_type": "stream",
     "text": [
      "Парсинг описаний: 100%|█████████▉| 5476/5500 [3:57:46<04:34, 11.44s/it]"
     ]
    },
    {
     "name": "stdout",
     "output_type": "stream",
     "text": [
      "⚠ Ошибка при загрузке https://kinogo.org/101810-zheleznaja-ledi.html: Message: Can not connect to the Service /usr/bin/chromedriver\n",
      "\n"
     ]
    },
    {
     "name": "stderr",
     "output_type": "stream",
     "text": [
      "Парсинг описаний: 100%|█████████▉| 5477/5500 [3:57:49<03:23,  8.85s/it]"
     ]
    },
    {
     "name": "stdout",
     "output_type": "stream",
     "text": [
      "⚠ Ошибка при загрузке https://kinogo.org/101786-doktor-chempionov.html: Message: Can not connect to the Service /usr/bin/chromedriver\n",
      "\n"
     ]
    },
    {
     "name": "stderr",
     "output_type": "stream",
     "text": [
      "Парсинг описаний: 100%|█████████▉| 5479/5500 [3:57:53<01:53,  5.39s/it]"
     ]
    },
    {
     "name": "stdout",
     "output_type": "stream",
     "text": [
      "⚠ Ошибка при загрузке https://kinogo.org/11688-golubka.html: Message: Can not connect to the Service /usr/bin/chromedriver\n",
      "\n"
     ]
    },
    {
     "name": "stderr",
     "output_type": "stream",
     "text": [
      "Парсинг описаний: 100%|█████████▉| 5480/5500 [3:57:55<01:25,  4.25s/it]"
     ]
    },
    {
     "name": "stdout",
     "output_type": "stream",
     "text": [
      "⚠ Ошибка при загрузке https://kinogo.org/11758-poslednij-polet.html: Message: Can not connect to the Service /usr/bin/chromedriver\n",
      "\n"
     ]
    },
    {
     "name": "stderr",
     "output_type": "stream",
     "text": [
      "Парсинг описаний: 100%|█████████▉| 5481/5500 [3:58:29<04:09, 13.13s/it]"
     ]
    },
    {
     "name": "stdout",
     "output_type": "stream",
     "text": [
      "⚠ Ошибка при загрузке https://kinogo.org/11217-mezhdu.html: Message: Can not connect to the Service /usr/bin/chromedriver\n",
      "\n"
     ]
    },
    {
     "name": "stderr",
     "output_type": "stream",
     "text": [
      "Парсинг описаний: 100%|█████████▉| 5482/5500 [3:58:31<02:58,  9.90s/it]"
     ]
    },
    {
     "name": "stdout",
     "output_type": "stream",
     "text": [
      "⚠ Ошибка при загрузке https://kinogo.org/101170-obeschanie-v-tysjachu-dnej.html: Message: Can not connect to the Service /usr/bin/chromedriver\n",
      "\n"
     ]
    },
    {
     "name": "stderr",
     "output_type": "stream",
     "text": [
      "Парсинг описаний: 100%|█████████▉| 5483/5500 [3:58:33<02:08,  7.57s/it]"
     ]
    },
    {
     "name": "stdout",
     "output_type": "stream",
     "text": [
      "⚠ Ошибка при загрузке https://kinogo.org/101611-arkan-dlja-lebedja.html: Message: Can not connect to the Service /usr/bin/chromedriver\n",
      "\n"
     ]
    },
    {
     "name": "stderr",
     "output_type": "stream",
     "text": [
      "Парсинг описаний: 100%|█████████▉| 5484/5500 [3:58:35<01:34,  5.92s/it]"
     ]
    },
    {
     "name": "stdout",
     "output_type": "stream",
     "text": [
      "⚠ Ошибка при загрузке https://kinogo.org/11688-golubka.html: Message: Can not connect to the Service /usr/bin/chromedriver\n",
      "\n"
     ]
    },
    {
     "name": "stderr",
     "output_type": "stream",
     "text": [
      "Парсинг описаний: 100%|█████████▉| 5485/5500 [3:58:37<01:09,  4.62s/it]"
     ]
    },
    {
     "name": "stdout",
     "output_type": "stream",
     "text": [
      "⚠ Ошибка при загрузке https://kinogo.org/11758-poslednij-polet.html: Message: Can not connect to the Service /usr/bin/chromedriver\n",
      "\n"
     ]
    },
    {
     "name": "stderr",
     "output_type": "stream",
     "text": [
      "Парсинг описаний: 100%|█████████▉| 5486/5500 [3:59:08<02:56, 12.64s/it]"
     ]
    },
    {
     "name": "stdout",
     "output_type": "stream",
     "text": [
      "⚠ Ошибка при загрузке https://kinogo.org/11768-barrakuda.html: Message: Can not connect to the Service /usr/bin/chromedriver\n",
      "\n",
      "⚠ Ошибка при загрузке https://kinogo.org/101710-jeto-dengi.html: Message: Can not connect to the Service /usr/bin/chromedriver\n",
      "\n"
     ]
    },
    {
     "name": "stderr",
     "output_type": "stream",
     "text": [
      "Парсинг описаний: 100%|█████████▉| 5487/5500 [3:59:10<02:01,  9.37s/it]"
     ]
    },
    {
     "name": "stdout",
     "output_type": "stream",
     "text": [
      "⚠ Ошибка при загрузке https://kinogo.org/101740-ljubov-frankenshtejna.html: Message: Can not connect to the Service /usr/bin/chromedriver\n",
      "\n"
     ]
    },
    {
     "name": "stderr",
     "output_type": "stream",
     "text": [
      "Парсинг описаний: 100%|█████████▉| 5489/5500 [3:59:14<01:02,  5.64s/it]"
     ]
    },
    {
     "name": "stdout",
     "output_type": "stream",
     "text": [
      "⚠ Ошибка при загрузке https://kinogo.org/101732-35-letnjaja-shkolnica.html: Message: Can not connect to the Service /usr/bin/chromedriver\n",
      "\n"
     ]
    },
    {
     "name": "stderr",
     "output_type": "stream",
     "text": [
      "Парсинг описаний: 100%|█████████▉| 5490/5500 [3:59:16<00:44,  4.42s/it]"
     ]
    },
    {
     "name": "stdout",
     "output_type": "stream",
     "text": [
      "⚠ Ошибка при загрузке https://kinogo.org/101745-lozh-ljubvi.html: Message: Can not connect to the Service /usr/bin/chromedriver\n",
      "\n"
     ]
    },
    {
     "name": "stderr",
     "output_type": "stream",
     "text": [
      "Парсинг описаний: 100%|█████████▉| 5492/5500 [4:00:52<02:59, 22.42s/it]"
     ]
    },
    {
     "name": "stdout",
     "output_type": "stream",
     "text": [
      "⚠ Ошибка при загрузке https://kinogo.org/101740-ljubov-frankenshtejna.html: Message: session not created: DevToolsActivePort file doesn't exist; For documentation on this error, please visit: https://www.selenium.dev/documentation/webdriver/troubleshooting/errors#sessionnotcreatedexception\n",
      "Stacktrace:\n",
      "#0 0x5dedbdae796a <unknown>\n",
      "#1 0x5dedbd57de60 <unknown>\n",
      "#2 0x5dedbd5bc4e8 <unknown>\n",
      "#3 0x5dedbd5b7dc5 <unknown>\n",
      "#4 0x5dedbd5b3d0f <unknown>\n",
      "#5 0x5dedbd6026e1 <unknown>\n",
      "#6 0x5dedbd601e06 <unknown>\n",
      "#7 0x5dedbd5f3f03 <unknown>\n",
      "#8 0x5dedbd5c0a5a <unknown>\n",
      "#9 0x5dedbd5c16d1 <unknown>\n",
      "#10 0x5dedbdaaceff <unknown>\n",
      "#11 0x5dedbdab0f08 <unknown>\n",
      "#12 0x5dedbda93ddc <unknown>\n",
      "#13 0x5dedbdab16ae <unknown>\n",
      "#14 0x5dedbda7b29e <unknown>\n",
      "#15 0x5dedbdad5238 <unknown>\n",
      "#16 0x5dedbdad5448 <unknown>\n",
      "#17 0x5dedbdae656c <unknown>\n",
      "#18 0x794a03894ac3 <unknown>\n",
      "⚠ Ошибка при загрузке https://kinogo.org/101690-pokinutyj-raj.html: Message: session not created: DevToolsActivePort file doesn't exist; For documentation on this error, please visit: https://www.selenium.dev/documentation/webdriver/troubleshooting/errors#sessionnotcreatedexception\n",
      "Stacktrace:\n",
      "#0 0x61cf541de96a <unknown>\n",
      "#1 0x61cf53c74e60 <unknown>\n",
      "#2 0x61cf53cb34e8 <unknown>\n",
      "#3 0x61cf53caedc5 <unknown>\n",
      "#4 0x61cf53caad0f <unknown>\n",
      "#5 0x61cf53cf96e1 <unknown>\n",
      "#6 0x61cf53cf8e06 <unknown>\n",
      "#7 0x61cf53ceaf03 <unknown>\n",
      "#8 0x61cf53cb7a5a <unknown>\n",
      "#9 0x61cf53cb86d1 <unknown>\n",
      "#10 0x61cf541a3eff <unknown>\n",
      "#11 0x61cf541a7f08 <unknown>\n",
      "#12 0x61cf5418addc <unknown>\n",
      "#13 0x61cf541a86ae <unknown>\n",
      "#14 0x61cf5417229e <unknown>\n",
      "#15 0x61cf541cc238 <unknown>\n",
      "#16 0x61cf541cc448 <unknown>\n",
      "#17 0x61cf541dd56c <unknown>\n",
      "#18 0x7220c3494ac3 <unknown>\n",
      "\n",
      "\n",
      "⚠ Ошибка при загрузке https://kinogo.org/94516-stakan-vody.html: Message: session not created: DevToolsActivePort file doesn't exist; For documentation on this error, please visit: https://www.selenium.dev/documentation/webdriver/troubleshooting/errors#sessionnotcreatedexception\n",
      "Stacktrace:\n",
      "#0 0x556bed1e796a <unknown>\n",
      "#1 0x556becc7de60 <unknown>\n",
      "#2 0x556beccbc4e8 <unknown>\n",
      "#3 0x556beccb7dc5 <unknown>\n",
      "#4 0x556beccb3d0f <unknown>\n",
      "#5 0x556becd026e1 <unknown>\n",
      "#6 0x556becd01e06 <unknown>\n",
      "#7 0x556beccf3f03 <unknown>\n",
      "#8 0x556beccc0a5a <unknown>\n",
      "#9 0x556beccc16d1 <unknown>\n",
      "#10 0x556bed1aceff <unknown>\n",
      "#11 0x556bed1b0f08 <unknown>\n",
      "#12 0x556bed193ddc <unknown>\n",
      "#13 0x556bed1b16ae <unknown>\n",
      "#14 0x556bed17b29e <unknown>\n",
      "#15 0x556bed1d5238 <unknown>\n",
      "#16 0x556bed1d5448 <unknown>\n",
      "#17 0x556bed1e656c <unknown>\n",
      "#18 0x7a7b83694ac3 <unknown>\n",
      "\n",
      "⚠ Ошибка при загрузке https://kinogo.org/101738-volshebnaja-shkola.html: Message: session not created: DevToolsActivePort file doesn't exist; For documentation on this error, please visit: https://www.selenium.dev/documentation/webdriver/troubleshooting/errors#sessionnotcreatedexception\n",
      "Stacktrace:\n",
      "#0 0x567ad4afc96a <unknown>\n",
      "#1 0x567ad4592e60 <unknown>\n",
      "#2 0x567ad45d14e8 <unknown>\n",
      "#3 0x567ad45ccdc5 <unknown>\n",
      "#4 0x567ad45c8d0f <unknown>\n",
      "#5 0x567ad46176e1 <unknown>\n",
      "#6 0x567ad4616e06 <unknown>\n",
      "#7 0x567ad4608f03 <unknown>\n",
      "#8 0x567ad45d5a5a <unknown>\n",
      "#9 0x567ad45d66d1 <unknown>\n",
      "#10 0x567ad4ac1eff <unknown>\n",
      "#11 0x567ad4ac5f08 <unknown>\n",
      "#12 0x567ad4aa8ddc <unknown>\n",
      "#13 0x567ad4ac66ae <unknown>\n",
      "#14 0x567ad4a9029e <unknown>\n",
      "#15 0x567ad4aea238 <unknown>\n",
      "#16 0x567ad4aea448 <unknown>\n",
      "#17 0x567ad4afb56c <unknown>\n",
      "#18 0x7ece96694ac3 <unknown>\n",
      "\n"
     ]
    },
    {
     "name": "stderr",
     "output_type": "stream",
     "text": [
      "Парсинг описаний: 100%|█████████▉| 5495/5500 [4:00:53<00:49,  9.98s/it]"
     ]
    },
    {
     "name": "stdout",
     "output_type": "stream",
     "text": [
      "⚠ Ошибка при загрузке https://kinogo.org/101752-zhenschina-s-chemodanom.html: Message: session not created: DevToolsActivePort file doesn't exist; For documentation on this error, please visit: https://www.selenium.dev/documentation/webdriver/troubleshooting/errors#sessionnotcreatedexception\n",
      "Stacktrace:\n",
      "#0 0x62eb6cd1c96a <unknown>\n",
      "#1 0x62eb6c7b2e60 <unknown>\n",
      "#2 0x62eb6c7f14e8 <unknown>\n",
      "#3 0x62eb6c7ecdc5 <unknown>\n",
      "#4 0x62eb6c7e8d0f <unknown>\n",
      "#5 0x62eb6c8376e1 <unknown>\n",
      "#6 0x62eb6c836e06 <unknown>\n",
      "#7 0x62eb6c828f03 <unknown>\n",
      "#8 0x62eb6c7f5a5a <unknown>\n",
      "#9 0x62eb6c7f66d1 <unknown>\n",
      "#10 0x62eb6cce1eff <unknown>\n",
      "#11 0x62eb6cce5f08 <unknown>\n",
      "#12 0x62eb6ccc8ddc <unknown>\n",
      "#13 0x62eb6cce66ae <unknown>\n",
      "#14 0x62eb6ccb029e <unknown>\n",
      "#15 0x62eb6cd0a238 <unknown>\n",
      "#16 0x62eb6cd0a448 <unknown>\n",
      "#17 0x62eb6cd1b56c <unknown>\n",
      "#18 0x7a4aade94ac3 <unknown>\n",
      "\n"
     ]
    },
    {
     "name": "stderr",
     "output_type": "stream",
     "text": [
      "Парсинг описаний: 100%|█████████▉| 5496/5500 [4:01:26<00:59, 14.89s/it]"
     ]
    },
    {
     "name": "stdout",
     "output_type": "stream",
     "text": [
      "⚠ Ошибка при загрузке https://kinogo.org/101766-solnechnyj-sezon.html: Message: Can not connect to the Service /usr/bin/chromedriver\n",
      "⚠ Ошибка при загрузке https://kinogo.org/101689-kim-su-ro.html: Message: Can not connect to the Service /usr/bin/chromedriver\n",
      "⚠ Ошибка при загрузке https://kinogo.org/98784-luchshaja-oshibka.html: Message: Can not connect to the Service /usr/bin/chromedriver\n",
      "\n",
      "⚠ Ошибка при загрузке https://kinogo.org/101730-hudozhnik-dush.html: Message: Can not connect to the Service /usr/bin/chromedriver\n",
      "\n",
      "\n",
      "\n"
     ]
    },
    {
     "name": "stderr",
     "output_type": "stream",
     "text": [
      "Парсинг описаний: 100%|██████████| 5500/5500 [4:01:27<00:00,  2.63s/it]"
     ]
    },
    {
     "name": "stdout",
     "output_type": "stream",
     "text": [
      "⚠ Ошибка при загрузке https://kinogo.org/101719-mertvye-dengi.html: Message: Can not connect to the Service /usr/bin/chromedriver\n",
      "\n"
     ]
    },
    {
     "name": "stderr",
     "output_type": "stream",
     "text": [
      "\n"
     ]
    },
    {
     "name": "stdout",
     "output_type": "stream",
     "text": [
      "🎬 Парсинг завершён. Данные сохранены в movies_dataset_full_5500.csv и movies_dataset_full_5500.json\n",
      "Количество фильмов в базе: 5500\n"
     ]
    }
   ],
   "source": [
    "import time\n",
    "import pandas as pd\n",
    "from bs4 import BeautifulSoup\n",
    "from selenium import webdriver\n",
    "from selenium.webdriver.chrome.service import Service\n",
    "from selenium.webdriver.chrome.options import Options\n",
    "from selenium.webdriver.common.by import By\n",
    "from selenium.webdriver.support.ui import WebDriverWait\n",
    "from selenium.webdriver.support import expected_conditions as EC\n",
    "from concurrent.futures import ThreadPoolExecutor, as_completed\n",
    "import json\n",
    "from tqdm import tqdm  # добавляем tqdm для прогресс-бара\n",
    "\n",
    "# --- Настройки Selenium ---\n",
    "def get_browser():\n",
    "    chrome_options = Options()\n",
    "    chrome_options.add_argument(\"--headless=new\")\n",
    "    chrome_options.add_argument(\"--disable-blink-features=AutomationControlled\")\n",
    "    service = Service(executable_path=\"/usr/bin/chromedriver\")\n",
    "    browser = webdriver.Chrome(service=service, options=chrome_options)\n",
    "    browser.execute_cdp_cmd('Network.setUserAgentOverride', {\n",
    "        \"userAgent\": \"Mozilla/5.0 (X11; Linux x86_64) AppleWebKit/537.36 (KHTML, like Gecko) Chrome/136.0.0.0 YaBrowser/25.6.0.0 Safari/537.36\"\n",
    "    })\n",
    "    return browser\n",
    "\n",
    "browser = get_browser()\n",
    "\n",
    "# --- Основные настройки ---\n",
    "url_main = 'https://kinogo.org/serials/'\n",
    "page_min, page_max = 1, 550\n",
    "my_range = range(page_min, page_max+1)\n",
    "save_every = 5   # сохранять каждые N страниц\n",
    "restart_every = 50  # перезапуск браузера каждые N страниц\n",
    "\n",
    "final_dict = {k: [] for k in [\n",
    "    'title','out_year','genres','country','duration','description',\n",
    "    'url_movie','image_movie','rating_votes','film_rating_kp','film_rating_imdb'\n",
    "]}\n",
    "\n",
    "short_descriptions = []  # для подстраховки, если нет полного описания\n",
    "skipped_pages = []       # список пропущенных страниц\n",
    "\n",
    "# --- Парсим список страниц ---\n",
    "for page in my_range:\n",
    "    start_time = time.time()\n",
    "    url = f\"{url_main}page/{page}/\"\n",
    "    print(f\"🔎 Загружаем страницу {page}: {url}\")\n",
    "\n",
    "    try:\n",
    "        # перезапуск браузера каждые restart_every страниц\n",
    "        if page % restart_every == 0 and page != page_min:\n",
    "            browser.quit()\n",
    "            browser = get_browser()\n",
    "            print(f\"♻ Перезапущен браузер на странице {page}\")\n",
    "\n",
    "        browser.set_page_load_timeout(30)\n",
    "        browser.get(url)\n",
    "\n",
    "        WebDriverWait(browser, 20).until(\n",
    "            EC.presence_of_all_elements_located((By.CLASS_NAME, \"shortStory\"))\n",
    "        )\n",
    "        soup = BeautifulSoup(browser.page_source, \"lxml\")\n",
    "        blocks = soup.find_all(class_=\"shortStory\")\n",
    "\n",
    "        for block in blocks:\n",
    "            # --- Название ---\n",
    "            title = block.find(\"h2\").get_text(strip=True).split('(')[0].strip() if block.find(\"h2\") else None\n",
    "            # --- Год ---\n",
    "            year_tag = block.find('b', string='Год выпуска:')\n",
    "            year = \", \".join([tag.get_text() for tag in year_tag.find_next_siblings('a')]) if year_tag else None\n",
    "            # --- URL фильма ---\n",
    "            url_movie = block.find(\"a\").get(\"href\") if block.find(\"a\") else None\n",
    "            # --- Постер ---\n",
    "            img_tag = block.find(\"div\", class_=\"sPoster\").find(\"img\").get('data-src') if block.find(\"div\", class_=\"sPoster\") else None\n",
    "            img_url = f'https://kinogo.org{img_tag}' if img_tag else None\n",
    "            # --- Жанры ---\n",
    "            genre_tag = block.find('b', string='Жанр:')\n",
    "            genres = [g.get_text() for g in genre_tag.find_next_siblings('a')] if genre_tag else None\n",
    "            # --- Страна ---\n",
    "            country_tag = block.find('b', string='Страна:')\n",
    "            country = [c.get_text() for c in country_tag.find_next_siblings('a')] if country_tag else None\n",
    "            # --- Продолжительность ---\n",
    "            duration_tag = block.find('b', string='Продолжительность:')\n",
    "            duration = duration_tag.next_sibling.strip() if duration_tag else None\n",
    "            # --- Краткое описание ---\n",
    "            desc_tag = block.find(\"p\", class_=\"excerpt\")\n",
    "            short_desc = desc_tag.get_text(strip=True) if desc_tag else None\n",
    "            # --- Рейтинг сайта ---\n",
    "            rating_tag = block.find(\"span\", class_=\"ratingStats\")\n",
    "            rating = rating_tag.get_text(strip=True).split()[0] if rating_tag else None\n",
    "            # --- Рейтинг Кинопоиск ---\n",
    "            kp_tag = block.find(\"span\", class_=\"fullKP\")\n",
    "            kp = kp_tag.get_text(strip=True).split(':')[1] if kp_tag else None\n",
    "            # --- Рейтинг IMDb ---\n",
    "            imdb_tag = block.find(\"span\", class_=\"fQuality\")\n",
    "            imdb = imdb_tag.get_text(strip=True).split(':')[1] if imdb_tag else None\n",
    "\n",
    "            # --- Записываем ---\n",
    "            final_dict['title'].append(title)\n",
    "            final_dict['out_year'].append(year)\n",
    "            final_dict['url_movie'].append(url_movie)\n",
    "            final_dict['image_movie'].append(img_url)\n",
    "            final_dict['genres'].append(genres)\n",
    "            final_dict['country'].append(country)\n",
    "            final_dict['duration'].append(duration)\n",
    "            final_dict['description'].append(short_desc)  # временно ставим краткое\n",
    "            final_dict['rating_votes'].append(rating)\n",
    "            final_dict['film_rating_kp'].append(kp)\n",
    "            final_dict['film_rating_imdb'].append(imdb)\n",
    "\n",
    "            short_descriptions.append(short_desc)\n",
    "\n",
    "        print(f\"✅ Страница {page} собрана за {time.time()-start_time:.2f} сек\")\n",
    "\n",
    "    except Exception as e:\n",
    "        print(f\"⚠ Пропускаем страницу {page}, ошибка: {e}\")\n",
    "        skipped_pages.append(page)\n",
    "        continue\n",
    "\n",
    "    # --- частое сохранение ---\n",
    "    if page % save_every == 0:\n",
    "        df = pd.DataFrame(final_dict)\n",
    "        df.to_csv('movies_dataset_partial_5500.csv', index=False)\n",
    "        with open('movies_dataset_partial_5500.json', 'w', encoding='utf-8') as f:\n",
    "            json.dump(final_dict, f, ensure_ascii=False, indent=4)\n",
    "        print(f\"💾 Прогресс сохранён после страницы {page}\")\n",
    "\n",
    "# --- Итог по пропущенным страницам ---\n",
    "print(f\"\\n🎬 Парсинг списка завершён. Пропущено страниц: {len(skipped_pages)}\")\n",
    "if skipped_pages:\n",
    "    print(\"Список пропущенных:\", skipped_pages)\n",
    "\n",
    "# --- Функция для скачивания полного описания ---\n",
    "def get_full_description(idx, url, short_desc):\n",
    "    try:\n",
    "        b = get_browser()\n",
    "        b.get(url)\n",
    "        WebDriverWait(b, 10).until(\n",
    "            EC.presence_of_element_located((By.CLASS_NAME, \"filmDescription\"))\n",
    "        )\n",
    "        movie_soup = BeautifulSoup(b.page_source, \"lxml\")\n",
    "        desc_block = movie_soup.find(\"div\", class_=\"filmDescription\")\n",
    "        b.quit()\n",
    "        return idx, desc_block.get_text(strip=True) if desc_block else short_desc\n",
    "    except Exception as e:\n",
    "        print(f\"⚠ Ошибка при загрузке {url}: {e}\")\n",
    "        return idx, short_desc\n",
    "\n",
    "# --- Парсим полные описания в потоках ---\n",
    "print(\"🔎 Загружаем полные описания (многопоточно)...\")\n",
    "full_descriptions = [None] * len(final_dict['url_movie'])\n",
    "skipped_descriptions = []  # список пропущенных фильмов\n",
    "\n",
    "with ThreadPoolExecutor(max_workers=5) as executor:\n",
    "    futures = []\n",
    "    for idx, url in enumerate(final_dict['url_movie']):\n",
    "        short_desc = short_descriptions[idx] if idx < len(short_descriptions) else None\n",
    "        if url:\n",
    "            futures.append(executor.submit(get_full_description, idx, url, short_desc))\n",
    "        else:\n",
    "            full_descriptions[idx] = short_desc\n",
    "\n",
    "    for future in tqdm(as_completed(futures), total=len(futures), desc=\"Парсинг описаний\"):\n",
    "        idx, desc = future.result()\n",
    "        full_descriptions[idx] = desc\n",
    "\n",
    "# --- Заменяем краткие на полные ---\n",
    "final_dict['description'] = full_descriptions\n",
    "\n",
    "# --- Финальное сохранение ---\n",
    "df = pd.DataFrame(final_dict)\n",
    "full_name_csv = 'movies_dataset_full_5500.csv'\n",
    "full_name_json = 'movies_dataset_full_5500.json'\n",
    "df.to_csv(full_name_csv, index=False)\n",
    "with open(full_name_json, 'w', encoding='utf-8') as f:\n",
    "    json.dump(final_dict, f, ensure_ascii=False, indent=4)\n",
    "\n",
    "print(f\"🎬 Парсинг завершён. Данные сохранены в {full_name_csv} и {full_name_json}\")\n",
    "print(f'Количество фильмов в базе: {df.shape[0]}')\n",
    "\n",
    "browser.quit()\n"
   ]
  }
 ],
 "metadata": {
  "kernelspec": {
   "display_name": "parcing",
   "language": "python",
   "name": "python3"
  },
  "language_info": {
   "codemirror_mode": {
    "name": "ipython",
    "version": 3
   },
   "file_extension": ".py",
   "mimetype": "text/x-python",
   "name": "python",
   "nbconvert_exporter": "python",
   "pygments_lexer": "ipython3",
   "version": "3.10.18"
  }
 },
 "nbformat": 4,
 "nbformat_minor": 5
}
